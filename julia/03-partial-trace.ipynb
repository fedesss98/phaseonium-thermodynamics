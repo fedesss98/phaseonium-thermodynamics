{
 "cells": [
  {
   "cell_type": "markdown",
   "id": "11912a91-a555-4877-9261-8677110411f1",
   "metadata": {},
   "source": [
    "# Partial Trace Methods"
   ]
  },
  {
   "cell_type": "code",
   "execution_count": 29,
   "id": "ef3a1b40-5a90-4c20-82dc-8e99896596f2",
   "metadata": {},
   "outputs": [],
   "source": [
    "using LinearAlgebra\n",
    "using Random\n",
    "using QuantumOptics\n"
   ]
  },
  {
   "cell_type": "code",
   "execution_count": 144,
   "id": "eabff3f3-0736-42c8-bc2c-cf9c0ca98147",
   "metadata": {},
   "outputs": [
    {
     "data": {
      "text/plain": [
       "partial_trace (generic function with 1 method)"
      ]
     },
     "execution_count": 144,
     "metadata": {},
     "output_type": "execute_result"
    }
   ],
   "source": [
    "function partial_trace(rho::Matrix{Float64}, dims::Tuple{Int, Int}, keep::Int)\n",
    "    dim1, dim2 = dims\n",
    "    if keep == 0\n",
    "        y = reshape(sum(reshape(rho, dim1, dim2, dim1, dim2), dims=(2, 4)), dim1, dim1)\n",
    "    elseif keep == 1\n",
    "        y = reshape(sum(reshape(rho, dim1, dim2, dim1, dim2), dims=(1, 3)), dim2, dim2)\n",
    "    else\n",
    "        throw(ArgumentError(\"The 'keep' argument must be 0 or 1.\"))\n",
    "    end\n",
    "    return y / tr(y)\n",
    "end"
   ]
  },
  {
   "cell_type": "code",
   "execution_count": 150,
   "id": "0350e6d1-0d73-4cff-b4de-61d5c10dfecf",
   "metadata": {},
   "outputs": [
    {
     "data": {
      "text/plain": [
       "3×3 Matrix{Float64}:\n",
       " 1.0  1.0  1.0\n",
       " 0.0  0.0  1.0\n",
       " 0.0  0.0  0.0"
      ]
     },
     "metadata": {},
     "output_type": "display_data"
    },
    {
     "data": {
      "text/plain": [
       "3×3 Matrix{Float64}:\n",
       "  0.5  10.0  2.0\n",
       " 10.0   0.5  0.0\n",
       "  0.0   8.0  0.0"
      ]
     },
     "metadata": {},
     "output_type": "display_data"
    },
    {
     "data": {
      "text/plain": [
       "3×3 Matrix{Float64}:\n",
       "  0.5  10.0  2.0\n",
       " 10.0   0.5  0.0\n",
       "  0.0   8.0  0.0"
      ]
     },
     "execution_count": 150,
     "metadata": {},
     "output_type": "execute_result"
    }
   ],
   "source": [
    "A = [1.0 1. 1.; 0. 0. 1.; 0. 0. 0.]\n",
    "B = [0.5 10. 2.; 10. 0.5 0.; 0. 8. 0.]\n",
    "display(A)\n",
    "display(B)\n",
    "\n",
    "partial_trace(kron(A, B), (3, 3), 0)"
   ]
  },
  {
   "cell_type": "code",
   "execution_count": 140,
   "id": "1decd333-4aa3-4fc6-9433-fe536c05b12d",
   "metadata": {},
   "outputs": [
    {
     "data": {
      "text/plain": [
       "Operator(dim=3x3)\n",
       "  basis: Fock(cutoff=2)\n",
       " 1.0  1.0  1.0\n",
       " 0.0  0.0  1.0\n",
       " 0.0  0.0  0.0"
      ]
     },
     "metadata": {},
     "output_type": "display_data"
    },
    {
     "data": {
      "text/plain": [
       "Operator(dim=3x3)\n",
       "  basis: Fock(cutoff=2)\n",
       " 0.5  0.0  2.0\n",
       " 0.0  0.5  0.0\n",
       " 0.0  0.0  0.0"
      ]
     },
     "metadata": {},
     "output_type": "display_data"
    }
   ],
   "source": [
    "basis = QuantumOptics.FockBasis(2)\n",
    "ρₐ = QuantumOptics.DenseOperator(basis, A)\n",
    "ρᵦ = QuantumOptics.DenseOperator(basis, B)\n",
    "display(ρₐ)\n",
    "display(ρᵦ)"
   ]
  },
  {
   "cell_type": "code",
   "execution_count": 141,
   "id": "fa5b4038-7016-46c1-9c9b-36704f46ec19",
   "metadata": {},
   "outputs": [
    {
     "data": {
      "text/plain": [
       "Operator(dim=9x9)\n",
       "  basis: [Fock(cutoff=2) ⊗ Fock(cutoff=2)]\n",
       " 0.5  0.5  0.5  0.0  0.0  0.0  2.0  2.0  2.0\n",
       " 0.0  0.0  0.5  0.0  0.0  0.0  0.0  0.0  2.0\n",
       " 0.0  0.0  0.0  0.0  0.0  0.0  0.0  0.0  0.0\n",
       " 0.0  0.0  0.0  0.5  0.5  0.5  0.0  0.0  0.0\n",
       " 0.0  0.0  0.0  0.0  0.0  0.5  0.0  0.0  0.0\n",
       " 0.0  0.0  0.0  0.0  0.0  0.0  0.0  0.0  0.0\n",
       " 0.0  0.0  0.0  0.0  0.0  0.0  0.0  0.0  0.0\n",
       " 0.0  0.0  0.0  0.0  0.0  0.0  0.0  0.0  0.0\n",
       " 0.0  0.0  0.0  0.0  0.0  0.0  0.0  0.0  0.0"
      ]
     },
     "metadata": {},
     "output_type": "display_data"
    },
    {
     "data": {
      "text/plain": [
       "Operator(dim=3x3)\n",
       "  basis: Fock(cutoff=2)\n",
       " 1.0  1.0  1.0\n",
       " 0.0  0.0  1.0\n",
       " 0.0  0.0  0.0"
      ]
     },
     "execution_count": 141,
     "metadata": {},
     "output_type": "execute_result"
    }
   ],
   "source": [
    "ρ = ρₐ ⊗ ρᵦ\n",
    "display(ρ)\n",
    "QuantumOptics.ptrace(ρ, 2)"
   ]
  },
  {
   "cell_type": "code",
   "execution_count": 76,
   "id": "ec97e98f-e632-4e17-8f16-56c99cd7b08c",
   "metadata": {},
   "outputs": [
    {
     "data": {
      "text/plain": [
       "Operator(dim=21x21)\n",
       "  basis: Fock(cutoff=20)\n",
       " 0.632121+0.0im       0.0+0.0im  …         0.0+0.0im        0.0+0.0im\n",
       "      0.0-0.0im  0.232544+0.0im            0.0+0.0im        0.0+0.0im\n",
       "      0.0-0.0im       0.0-0.0im            0.0+0.0im        0.0+0.0im\n",
       "      0.0-0.0im       0.0-0.0im            0.0+0.0im        0.0+0.0im\n",
       "      0.0-0.0im       0.0-0.0im            0.0+0.0im        0.0+0.0im\n",
       "      0.0-0.0im       0.0-0.0im  …         0.0+0.0im        0.0+0.0im\n",
       "      0.0-0.0im       0.0-0.0im            0.0+0.0im        0.0+0.0im\n",
       "      0.0-0.0im       0.0-0.0im            0.0+0.0im        0.0+0.0im\n",
       "      0.0-0.0im       0.0-0.0im            0.0+0.0im        0.0+0.0im\n",
       "      0.0-0.0im       0.0-0.0im            0.0+0.0im        0.0+0.0im\n",
       "      0.0-0.0im       0.0-0.0im  …         0.0+0.0im        0.0+0.0im\n",
       "      0.0-0.0im       0.0-0.0im            0.0+0.0im        0.0+0.0im\n",
       "      0.0-0.0im       0.0-0.0im            0.0+0.0im        0.0+0.0im\n",
       "      0.0-0.0im       0.0-0.0im            0.0+0.0im        0.0+0.0im\n",
       "      0.0-0.0im       0.0-0.0im            0.0+0.0im        0.0+0.0im\n",
       "      0.0-0.0im       0.0-0.0im  …         0.0+0.0im        0.0+0.0im\n",
       "      0.0-0.0im       0.0-0.0im            0.0+0.0im        0.0+0.0im\n",
       "      0.0-0.0im       0.0-0.0im            0.0+0.0im        0.0+0.0im\n",
       "      0.0-0.0im       0.0-0.0im            0.0+0.0im        0.0+0.0im\n",
       "      0.0-0.0im       0.0-0.0im     3.54164e-9+0.0im        0.0+0.0im\n",
       "      0.0-0.0im       0.0-0.0im  …         0.0-0.0im  1.3029e-9+0.0im"
      ]
     },
     "metadata": {},
     "output_type": "display_data"
    },
    {
     "data": {
      "text/plain": [
       "Operator(dim=21x21)\n",
       "  basis: Fock(cutoff=20)\n",
       " 0.632121+0.0im       0.0+0.0im  …         0.0+0.0im        0.0+0.0im\n",
       "      0.0+0.0im  0.232544+0.0im            0.0+0.0im        0.0+0.0im\n",
       "      0.0+0.0im       0.0+0.0im            0.0+0.0im        0.0+0.0im\n",
       "      0.0+0.0im       0.0+0.0im            0.0+0.0im        0.0+0.0im\n",
       "      0.0+0.0im       0.0+0.0im            0.0+0.0im        0.0+0.0im\n",
       "      0.0+0.0im       0.0+0.0im  …         0.0+0.0im        0.0+0.0im\n",
       "      0.0+0.0im       0.0+0.0im            0.0+0.0im        0.0+0.0im\n",
       "      0.0+0.0im       0.0+0.0im            0.0+0.0im        0.0+0.0im\n",
       "      0.0+0.0im       0.0+0.0im            0.0+0.0im        0.0+0.0im\n",
       "      0.0+0.0im       0.0+0.0im            0.0+0.0im        0.0+0.0im\n",
       "      0.0+0.0im       0.0+0.0im  …         0.0+0.0im        0.0+0.0im\n",
       "      0.0+0.0im       0.0+0.0im            0.0+0.0im        0.0+0.0im\n",
       "      0.0+0.0im       0.0+0.0im            0.0+0.0im        0.0+0.0im\n",
       "      0.0+0.0im       0.0+0.0im            0.0+0.0im        0.0+0.0im\n",
       "      0.0+0.0im       0.0+0.0im            0.0+0.0im        0.0+0.0im\n",
       "      0.0+0.0im       0.0+0.0im  …         0.0+0.0im        0.0+0.0im\n",
       "      0.0+0.0im       0.0+0.0im            0.0+0.0im        0.0+0.0im\n",
       "      0.0+0.0im       0.0+0.0im            0.0+0.0im        0.0+0.0im\n",
       "      0.0+0.0im       0.0+0.0im            0.0+0.0im        0.0+0.0im\n",
       "      0.0+0.0im       0.0+0.0im     3.54164e-9+0.0im        0.0+0.0im\n",
       "      0.0+0.0im       0.0+0.0im  …         0.0+0.0im  1.3029e-9+0.0im"
      ]
     },
     "execution_count": 76,
     "metadata": {},
     "output_type": "execute_result"
    }
   ],
   "source": [
    "basis = QuantumOptics.FockBasis(20)\n",
    "a = destroy(basis)\n",
    "at = create(basis)\n",
    "n = number(basis)\n",
    "\n",
    "ω = 0.1\n",
    "H = ω * n\n",
    "\n",
    "Ψ₀ = fockstate(basis, 1)\n",
    "ρ₀ = Ψ₀ ⊗ dagger(Ψ₀)\n",
    "ρ₁ = Ψ₀ ⊗ dagger(Ψ₀)\n",
    "ρₜ = thermalstate(H, 0.1)\n",
    "display(ρₜ)\n",
    "\n",
    "ρ = ρₜ ⊗ ρₜ\n",
    "\n",
    "QuantumOptics.ptrace(ρ, 1)"
   ]
  },
  {
   "cell_type": "code",
   "execution_count": 27,
   "id": "b86d58bd-c605-46b4-98a1-606756db08fe",
   "metadata": {},
   "outputs": [
    {
     "data": {
      "text/plain": [
       "3×3×3 Array{Float64, 3}:\n",
       "[:, :, 1] =\n",
       " 0.356158  0.0833558  0.962663\n",
       " 0.983849  0.918505   0.746801\n",
       " 0.677115  0.479717   0.825777\n",
       "\n",
       "[:, :, 2] =\n",
       " 0.197625  0.205668  0.165248\n",
       " 0.729728  0.125497  0.322512\n",
       " 0.199194  0.182216  0.0243705\n",
       "\n",
       "[:, :, 3] =\n",
       " 0.254571  0.762466  0.181103\n",
       " 0.959139  0.885975  0.360793\n",
       " 0.527045  0.202909  0.403571"
      ]
     },
     "execution_count": 27,
     "metadata": {},
     "output_type": "execute_result"
    }
   ],
   "source": [
    "using Base.Cartesian\n",
    "\n",
    "N1 = 4\n",
    "N2 = 4\n",
    "N3 = 4\n",
    "\n",
    "x = rand(Float64, N1, N2, N3, N1, N2, N3)\n",
    "xx = rand(Float64, N1, N2)\n",
    "a, b = size(r)\n",
    "rand(Float64, 3, 3, 3)"
   ]
  },
  {
   "cell_type": "code",
   "execution_count": null,
   "id": "efeb30a5-40f3-4896-9608-fc38c22ee367",
   "metadata": {},
   "outputs": [],
   "source": [
    "function ptrace_forloops(x)\n",
    "    n1, n2 = size(x)\n",
    "    y = zeros(Float64, n2, n3, n2, n3)\n",
    "    for i5=1:n3\n",
    "        for i4=1:n2\n",
    "            for i3=1:n3\n",
    "                for i2=1:n2\n",
    "                    for i1=1:n1\n",
    "                        y[i2,i3,i4,i5] += x[i1,i2,i3,i1,i4,i5]\n",
    "                    end\n",
    "                end\n",
    "            end\n",
    "        end\n",
    "    end\n",
    "    y\n",
    "end"
   ]
  },
  {
   "cell_type": "code",
   "execution_count": 15,
   "id": "71eccde8-f302-4266-9c71-8d378335cf3f",
   "metadata": {},
   "outputs": [
    {
     "data": {
      "text/plain": [
       "ptrace_nloop (generic function with 1 method)"
      ]
     },
     "execution_count": 15,
     "metadata": {},
     "output_type": "execute_result"
    }
   ],
   "source": [
    "function ptrace_forloops(x)\n",
    "    n1, n2, n3 = size(x)\n",
    "    y = zeros(Float64, n2, n3, n2, n3)\n",
    "    for i5=1:n3\n",
    "        for i4=1:n2\n",
    "            for i3=1:n3\n",
    "                for i2=1:n2\n",
    "                    for i1=1:n1\n",
    "                        y[i2,i3,i4,i5] += x[i1,i2,i3,i1,i4,i5]\n",
    "                    end\n",
    "                end\n",
    "            end\n",
    "        end\n",
    "    end\n",
    "    y\n",
    "end\n",
    "\n",
    "function ptrace_slicing(x::Array{Float64, 6})\n",
    "    n1, n2, n3 = size(x)\n",
    "    y = zeros(Float64, n2, n3, n2, n3)\n",
    "    for i1=1:n1\n",
    "        y += x[i1,:,:,i1,:,:]\n",
    "    end\n",
    "    y\n",
    "end\n",
    "\n",
    "function ptrace_cartesian(x::Array{Float64, 6})\n",
    "    n1, n2, n3 = size(x)\n",
    "    y = zeros(Float64, 1, n2, n3, 1, n2, n3)\n",
    "    ymax = CartesianIndex(size(y))\n",
    "    for I in CartesianIndices(size(x))\n",
    "        if I.I[1] != I.I[4]\n",
    "            continue\n",
    "        end\n",
    "        y[min(ymax, I)] += x[I]\n",
    "    end\n",
    "    reshape(y, n2, n3, n2, n3)\n",
    "end\n",
    "\n",
    "function ptrace_cartesian2(x::Array{Float64, 6})\n",
    "    n1, n2, n3 = size(x)\n",
    "    y = zeros(Float64, 1, n2, n3, 1, n2, n3)\n",
    "    for I in CartesianIndices(size(y))\n",
    "        for k in CartesianIndices((n1, 1, 1))\n",
    "            delta = CartesianIndex(k, k)\n",
    "            y[I] += x[I+delta-1]\n",
    "        end\n",
    "    end\n",
    "    reshape(y, n2, n3, n2, n3)\n",
    "end\n",
    "\n",
    "# Partial trace for dense operators.\n",
    "function _strides(shape::Vector{Int})\n",
    "    N = length(shape)\n",
    "    S = zeros(Int, N)\n",
    "    S[N] = 1\n",
    "    for m=N-1:-1:1\n",
    "        S[m] = S[m+1]*shape[m+1]\n",
    "    end\n",
    "    return S\n",
    "end\n",
    "\n",
    "@generated function _ptrace(a::Matrix{Float64},\n",
    "                                  shape_l::Vector{Int}, shape_r::Vector{Int},\n",
    "                                  indices::Vector{Int})\n",
    "    return quote\n",
    "        a_strides_l = _strides(shape_l)\n",
    "        result_shape_l = deepcopy(shape_l)\n",
    "        result_shape_l[indices] = 1\n",
    "        result_strides_l = _strides(result_shape_l)\n",
    "        a_strides_r = _strides(shape_r)\n",
    "        result_shape_r = deepcopy(shape_r)\n",
    "        result_shape_r[indices] = 1\n",
    "        result_strides_r = _strides(result_shape_r)\n",
    "        N_result_l = prod(result_shape_l)\n",
    "        N_result_r = prod(result_shape_r)\n",
    "        result = zeros(Float64, N_result_l, N_result_r)\n",
    "        @nexprs 1 (d->(Jr_{3}=1;Ir_{3}=1))\n",
    "        @nloops 3 ir (d->1:shape_r[d]) (d->(Ir_{d-1}=Ir_d; Jr_{d-1}=Jr_d)) (d->(Ir_d+=a_strides_r[d]; if !(d in indices) Jr_d+=result_strides_r[d] end)) begin\n",
    "            @nexprs 1 (d->(Jl_{3}=1;Il_{3}=1))\n",
    "            @nloops 3 il (k->1:shape_l[k]) (k->(Il_{k-1}=Il_k; Jl_{k-1}=Jl_k; if (k in indices && il_k!=ir_k) Il_k+=a_strides_l[k]; continue end)) (k->(Il_k+=a_strides_l[k]; if !(k in indices) Jl_k+=result_strides_l[k] end)) begin\n",
    "                #println(\"Jl_0: \", Jl_0, \"; Jr_0: \", Jr_0, \"; Il_0: \", Il_0, \"; Ir_0: \", Ir_0)\n",
    "                result[Jl_0, Jr_0] += a[Il_0, Ir_0]\n",
    "            end\n",
    "        end\n",
    "        return result\n",
    "    end\n",
    "end\n",
    "\n",
    "function ptrace_nloop(x)\n",
    "    n1, n2, n3 = size(x)\n",
    "    n = n1*n2*n3\n",
    "    x = reshape(x, n, n)\n",
    "    y = _ptrace(x, [n3,n2,n1], [n3,n2,n1], [3])\n",
    "    reshape(y, n2, n3, n2, n3)\n",
    "end"
   ]
  },
  {
   "cell_type": "code",
   "execution_count": 17,
   "id": "0b5fa0c0-225e-4785-8573-bf2d9c7fef8d",
   "metadata": {},
   "outputs": [
    {
     "ename": "LoadError",
     "evalue": "BoundsError: attempt to access Tuple{Int64, Int64} at index [3]",
     "output_type": "error",
     "traceback": [
      "BoundsError: attempt to access Tuple{Int64, Int64} at index [3]",
      "",
      "Stacktrace:",
      " [1] indexed_iterate",
      "   @ .\\tuple.jl:159 [inlined]",
      " [2] ptrace_forloops(x::Matrix{Float64})",
      "   @ Main .\\In[15]:2",
      " [3] top-level scope",
      "   @ In[17]:1"
     ]
    }
   ],
   "source": [
    "result = ptrace_forloops(xx)"
   ]
  },
  {
   "cell_type": "code",
   "execution_count": null,
   "id": "f94d8996-372f-40fe-b19b-286c857c364c",
   "metadata": {},
   "outputs": [
    {
     "name": "stdout",
     "output_type": "stream",
     "text": [
      "0.0\n",
      "0.0\n"
     ]
    },
    {
     "ename": "LoadError",
     "evalue": "MethodError: no method matching -(::CartesianIndex{6}, ::Int64)\nThe function `-` exists, but no method is defined for this combination of argument types.\n\n\u001b[0mClosest candidates are:\n\u001b[0m  -(\u001b[91m::Complex{Bool}\u001b[39m, ::Real)\n\u001b[0m\u001b[90m   @\u001b[39m \u001b[90mBase\u001b[39m \u001b[90m\u001b[4mcomplex.jl:329\u001b[24m\u001b[39m\n\u001b[0m  -(\u001b[91m::Base.CoreLogging.LogLevel\u001b[39m, ::Integer)\n\u001b[0m\u001b[90m   @\u001b[39m \u001b[90mBase\u001b[39m \u001b[90mlogging\\\u001b[39m\u001b[90m\u001b[4mlogging.jl:133\u001b[24m\u001b[39m\n\u001b[0m  -(\u001b[91m::Missing\u001b[39m, ::Number)\n\u001b[0m\u001b[90m   @\u001b[39m \u001b[90mBase\u001b[39m \u001b[90m\u001b[4mmissing.jl:123\u001b[24m\u001b[39m\n\u001b[0m  ...\n",
     "output_type": "error",
     "traceback": [
      "MethodError: no method matching -(::CartesianIndex{6}, ::Int64)\nThe function `-` exists, but no method is defined for this combination of argument types.\n\n\u001b[0mClosest candidates are:\n\u001b[0m  -(\u001b[91m::Complex{Bool}\u001b[39m, ::Real)\n\u001b[0m\u001b[90m   @\u001b[39m \u001b[90mBase\u001b[39m \u001b[90m\u001b[4mcomplex.jl:329\u001b[24m\u001b[39m\n\u001b[0m  -(\u001b[91m::Base.CoreLogging.LogLevel\u001b[39m, ::Integer)\n\u001b[0m\u001b[90m   @\u001b[39m \u001b[90mBase\u001b[39m \u001b[90mlogging\\\u001b[39m\u001b[90m\u001b[4mlogging.jl:133\u001b[24m\u001b[39m\n\u001b[0m  -(\u001b[91m::Missing\u001b[39m, ::Number)\n\u001b[0m\u001b[90m   @\u001b[39m \u001b[90mBase\u001b[39m \u001b[90m\u001b[4mmissing.jl:123\u001b[24m\u001b[39m\n\u001b[0m  ...\n",
      "",
      "Stacktrace:",
      " [1] ptrace_cartesian2(x::Array{Float64, 6})",
      "   @ Main .\\In[21]:55",
      " [2] top-level scope",
      "   @ In[21]:112"
     ]
    }
   ],
   "source": [
    "println(dist(result, ptrace_slicing(x)))\n",
    "println(dist(result, ptrace_cartesian(x)))\n",
    "println(dist(result, ptrace_cartesian2(x)))\n",
    "println(dist(result, ptrace_nloop(x)))\n",
    "\n",
    "\n",
    "println(\"Explicit loops\")\n",
    "@time ptrace_forloops(x)\n",
    "@time ptrace_forloops(x)\n",
    "\n",
    "println(\"Slicing\")\n",
    "@time ptrace_slicing(x)\n",
    "@time ptrace_slicing(x)\n",
    "\n",
    "println(\"Cartesian Index\")\n",
    "@time ptrace_cartesian(x)\n",
    "@time ptrace_cartesian(x)\n",
    "\n",
    "println(\"Cartesian Index 2\")\n",
    "@time ptrace_cartesian2(x)\n",
    "@time ptrace_cartesian2(x)\n",
    "\n",
    "println(\"nloop\")\n",
    "@time ptrace_nloop(x)\n",
    "@time ptrace_nloop(x)"
   ]
  },
  {
   "cell_type": "code",
   "execution_count": 19,
   "id": "38a7fcde-d0f5-4d1a-a3c3-2f1fb4a27b7e",
   "metadata": {},
   "outputs": [
    {
     "ename": "LoadError",
     "evalue": "MethodError: no method matching abs(::Matrix{Float64})\nThe function `abs` exists, but no method is defined for this combination of argument types.\n\n\u001b[0mClosest candidates are:\n\u001b[0m  abs(\u001b[91m::Bool\u001b[39m)\n\u001b[0m\u001b[90m   @\u001b[39m \u001b[90mBase\u001b[39m \u001b[90m\u001b[4mbool.jl:153\u001b[24m\u001b[39m\n\u001b[0m  abs(\u001b[91m::Pkg.Resolve.FieldValue\u001b[39m)\n\u001b[0m\u001b[90m   @\u001b[39m \u001b[36mPkg\u001b[39m \u001b[90mC:\\Users\\fedes\\.julia\\juliaup\\julia-1.11.1+0.x64.w64.mingw32\\share\\julia\\stdlib\\v1.11\\Pkg\\src\\Resolve\\\u001b[39m\u001b[90m\u001b[4mfieldvalues.jl:51\u001b[24m\u001b[39m\n\u001b[0m  abs(\u001b[91m::Missing\u001b[39m)\n\u001b[0m\u001b[90m   @\u001b[39m \u001b[90mBase\u001b[39m \u001b[90m\u001b[4mmissing.jl:101\u001b[24m\u001b[39m\n\u001b[0m  ...\n",
     "output_type": "error",
     "traceback": [
      "MethodError: no method matching abs(::Matrix{Float64})\nThe function `abs` exists, but no method is defined for this combination of argument types.\n\n\u001b[0mClosest candidates are:\n\u001b[0m  abs(\u001b[91m::Bool\u001b[39m)\n\u001b[0m\u001b[90m   @\u001b[39m \u001b[90mBase\u001b[39m \u001b[90m\u001b[4mbool.jl:153\u001b[24m\u001b[39m\n\u001b[0m  abs(\u001b[91m::Pkg.Resolve.FieldValue\u001b[39m)\n\u001b[0m\u001b[90m   @\u001b[39m \u001b[36mPkg\u001b[39m \u001b[90mC:\\Users\\fedes\\.julia\\juliaup\\julia-1.11.1+0.x64.w64.mingw32\\share\\julia\\stdlib\\v1.11\\Pkg\\src\\Resolve\\\u001b[39m\u001b[90m\u001b[4mfieldvalues.jl:51\u001b[24m\u001b[39m\n\u001b[0m  abs(\u001b[91m::Missing\u001b[39m)\n\u001b[0m\u001b[90m   @\u001b[39m \u001b[90mBase\u001b[39m \u001b[90m\u001b[4mmissing.jl:101\u001b[24m\u001b[39m\n\u001b[0m  ...\n",
      "",
      "Stacktrace:",
      " [1] top-level scope",
      "   @ In[19]:2"
     ]
    }
   ],
   "source": [
    "a = [1.0 1.0]\n",
    "abs(a)"
   ]
  },
  {
   "cell_type": "code",
   "execution_count": 65,
   "id": "4b43fa8c-9142-4913-9e62-b056f53e8f5f",
   "metadata": {},
   "outputs": [
    {
     "data": {
      "text/plain": [
       "3×3 Matrix{Float64}:\n",
       " 18.0  18.0  18.0\n",
       " 18.0  18.0  18.0\n",
       " 18.0  18.0  18.0"
      ]
     },
     "execution_count": 65,
     "metadata": {},
     "output_type": "execute_result"
    }
   ],
   "source": [
    "partial_trace(r, 3, 1)"
   ]
  },
  {
   "cell_type": "code",
   "execution_count": null,
   "id": "e28d66f4-44c8-49db-a973-15a63f237ecd",
   "metadata": {},
   "outputs": [],
   "source": []
  }
 ],
 "metadata": {
  "kernelspec": {
   "display_name": "Julia 1.11.1",
   "language": "julia",
   "name": "julia-1.11"
  },
  "language_info": {
   "file_extension": ".jl",
   "mimetype": "application/julia",
   "name": "julia",
   "version": "1.11.1"
  }
 },
 "nbformat": 4,
 "nbformat_minor": 5
}
