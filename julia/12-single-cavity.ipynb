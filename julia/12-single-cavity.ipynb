{
 "cells": [
  {
   "cell_type": "markdown",
   "id": "78251d81-9e55-4d7d-9edb-20bbc3a3d985",
   "metadata": {},
   "source": [
    "# Why the single-cavity equations do not work?"
   ]
  },
  {
   "cell_type": "code",
   "execution_count": 1,
   "id": "b51da0ee-3edd-460b-8688-7c9fd3f116fd",
   "metadata": {},
   "outputs": [
    {
     "name": "stderr",
     "output_type": "stream",
     "text": [
      "WARNING: replacing module OpticalCavity.\n",
      "┌ Warning: Replacing docs for `BosonicOperators :: Union{}` in module `Main.BosonicOperators`\n",
      "└ @ Base.Docs docs/Docs.jl:243\n",
      "┌ Warning: Replacing docs for `Measurements :: Union{}` in module `Main.Measurements`\n",
      "└ @ Base.Docs docs/Docs.jl:243\n",
      "┌ Warning: Replacing docs for `Main.Measurements.temperature :: Tuple{Any, Any, Vararg{Any}}` in module `Main.Measurements`\n",
      "└ @ Base.Docs docs/Docs.jl:243\n",
      "┌ Warning: Replacing docs for `Main.Measurements.entropy_vn :: Tuple{Any, Vararg{Any}}` in module `Main.Measurements`\n",
      "└ @ Base.Docs docs/Docs.jl:243\n",
      "┌ Warning: Replacing docs for `Main.Measurements.avg_number :: Tuple{Any, Any, Vararg{Any}}` in module `Main.Measurements`\n",
      "└ @ Base.Docs docs/Docs.jl:243\n",
      "┌ Warning: Replacing docs for `Main.Measurements.avg_E :: Tuple{Any, Any, Vararg{Any}}` in module `Main.Measurements`\n",
      "└ @ Base.Docs docs/Docs.jl:243\n"
     ]
    }
   ],
   "source": [
    "using CSV\n",
    "using DataFrames\n",
    "using Dates\n",
    "using Expokit\n",
    "using LaTeXStrings\n",
    "using LinearAlgebra\n",
    "using MKL\n",
    "using Plots\n",
    "using ProgressBars\n",
    "using Revise\n",
    "using SparseArrays\n",
    "using TOML\n",
    "# Saving the output matrix\n",
    "using Serialization\n",
    "using NPZ\n",
    "\n",
    "\n",
    "includet(\"./modules/OpticalCavity.jl\")\n",
    "includet(\"./modules/Thermodynamics.jl\")\n",
    "includet(\"./modules/MasterEquations.jl\")\n",
    "includet(\"./modules/Phaseonium.jl\")\n",
    "includet(\"./modules/BosonicOperators.jl\")\n",
    "includet(\"./modules/Measurements.jl\")\n",
    "\n",
    "\n",
    "using .OpticalCavity\n",
    "using .Thermodynamics\n",
    "using .MasterEquations\n",
    "using .Phaseonium\n",
    "using .BosonicOperators\n",
    "using .Measurements\n",
    "\n",
    "\n",
    "includet(\"src/RoutineFunctions.jl\")\n",
    "includet(\"src/configurations_generation.jl\") "
   ]
  },
  {
   "cell_type": "code",
   "execution_count": null,
   "id": "11c38509",
   "metadata": {},
   "outputs": [],
   "source": [
    "CSV_FILE = \"./simulations/simulations_ledger.csv\";\n",
    "\n",
    "csv = CSV.read(CSV_FILE, DataFrame, header=1);\n",
    "dirs = [\"simulations/simulation_$n\" for n in csv[!, \"meta_name\"]]\n",
    "\n",
    "# Remove all simulations and records on the csv after a certain index\n",
    "# for dir in dirs[130:end]\n",
    "#     rm(dir; force=true, recursive=true)\n",
    "# end"
   ]
  },
  {
   "cell_type": "code",
   "execution_count": null,
   "id": "6c150d42-a715-4c66-aeb0-8cfe64778a2b",
   "metadata": {},
   "outputs": [],
   "source": [
    "files_created, configurations = generate_configurations(config_file=\"fast_config.toml\");"
   ]
  },
  {
   "cell_type": "markdown",
   "id": "3bc7e6cd-911f-4691-9191-457cf7f93188",
   "metadata": {
    "vscode": {
     "languageId": "raw"
    }
   },
   "source": [
    "includet(\"src/main-iterator.jl\")"
   ]
  },
  {
   "cell_type": "markdown",
   "id": "e58ae032-7b32-4aa5-b161-63819ffce1d8",
   "metadata": {
    "vscode": {
     "languageId": "raw"
    }
   },
   "source": [
    "main_iterator() "
   ]
  },
  {
   "cell_type": "markdown",
   "id": "5fcd70bb",
   "metadata": {
    "vscode": {
     "languageId": "raw"
    }
   },
   "source": [
    "remove_files = false\n",
    "if remove_files\n",
    "    # Remove report.txt from folder to make the simulation run again\n",
    "    for dir in files_created\n",
    "        isfile(dir * \"/report.txt\") && rm(dir * \"/report.txt\")\n",
    "    end\n",
    "end"
   ]
  },
  {
   "cell_type": "code",
   "execution_count": 2,
   "id": "3ebc8864",
   "metadata": {},
   "outputs": [
    {
     "data": {
      "text/plain": [
       "onesystem_evolution (generic function with 1 method)"
      ]
     },
     "metadata": {},
     "output_type": "display_data"
    }
   ],
   "source": [
    "function _check(ρ)\n",
    "    println(\"System after the stroke:\")\n",
    "    println(checkdensity(ρ))\n",
    "    println(\"Final Temperature of the System: $(Measurements.temperature(ρ, ω))\")\n",
    "end\n",
    "\n",
    "function plot_stroke_state(system_evolution, cavity_evolution, α0)\n",
    "    temperatures = []\n",
    "    entropies = []\n",
    "    for (i, ρ) in enumerate(system_evolution)\n",
    "        local ω = α0 / cavity_evolution[i]\n",
    "        t = Measurements.temperature(ρ, ω)\n",
    "        ent = Measurements.entropy_vn(ρ)\n",
    "        \n",
    "        push!(temperatures, t)\n",
    "        push!(entropies, ent)\n",
    "    end\n",
    "\n",
    "    g = plot(entropies, temperatures, label=\"Stroke\")\n",
    "    # Plot starting point\n",
    "    scatter!(g, [entropies[1]], [temperatures[1]], label=\"Start\", mc=\"blue\", ms=5)\n",
    "    # Plot ending point\n",
    "    scatter!(g, [entropies[end]], [temperatures[end]], label=\"End\", mc=\"red\", ms=5)\n",
    "    title!(\"Phaseonium Stroke (Isochoric)\")\n",
    "    xlabel!(\"Entropy\")\n",
    "    ylabel!(\"Temperature\")\n",
    "    display(g)\n",
    "end\n",
    "\n",
    "\n",
    "function plot_temperature(system_evolution, cavity_evolution, α0)    \n",
    "    temperatures = []\n",
    "    for (i, ρ) in enumerate(system_evolution)\n",
    "        local ω = α0 / cavity_evolution[i]\n",
    "        t = Measurements.temperature(ρ, ω)\n",
    "        \n",
    "        push!(temperatures, t)\n",
    "    end\n",
    "\n",
    "    g = plot(temperatures, label=\"Temperature\")\n",
    "    title!(\"Temperature Evolution\")\n",
    "    xlabel!(\"Time\")\n",
    "    ylabel!(\"Temperature\")\n",
    "\n",
    "    return g\n",
    "end\n",
    "\n",
    "function cascade_evolution(thermalizationtime, ρt, α0, bosonic_operators, ga, gb)\n",
    "    # system_evolution, cavity_evolution = Thermodynamics.adiabatic_stroke(\n",
    "    #     ρt, thermalizationtime, Δt, [a, ad], cavity; sampling_each=10)\n",
    "    system_evolution = Thermodynamics.phaseonium_stroke_2(\n",
    "        ρt, thermalizationtime, bosonic_operators, ga, gb; sampling_steps=50, verbose=3)\n",
    "\n",
    "    return system_evolution\n",
    "end\n",
    "\n",
    "\n",
    "function onesystem_evolution(thermalizationtime, ρt, α0, bosonic_operators, ga, gb)\n",
    "    # system_evolution, cavity_evolution = Thermodynamics.adiabatic_stroke(\n",
    "    #     ρt, thermalizationtime, Δt, [a, ad], cavity; sampling_each=10)\n",
    "    system_evolution = Thermodynamics.phaseonium_stroke(\n",
    "        ρt, thermalizationtime, bosonic_operators, [ga, gb]; sampling_steps=100, verbose=3)\n",
    "\n",
    "    return system_evolution\n",
    "end"
   ]
  },
  {
   "cell_type": "markdown",
   "id": "024f4581",
   "metadata": {},
   "source": [
    "# Thermalization"
   ]
  },
  {
   "cell_type": "code",
   "execution_count": 3,
   "id": "2e592f3d",
   "metadata": {},
   "outputs": [
    {
     "name": "stdout",
     "output_type": "stream",
     "text": [
      "Cavity frequency: 0.006283185307179587\n",
      "Phaseonium α: 0.5257314910394288 < 0.5407162030609368\n",
      "Apparent Temperature carried by Phaseonium atoms: \n",
      "    0.07999999999999984\n"
     ]
    },
    {
     "data": {
      "text/plain": [
       "250×250 Diagonal{Float64, Vector{Float64}}:\n",
       " 0.466512   ⋅         ⋅         ⋅         …   ⋅            ⋅ \n",
       "  ⋅        0.248879   ⋅         ⋅             ⋅            ⋅ \n",
       "  ⋅         ⋅        0.132774   ⋅             ⋅            ⋅ \n",
       "  ⋅         ⋅         ⋅        0.0708332      ⋅            ⋅ \n",
       "  ⋅         ⋅         ⋅         ⋅             ⋅            ⋅ \n",
       "  ⋅         ⋅         ⋅         ⋅         …   ⋅            ⋅ \n",
       "  ⋅         ⋅         ⋅         ⋅             ⋅            ⋅ \n",
       "  ⋅         ⋅         ⋅         ⋅             ⋅            ⋅ \n",
       "  ⋅         ⋅         ⋅         ⋅             ⋅            ⋅ \n",
       "  ⋅         ⋅         ⋅         ⋅             ⋅            ⋅ \n",
       " ⋮                                        ⋱               \n",
       "  ⋅         ⋅         ⋅         ⋅             ⋅            ⋅ \n",
       "  ⋅         ⋅         ⋅         ⋅             ⋅            ⋅ \n",
       "  ⋅         ⋅         ⋅         ⋅             ⋅            ⋅ \n",
       "  ⋅         ⋅         ⋅         ⋅             ⋅            ⋅ \n",
       "  ⋅         ⋅         ⋅         ⋅         …   ⋅            ⋅ \n",
       "  ⋅         ⋅         ⋅         ⋅             ⋅            ⋅ \n",
       "  ⋅         ⋅         ⋅         ⋅             ⋅            ⋅ \n",
       "  ⋅         ⋅         ⋅         ⋅            9.90366e-69   ⋅ \n",
       "  ⋅         ⋅         ⋅         ⋅             ⋅           5.28348e-69"
      ]
     },
     "metadata": {},
     "output_type": "display_data"
    }
   ],
   "source": [
    "ndims = 250\n",
    "Ω = 1.0\n",
    "Δt = 1e-2\n",
    "\n",
    "T_initial = 0.01\n",
    "T_final = 0.08\n",
    "\n",
    "# Create a Cavity\n",
    "α0 = 2*π*100\n",
    "surface = 50_000.0\n",
    "l_min = 100_000.0\n",
    "l_max = 101_000.0\n",
    "acceleration = 0.0\n",
    "expanding_force = 1e-12\n",
    "compressing_force = 1e-12\n",
    "cavity = Cavity(1.0, surface, l_min, l_max, α0, expanding_force, compressing_force)\n",
    "ω = α0 / l_min\n",
    "println(\"Cavity frequency: $ω\")\n",
    "\n",
    "global ρt = thermalstate(ndims, ω, T_initial)\n",
    "\n",
    "# Create Phaseonium atoms\n",
    "ϕ = π/1.8\n",
    "α = Phaseonium.alpha_from_temperature(T_final, ϕ, ω)\n",
    "println(\"Phaseonium α: $α < $(sqrt((1+cos(ϕ))/(3+cos(ϕ))))\")\n",
    "\n",
    "η = Phaseonium.densitymatrix(α, ϕ)\n",
    "\n",
    "ga, gb = Phaseonium.dissipationrates(α, ϕ)\n",
    "final_temperature = Phaseonium.finaltemperature(ω, ga, gb)\n",
    "println(\n",
    "    \"Apparent Temperature carried by Phaseonium atoms: \n",
    "    $(final_temperature)\")\n",
    "\n",
    "# Define Kraus Operators\n",
    "identity_op = I(ndims)\n",
    "a = BosonicOperators.destroy(ndims)\n",
    "ad = BosonicOperators.create(ndims)\n",
    "\n",
    "C = BosonicOperators.C(Ω*Δt, ndims)\n",
    "Cp = BosonicOperators.Cp(Ω*Δt, ndims)\n",
    "S = BosonicOperators.S(Ω*Δt, ndims)\n",
    "Sd = BosonicOperators.Sd(Ω*Δt, ndims)\n",
    "\n",
    "E0 = sqrt(1 - ga/2 - gb/2) * identity(ndims)\n",
    "E1 = sqrt(ga/2) * C\n",
    "E2 = sqrt(ga) * S\n",
    "E3 = sqrt(gb/2) * Cp\n",
    "E4 = sqrt(gb) * Sd\n",
    "\n",
    "kraus = [E0, E1, E2, E3, E4]\n",
    "jumps = (a, ad)\n",
    "ρt"
   ]
  },
  {
   "cell_type": "code",
   "execution_count": null,
   "id": "5dc84e1c",
   "metadata": {},
   "outputs": [],
   "source": [
    "function thermalization_stroke(systems, thermalizationtime)\n",
    "    global ρt\n",
    "    if systems == 1\n",
    "        println(\"One system evolution\")\n",
    "        system_evolution = onesystem_evolution(thermalizationtime, ρt, α0, [C, Cp, S, Sd], ga, gb)\n",
    "        figname = \"phaseonium_stroke.png\"\n",
    "    else\n",
    "        println(\"Cascade evolution\")\n",
    "        ρt = Matrix(kron(ρt, ρt))\n",
    "        system_evolution = cascade_evolution(thermalizationtime, ρt, α0, [C, Cp, S, Sd], ga, gb)\n",
    "        figname = \"phaseonium_stroke_cascade.png\"\n",
    "    end\n",
    "\n",
    "    cavity_evolution = [cavity.length for _ in 1:length(system_evolution)]\n",
    "\n",
    "    g = plot_temperature(system_evolution, cavity_evolution, α0)\n",
    "    times = range(1, length(system_evolution))\n",
    "    γ = ga / gb\n",
    "    # Thermalization function\n",
    "    f(x, γ) = (final_temperature - T_initial) * (1 - exp(-γ * (x - 1))) + T_initial\n",
    "    #plot!(g, times, f.(times, γ), label=\"Theoretical Temperature\", lc=:red)\n",
    "    display(g)\n",
    "    # savefig(g, figname)\n",
    "\n",
    "\n",
    "\n",
    "    return system_evolution\n",
    "    \n",
    "end\n",
    "\n",
    "system_evolution = [];"
   ]
  },
  {
   "cell_type": "code",
   "execution_count": null,
   "id": "ee649aec",
   "metadata": {},
   "outputs": [],
   "source": [
    "system_evolution = thermalization_stroke(1, 1_500_000)\n",
    "system_evolution[end]"
   ]
  },
  {
   "cell_type": "code",
   "execution_count": null,
   "id": "f3300cfc",
   "metadata": {},
   "outputs": [],
   "source": [
    "system_evolution[end]"
   ]
  },
  {
   "cell_type": "code",
   "execution_count": null,
   "id": "1733c174",
   "metadata": {},
   "outputs": [],
   "source": [
    "compare_with = thermalstate(ndims, ω, T_final)"
   ]
  },
  {
   "cell_type": "markdown",
   "id": "cee253cd",
   "metadata": {},
   "source": [
    "# Adiabatic Expansion"
   ]
  },
  {
   "cell_type": "code",
   "execution_count": 4,
   "id": "924431a4",
   "metadata": {},
   "outputs": [
    {
     "data": {
      "text/plain": [
       "(U = sparse(Int64[], Int64[], ComplexF64[], 250, 250), Ud = sparse(Int64[], Int64[], ComplexF64[], 250, 250), temp = ComplexF64[0.0 + 0.0im 0.0 + 0.0im … 0.0 + 0.0im 0.0 + 0.0im; 0.0 + 0.0im 0.0 + 0.0im … 0.0 + 0.0im 0.0 + 0.0im; … ; 0.0 + 0.0im 0.0 + 0.0im … 0.0 + 0.0im 0.0 + 0.0im; 0.0 + 0.0im 0.0 + 0.0im … 0.0 + 0.0im 0.0 + 0.0im], temp2 = ComplexF64[0.0 + 0.0im 0.0 + 0.0im … 0.0 + 0.0im 0.0 + 0.0im; 0.0 + 0.0im 0.0 + 0.0im … 0.0 + 0.0im 0.0 + 0.0im; … ; 0.0 + 0.0im 0.0 + 0.0im … 0.0 + 0.0im 0.0 + 0.0im; 0.0 + 0.0im 0.0 + 0.0im … 0.0 + 0.0im 0.0 + 0.0im], idd = sparse([1, 2, 3, 4, 5, 6, 7, 8, 9, 10  …  241, 242, 243, 244, 245, 246, 247, 248, 249, 250], [1, 2, 3, 4, 5, 6, 7, 8, 9, 10  …  241, 242, 243, 244, 245, 246, 247, 248, 249, 250], [1.0, 1.0, 1.0, 1.0, 1.0, 1.0, 1.0, 1.0, 1.0, 1.0  …  1.0, 1.0, 1.0, 1.0, 1.0, 1.0, 1.0, 1.0, 1.0, 1.0], 250, 250), n = [0.0 0.0 … 0.0 0.0; 0.0 1.0 … 0.0 0.0; … ; 0.0 0.0 … 248.0 0.0; 0.0 0.0 … 0.0 248.99999999999997], π_a = [0.0 0.0 … 0.0 0.0; 0.0 0.0 … 0.0 0.0; … ; 0.0 0.0 … 0.0 0.0; 0.0 0.0 … 0.0 0.0], π_ad = [0.0 0.0 … 0.0 0.0; 0.0 0.0 … 0.0 0.0; … ; 0.0 0.0 … 0.0 0.0; 0.0 0.0 … 0.0 0.0], π_op = ComplexF64[1.97664906e-315 + 2.535748766e-315im 0.0 + 1.0im … 0.0 + 0.0im 0.0 + 0.0im; 1.97664906e-315 + 2.535748766e-315im 0.0 + 0.0im … 0.0 + 0.0im 0.0 + 0.0im; … ; 0.0 + 0.0im 0.0 + 0.0im … 0.0 + 0.0im 0.0 + 0.0im; 0.0 + 0.0im 0.0 + 0.0im … 0.0 + 0.0im 0.0 + 0.0im], _h = sparse([1, 2, 3, 4, 5, 6, 7, 8, 9, 10  …  241, 242, 243, 244, 245, 246, 247, 248, 249, 250], [1, 2, 3, 4, 5, 6, 7, 8, 9, 10  …  241, 242, 243, 244, 245, 246, 247, 248, 249, 250], [0.5, 1.5, 2.5000000000000004, 3.4999999999999996, 4.5, 5.500000000000001, 6.499999999999999, 7.500000000000001, 8.500000000000002, 9.5  …  240.50000000000003, 241.50000000000003, 242.49999999999997, 243.5, 244.49999999999997, 245.50000000000003, 246.50000000000003, 247.50000000000003, 248.5, 249.49999999999997], 250, 250), h1 = sparse(Int64[], Int64[], ComplexF64[], 250, 250), a1 = 0, p1 = 0, force = 1.0e-12)"
      ]
     },
     "metadata": {},
     "output_type": "display_data"
    }
   ],
   "source": [
    "# global ρ = complex(copy(system_evolution[end]))\n",
    "ρ = complex(thermalstate(ndims, ω, T_final))\n",
    "n = ad * a\n",
    "identity_matrix = spdiagm(ones(ndims))\n",
    "\n",
    "cache = (;\n",
    "        U = spzeros(ComplexF64, ndims, ndims),\n",
    "        Ud = spzeros(ComplexF64, ndims, ndims),\n",
    "        temp = zeros(ComplexF64, ndims, ndims),\n",
    "        temp2 = zeros(ComplexF64, ndims, ndims),\n",
    "        idd = identity_matrix,\n",
    "        n = n,\n",
    "        π_a = a * a,\n",
    "        π_ad = ad * ad,\n",
    "        π_op = Matrix{ComplexF64}(undef, ndims, ndims),\n",
    "        _h = sparse(n .+ 0.5 .* identity_matrix),\n",
    "        h1 = spzeros(ComplexF64, ndims, ndims),\n",
    "        a1 = 0,\n",
    "        p1 = 0,\n",
    "        force = cavity.expanding_force,\n",
    "    )"
   ]
  },
  {
   "cell_type": "code",
   "execution_count": 5,
   "id": "070a5975",
   "metadata": {},
   "outputs": [
    {
     "data": {
      "text/plain": [
       "adiabatic_stroke (generic function with 1 method)"
      ]
     },
     "metadata": {},
     "output_type": "display_data"
    }
   ],
   "source": [
    "function adiabatic_stroke(ρ, cavity, jumps, cache, sampling_steps)\n",
    "    process = \"Expansion\"\n",
    "\n",
    "    force = cavity.expanding_force\n",
    "\n",
    "    # Initialize system tracking\n",
    "    systems = Vector{Matrix{ComplexF64}}(undef, sampling_steps)\n",
    "    systems[1] = ρ\n",
    "\n",
    "    # Setup cavity\n",
    "    cavity.acceleration = 0  # starts blocked\n",
    "\n",
    "    # Determine expansion/contraction direction\n",
    "    l_start = cavity.l_min\n",
    "    l_end   = cavity.l_max\n",
    "    direction = 1\n",
    "    l_samplings = collect(range(l_start, stop=l_end, length=sampling_steps))\n",
    "    \n",
    "    cavity_lengths = [cavity.length for _ in 1:sampling_steps]\n",
    "\n",
    "    iter = ProgressBar(total=sampling_steps)\n",
    "    \n",
    "    t = 0.0\n",
    "    i = 2\n",
    "    stop = false\n",
    "    println(\"Starting!\")\n",
    "    while i <= sampling_steps\n",
    "        if direction * cavity.length >= direction * l_samplings[i]\n",
    "            systems[i] = ρ\n",
    "            cavity_lengths[i] = cavity.length\n",
    "            update(iter)\n",
    "            i += 1\n",
    "        elseif i > sampling_steps\n",
    "            stop = true\n",
    "        end\n",
    "        ρ, cavity = MasterEquations.adiabaticevolve_1(\n",
    "            ρ, cavity, cache, Δt, t, process, stop\n",
    "            )\n",
    "            t += Δt\n",
    "                    \n",
    "        if t % 25*Δt == 0\n",
    "            println(\"force: $force, acceleration: $(cavity.acceleration)\")\n",
    "        end\n",
    "    end\n",
    "    \n",
    "end"
   ]
  },
  {
   "cell_type": "code",
   "execution_count": null,
   "id": "6af3b02d",
   "metadata": {},
   "outputs": [],
   "source": [
    "adiabatic_stroke(ρ, cavity, jumps, cache, 1000)"
   ]
  },
  {
   "cell_type": "code",
   "execution_count": null,
   "id": "7b00aa60",
   "metadata": {},
   "outputs": [],
   "source": [
    "cavity.length"
   ]
  },
  {
   "cell_type": "code",
   "execution_count": null,
   "id": "65c715dd",
   "metadata": {},
   "outputs": [],
   "source": [
    "function testprint()\n",
    "    println(\"This is a test\")\n",
    "end\n",
    "\n",
    "testprint()\n",
    "testprint()"
   ]
  }
 ],
 "metadata": {
  "kernelspec": {
   "display_name": "Julia 1.11.7",
   "language": "julia",
   "name": "julia-1.11"
  },
  "language_info": {
   "file_extension": ".jl",
   "mimetype": "application/julia",
   "name": "julia",
   "version": "1.11.7"
  }
 },
 "nbformat": 4,
 "nbformat_minor": 5
}
