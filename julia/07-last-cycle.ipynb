{
 "cells": [
  {
   "cell_type": "markdown",
   "id": "a4461208-3513-4ac4-835f-83c6ea8150c8",
   "metadata": {},
   "source": [
    "# Last Cycle\n",
    "Now that the cycle stabilized we can cycle one more time to track relevant quantities:\n",
    "- Mutual Information\n",
    "- Work\n",
    "- Heat\n",
    "- Internal Energy (?)"
   ]
  },
  {
   "cell_type": "code",
   "execution_count": 1,
   "id": "837077a0-78b6-40fb-a6dd-13b8c36c3404",
   "metadata": {},
   "outputs": [],
   "source": [
    "using Revise\n",
    "using Dates"
   ]
  },
  {
   "cell_type": "code",
   "execution_count": null,
   "id": "cd472b4b-cb7a-4856-9052-5e540f26ca78",
   "metadata": {},
   "outputs": [
    {
     "name": "stdout",
     "output_type": "stream",
     "text": [
      "Simulation 5 - 25D - Fast thermalization - High entanglement: what happens to the efficiency?\n",
      "\n",
      "Initial Temperature of the Cavity: 2.25\n",
      "Apparent Temperature carried by Hot Phaseonium atoms: 20.0\n",
      "Apparent Temperature carried by Cold Phaseonium atoms: 0.005\n",
      "Starting with a new cascade system (contracted)\n",
      "Initial Temperature of the Cavities: 2.25 - 2.8499999999999996\n"
     ]
    },
    {
     "ename": "LoadError",
     "evalue": "UndefVarError: `THERMALIZED` not defined in `Main`\nSuggestion: check for spelling errors or missing imports.",
     "output_type": "error",
     "traceback": [
      "UndefVarError: `THERMALIZED` not defined in `Main`\nSuggestion: check for spelling errors or missing imports.",
      "",
      "Stacktrace:",
      " [1] top-level scope",
      "   @ In[2]:20"
     ]
    }
   ],
   "source": [
    "dir = \"cascade_25D_I1\";\n",
    "\n",
    "includet(\"./modules/OpticalCavity.jl\")\n",
    "includet(\"./modules/Thermodynamics.jl\")\n",
    "includet(\"./modules/Phaseonium.jl\")\n",
    "includet(\"./modules/BosonicOperators.jl\")\n",
    "includet(\"./modules/Measurements.jl\")\n",
    "\n",
    "includet(\"./src/main.jl\")\n",
    "config, ndims = init(dir)\n",
    "\n",
    "total_cycles = config[\"loading\"][\"past_cycles\"]\n",
    "system_evolution = []\n",
    "\n",
    "const PLOT_EVO = false;\n",
    "\n",
    "# Load or create state\n",
    "state = load_or_create(dir, config)\n",
    "# Reset state\n",
    "state.ρ₁_evolution = [] \n",
    "state.ρ₂_evolution = []\n",
    "state.c₁_evolution = []\n",
    "state.c₂_evolution = []\n",
    "\n",
    "# Report file\n",
    "open(dir * \"/report.txt\", \"w\") do io\n",
    "    println(io, \"Starting simulation at time $(now()) with config:\")\n",
    "    print_config(io, config)\n",
    "end\n",
    "# Visualization folder\n",
    "mkpath(dir * \"/visualization\")\n",
    "\n",
    "check_cutoff(state.ρ, ndims)"
   ]
  },
  {
   "cell_type": "code",
   "execution_count": null,
   "id": "bd2e76de-6464-4bb5-8d8c-f03bc032e049",
   "metadata": {},
   "outputs": [],
   "source": [
    "# Cycle\n",
    "\n",
    "isochore_time = config[\"stroke_time\"][\"isochore\"]\n",
    "isochore_samplings = config[\"samplings\"][\"isochore\"]\n",
    "adiabatic_time = config[\"stroke_time\"][\"adiabatic\"]\n",
    "adiabatic_samplings = config[\"samplings\"][\"adiabatic\"]\n",
    "\n",
    "total_cycle_time = isochore_samplings * 2 + 2 * adiabatic_samplings\n",
    "cycle_steps = []  # This keeps track of the total time of each stroke\n",
    "\n",
    "open(dir * \"/report.txt\", \"a\") do io\n",
    "    redirect_stdout(io)\n",
    "\n",
    "    global state\n",
    "    global system_evolution\n",
    "    global total_cycles\n",
    "\n",
    "    try\n",
    "        for t in 1:config[\"cycles\"]\n",
    "            println(\"Cycle $t\")\n",
    "            state, system_evolution = Main.cycle(\n",
    "                state, Δt, system_evolution, cycle_steps, \n",
    "                isochore_time, isochore_samplings, adiabatic_time, adiabatic_samplings);\n",
    "            total_cycles += 1\n",
    "            flush(io)\n",
    "\n",
    "            if PLOT_EVO\n",
    "                sys = state.ρ₁_evolution\n",
    "                cav = state.c₁_evolution\n",
    "                g1 = measure_and_plot(\"Frequency\", \"Energy\", sys, cav, \"Cycle $t S1\"; α=π)\n",
    "                savefig(g1, dir * \"/visualization/S1$(total_cycles)C.png\")\n",
    "                sys = state.ρ₂_evolution\n",
    "                cav = state.c₂_evolution\n",
    "                g2 = measure_and_plot(\"Frequency\", \"Energy\", sys, cav, \"Cycle $t S2\"; α=π)\n",
    "                savefig(g2, dir * \"/visualization/S2$(total_cycles)C.png\")\n",
    "            end\n",
    "        end\n",
    "    catch e \n",
    "        println(\"\\n\\nError '$e' at time $(now()) after $(length(system_evolution)) steps\")\n",
    "        error(\"Error $e: ending cycle\")\n",
    "    else\n",
    "        println(\"\\n\\nFinished at time $(now()) after $(length(system_evolution)) steps\")\n",
    "        println(\"**********************************\")\n",
    "        serialize(dir * \"/state_$(total_cycles)C.jl\", state)\n",
    "        serialize(dir * \"/state_evolution_$(total_cycles)C.jl\", system_evolution)\n",
    "        serialize(dir * \"/cavity1_evolution_$(total_cycles)C.jl\", state.c₁_evolution)\n",
    "        serialize(dir * \"/cavity2_evolution_$(total_cycles)C.jl\", state.c₂_evolution)\n",
    "    end\n",
    "end\n",
    "println(\"Cycle len: $(size(system_evolution)[1] / total_cycles) steps\")"
   ]
  },
  {
   "cell_type": "markdown",
   "id": "2c71acd9-613d-4431-83fc-325765e1b5ad",
   "metadata": {},
   "source": [
    "### Check stability of the Cycle"
   ]
  },
  {
   "cell_type": "code",
   "execution_count": null,
   "id": "c79b3792-c7a5-4e26-9f5a-ba6f39071fb6",
   "metadata": {},
   "outputs": [],
   "source": [
    "println(size(system_evolution))\n",
    "println(size(state.c₁_evolution))\n",
    "state_evolution1 = state.ρ₁_evolution[end-total_cycle_time+1:end] # last cycle\n",
    "cavity_evolution1 = state.c₁_evolution[end-total_cycle_time+1:end] # last cycle\n",
    "state_evolution2 = state.ρ₂_evolution[end-total_cycle_time+1:end] # last cycle\n",
    "cavity_evolution2 = state.c₂_evolution[end-total_cycle_time+1:end] # last cycle\n",
    "\n",
    "g = measure_and_plot(\"Frequency\", \"Energy\", state_evolution1, cavity_evolution1, \"S1\"; α=π, title=\"Cavities last cycle\")\n",
    "g = measure_and_plot(\"Frequency\", \"Energy\", state_evolution2, cavity_evolution2, \"S2\"; α=π, g=g)"
   ]
  },
  {
   "cell_type": "code",
   "execution_count": null,
   "id": "513a004c-191c-41c4-b371-65d478ce93e7",
   "metadata": {},
   "outputs": [],
   "source": [
    "savefig(g, dir * \"/last_cycle.png\")"
   ]
  },
  {
   "cell_type": "markdown",
   "id": "4c0b73ff-2d42-4f48-b186-8d8f48d3048c",
   "metadata": {},
   "source": [
    "## Save Last Cycle"
   ]
  },
  {
   "cell_type": "code",
   "execution_count": null,
   "id": "40c14720-5fdb-435a-a0e5-f4b8a396235e",
   "metadata": {},
   "outputs": [],
   "source": [
    "α0 = config[\"cavity1\"][\"alpha\"]\n",
    "\n",
    "last_evolution = system_evolution[end-total_cycle_time+1:end]\n",
    "ω₁_evolution = [α0 / l1 for l1 in state.c₁_evolution[end-total_cycle_time+1:end]]\n",
    "ω₂_evolution = [α0 / l2 for l2 in state.c₂_evolution[end-total_cycle_time+1:end]]\n",
    "\n",
    "dict_evolution = Dict(string(i)=>last_evolution[i] for i in 1:length(last_evolution))\n",
    "cycle_steps = Vector{Float64}(cycle_steps)\n",
    "\n",
    "npzwrite(dir * \"/cycle_steps.npy\", cycle_steps[end-3:end])\n",
    "npzwrite(dir * \"/cavities_evolution_1cycle.npz\", c1=ω₁_evolution, c2=ω₂_evolution)\n",
    "npzwrite(dir * \"/cascade_evolution_1cycle.npz\", dict_evolution)"
   ]
  },
  {
   "cell_type": "code",
   "execution_count": null,
   "id": "90bf809b",
   "metadata": {},
   "outputs": [],
   "source": []
  }
 ],
 "metadata": {
  "kernelspec": {
   "display_name": "Julia 1.11.2",
   "language": "julia",
   "name": "julia-1.11"
  },
  "language_info": {
   "file_extension": ".jl",
   "mimetype": "application/julia",
   "name": "julia",
   "version": "1.11.2"
  }
 },
 "nbformat": 4,
 "nbformat_minor": 5
}
