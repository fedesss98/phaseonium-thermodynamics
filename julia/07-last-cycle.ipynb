{
 "cells": [
  {
   "cell_type": "markdown",
   "id": "a4461208-3513-4ac4-835f-83c6ea8150c8",
   "metadata": {},
   "source": [
    "# Last Cycle\n",
    "Now that the cycle stabilized we can cycle one more time to track relevant quantities:\n",
    "- Mutual Information\n",
    "- Work\n",
    "- Heat\n",
    "- Internal Energy (?)"
   ]
  },
  {
   "cell_type": "code",
   "execution_count": 3,
   "id": "837077a0-78b6-40fb-a6dd-13b8c36c3404",
   "metadata": {},
   "outputs": [],
   "source": [
    "using Revise\n",
    "using Dates"
   ]
  },
  {
   "cell_type": "code",
   "execution_count": 8,
   "id": "cd472b4b-cb7a-4856-9052-5e540f26ca78",
   "metadata": {},
   "outputs": [
    {
     "name": "stdout",
     "output_type": "stream",
     "text": [
      "Simulation 5 - 20D - Fast thermalization - High entanglement: what happens to the efficiency?\n",
      "\n"
     ]
    },
    {
     "name": "stderr",
     "output_type": "stream",
     "text": [
      "WARNING: replacing module OpticalCavity.\n",
      "WARNING: replacing module Thermodynamics.\n",
      "WARNING: replacing module Phaseonium.\n",
      "WARNING: replacing module BosonicOperators.\n",
      "WARNING: replacing module Measurements.\n",
      "WARNING: using OpticalCavity.Cavity in module Main conflicts with an existing identifier.\n"
     ]
    },
    {
     "name": "stdout",
     "output_type": "stream",
     "text": [
      "Initial Temperature of the Cavity: 2.45\n",
      "Apparent Temperature carried by Hot Phaseonium atoms: 1000.0000000000533\n",
      "Apparent Temperature carried by Cold Phaseonium atoms: 0.05\n",
      "Starting with a new cascade system (contracted)\n",
      "Initial Temperature of the Cavity: 2.45\n",
      "Average Photons: 0.38389790742424407\n",
      "Last Element 1.8967849780359055e-11\n"
     ]
    }
   ],
   "source": [
    "dir = \"cascade_20D_I1\";\n",
    "\n",
    "include(\"./src/main.jl\")\n",
    "config, ndims = init(dir)\n",
    "\n",
    "total_cycles = config[\"loading\"][\"past_cycles\"]\n",
    "system_evolution = []\n",
    "\n",
    "const THERMALIZED = false;\n",
    "const PLOT_EVO = true;\n",
    "\n",
    "# Load or create state\n",
    "state = load_or_create(dir, config)\n",
    "# Reset state\n",
    "if !THERMALIZED\n",
    "    # Reinitialize memory\n",
    "    state.ρ₁_evolution = [] \n",
    "    state.ρ₂_evolution = []\n",
    "    state.c₁_evolution = []\n",
    "    state.c₂_evolution = [];\n",
    "end\n",
    "# Report file\n",
    "open(dir * \"/report.txt\", \"w\") do io\n",
    "    println(io, \"Starting simulation at time $(now()) with config:\\n$config\")\n",
    "end\n",
    "\n",
    "check_cutoff(state.ρ, ndims)"
   ]
  },
  {
   "cell_type": "code",
   "execution_count": null,
   "id": "bd2e76de-6464-4bb5-8d8c-f03bc032e049",
   "metadata": {},
   "outputs": [
    {
     "name": "stdout",
     "output_type": "stream",
     "text": [
      "Cycle 1\n",
      "Isochoric Stroke\n"
     ]
    }
   ],
   "source": [
    "# Cycle\n",
    "\n",
    "isochore_time = config[\"stroke_time\"][\"isochore\"]\n",
    "isochore_samplings = config[\"samplings\"][\"isochore\"]\n",
    "adiabatic_time = config[\"stroke_time\"][\"adiabatic\"]\n",
    "adiabatic_samplings = config[\"samplings\"][\"adiabatic\"]\n",
    "\n",
    "total_cycle_time = isochore_samplings * 2 + 2 * adiabatic_samplings\n",
    "cycle_steps = []  # This keeps track of the total time of each stroke\n",
    "\n",
    "if !THERMALIZED\n",
    "    try\n",
    "        for t in 1:config[\"cycles\"]\n",
    "            println(\"Cycle $t\")\n",
    "            state, system_evolution = cycle(\n",
    "                state, Δt, system_evolution, cycle_steps, \n",
    "                isochore_time, isochore_samplings, adiabatic_time, adiabatic_samplings);\n",
    "            total_cycles += 1\n",
    "\n",
    "            if PLOT_EVO\n",
    "                x = state.ρ₁_evolution[end-total_cycle_time+1:end] # last cycle\n",
    "                y = state.c₁_evolution[end-total_cycle_time+1:end] # last cycle\n",
    "                g = measure_and_plot(\"Frequency\", \"Energy\", x, y, \"Cycle $t\"; α=π)\n",
    "                display(g)\n",
    "            end\n",
    "        end\n",
    "    catch e \n",
    "        println(e)\n",
    "        open(dir * \"/report.txt\", \"a\") do io\n",
    "            println(io, \"Error '$e' at time $(now()) after $(length(system_evolution)) steps\")\n",
    "        end\n",
    "        system_evolution = []\n",
    "    else\n",
    "        serialize(dir * \"/state_$(total_cycles)C.jl\", state)\n",
    "        serialize(dir * \"/state_evolution_$(total_cycles)C.jl\", system_evolution)\n",
    "    end\n",
    "else\n",
    "    system_evolution = deserialize(dir * \"/state_evolution_$(total_cycles)C.jl\");\n",
    "end\n",
    "println(\"Cycle len: $(size(system_evolution)[1] / total_cycles) steps\")"
   ]
  },
  {
   "cell_type": "code",
   "execution_count": 10,
   "id": "091db181",
   "metadata": {},
   "outputs": [
    {
     "name": "stdout",
     "output_type": "stream",
     "text": [
      "DONE\n",
      "(0,)\n",
      "0\n"
     ]
    }
   ],
   "source": [
    "println(\"DONE\")\n",
    "println(size(system_evolution))\n",
    "println(total_cycles)"
   ]
  },
  {
   "cell_type": "markdown",
   "id": "2c71acd9-613d-4431-83fc-325765e1b5ad",
   "metadata": {},
   "source": [
    "### Check stability of the Cycle"
   ]
  },
  {
   "cell_type": "code",
   "execution_count": 11,
   "id": "c79b3792-c7a5-4e26-9f5a-ba6f39071fb6",
   "metadata": {},
   "outputs": [
    {
     "name": "stdout",
     "output_type": "stream",
     "text": [
      "(0,)\n"
     ]
    },
    {
     "ename": "BoundsError",
     "evalue": "BoundsError: attempt to access 0-element Vector{Matrix{ComplexF64}} at index [-199:0]",
     "output_type": "error",
     "traceback": [
      "BoundsError: attempt to access 0-element Vector{Matrix{ComplexF64}} at index [-199:0]\n",
      "\n",
      "Stacktrace:\n",
      " [1] throw_boundserror(A::Vector{Matrix{ComplexF64}}, I::Tuple{UnitRange{Int64}})\n",
      "   @ Base ./essentials.jl:14\n",
      " [2] checkbounds\n",
      "   @ ./abstractarray.jl:699 [inlined]\n",
      " [3] getindex(A::Vector{Matrix{ComplexF64}}, I::UnitRange{Int64})\n",
      "   @ Base ./array.jl:936\n",
      " [4] top-level scope\n",
      "   @ ~/phaseonium/thermophaseonium/julia/jl_notebook_cell_df34fa98e69747e1a8f8a730347b8e2f_W6sdnNjb2RlLXJlbW90ZQ==.jl:2"
     ]
    }
   ],
   "source": [
    "println(size(system_evolution))\n",
    "state_evolution = state.ρ₁_evolution[end-total_cycle_time+1:end] # last cycle\n",
    "cavity_evolution = state.c₁_evolution[end-total_cycle_time+1:end] # last cycle\n",
    "g = measure_and_plot(\"Frequency\", \"Energy\", state_evolution, cavity_evolution, \"Cycle 1 last round\"; α=π)"
   ]
  },
  {
   "cell_type": "code",
   "execution_count": 12,
   "id": "513a004c-191c-41c4-b371-65d478ce93e7",
   "metadata": {},
   "outputs": [
    {
     "ename": "UndefVarError",
     "evalue": "UndefVarError: `g` not defined in `Main`\nSuggestion: check for spelling errors or missing imports.",
     "output_type": "error",
     "traceback": [
      "UndefVarError: `g` not defined in `Main`\n",
      "Suggestion: check for spelling errors or missing imports.\n",
      "\n",
      "Stacktrace:\n",
      " [1] top-level scope\n",
      "   @ ~/phaseonium/thermophaseonium/julia/jl_notebook_cell_df34fa98e69747e1a8f8a730347b8e2f_X10sdnNjb2RlLXJlbW90ZQ==.jl:1"
     ]
    }
   ],
   "source": [
    "savefig(g, dir * \"/last_cycle.png\")"
   ]
  },
  {
   "cell_type": "markdown",
   "id": "1045a8f5-343b-42cb-8183-a69161f6fd33",
   "metadata": {},
   "source": [
    "## Measure the Evolving Cascade State"
   ]
  },
  {
   "cell_type": "markdown",
   "id": "83a28bb4-c247-4d92-818f-e4f9d74c584d",
   "metadata": {},
   "source": [
    "## Entropy"
   ]
  },
  {
   "cell_type": "code",
   "execution_count": 13,
   "id": "160da6fb-d02d-47e0-a59c-e9dcf0863972",
   "metadata": {},
   "outputs": [],
   "source": [
    "SA = [Measurements.entropy_vn(ρ) for ρ in state.ρ₁_evolution]\n",
    "SB = [Measurements.entropy_vn(ρ) for ρ in state.ρ₂_evolution]\n",
    "\n",
    "SAB = [Measurements.entropy_vn(ρ) for ρ in system_evolution];"
   ]
  },
  {
   "cell_type": "code",
   "execution_count": 14,
   "id": "96923c18-51eb-4a52-9d23-14ca0782954b",
   "metadata": {},
   "outputs": [
    {
     "ename": "ArgumentError",
     "evalue": "ArgumentError: reducing over an empty collection is not allowed; consider supplying `init` to the reducer",
     "output_type": "error",
     "traceback": [
      "ArgumentError: reducing over an empty collection is not allowed; consider supplying `init` to the reducer\n",
      "\n",
      "Stacktrace:\n",
      "  [1] _empty_reduce_error()\n",
      "    @ Base ./reduce.jl:319\n",
      "  [2] reduce_empty(f::Function, T::Type)\n",
      "    @ Base ./reduce.jl:320\n",
      "  [3] mapreduce_empty(::typeof(identity), op::Function, T::Type)\n",
      "    @ Base ./reduce.jl:369\n",
      "  [4] reduce_empty(op::Base.MappingRF{typeof(identity), typeof(max)}, ::Type{Any})\n",
      "    @ Base ./reduce.jl:358\n",
      "  [5] reduce_empty_iter\n",
      "    @ ./reduce.jl:381 [inlined]\n",
      "  [6] mapreduce_empty_iter(f::Function, op::Function, itr::Vector{Any}, ItrEltype::Base.HasEltype)\n",
      "    @ Base ./reduce.jl:377\n",
      "  [7] _mapreduce(f::typeof(identity), op::typeof(max), ::IndexLinear, A::Vector{Any})\n",
      "    @ Base ./reduce.jl:429\n",
      "  [8] _mapreduce_dim\n",
      "    @ ./reducedim.jl:337 [inlined]\n",
      "  [9] mapreduce\n",
      "    @ ./reducedim.jl:329 [inlined]\n",
      " [10] _maximum\n",
      "    @ ./reducedim.jl:987 [inlined]\n",
      " [11] _maximum\n",
      "    @ ./reducedim.jl:986 [inlined]\n",
      " [12] maximum\n",
      "    @ ./reducedim.jl:982 [inlined]\n",
      " [13] plot_strokes_overlays(g::Plots.Plot{Plots.GRBackend}, ys::Vector{Any}, isochore_samplings::Int64, adiabatic_samplings::Int64; x_min::Int64, x_max::Int64)\n",
      "    @ Main ~/phaseonium/thermophaseonium/julia/src/RoutineFunctions.jl:399\n",
      " [14] top-level scope\n",
      "    @ ~/phaseonium/thermophaseonium/julia/jl_notebook_cell_df34fa98e69747e1a8f8a730347b8e2f_X14sdnNjb2RlLXJlbW90ZQ==.jl:2"
     ]
    }
   ],
   "source": [
    "g = plot([SA, SB, SA+SB, SAB], label=[L\"S_A\" L\"S_B\" L\"S_A+S_B\" L\"S_{AB}\"], title=\"Entropy\")\n",
    "plot_strokes_overlays(g, SAB, isochore_samplings, adiabatic_samplings; x_max=total_cycles*total_cycle_time)"
   ]
  },
  {
   "cell_type": "code",
   "execution_count": 15,
   "id": "6f792680-f6d3-4d1b-9ad9-54e03f2690fc",
   "metadata": {},
   "outputs": [],
   "source": [
    "# savefig(g, dir * \"/entropy.png\")\n",
    "# savefig(g, dir * \"/entropy.pdf\")"
   ]
  },
  {
   "cell_type": "markdown",
   "id": "9d34588d-bc4c-4547-be52-74ffc4afabd9",
   "metadata": {},
   "source": [
    "### Mutual Information\n",
    "Measure the correlation between the two cavities during the cycle"
   ]
  },
  {
   "cell_type": "code",
   "execution_count": 16,
   "id": "b9b61f31-02a2-4c4d-84bb-46e5205ee053",
   "metadata": {},
   "outputs": [],
   "source": [
    "I = SA + SB - SAB;"
   ]
  },
  {
   "cell_type": "code",
   "execution_count": 17,
   "id": "ffbe6259-c95e-4101-aef7-5a6204584f18",
   "metadata": {},
   "outputs": [
    {
     "ename": "ArgumentError",
     "evalue": "ArgumentError: reducing over an empty collection is not allowed; consider supplying `init` to the reducer",
     "output_type": "error",
     "traceback": [
      "ArgumentError: reducing over an empty collection is not allowed; consider supplying `init` to the reducer\n",
      "\n",
      "Stacktrace:\n",
      "  [1] _empty_reduce_error()\n",
      "    @ Base ./reduce.jl:319\n",
      "  [2] reduce_empty(f::Function, T::Type)\n",
      "    @ Base ./reduce.jl:320\n",
      "  [3] mapreduce_empty(::typeof(identity), op::Function, T::Type)\n",
      "    @ Base ./reduce.jl:369\n",
      "  [4] reduce_empty(op::Base.MappingRF{typeof(identity), typeof(min)}, ::Type{Any})\n",
      "    @ Base ./reduce.jl:358\n",
      "  [5] reduce_empty_iter\n",
      "    @ ./reduce.jl:381 [inlined]\n",
      "  [6] mapreduce_empty_iter(f::Function, op::Function, itr::Vector{Any}, ItrEltype::Base.HasEltype)\n",
      "    @ Base ./reduce.jl:377\n",
      "  [7] _mapreduce(f::typeof(identity), op::typeof(min), ::IndexLinear, A::Vector{Any})\n",
      "    @ Base ./reduce.jl:429\n",
      "  [8] _mapreduce_dim\n",
      "    @ ./reducedim.jl:337 [inlined]\n",
      "  [9] mapreduce\n",
      "    @ ./reducedim.jl:329 [inlined]\n",
      " [10] _minimum\n",
      "    @ ./reducedim.jl:987 [inlined]\n",
      " [11] _minimum\n",
      "    @ ./reducedim.jl:986 [inlined]\n",
      " [12] minimum(a::Vector{Any})\n",
      "    @ Base ./reducedim.jl:982\n",
      " [13] top-level scope\n",
      "    @ ~/phaseonium/thermophaseonium/julia/jl_notebook_cell_df34fa98e69747e1a8f8a730347b8e2f_X21sdnNjb2RlLXJlbW90ZQ==.jl:1"
     ]
    }
   ],
   "source": [
    "println(\"Mutual Information goes down to: $(minimum(I))\")\n",
    "g = plot(I, label=\"Mutual Information\", title=\"Mutual Information\")\n",
    "plot_strokes_overlays(g, I, isochore_samplings, adiabatic_samplings; x_max=total_cycles*total_cycle_time)"
   ]
  },
  {
   "cell_type": "code",
   "execution_count": 18,
   "id": "0f8ea766-45d8-4512-b594-1b3ef14e3c27",
   "metadata": {},
   "outputs": [],
   "source": [
    "# savefig(g, dir * \"/mutual_info.png\")\n",
    "# savefig(g, dir * \"/mutual_info.pdf\")"
   ]
  },
  {
   "cell_type": "markdown",
   "id": "675a3b51-c341-437c-9dde-bf947c5d19cc",
   "metadata": {},
   "source": [
    "### Heat\n",
    "By Alicki definition\n",
    "$$\n",
    "Q = \\text{Tr}\\{\\Delta\\rho H(\\omega)\\} = \\text{Tr}\\{\\rho_{n+1}H(\\omega)\\} - \\text{Tr}\\{\\rho_{n}H(\\omega)\\} \n",
    "$$\n",
    "Here heating and cooling happens with two different cavity lengths (two different $\\omega$)"
   ]
  },
  {
   "cell_type": "code",
   "execution_count": 19,
   "id": "06ea08b8-1082-4971-a074-ec0057be791c",
   "metadata": {},
   "outputs": [
    {
     "ename": "ArgumentError",
     "evalue": "ArgumentError: reducing over an empty collection is not allowed; consider supplying `init` to the reducer",
     "output_type": "error",
     "traceback": [
      "ArgumentError: reducing over an empty collection is not allowed; consider supplying `init` to the reducer\n",
      "\n",
      "Stacktrace:\n",
      "  [1] _empty_reduce_error()\n",
      "    @ Base ./reduce.jl:319\n",
      "  [2] reduce_empty(f::Function, T::Type)\n",
      "    @ Base ./reduce.jl:320\n",
      "  [3] mapreduce_empty(::typeof(identity), op::Function, T::Type)\n",
      "    @ Base ./reduce.jl:369\n",
      "  [4] reduce_empty(op::Base.MappingRF{typeof(identity), typeof(max)}, ::Type{Any})\n",
      "    @ Base ./reduce.jl:358\n",
      "  [5] reduce_empty_iter\n",
      "    @ ./reduce.jl:381 [inlined]\n",
      "  [6] mapreduce_empty_iter(f::Function, op::Function, itr::Vector{Any}, ItrEltype::Base.HasEltype)\n",
      "    @ Base ./reduce.jl:377\n",
      "  [7] _mapreduce(f::typeof(identity), op::typeof(max), ::IndexLinear, A::Vector{Any})\n",
      "    @ Base ./reduce.jl:429\n",
      "  [8] _mapreduce_dim\n",
      "    @ ./reducedim.jl:337 [inlined]\n",
      "  [9] mapreduce\n",
      "    @ ./reducedim.jl:329 [inlined]\n",
      " [10] _maximum\n",
      "    @ ./reducedim.jl:987 [inlined]\n",
      " [11] _maximum\n",
      "    @ ./reducedim.jl:986 [inlined]\n",
      " [12] maximum\n",
      "    @ ./reducedim.jl:982 [inlined]\n",
      " [13] plot_strokes_overlays(g::Plots.Plot{Plots.GRBackend}, ys::Vector{Any}, isochore_samplings::Int64, adiabatic_samplings::Int64; x_min::Int64, x_max::Int64)\n",
      "    @ Main ~/phaseonium/thermophaseonium/julia/src/RoutineFunctions.jl:399\n",
      " [14] top-level scope\n",
      "    @ ~/phaseonium/thermophaseonium/julia/jl_notebook_cell_df34fa98e69747e1a8f8a730347b8e2f_X24sdnNjb2RlLXJlbW90ZQ==.jl:13"
     ]
    }
   ],
   "source": [
    "ω₁_evolution = [α0 / l1 for l1 in state.c₁_evolution]\n",
    "ω₂_evolution = [α0 / l2 for l2 in state.c₂_evolution]\n",
    "# Expectation value of the Hamiltonians\n",
    "energies_s₁ = [Measurements.avg_E(ρ, ω) for (ρ, ω) in zip(state.ρ₁_evolution, ω₁_evolution)]\n",
    "energies_s₂ = [Measurements.avg_E(ρ, ω) for (ρ, ω) in zip(state.ρ₂_evolution, ω₂_evolution)]\n",
    "# Heat absorbed and given\n",
    "q₁ = [energies_s₁[i+1] - energies_s₁[i] for i in 1:length(energies_s₁)-1]\n",
    "q₂ = [energies_s₂[i+1] - energies_s₂[i] for i in 1:length(energies_s₂)-1]\n",
    "\n",
    "g_heat = plot(q₁+q₂, label=L\"Q_{AB}\", linewidth=2, linestyle=:dashdot)\n",
    "plot!(q₁, label=L\"Q_A\")\n",
    "plot!(q₂, label=L\"Q_B\")\n",
    "plot_strokes_overlays(g_heat, q₁+q₂, isochore_samplings-2, adiabatic_samplings-1; x_max=total_cycle_time)"
   ]
  },
  {
   "cell_type": "markdown",
   "id": "d05d6873-3054-43a9-864e-27f1e209df8e",
   "metadata": {},
   "source": [
    "### Work\n",
    "by Alicki definition\n",
    "$$\n",
    "W = \\text{Tr}\\{\\rho\\Delta H\\} = \\text{Tr}\\{\\rho H(\\omega_{n+1})\\} - \\text{Tr}\\{\\rho H(\\omega_n)\\} \n",
    "$$\n",
    "Here $\\rho$ should always be the same (when written in the eigenbasis of its respective Hamiltonian."
   ]
  },
  {
   "cell_type": "code",
   "execution_count": 20,
   "id": "f884c3cd-92a8-4500-a883-6b0dbb84604f",
   "metadata": {},
   "outputs": [
    {
     "ename": "BoundsError",
     "evalue": "BoundsError: attempt to access 0-element Vector{Matrix{ComplexF64}} at index [51]",
     "output_type": "error",
     "traceback": [
      "BoundsError: attempt to access 0-element Vector{Matrix{ComplexF64}} at index [51]\n",
      "\n",
      "Stacktrace:\n",
      " [1] throw_boundserror(A::Vector{Matrix{ComplexF64}}, I::Tuple{Int64})\n",
      "   @ Base ./essentials.jl:14\n",
      " [2] getindex(A::Vector{Matrix{ComplexF64}}, i::Int64)\n",
      "   @ Base ./essentials.jl:916\n",
      " [3] top-level scope\n",
      "   @ ~/phaseonium/thermophaseonium/julia/jl_notebook_cell_df34fa98e69747e1a8f8a730347b8e2f_X26sdnNjb2RlLXJlbW90ZQ==.jl:2"
     ]
    }
   ],
   "source": [
    "# Expectation value of the Hamiltonians\n",
    "ρ = state.ρ₁_evolution[isochore_samplings + 1]\n",
    "energies_s₁ = [Measurements.avg_E(ρ, ω) for ω in ω₁_evolution]\n",
    "energies_s₂ = [Measurements.avg_E(ρ, ω) for ω in ω₂_evolution]\n",
    "# Work done on the system and from it\n",
    "w₁ = [energies_s₁[i+1] - energies_s₁[i] for i in 1:length(energies_s₁)-1]\n",
    "w₂ = [energies_s₂[i+1] - energies_s₂[i] for i in 1:length(energies_s₂)-1]\n",
    "net_w = sum(w₁+w₁)\n",
    "\n",
    "g_work = plot(-w₁-w₂, label=L\"W_{AB}\", linewidth=2, linestyle=:dashdot)\n",
    "plot!(-w₁, label=L\"W_1\")\n",
    "plot!(-w₂, label=L\"W_2\")\n",
    "plot!([0, total_cycle_time], [-net_w, -net_w], label=\"Total Work\")\n",
    "plot_strokes_overlays(g_work, -w₁-w₁, isochore_samplings, adiabatic_samplings; x_max=total_cycle_time)"
   ]
  },
  {
   "cell_type": "markdown",
   "id": "8f0485c7-cba2-4e15-b08b-b07ff56ee47b",
   "metadata": {},
   "source": [
    "We can as well compute the work ``classically'' knowing the movement of the cavity wall and the force acting on it\n",
    "$$\n",
    "W = F \\Delta l = p S \\Delta l\n",
    "$$"
   ]
  },
  {
   "cell_type": "code",
   "execution_count": 21,
   "id": "1f9fd28f-b0a5-49b8-94a0-26236a541a12",
   "metadata": {},
   "outputs": [
    {
     "ename": "UndefVarError",
     "evalue": "UndefVarError: `NDIMS` not defined in `Main`\nSuggestion: check for spelling errors or missing imports.",
     "output_type": "error",
     "traceback": [
      "UndefVarError: `NDIMS` not defined in `Main`\n",
      "Suggestion: check for spelling errors or missing imports.\n",
      "\n",
      "Stacktrace:\n",
      " [1] top-level scope\n",
      "   @ ~/phaseonium/thermophaseonium/julia/jl_notebook_cell_df34fa98e69747e1a8f8a730347b8e2f_X31sdnNjb2RlLXJlbW90ZQ==.jl:1"
     ]
    }
   ],
   "source": [
    "identity_matrix = spdiagm(ones(NDIMS))\n",
    "# Pressure Operator\n",
    "function pressure_operator(ω, t, adiabatic_samplings, a, ad)\n",
    "    t = t*adiabatic_samplings\n",
    "    2 * a * ad  - a * a * exp(-2*im*ω*t) - ad * ad * exp(2*im*ω*t)\n",
    "end\n",
    "π₁_evolution = [pressure_operator(ω₁_evolution[i], i, adiabatic_samplings, a, ad)\n",
    "    for i in 1:total_cycle_time]\n",
    "π₂_evolution = [pressure_operator(ω₂_evolution[i], i, adiabatic_samplings, a, ad)\n",
    "    for i in 1:total_cycle_time]\n",
    "s1 = cavity1.surface\n",
    "s2 = cavity2.surface\n",
    "p1 = [Measurements.pressure(ρ, π₁, identity_matrix, α0, l, s1)\n",
    "    for (ρ, π₁, l) in zip(state.ρ₁_evolution, π₁_evolution, state.c₁_evolution)]\n",
    "p2 = [Measurements.pressure(ρ, π₂, identity_matrix, α0, l, s2)\n",
    "    for (ρ, π₂, l) in zip(state.ρ₂_evolution, π₂_evolution, state.c₂_evolution)]\n",
    "\n",
    "# Optomechanical Work\n",
    "w₁ = [p*s1*(state.c₁_evolution[i+1]-state.c₁_evolution[i]) for (p, i) in zip(p1, 1:total_cycle_time-1)]\n",
    "w₂ = [p*s2*(state.c₂_evolution[i+1]-state.c₂_evolution[i]) for (p, i) in zip(p2, 1:total_cycle_time-1)]\n",
    "net_w = sum(w₁+w₂)\n",
    "println(\"Net work: $net_w\")\n",
    "\n",
    "g_press = plot(w₁+w₂, label=L\"W_{AB}\")\n",
    "plot!(w₁, label=L\"W_{A}\")\n",
    "plot!(w₂, label=L\"W_{B}\")\n",
    "plot!([0, total_cycle_time], [sum(w₁), sum(w₁)], label=\"Total Work\")\n",
    "plot_strokes_overlays(g_press, w₁+w₁, isochore_samplings, adiabatic_samplings; x_max=total_cycle_time)"
   ]
  },
  {
   "cell_type": "markdown",
   "id": "f478b672-97dc-4f20-ba3b-645e06d6fc30",
   "metadata": {},
   "source": [
    "### Efficiency\n",
    "We can now compute efficiency as\n",
    "$$\n",
    "\\eta = \\frac{|W_\\text{net}|}{Q_\\text{in}}\n",
    "$$\n",
    "\n",
    "As a reference we can use Carnot Efficiency\n",
    "$$\n",
    "\\eta_C = 1 - \\frac{T_c}{T_h}\n",
    "$$\n",
    "or better the Curzon-Ahlborn Efficiency\n",
    "$$\n",
    "\\eta_{CA} = 1 - \\left(\\frac{T_c}{T_h}\\right)^{1/2}\n",
    "$$"
   ]
  },
  {
   "cell_type": "code",
   "execution_count": 22,
   "id": "6d45b739-ef3d-4b02-9557-a9421880527b",
   "metadata": {},
   "outputs": [
    {
     "ename": "ArgumentError",
     "evalue": "ArgumentError: reducing over an empty collection is not allowed; consider supplying `init` to the reducer",
     "output_type": "error",
     "traceback": [
      "ArgumentError: reducing over an empty collection is not allowed; consider supplying `init` to the reducer\n",
      "\n",
      "Stacktrace:\n",
      "  [1] _empty_reduce_error()\n",
      "    @ Base ./reduce.jl:319\n",
      "  [2] reduce_empty(f::Function, T::Type)\n",
      "    @ Base ./reduce.jl:320\n",
      "  [3] mapreduce_empty(::typeof(identity), op::Function, T::Type)\n",
      "    @ Base ./reduce.jl:369\n",
      "  [4] reduce_empty(op::Base.MappingRF{typeof(identity), typeof(max)}, ::Type{Any})\n",
      "    @ Base ./reduce.jl:358\n",
      "  [5] reduce_empty_iter\n",
      "    @ ./reduce.jl:381 [inlined]\n",
      "  [6] mapreduce_empty_iter(f::Function, op::Function, itr::Vector{Any}, ItrEltype::Base.HasEltype)\n",
      "    @ Base ./reduce.jl:377\n",
      "  [7] _mapreduce(f::typeof(identity), op::typeof(max), ::IndexLinear, A::Vector{Any})\n",
      "    @ Base ./reduce.jl:429\n",
      "  [8] _mapreduce_dim\n",
      "    @ ./reducedim.jl:337 [inlined]\n",
      "  [9] mapreduce\n",
      "    @ ./reducedim.jl:329 [inlined]\n",
      " [10] _maximum\n",
      "    @ ./reducedim.jl:987 [inlined]\n",
      " [11] _maximum\n",
      "    @ ./reducedim.jl:986 [inlined]\n",
      " [12] maximum(a::Vector{Any})\n",
      "    @ Base ./reducedim.jl:982\n",
      " [13] top-level scope\n",
      "    @ ~/phaseonium/thermophaseonium/julia/jl_notebook_cell_df34fa98e69747e1a8f8a730347b8e2f_X33sdnNjb2RlLXJlbW90ZQ==.jl:5"
     ]
    }
   ],
   "source": [
    "# At what temperatures the machine operates?\n",
    "temperatures_1 = [Measurements.temperature(ρ, ω) for (ρ, ω) in zip(state.ρ₁_evolution, ω₁_evolution)]\n",
    "temperatures_2 = [Measurements.temperature(ρ, ω) for (ρ, ω) in zip(state.ρ₂_evolution, ω₂_evolution)]\n",
    "\n",
    "T₁_hot = round(maximum(temperatures_1), digits=3)\n",
    "T₁_cold = round(minimum(temperatures_1), digits=3)\n",
    "println(\"Cavity A operates between the temperatures:\\n $T₁_hot - $T₁_cold\")\n",
    "T₂_hot = round(maximum(temperatures_2), digits=3)\n",
    "T₂_cold = round(minimum(temperatures_2), digits=3)\n",
    "println(\"Cavity B operates between the temperatures:\\n $T₂_hot - $T₂_cold\")\n",
    "\n",
    "T_cold_pred = - ω₁_evolution[end-adiabatic_samplings+2] / log(ga_c/gb_c)\n",
    "T_hot_pred = - ω₁_evolution[1] / log(ga_h/gb_h)\n",
    "# T_cold_pred = - ω₁_evolution[end] / log(ga_c/(1-ga_c/2))"
   ]
  },
  {
   "cell_type": "code",
   "execution_count": 23,
   "id": "a078ae0b-8bab-4a31-97a5-80f2e6345113",
   "metadata": {},
   "outputs": [
    {
     "ename": "UndefVarError",
     "evalue": "UndefVarError: `T₁_cold` not defined in `Main`\nSuggestion: check for spelling errors or missing imports.",
     "output_type": "error",
     "traceback": [
      "UndefVarError: `T₁_cold` not defined in `Main`\n",
      "Suggestion: check for spelling errors or missing imports.\n",
      "\n",
      "Stacktrace:\n",
      " [1] top-level scope\n",
      "   @ ~/phaseonium/thermophaseonium/julia/jl_notebook_cell_df34fa98e69747e1a8f8a730347b8e2f_X34sdnNjb2RlLXJlbW90ZQ==.jl:1"
     ]
    }
   ],
   "source": [
    "η₁C = round(1 - T₁_cold / T₁_hot, digits=3)\n",
    "η₁CA = round(1 - sqrt(T₁_cold / T₁_hot), digits=3)\n",
    "η₂C = round(1 - T₂_cold / T₂_hot, digits=3)\n",
    "η₂CA = round(1 - sqrt(T₂_cold / T₂_hot), digits=3)\n",
    "# Classic Efficiency (with classical temperatures)\n",
    "T₁_hot_cl = round(classic_temp(T₁_hot, ω_max, ϕ_h), digits=3)\n",
    "T₁_cold_cl = round(classic_temp(T₁_cold, ω_min, ϕ_c), digits=3)\n",
    "T₂_hot_cl = round(classic_temp(T₂_hot, ω_max, ϕ_h), digits=3)\n",
    "T₂_cold_cl = round(classic_temp(T₂_cold, ω_min, ϕ_c), digits=3)\n",
    "η₁Cl = round(1 - T₁_cold_cl / T₁_hot_cl, digits=3)\n",
    "η₂Cl = round(1 - T₂_cold_cl / T₂_hot_cl, digits=3)\n",
    "\n",
    "net_w = abs(net_w)\n",
    "q₁_in = sum(q₁[1:isochore_samplings])\n",
    "net_w₁ = sum(w₁)\n",
    "q₂_in = sum(q₂[1:isochore_samplings])\n",
    "net_w₂ = sum(w₂)\n",
    "\n",
    "η₁ = round(net_w₁ / q₁_in, digits=3)\n",
    "η₂ = round(net_w₂ / q₂_in, digits=3)\n",
    "\n",
    "string_out = \"\"\"\n",
    "    Cavity  | ηC \\t| ηCA \\t| η \\t| ηCl \\t| Tʰ \\t| Tᶜ \\t| TʰCl \\t| TᶜCl\n",
    "    A       | $η₁C\\t| $η₁CA\\t| $η₁\\t| $η₁Cl\\t| $T₁_hot\\t| $T₁_cold\\t| $T₁_hot_cl\\t| $T₁_cold_cl\n",
    "    B       | $η₂C\\t| $η₂CA\\t| $η₂\\t| $η₂Cl\\t| $T₂_hot\\t| $T₂_cold\\t| $T₂_hot_cl\\t| $T₂_cold_cl\n",
    "\"\"\"\n",
    "println(string_out)"
   ]
  },
  {
   "cell_type": "code",
   "execution_count": 24,
   "id": "a6407bb5-2617-45be-94fe-35262122b7ab",
   "metadata": {},
   "outputs": [
    {
     "ename": "UndefVarError",
     "evalue": "UndefVarError: `string_out` not defined in `Main`\nSuggestion: check for spelling errors or missing imports.",
     "output_type": "error",
     "traceback": [
      "UndefVarError: `string_out` not defined in `Main`\n",
      "Suggestion: check for spelling errors or missing imports.\n",
      "\n",
      "Stacktrace:\n",
      " [1] top-level scope\n",
      "   @ ~/phaseonium/thermophaseonium/julia/jl_notebook_cell_df34fa98e69747e1a8f8a730347b8e2f_X35sdnNjb2RlLXJlbW90ZQ==.jl:1"
     ]
    }
   ],
   "source": [
    "csv_out = replace(string_out, \"|\"=>\",\")\n",
    "csv_out = replace(csv_out, \"\\t\"=>\"\")\n",
    "csv_out = replace(csv_out, \" \"=>\"\")\n",
    "\n",
    "open(dir * \"/results.csv\", \"w\") do f\n",
    "    write(f, csv_out)\n",
    "end\n",
    ";"
   ]
  },
  {
   "cell_type": "markdown",
   "id": "4c0b73ff-2d42-4f48-b186-8d8f48d3048c",
   "metadata": {},
   "source": [
    "## Save Last Cycle"
   ]
  },
  {
   "cell_type": "code",
   "execution_count": null,
   "id": "40c14720-5fdb-435a-a0e5-f4b8a396235e",
   "metadata": {},
   "outputs": [],
   "source": [
    "last_evolution = system_evolution[end-total_cycle_time+1:end]\n",
    "ω₁_evolution = [α0 / l1 for l1 in state.c₁_evolution[end-total_cycle_time+1:end]]\n",
    "ω₂_evolution = [α0 / l2 for l2 in state.c₂_evolution[end-total_cycle_time+1:end]]\n",
    "\n",
    "dict_evolution = Dict(string(i)=>last_evolution[i] for i in 1:length(last_evolution))\n",
    "cycle_steps = Vector{Float64}(cycle_steps)\n",
    "\n",
    "npzwrite(dir * \"/cycle_steps.npy\", cycle_steps[end-3:end])\n",
    "npzwrite(dir * \"/cavities_evolution_1cycle.npz\", c1=ω₁_evolution, c2=ω₂_evolution)\n",
    "npzwrite(dir * \"/cascade_evolution_1cycle.npz\", dict_evolution)"
   ]
  },
  {
   "cell_type": "code",
   "execution_count": null,
   "id": "f0cfd553-774f-4c80-b5f5-e90bf41383c8",
   "metadata": {},
   "outputs": [],
   "source": [
    "npzwrite(dir * \"/cycle_steps_3.npy\", cycle_steps[end-3:end])\n"
   ]
  },
  {
   "cell_type": "code",
   "execution_count": null,
   "id": "37529f55-d907-4eb1-ae3d-d868f3b83964",
   "metadata": {},
   "outputs": [],
   "source": [
    "partial_trace(last_evolution[1], (NDIMS, NDIMS), 1)"
   ]
  },
  {
   "cell_type": "code",
   "execution_count": null,
   "id": "f4aa16e6-2f32-41de-8fb0-dc46bb5c3d3b",
   "metadata": {},
   "outputs": [],
   "source": [
    "npzread(dir * \"/cycle_steps.npy\")"
   ]
  },
  {
   "cell_type": "code",
   "execution_count": null,
   "id": "a0b7c938-660a-491d-9811-3c7a9b098331",
   "metadata": {},
   "outputs": [],
   "source": []
  }
 ],
 "metadata": {
  "kernelspec": {
   "display_name": "Julia 1.11.2",
   "language": "julia",
   "name": "julia-1.11"
  },
  "language_info": {
   "file_extension": ".jl",
   "mimetype": "application/julia",
   "name": "julia",
   "version": "1.11.2"
  }
 },
 "nbformat": 4,
 "nbformat_minor": 5
}
