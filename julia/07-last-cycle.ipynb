{
 "cells": [
  {
   "cell_type": "markdown",
   "id": "a4461208-3513-4ac4-835f-83c6ea8150c8",
   "metadata": {},
   "source": [
    "# Last Cycle\n",
    "Now that the cycle stabilized we can cycle one more time to track relevant quantities:\n",
    "- Mutual Information\n",
    "- Work\n",
    "- Heat\n",
    "- Internal Energy (?)"
   ]
  },
  {
   "cell_type": "code",
   "execution_count": 1,
   "id": "a49b1e17-3f40-47d5-8aa6-8cbccc7cbab5",
   "metadata": {},
   "outputs": [
    {
     "data": {
      "text/plain": [
       "plot_in_time (generic function with 1 method)"
      ]
     },
     "execution_count": 1,
     "metadata": {},
     "output_type": "execute_result"
    }
   ],
   "source": [
    "include(\"./modules/OpticalCavity.jl\")\n",
    "include(\"./modules/Thermodynamics.jl\")\n",
    "include(\"./modules/Phaseonium.jl\")\n",
    "include(\"./modules/BosonicOperators.jl\")\n",
    "include(\"./modules/Measurements.jl\")\n",
    "\n",
    "using LinearAlgebra\n",
    "using SparseArrays\n",
    "using ProgressBars\n",
    "using Plots; gr()\n",
    "using LaTeXStrings\n",
    "using TOML\n",
    "# Saving the output matrix\n",
    "using Serialization\n",
    "\n",
    "using .OpticalCavity\n",
    "using .Thermodynamics\n",
    "using .Phaseonium\n",
    "using .BosonicOperators\n",
    "using .Measurements\n",
    "\n",
    "include(\"./src/RoutineFunctions.jl\")"
   ]
  },
  {
   "cell_type": "code",
   "execution_count": 2,
   "id": "5d8a2c85-4fba-4b1e-9bcb-0c524819c07e",
   "metadata": {},
   "outputs": [
    {
     "name": "stdout",
     "output_type": "stream",
     "text": [
      "Simulation 2 - 15D - Long thermalization - No entanglement\n",
      "\n",
      "Initial Temperature of the Cavity:\n",
      "    2.0\n",
      "Apparent Temperature carried by Hot Phaseonium atoms: \n",
      "    2.9999999999999987\n",
      "Apparent Temperature carried by Cold Phaseonium atoms: \n",
      "    1.4999999999999998\n"
     ]
    }
   ],
   "source": [
    "dir = \"cascade_15D_I3\";\n",
    "config = \"\"\n",
    "try\n",
    "    config = TOML.parsefile(dir * \"/config.toml\")\n",
    "catch e\n",
    "    println(\"Error reading configuration: $e\")\n",
    "else\n",
    "    println(config[\"description\"])\n",
    "end\n",
    "\n",
    "const NDIMS = config[\"dims\"]\n",
    "const Ω = config[\"omega\"]\n",
    "const Δt = config[\"dt\"]\n",
    "\n",
    "const T_initial = config[\"T_initial\"]\n",
    "\n",
    "# Create a Cavity\n",
    "const mass = config[\"cavity\"][\"mass\"]\n",
    "const surface = config[\"cavity\"][\"surface\"]\n",
    "const α0 = config[\"cavity\"][\"alpha\"]\n",
    "const l_min = config[\"cavity\"][\"min_length\"]\n",
    "const l_max = config[\"cavity\"][\"max_length\"]\n",
    "const expanding_force = config[\"cavity\"][\"external_force\"]\n",
    "cavity1 = Cavity(mass, surface, l_min, l_max, α0, expanding_force)\n",
    "cavity2 = Cavity(mass, surface, l_min, l_max, α0, expanding_force)\n",
    "ω_max = α0 / l_min\n",
    "ω_min = α0 / l_max\n",
    "\n",
    "# The system starts contracted, where the frequency is maximum\n",
    "ρt = thermalstate(NDIMS, ω_max, T_initial)\n",
    "println(\n",
    "    \"Initial Temperature of the Cavity:\n",
    "    $(Measurements.temperature(ρt, ω_max))\")\n",
    "\n",
    "# Jump Operators\n",
    "a = BosonicOperators.destroy(NDIMS)\n",
    "ad = BosonicOperators.create(NDIMS)\n",
    "\n",
    "# Create Phaseonium atoms\n",
    "# For thermal (diagonal) phaseoniums, the Master Equation is the same as having ϕ=π/2\n",
    "# Heating at minimum length\n",
    "const ϕ_h = π / config[\"phaseonium\"][\"phi_hot\"]\n",
    "const T_hot = config[\"phaseonium\"][\"T_hot\"]\n",
    "α_h = Phaseonium.alpha_from_temperature(T_hot, ϕ_h, ω_max) \n",
    "\n",
    "const ga_h, gb_h = Phaseonium.dissipationrates(α_h, ϕ_h)\n",
    "println(\n",
    "    \"Apparent Temperature carried by Hot Phaseonium atoms: \n",
    "    $(Phaseonium.finaltemperature(ω_max, ga_h, gb_h))\")\n",
    "\n",
    "bosonic_h = bosonic_operators(Ω, Δt, NDIMS)\n",
    "\n",
    "# Cooling at maximum length\n",
    "const ϕ_c = π / config[\"phaseonium\"][\"phi_cold\"]\n",
    "const T_cold = config[\"phaseonium\"][\"T_cold\"]\n",
    "α_c = Phaseonium.alpha_from_temperature(T_cold, ϕ_c, ω_min) \n",
    "\n",
    "const ga_c, gb_c = Phaseonium.dissipationrates(α_c, ϕ_c)\n",
    "println(\n",
    "    \"Apparent Temperature carried by Cold Phaseonium atoms: \n",
    "    $(Phaseonium.finaltemperature(ω_min, ga_c, gb_c))\")\n",
    "\n",
    "bosonic_c = bosonic_operators(Ω, Δt, NDIMS);\n",
    "\n",
    "total_cycles = config[\"loading\"][\"past_cycles\"]\n",
    "system_evolution = []\n",
    ";"
   ]
  },
  {
   "cell_type": "markdown",
   "id": "5ef819d3-4520-48fa-b8ed-a7c075c0ffaf",
   "metadata": {},
   "source": [
    "### Load or Create State"
   ]
  },
  {
   "cell_type": "code",
   "execution_count": 3,
   "id": "dcdce37e-969f-4522-971c-b1c58dc5aca6",
   "metadata": {},
   "outputs": [
    {
     "name": "stdout",
     "output_type": "stream",
     "text": [
      "Starting with a new cascade system (contracted)\n",
      "Initial Temperature of the Cavity:\n",
      "            2.0\n",
      "Average Photons: 0.26243430854836325\n",
      "Last Element 2.229239524311487e-10\n"
     ]
    }
   ],
   "source": [
    "state = load_or_create(dir, config)\n",
    ";\n",
    "# Check number of photons and cutoff\n",
    "ρ₁ = partial_trace(real(state.ρ), (NDIMS, NDIMS), 1)\n",
    "println(\"Average Photons: $(tr(ρ₁ * ad*a))\")\n",
    "println(\"Last Element $(ρ₁[end])\")"
   ]
  },
  {
   "cell_type": "code",
   "execution_count": 4,
   "id": "20c69f35-f3a6-4771-a673-ed3e332cb07a",
   "metadata": {},
   "outputs": [],
   "source": [
    "# Reinitialize memory\n",
    "state.ρ₁_evolution = [] \n",
    "state.ρ₂_evolution = []\n",
    "state.c₁_evolution = []\n",
    "state.c₂_evolution = [];"
   ]
  },
  {
   "cell_type": "markdown",
   "id": "d605c10b-5fb4-4d9e-ac27-e3c366c7ea4a",
   "metadata": {},
   "source": [
    "### Cycle"
   ]
  },
  {
   "cell_type": "code",
   "execution_count": null,
   "id": "bd2e76de-6464-4bb5-8d8c-f03bc032e049",
   "metadata": {},
   "outputs": [
    {
     "name": "stdout",
     "output_type": "stream",
     "text": [
      "Cycle 1\n",
      "Isochoric Stroke\n",
      "Adiabatic Stroke\n"
     ]
    }
   ],
   "source": [
    "isochore_time = config[\"stroke_time\"][\"isochore\"]\n",
    "isochore_samplings = config[\"samplings\"][\"isochore\"]\n",
    "adiabatic_time = config[\"stroke_time\"][\"adiabatic\"]\n",
    "adiabatic_samplings = config[\"samplings\"][\"adiabatic\"]\n",
    "\n",
    "total_cycle_time = isochore_samplings * 2 + 2 * adiabatic_samplings + 2\n",
    "\n",
    "for t in 1:1\n",
    "    println(\"Cycle $t\")\n",
    "    state, system_evolution = cycle(state, system_evolution, isochore_time, isochore_samplings, adiabatic_time, adiabatic_samplings);\n",
    "    total_cycles += 1\n",
    "end\n"
   ]
  },
  {
   "cell_type": "markdown",
   "id": "2c71acd9-613d-4431-83fc-325765e1b5ad",
   "metadata": {},
   "source": [
    "### Check stability of the Cycle"
   ]
  },
  {
   "cell_type": "code",
   "execution_count": null,
   "id": "c79b3792-c7a5-4e26-9f5a-ba6f39071fb6",
   "metadata": {},
   "outputs": [],
   "source": [
    "println(size(system_evolution))\n",
    "state_evolution = state.ρ₁_evolution[end-total_cycle_time+1:end] # last cycle\n",
    "cavity_evolution = state.c₁_evolution[end-total_cycle_time+1:end] # last cycle\n",
    "measure_and_plot(\"Frequency\", \"Energy\", state_evolution, cavity_evolution, \"Cycle 1 last round\"; α=π)"
   ]
  },
  {
   "cell_type": "markdown",
   "id": "1045a8f5-343b-42cb-8183-a69161f6fd33",
   "metadata": {},
   "source": [
    "## Measure the Evolving Cascade State"
   ]
  },
  {
   "cell_type": "code",
   "execution_count": null,
   "id": "7c80fb52-eee0-4515-b4db-4f18efdd58c7",
   "metadata": {},
   "outputs": [],
   "source": [
    "include(\"./src/RoutineFunctions.jl\")"
   ]
  },
  {
   "cell_type": "markdown",
   "id": "83a28bb4-c247-4d92-818f-e4f9d74c584d",
   "metadata": {},
   "source": [
    "## Entropy"
   ]
  },
  {
   "cell_type": "code",
   "execution_count": null,
   "id": "160da6fb-d02d-47e0-a59c-e9dcf0863972",
   "metadata": {},
   "outputs": [],
   "source": [
    "SA = [Measurements.entropy_vn(ρ) for ρ in state.ρ₁_evolution]\n",
    "SB = [Measurements.entropy_vn(ρ) for ρ in state.ρ₂_evolution]\n",
    "\n",
    "SAB = [Measurements.entropy_vn(ρ) for ρ in system_evolution];"
   ]
  },
  {
   "cell_type": "code",
   "execution_count": null,
   "id": "96923c18-51eb-4a52-9d23-14ca0782954b",
   "metadata": {},
   "outputs": [],
   "source": [
    "g = plot([SA, SB, SAB], label=[L\"S_A\" L\"S_B\" L\"S_{AB}\"], title=\"Entropy\")\n",
    "plot_strokes_overlays(g, SAB, isochore_samplings, adiabatic_samplings; x_max=total_cycle_time)"
   ]
  },
  {
   "cell_type": "code",
   "execution_count": null,
   "id": "6f792680-f6d3-4d1b-9ad9-54e03f2690fc",
   "metadata": {},
   "outputs": [],
   "source": [
    "savefig(g, dir * \"/entropy.png\")\n",
    "savefig(g, dir * \"/entropy.pdf\")"
   ]
  },
  {
   "cell_type": "markdown",
   "id": "9d34588d-bc4c-4547-be52-74ffc4afabd9",
   "metadata": {},
   "source": [
    "### Mutual Information\n",
    "Measure the correlation between the two cavities during the cycle"
   ]
  },
  {
   "cell_type": "code",
   "execution_count": null,
   "id": "b9b61f31-02a2-4c4d-84bb-46e5205ee053",
   "metadata": {},
   "outputs": [],
   "source": [
    "I = SA .+ SB .- SAB;"
   ]
  },
  {
   "cell_type": "code",
   "execution_count": null,
   "id": "ffbe6259-c95e-4101-aef7-5a6204584f18",
   "metadata": {},
   "outputs": [],
   "source": [
    "println(\"Mutual Information goes down to: $(minimum(I))\")\n",
    "g = plot(I, label=\"Mutual Information\", title=\"Mutual Information\")\n",
    "plot_strokes_overlays(g, I, isochore_samplings, adiabatic_samplings; x_max=total_cycle_time)"
   ]
  },
  {
   "cell_type": "code",
   "execution_count": null,
   "id": "0f8ea766-45d8-4512-b594-1b3ef14e3c27",
   "metadata": {},
   "outputs": [],
   "source": [
    "savefig(g, dir * \"/mutual_info.png\")\n",
    "savefig(g, dir * \"/mutual_info.pdf\")"
   ]
  },
  {
   "cell_type": "markdown",
   "id": "675a3b51-c341-437c-9dde-bf947c5d19cc",
   "metadata": {},
   "source": [
    "### Heat\n",
    "By Alicki definition\n",
    "$$\n",
    "Q = \\text{Tr}\\{\\Delta\\rho H(\\omega)\\} = \\text{Tr}\\{\\rho_{n+1}H(\\omega)\\} - \\text{Tr}\\{\\rho_{n}H(\\omega)\\} \n",
    "$$\n",
    "Here heating and cooling happens with two different cavity lengths (two different $\\omega$)"
   ]
  },
  {
   "cell_type": "code",
   "execution_count": null,
   "id": "06ea08b8-1082-4971-a074-ec0057be791c",
   "metadata": {},
   "outputs": [],
   "source": [
    "ω₁_evolution = [α0 / l1 for l1 in state.c₁_evolution]\n",
    "ω₂_evolution = [α0 / l2 for l2 in state.c₂_evolution]\n",
    "# Expectation value of the Hamiltonians\n",
    "energies_s₁ = [Measurements.avg_E(ρ, ω) for (ρ, ω) in zip(state.ρ₁_evolution, ω₁_evolution)]\n",
    "energies_s₂ = [Measurements.avg_E(ρ, ω) for (ρ, ω) in zip(state.ρ₂_evolution, ω₂_evolution)]\n",
    "# Heat absorbed and given\n",
    "q₁ = [energies_s₁[i+1] - energies_s₁[i] for i in 1:length(energies_s₁)-1]\n",
    "q₂ = [energies_s₂[i+1] - energies_s₂[i] for i in 1:length(energies_s₂)-1]\n",
    "\n",
    "g_heat = plot(q₁+q₂, label=L\"Q_{AB}\", linewidth=2, linestyle=:dashdot)\n",
    "plot!(q₁, label=L\"Q_A\")\n",
    "plot!(q₂, label=L\"Q_B\")\n",
    "plot_strokes_overlays(g_heat, q₁+q₂, isochore_samplings, adiabatic_samplings; x_max=total_cycle_time)"
   ]
  },
  {
   "cell_type": "markdown",
   "id": "d05d6873-3054-43a9-864e-27f1e209df8e",
   "metadata": {},
   "source": [
    "### Work\n",
    "by Alicki definition\n",
    "$$\n",
    "W = \\text{Tr}\\{\\rho\\Delta H\\} = \\text{Tr}\\{\\rho H(\\omega_{n+1})\\} - \\text{Tr}\\{\\rho H(\\omega_n)\\} \n",
    "$$\n",
    "Here $\\rho$ should always be the same (when written in the eigenbasis of its respective Hamiltonian."
   ]
  },
  {
   "cell_type": "code",
   "execution_count": null,
   "id": "f884c3cd-92a8-4500-a883-6b0dbb84604f",
   "metadata": {},
   "outputs": [],
   "source": [
    "# Expectation value of the Hamiltonians\n",
    "ρ = state.ρ₁_evolution[isochore_samplings + 1]\n",
    "energies_s₁ = [Measurements.avg_E(ρ, ω) for ω in ω₁_evolution]\n",
    "energies_s₂ = [Measurements.avg_E(ρ, ω) for ω in ω₂_evolution]\n",
    "# Work done on the system and from it\n",
    "w₁ = [energies_s₁[i+1] - energies_s₁[i] for i in 1:length(energies_s₁)-1]\n",
    "w₂ = [energies_s₂[i+1] - energies_s₂[i] for i in 1:length(energies_s₂)-1]\n",
    "net_w = sum(w₁+w₁)\n",
    "\n",
    "g_work = plot(-w₁-w₁, label=L\"W_{AB}\", linewidth=2, linestyle=:dashdot)\n",
    "plot!(-w₁, label=L\"W_1\")\n",
    "plot!(-w₂, label=L\"W_2\")\n",
    "plot!([0, total_cycle_time], [-net_w, -net_w], label=\"Total Work\")\n",
    "plot_strokes_overlays(g_work, -w₁-w₁, isochore_samplings, adiabatic_samplings; x_max=total_cycle_time)"
   ]
  },
  {
   "cell_type": "markdown",
   "id": "8f0485c7-cba2-4e15-b08b-b07ff56ee47b",
   "metadata": {},
   "source": [
    "We can as well compute the work ``classically'' knowing the movement of the cavity wall and the force acting on it\n",
    "$$\n",
    "W = F \\Delta l = p S \\Delta l\n",
    "$$"
   ]
  },
  {
   "cell_type": "code",
   "execution_count": null,
   "id": "1f9fd28f-b0a5-49b8-94a0-26236a541a12",
   "metadata": {},
   "outputs": [],
   "source": [
    "identity_matrix = spdiagm(ones(NDIMS))\n",
    "# Pressure Operator\n",
    "function pressure_operator(ω, t, adiabatic_samplings, a, ad)\n",
    "    t = t*adiabatic_samplings\n",
    "    2 * a * ad  - a * a * exp(-2*im*ω*t) - ad * ad * exp(2*im*ω*t)\n",
    "end\n",
    "π₁_evolution = [pressure_operator(ω₁_evolution[i], i, adiabatic_samplings, a, ad)\n",
    "    for i in 1:total_cycle_time]\n",
    "π₂_evolution = [pressure_operator(ω₂_evolution[i], i, adiabatic_samplings, a, ad)\n",
    "    for i in 1:total_cycle_time]\n",
    "s1 = cavity1.surface\n",
    "s2 = cavity2.surface\n",
    "p1 = [Measurements.pressure(ρ, π₁, identity_matrix, α0, l, s1)\n",
    "    for (ρ, π₁, l) in zip(state.ρ₁_evolution, π₁_evolution, state.c₁_evolution)]\n",
    "p2 = [Measurements.pressure(ρ, π₂, identity_matrix, α0, l, s2)\n",
    "    for (ρ, π₂, l) in zip(state.ρ₂_evolution, π₂_evolution, state.c₂_evolution)]\n",
    "\n",
    "# Optomechanical Work\n",
    "w₁ = [p*s1*(state.c₁_evolution[i+1]-state.c₁_evolution[i]) for (p, i) in zip(p1, 1:total_cycle_time)]\n",
    "w₂ = [p*s2*(state.c₂_evolution[i+1]-state.c₂_evolution[i]) for (p, i) in zip(p2, 1:total_cycle_time)]\n",
    "net_w = sum(w₁+w₁)\n",
    "println(\"Net work: $net_w\")\n",
    "\n",
    "g_press = plot(w₁+w₁, label=L\"W_{AB}\")\n",
    "plot!(w₁, label=L\"W_{A}\")\n",
    "plot!(w₂, label=L\"W_{B}\")\n",
    "plot!([0, total_cycle_time], [sum(w₁), sum(w₁)], label=\"Total Work\")\n",
    "plot_strokes_overlays(g_press, w₁+w₁, isochore_samplings, adiabatic_samplings; x_max=total_cycle_time)"
   ]
  },
  {
   "cell_type": "markdown",
   "id": "f478b672-97dc-4f20-ba3b-645e06d6fc30",
   "metadata": {},
   "source": [
    "### Efficiency\n",
    "We can now compute efficiency as\n",
    "$$\n",
    "\\eta = \\frac{|W_\\text{net}|}{Q_\\text{in}}\n",
    "$$\n",
    "\n",
    "As a reference we can use Carnot Efficiency\n",
    "$$\n",
    "\\eta_C = 1 - \\frac{T_c}{T_h}\n",
    "$$\n",
    "or better the Curzon-Ahlborn Efficiency\n",
    "$$\n",
    "\\eta_{CA} = 1 - \\left(\\frac{T_c}{T_h}\\right)^{1/2}\n",
    "$$"
   ]
  },
  {
   "cell_type": "code",
   "execution_count": null,
   "id": "6d45b739-ef3d-4b02-9557-a9421880527b",
   "metadata": {},
   "outputs": [],
   "source": [
    "# At what temperatures the machine operates?\n",
    "temperatures_1 = [Measurements.temperature(ρ, ω) for (ρ, ω) in zip(state.ρ₁_evolution, ω₁_evolution)]\n",
    "temperatures_2 = [Measurements.temperature(ρ, ω) for (ρ, ω) in zip(state.ρ₂_evolution, ω₂_evolution)]\n",
    "\n",
    "T₁_hot = maximum(temperatures_1)\n",
    "T₁_cold = minimum(temperatures_1)\n",
    "println(\"Cavity A operates between the temperatures:\\n $T₁_hot - $T₁_cold\")\n",
    "T₂_hot = maximum(temperatures_2)\n",
    "T₂_cold = minimum(temperatures_2)\n",
    "println(\"Cavity B operates between the temperatures:\\n $T₂_hot - $T₂_cold\")\n",
    "\n",
    "T_cold_pred = - ω₁_evolution[end-adiabatic_samplings+2] / log(ga_c/gb_c)\n",
    "T_hot_pred = - ω₁_evolution[1] / log(ga_h/gb_h)\n",
    "# T_cold_pred = - ω₁_evolution[end] / log(ga_c/(1-ga_c/2))"
   ]
  },
  {
   "cell_type": "code",
   "execution_count": null,
   "id": "a078ae0b-8bab-4a31-97a5-80f2e6345113",
   "metadata": {},
   "outputs": [],
   "source": [
    "η₁C = round(1 - T₁_cold / T₁_hot, digits=3)\n",
    "η₁CA = round(1 - sqrt(T₁_cold / T₁_hot), digits=3)\n",
    "η₂C = round(1 - T₂_cold / T₂_hot, digits=3)\n",
    "η₂CA = round(1 - sqrt(T₂_cold / T₂_hot), digits=3)\n",
    "# Classic Efficiency (with classical temperatures)\n",
    "T₁_hot_cl = classic_temp(T₁_cold, α_h, ϕ_h)\n",
    "T₁_cold_cl = classic_temp(T₁_cold, α_c, ϕ_c)\n",
    "T₂_hot_cl = classic_temp(T₂_hot, α_h, ϕ_h)\n",
    "T₂_cold_cl = classic_temp(T₂_cold, α_c, ϕ_c)\n",
    "η₁Cl = round(1 - T₁_cold_cl / T₁_hot_cl, digits=3)\n",
    "η₂Cl = round(1 - T₂_cold_cl / T₂_hot_cl, digits=3)\n",
    "\n",
    "net_w = abs(net_w)\n",
    "q₁_in = sum(q₁[1:isochore_samplings])\n",
    "net_w₁ = sum(w₁)\n",
    "q₂_in = sum(q₂[1:isochore_samplings])\n",
    "net_w₂ = sum(w₂)\n",
    "\n",
    "η₁ = round(net_w₁ / q₁_in, digits=6)\n",
    "η₂ = round(net_w₂ / q₂_in, digits=6)\n",
    "\n",
    "println(\"\"\"\n",
    "    Cavity \\t| ηC \\t| ηCA \\t| η \\t| ηCl\n",
    "    A      \\t| $η₁C\\t| $η₁CA\\t| $η₁\\t| $η₁Cl\n",
    "    B      \\t| $η₂C\\t| $η₂CA\\t| $η₂\\t| $η₂Cl\n",
    "\"\"\")\n"
   ]
  },
  {
   "cell_type": "markdown",
   "id": "874b5202-91c4-45d2-b8c9-125bce57a47e",
   "metadata": {},
   "source": [
    "### Save"
   ]
  },
  {
   "cell_type": "code",
   "execution_count": null,
   "id": "04ff6ff6-2e28-44ff-916a-6421c10eac76",
   "metadata": {},
   "outputs": [],
   "source": [
    "ANALYSED = true\n",
    "ANALYSED ? exp_state = \"_analyzed\" : exp_state = \"\"\n",
    "serialize(dir * \"/state_$(total_cycles)C$(exp_state).jl\", state)"
   ]
  },
  {
   "cell_type": "code",
   "execution_count": null,
   "id": "a6407bb5-2617-45be-94fe-35262122b7ab",
   "metadata": {},
   "outputs": [],
   "source": []
  }
 ],
 "metadata": {
  "kernelspec": {
   "display_name": "Julia 1.11.2",
   "language": "julia",
   "name": "julia-1.11"
  },
  "language_info": {
   "file_extension": ".jl",
   "mimetype": "application/julia",
   "name": "julia",
   "version": "1.11.2"
  }
 },
 "nbformat": 4,
 "nbformat_minor": 5
}
