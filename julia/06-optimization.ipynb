{
 "cells": [
  {
   "cell_type": "code",
   "execution_count": 4,
   "id": "72dbe84c-73d0-41f9-b256-2b220968bed7",
   "metadata": {},
   "outputs": [
    {
     "name": "stderr",
     "output_type": "stream",
     "text": [
      "WARNING: replacing module OpticalCavity.\n",
      "WARNING: replacing module Thermodynamics.\n",
      "WARNING: replacing module Phaseonium.\n",
      "WARNING: replacing module BosonicOperators.\n",
      "WARNING: replacing module Measurements.\n",
      "WARNING: using OpticalCavity.Cavity in module Main conflicts with an existing identifier.\n"
     ]
    },
    {
     "data": {
      "text/plain": [
       "\":)\""
      ]
     },
     "execution_count": 4,
     "metadata": {},
     "output_type": "execute_result"
    }
   ],
   "source": [
    "include(\"./modules/OpticalCavity.jl\")\n",
    "include(\"./modules/Thermodynamics.jl\")\n",
    "include(\"./modules/Phaseonium.jl\")\n",
    "include(\"./modules/BosonicOperators.jl\")\n",
    "include(\"./modules/Measurements.jl\")\n",
    "\n",
    "using LinearAlgebra\n",
    "using SparseArrays\n",
    "using Expokit\n",
    "using ProgressBars\n",
    "using Plots\n",
    "using LaTeXStrings\n",
    "using BenchmarkTools\n",
    "\n",
    "\n",
    "using .OpticalCavity\n",
    "using .Thermodynamics\n",
    "using .Phaseonium\n",
    "using .BosonicOperators\n",
    "using .Measurements\n",
    "\n",
    "include(\"./src/RoutineFunctions.jl\")"
   ]
  },
  {
   "cell_type": "markdown",
   "id": "b1ccd466-785c-4d04-b0ff-8129028b3958",
   "metadata": {},
   "source": [
    "## Function to benchmark"
   ]
  },
  {
   "cell_type": "code",
   "execution_count": 30,
   "id": "e47296ce-51c2-4bde-84a6-2b06701fd15f",
   "metadata": {},
   "outputs": [
    {
     "data": {
      "text/plain": [
       "adiabaticevolve_2 (generic function with 1 method)"
      ]
     },
     "execution_count": 30,
     "metadata": {},
     "output_type": "execute_result"
    }
   ],
   "source": [
    "function bosonic_operators(α, ϕ)\n",
    "    \n",
    "    C = BosonicOperators.C(Ω*Δt, NDIMS)\n",
    "    Cp = BosonicOperators.Cp(Ω*Δt, NDIMS)\n",
    "    S = BosonicOperators.S(Ω*Δt, NDIMS)\n",
    "    Sd = BosonicOperators.Sd(Ω*Δt, NDIMS)\n",
    "    \n",
    "    return [C, Cp, S, Sd]\n",
    "end\n",
    "\n",
    "\n",
    "function adiabaticevolve_dot(ρ, cavities, Δt, t, allocated_op, π_parts, stop1, stop2)\n",
    "    U, idd = allocated_op\n",
    "    n₁, n₂, π_a, π_ad = π_parts\n",
    "    \n",
    "    Δt² = Δt^2  \n",
    "\n",
    "    c1, c2 = cavities\n",
    "    α0 = c1.α\n",
    "\n",
    "    a1 = c1.acceleration\n",
    "    a2 = c2.acceleration\n",
    "    \n",
    "    # Move the cavity walls\n",
    "    if !stop1\n",
    "        c1.length += 0.5 * c1.acceleration * Δt²\n",
    "        # Constrain the cavity movement blocking the walls\n",
    "        c1.length = clamp(c1.length, c1.l_min, c1.l_max)\n",
    "    end\n",
    "    if !stop2\n",
    "        c2.length += 0.5 * c2.acceleration * Δt²\n",
    "        # Constrain the cavity movement blocking the walls\n",
    "        c2.length = clamp(c2.length, c2.l_min, c2.l_max)\n",
    "    end\n",
    "    \n",
    "    \n",
    "    # Update energies\n",
    "    ω₁ = α0 / c1.length\n",
    "    ω₂ = α0 / c2.length\n",
    "    h1 = 0.5 * ω₁ .* n₁\n",
    "    h2 = 0.5 * ω₂ .* n₂\n",
    "    h = kron(h1, h2)\n",
    "    \n",
    "    # Evolve the System\n",
    "    U .= padm(-im .* h)\n",
    "    ρ = U * ρ * U'\n",
    "    \n",
    "    # Update pressure and acceleration\n",
    "    n₁ = (2 * n₁ + idd) - (π_a .* exp(-2*im*ω₁*t)) - (π_ad .* exp(2*im*ω₁*t))\n",
    "    n₂ = (2 * n₂ + idd) - (π_a .* exp(-2*im*ω₂*t)) - (π_ad .* exp(2*im*ω₂*t))\n",
    "    p1 = Measurements.pressure(ρ, n₁, idd, α0, c1.length, c1.surface; s=1)\n",
    "    p2 = Measurements.pressure(ρ, n₂, idd, α0, c2.length, c2.surface; s=2)\n",
    "    \n",
    "    a1 = (p1 * c1.surface - c1.external_force) / c1.mass\n",
    "    a2 = (p2 * c2.surface - c2.external_force) / c2.mass\n",
    "    \n",
    "    \n",
    "    if norm(a1) <= 0.05 || norm(a2) <= 0.05\n",
    "        error(\"One cavity is almost still\")\n",
    "    end\n",
    "    if c1.acceleration * a1 < 0 || c2.acceleration * a2 < 0 \n",
    "        error(\"One cavity changed direction!\")\n",
    "    end\n",
    "    c1.acceleration = a1\n",
    "    c2.acceleration = a2\n",
    "\n",
    "    if c1.acceleration == 0 || c2.acceleration == 0\n",
    "        error(\"One cavity stopped\")\n",
    "    end\n",
    "\n",
    "    return ρ, c1, c2\n",
    "end\n",
    "\n",
    "function adiabaticevolve_2(ρ, cavities, Δt, t, allocated_op, π_parts, stop1, stop2)\n",
    "    U, idd = allocated_op\n",
    "    n, π_a, π_ad = π_parts\n",
    "    \n",
    "    Δt² = Δt^2  \n",
    "\n",
    "    c1, c2 = cavities\n",
    "    α0 = c1.α\n",
    "\n",
    "    a1 = c1.acceleration\n",
    "    a2 = c2.acceleration\n",
    "    \n",
    "    # Move the cavity walls\n",
    "    if !stop1\n",
    "        c1.length += 0.5 * c1.acceleration * Δt²\n",
    "        # Constrain the cavity movement blocking the walls\n",
    "        c1.length = clamp(c1.length, c1.l_min, c1.l_max)\n",
    "    end\n",
    "    if !stop2\n",
    "        c2.length += 0.5 * c2.acceleration * Δt²\n",
    "        # Constrain the cavity movement blocking the walls\n",
    "        c2.length = clamp(c2.length, c2.l_min, c2.l_max)\n",
    "    end\n",
    "    \n",
    "    \n",
    "    # Update energies\n",
    "    ω₁ = α0 / c1.length\n",
    "    ω₂ = α0 / c2.length\n",
    "    h1 = 0.5 * ω₁ .* n\n",
    "    h2 = 0.5 * ω₂ .* n\n",
    "    h = kron(h1, h2)\n",
    "    \n",
    "    # Evolve the System\n",
    "    U .= padm(-im .* h)\n",
    "    ρ = U * ρ * U'\n",
    "    \n",
    "    # Update pressure and acceleration\n",
    "    π₁ = (2 * n + idd)  - (π_a * exp(-2*im*ω₁*t)) - (π_ad * exp(2*im*ω₁*t))\n",
    "    π₂ = (2 * n + idd)  - (π_a * exp(-2*im*ω₂*t)) - (π_ad * exp(2*im*ω₂*t))\n",
    "    p1 = Measurements.pressure(ρ, π₁, idd, α0, c1.length, c1.surface; s=1)\n",
    "    p2 = Measurements.pressure(ρ, π₂, idd, α0, c2.length, c2.surface; s=2)\n",
    "    \n",
    "    a1 = (p1 * c1.surface - c1.external_force) / c1.mass\n",
    "    a2 = (p2 * c2.surface - c2.external_force) / c2.mass\n",
    "    \n",
    "    \n",
    "    if norm(a1) <= 0.05 || norm(a2) <= 0.05\n",
    "        error(\"One cavity is almost still\")\n",
    "    end\n",
    "    if c1.acceleration * a1 < 0 || c2.acceleration * a2 < 0 \n",
    "        error(\"One cavity changed direction!\")\n",
    "    end\n",
    "    c1.acceleration = a1\n",
    "    c2.acceleration = a2\n",
    "\n",
    "    if c1.acceleration == 0 || c2.acceleration == 0\n",
    "        error(\"One cavity stopped\")\n",
    "    end\n",
    "\n",
    "    return ρ, c1, c2\n",
    "end"
   ]
  },
  {
   "cell_type": "code",
   "execution_count": 6,
   "id": "6b152ed3-4cbe-4e30-9f59-fd4eb0afb40c",
   "metadata": {},
   "outputs": [
    {
     "name": "stdout",
     "output_type": "stream",
     "text": [
      "Initial Temperature of the Cavity:\n",
      "    1.0\n",
      "Apparent Temperature carried by Hot Phaseonium atoms: \n",
      "    1.2\n",
      "Apparent Temperature carried by Cold Phaseonium atoms: \n",
      "    0.7\n"
     ]
    }
   ],
   "source": [
    "const NDIMS = 15\n",
    "const Ω = 1.0\n",
    "const Δt = 1e-2\n",
    "\n",
    "const T_initial = 1.0\n",
    "const T_heating = 1.2\n",
    "const T_cooling = 0.7\n",
    "\n",
    "# Create a Cavity\n",
    "const α0 = π\n",
    "const min_l = 1.0\n",
    "const max_l = 1.1\n",
    "const expanding_force = 0.5\n",
    "cavity1 = Cavity(1.0, 1.0, min_l, max_l, α0, expanding_force)\n",
    "cavity2 = Cavity(1.0, 1.0, min_l, max_l, α0, expanding_force)\n",
    "ω = α0 / min_l\n",
    "\n",
    "ρt = thermalstate(NDIMS, ω, T_initial)\n",
    "println(\n",
    "    \"Initial Temperature of the Cavity:\n",
    "    $(Measurements.temperature(ρt, ω))\")\n",
    "# Joint system\n",
    "ρ_tot = kron(ρt, ρt)\n",
    "\n",
    "# Jump Operators\n",
    "a = BosonicOperators.destroy(NDIMS)\n",
    "ad = BosonicOperators.create(NDIMS)\n",
    "\n",
    "# Create Phaseonium atoms\n",
    "# For thermal (diagonal) phaseoniums, the Master Equation is the same as having ϕ=π/2\n",
    "# Heating\n",
    "ϕ_h = π/3\n",
    "α_h = Phaseonium.alpha_from_temperature(T_heating, ϕ_h, ω) \n",
    "\n",
    "const ga_h, gb_h = Phaseonium.dissipationrates(α_h, ϕ_h)\n",
    "println(\n",
    "    \"Apparent Temperature carried by Hot Phaseonium atoms: \n",
    "    $(Phaseonium.finaltemperature(ω, ga_h, gb_h))\")\n",
    "\n",
    "bosonic_h = bosonic_operators(α_h, ϕ_h)\n",
    "\n",
    "# Cooling\n",
    "ϕ_c = π/4\n",
    "α_c = Phaseonium.alpha_from_temperature(T_cooling, ϕ_c, ω) \n",
    "\n",
    "const ga_c, gb_c = Phaseonium.dissipationrates(α_c, ϕ_c)\n",
    "println(\n",
    "    \"Apparent Temperature carried by Cold Phaseonium atoms: \n",
    "    $(Phaseonium.finaltemperature(ω, ga_c, gb_c))\")\n",
    "\n",
    "bosonic_c = bosonic_operators(α_c, ϕ_c)\n",
    ";"
   ]
  },
  {
   "cell_type": "code",
   "execution_count": 7,
   "id": "83302ad9-ac9f-4a52-8ae4-3281ec731ca4",
   "metadata": {},
   "outputs": [
    {
     "name": "stdout",
     "output_type": "stream",
     "text": [
      "7.05738796825963e-5\n",
      "4.980672493453579e-9\n",
      "1.142357410494068\n"
     ]
    },
    {
     "data": {
      "image/png": "[encoded data removed]",
      "image/svg+xml": [
       "<?xml version=\"1.0\" encoding=\"utf-8\"?>\n",
       "<svg xmlns=\"http://www.w3.org/2000/svg\" xmlns:xlink=\"http://www.w3.org/1999/xlink\" width=\"600\" height=\"400\" viewBox=\"0 0 2400 1600\">\n",
       "<defs>\n",
       "  <clipPath id=\"clip610\">\n",
       "    <rect x=\"0\" y=\"0\" width=\"2400\" height=\"1600\"/>\n",
       "  </clipPath>\n",
       "</defs>\n",
       "<path clip-path=\"url(#clip610)\" d=\"M0 1600 L2400 1600 L2400 0 L0 0  Z\" fill=\"#ffffff\" fill-rule=\"evenodd\" fill-opacity=\"1\"/>\n",
       "<defs>\n",
       "  <clipPath id=\"clip611\">\n",
       "    <rect x=\"480\" y=\"0\" width=\"1681\" height=\"1600\"/>\n",
       "  </clipPath>\n",
       "</defs>\n",
       "<path clip-path=\"url(#clip610)\" d=\"M186.274 1486.45 L2352.76 1486.45 L2352.76 47.2441 L186.274 47.2441  Z\" fill=\"#ffffff\" fill-rule=\"evenodd\" fill-opacity=\"1\"/>\n",
       "<defs>\n",
       "  <clipPath id=\"clip612\">\n",
       "    <rect x=\"186\" y=\"47\" width=\"2167\" height=\"1440\"/>\n",
       "  </clipPath>\n",
       "</defs>\n",
       "<polyline clip-path=\"url(#clip612)\" style=\"stroke:#000000; stroke-linecap:round; stroke-linejoin:round; stroke-width:2; stroke-opacity:0.1; fill:none\" points=\"238.465,1486.45 238.465,47.2441 \"/>\n",
       "<polyline clip-path=\"url(#clip612)\" style=\"stroke:#000000; stroke-linecap:round; stroke-linejoin:round; stroke-width:2; stroke-opacity:0.1; fill:none\" points=\"694.682,1486.45 694.682,47.2441 \"/>\n",
       "<polyline clip-path=\"url(#clip612)\" style=\"stroke:#000000; stroke-linecap:round; stroke-linejoin:round; stroke-width:2; stroke-opacity:0.1; fill:none\" points=\"1150.9,1486.45 1150.9,47.2441 \"/>\n",
       "<polyline clip-path=\"url(#clip612)\" style=\"stroke:#000000; stroke-linecap:round; stroke-linejoin:round; stroke-width:2; stroke-opacity:0.1; fill:none\" points=\"1607.12,1486.45 1607.12,47.2441 \"/>\n",
       "<polyline clip-path=\"url(#clip612)\" style=\"stroke:#000000; stroke-linecap:round; stroke-linejoin:round; stroke-width:2; stroke-opacity:0.1; fill:none\" points=\"2063.33,1486.45 2063.33,47.2441 \"/>\n",
       "<polyline clip-path=\"url(#clip612)\" style=\"stroke:#000000; stroke-linecap:round; stroke-linejoin:round; stroke-width:2; stroke-opacity:0.1; fill:none\" points=\"186.274,1445.72 2352.76,1445.72 \"/>\n",
       "<polyline clip-path=\"url(#clip612)\" style=\"stroke:#000000; stroke-linecap:round; stroke-linejoin:round; stroke-width:2; stroke-opacity:0.1; fill:none\" points=\"186.274,1133.83 2352.76,1133.83 \"/>\n",
       "<polyline clip-path=\"url(#clip612)\" style=\"stroke:#000000; stroke-linecap:round; stroke-linejoin:round; stroke-width:2; stroke-opacity:0.1; fill:none\" points=\"186.274,821.951 2352.76,821.951 \"/>\n",
       "<polyline clip-path=\"url(#clip612)\" style=\"stroke:#000000; stroke-linecap:round; stroke-linejoin:round; stroke-width:2; stroke-opacity:0.1; fill:none\" points=\"186.274,510.069 2352.76,510.069 \"/>\n",
       "<polyline clip-path=\"url(#clip612)\" style=\"stroke:#000000; stroke-linecap:round; stroke-linejoin:round; stroke-width:2; stroke-opacity:0.1; fill:none\" points=\"186.274,198.186 2352.76,198.186 \"/>\n",
       "<polyline clip-path=\"url(#clip610)\" style=\"stroke:#000000; stroke-linecap:round; stroke-linejoin:round; stroke-width:4; stroke-opacity:1; fill:none\" points=\"186.274,1486.45 2352.76,1486.45 \"/>\n",
       "<polyline clip-path=\"url(#clip610)\" style=\"stroke:#000000; stroke-linecap:round; stroke-linejoin:round; stroke-width:4; stroke-opacity:1; fill:none\" points=\"238.465,1486.45 238.465,1467.55 \"/>\n",
       "<polyline clip-path=\"url(#clip610)\" style=\"stroke:#000000; stroke-linecap:round; stroke-linejoin:round; stroke-width:4; stroke-opacity:1; fill:none\" points=\"694.682,1486.45 694.682,1467.55 \"/>\n",
       "<polyline clip-path=\"url(#clip610)\" style=\"stroke:#000000; stroke-linecap:round; stroke-linejoin:round; stroke-width:4; stroke-opacity:1; fill:none\" points=\"1150.9,1486.45 1150.9,1467.55 \"/>\n",
       "<polyline clip-path=\"url(#clip610)\" style=\"stroke:#000000; stroke-linecap:round; stroke-linejoin:round; stroke-width:4; stroke-opacity:1; fill:none\" points=\"1607.12,1486.45 1607.12,1467.55 \"/>\n",
       "<polyline clip-path=\"url(#clip610)\" style=\"stroke:#000000; stroke-linecap:round; stroke-linejoin:round; stroke-width:4; stroke-opacity:1; fill:none\" points=\"2063.33,1486.45 2063.33,1467.55 \"/>\n",
       "<path clip-path=\"url(#clip610)\" d=\"M238.465 1517.37 Q234.854 1517.37 233.025 1520.93 Q231.22 1524.47 231.22 1531.6 Q231.22 1538.71 233.025 1542.27 Q234.854 1545.82 238.465 1545.82 Q242.099 1545.82 243.905 1542.27 Q245.734 1538.71 245.734 1531.6 Q245.734 1524.47 243.905 1520.93 Q242.099 1517.37 238.465 1517.37 M238.465 1513.66 Q244.275 1513.66 247.331 1518.27 Q250.41 1522.85 250.41 1531.6 Q250.41 1540.33 247.331 1544.94 Q244.275 1549.52 238.465 1549.52 Q232.655 1549.52 229.576 1544.94 Q226.521 1540.33 226.521 1531.6 Q226.521 1522.85 229.576 1518.27 Q232.655 1513.66 238.465 1513.66 Z\" fill=\"#000000\" fill-rule=\"nonzero\" fill-opacity=\"1\" /><path clip-path=\"url(#clip610)\" d=\"M669.381 1514.29 L687.737 1514.29 L687.737 1518.22 L673.663 1518.22 L673.663 1526.7 Q674.682 1526.35 675.701 1526.19 Q676.719 1526 677.738 1526 Q683.525 1526 686.904 1529.17 Q690.284 1532.34 690.284 1537.76 Q690.284 1543.34 686.812 1546.44 Q683.339 1549.52 677.02 1549.52 Q674.844 1549.52 672.576 1549.15 Q670.33 1548.78 667.923 1548.04 L667.923 1543.34 Q670.006 1544.47 672.228 1545.03 Q674.451 1545.58 676.927 1545.58 Q680.932 1545.58 683.27 1543.48 Q685.608 1541.37 685.608 1537.76 Q685.608 1534.15 683.27 1532.04 Q680.932 1529.94 676.927 1529.94 Q675.052 1529.94 673.177 1530.35 Q671.326 1530.77 669.381 1531.65 L669.381 1514.29 Z\" fill=\"#000000\" fill-rule=\"nonzero\" fill-opacity=\"1\" /><path clip-path=\"url(#clip610)\" d=\"M709.497 1517.37 Q705.886 1517.37 704.057 1520.93 Q702.251 1524.47 702.251 1531.6 Q702.251 1538.71 704.057 1542.27 Q705.886 1545.82 709.497 1545.82 Q713.131 1545.82 714.936 1542.27 Q716.765 1538.71 716.765 1531.6 Q716.765 1524.47 714.936 1520.93 Q713.131 1517.37 709.497 1517.37 M709.497 1513.66 Q715.307 1513.66 718.362 1518.27 Q721.441 1522.85 721.441 1531.6 Q721.441 1540.33 718.362 1544.94 Q715.307 1549.52 709.497 1549.52 Q703.686 1549.52 700.608 1544.94 Q697.552 1540.33 697.552 1531.6 Q697.552 1522.85 700.608 1518.27 Q703.686 1513.66 709.497 1513.66 Z\" fill=\"#000000\" fill-rule=\"nonzero\" fill-opacity=\"1\" /><path clip-path=\"url(#clip610)\" d=\"M1110.51 1544.91 L1118.14 1544.91 L1118.14 1518.55 L1109.83 1520.21 L1109.83 1515.95 L1118.1 1514.29 L1122.77 1514.29 L1122.77 1544.91 L1130.41 1544.91 L1130.41 1548.85 L1110.51 1548.85 L1110.51 1544.91 Z\" fill=\"#000000\" fill-rule=\"nonzero\" fill-opacity=\"1\" /><path clip-path=\"url(#clip610)\" d=\"M1149.86 1517.37 Q1146.25 1517.37 1144.42 1520.93 Q1142.61 1524.47 1142.61 1531.6 Q1142.61 1538.71 1144.42 1542.27 Q1146.25 1545.82 1149.86 1545.82 Q1153.49 1545.82 1155.3 1542.27 Q1157.13 1538.71 1157.13 1531.6 Q1157.13 1524.47 1155.3 1520.93 Q1153.49 1517.37 1149.86 1517.37 M1149.86 1513.66 Q1155.67 1513.66 1158.72 1518.27 Q1161.8 1522.85 1161.8 1531.6 Q1161.8 1540.33 1158.72 1544.94 Q1155.67 1549.52 1149.86 1549.52 Q1144.05 1549.52 1140.97 1544.94 Q1137.91 1540.33 1137.91 1531.6 Q1137.91 1522.85 1140.97 1518.27 Q1144.05 1513.66 1149.86 1513.66 Z\" fill=\"#000000\" fill-rule=\"nonzero\" fill-opacity=\"1\" /><path clip-path=\"url(#clip610)\" d=\"M1180.02 1517.37 Q1176.41 1517.37 1174.58 1520.93 Q1172.77 1524.47 1172.77 1531.6 Q1172.77 1538.71 1174.58 1542.27 Q1176.41 1545.82 1180.02 1545.82 Q1183.65 1545.82 1185.46 1542.27 Q1187.29 1538.71 1187.29 1531.6 Q1187.29 1524.47 1185.46 1520.93 Q1183.65 1517.37 1180.02 1517.37 M1180.02 1513.66 Q1185.83 1513.66 1188.88 1518.27 Q1191.96 1522.85 1191.96 1531.6 Q1191.96 1540.33 1188.88 1544.94 Q1185.83 1549.52 1180.02 1549.52 Q1174.21 1549.52 1171.13 1544.94 Q1168.07 1540.33 1168.07 1531.6 Q1168.07 1522.85 1171.13 1518.27 Q1174.21 1513.66 1180.02 1513.66 Z\" fill=\"#000000\" fill-rule=\"nonzero\" fill-opacity=\"1\" /><path clip-path=\"url(#clip610)\" d=\"M1566.72 1544.91 L1574.36 1544.91 L1574.36 1518.55 L1566.05 1520.21 L1566.05 1515.95 L1574.31 1514.29 L1578.99 1514.29 L1578.99 1544.91 L1586.63 1544.91 L1586.63 1548.85 L1566.72 1548.85 L1566.72 1544.91 Z\" fill=\"#000000\" fill-rule=\"nonzero\" fill-opacity=\"1\" /><path clip-path=\"url(#clip610)\" d=\"M1596.12 1514.29 L1614.48 1514.29 L1614.48 1518.22 L1600.4 1518.22 L1600.4 1526.7 Q1601.42 1526.35 1602.44 1526.19 Q1603.46 1526 1604.48 1526 Q1610.26 1526 1613.64 1529.17 Q1617.02 1532.34 1617.02 1537.76 Q1617.02 1543.34 1613.55 1546.44 Q1610.08 1549.52 1603.76 1549.52 Q1601.58 1549.52 1599.31 1549.15 Q1597.07 1548.78 1594.66 1548.04 L1594.66 1543.34 Q1596.75 1544.47 1598.97 1545.03 Q1601.19 1545.58 1603.67 1545.58 Q1607.67 1545.58 1610.01 1543.48 Q1612.35 1541.37 1612.35 1537.76 Q1612.35 1534.15 1610.01 1532.04 Q1607.67 1529.94 1603.67 1529.94 Q1601.79 1529.94 1599.92 1530.35 Q1598.06 1530.77 1596.12 1531.65 L1596.12 1514.29 Z\" fill=\"#000000\" fill-rule=\"nonzero\" fill-opacity=\"1\" /><path clip-path=\"url(#clip610)\" d=\"M1636.24 1517.37 Q1632.62 1517.37 1630.8 1520.93 Q1628.99 1524.47 1628.99 1531.6 Q1628.99 1538.71 1630.8 1542.27 Q1632.62 1545.82 1636.24 1545.82 Q1639.87 1545.82 1641.68 1542.27 Q1643.5 1538.71 1643.5 1531.6 Q1643.5 1524.47 1641.68 1520.93 Q1639.87 1517.37 1636.24 1517.37 M1636.24 1513.66 Q1642.05 1513.66 1645.1 1518.27 Q1648.18 1522.85 1648.18 1531.6 Q1648.18 1540.33 1645.1 1544.94 Q1642.05 1549.52 1636.24 1549.52 Q1630.43 1549.52 1627.35 1544.94 Q1624.29 1540.33 1624.29 1531.6 Q1624.29 1522.85 1627.35 1518.27 Q1630.43 1513.66 1636.24 1513.66 Z\" fill=\"#000000\" fill-rule=\"nonzero\" fill-opacity=\"1\" /><path clip-path=\"url(#clip610)\" d=\"M2027.02 1544.91 L2043.34 1544.91 L2043.34 1548.85 L2021.4 1548.85 L2021.4 1544.91 Q2024.06 1542.16 2028.64 1537.53 Q2033.25 1532.88 2034.43 1531.53 Q2036.68 1529.01 2037.56 1527.27 Q2038.46 1525.51 2038.46 1523.82 Q2038.46 1521.07 2036.52 1519.33 Q2034.59 1517.6 2031.49 1517.6 Q2029.29 1517.6 2026.84 1518.36 Q2024.41 1519.13 2021.63 1520.68 L2021.63 1515.95 Q2024.45 1514.82 2026.91 1514.24 Q2029.36 1513.66 2031.4 1513.66 Q2036.77 1513.66 2039.96 1516.35 Q2043.16 1519.03 2043.16 1523.52 Q2043.16 1525.65 2042.35 1527.57 Q2041.56 1529.47 2039.45 1532.07 Q2038.88 1532.74 2035.77 1535.95 Q2032.67 1539.15 2027.02 1544.91 Z\" fill=\"#000000\" fill-rule=\"nonzero\" fill-opacity=\"1\" /><path clip-path=\"url(#clip610)\" d=\"M2063.16 1517.37 Q2059.55 1517.37 2057.72 1520.93 Q2055.91 1524.47 2055.91 1531.6 Q2055.91 1538.71 2057.72 1542.27 Q2059.55 1545.82 2063.16 1545.82 Q2066.79 1545.82 2068.6 1542.27 Q2070.43 1538.71 2070.43 1531.6 Q2070.43 1524.47 2068.6 1520.93 Q2066.79 1517.37 2063.16 1517.37 M2063.16 1513.66 Q2068.97 1513.66 2072.02 1518.27 Q2075.1 1522.85 2075.1 1531.6 Q2075.1 1540.33 2072.02 1544.94 Q2068.97 1549.52 2063.16 1549.52 Q2057.35 1549.52 2054.27 1544.94 Q2051.21 1540.33 2051.21 1531.6 Q2051.21 1522.85 2054.27 1518.27 Q2057.35 1513.66 2063.16 1513.66 Z\" fill=\"#000000\" fill-rule=\"nonzero\" fill-opacity=\"1\" /><path clip-path=\"url(#clip610)\" d=\"M2093.32 1517.37 Q2089.71 1517.37 2087.88 1520.93 Q2086.07 1524.47 2086.07 1531.6 Q2086.07 1538.71 2087.88 1542.27 Q2089.71 1545.82 2093.32 1545.82 Q2096.95 1545.82 2098.76 1542.27 Q2100.59 1538.71 2100.59 1531.6 Q2100.59 1524.47 2098.76 1520.93 Q2096.95 1517.37 2093.32 1517.37 M2093.32 1513.66 Q2099.13 1513.66 2102.19 1518.27 Q2105.26 1522.85 2105.26 1531.6 Q2105.26 1540.33 2102.19 1544.94 Q2099.13 1549.52 2093.32 1549.52 Q2087.51 1549.52 2084.43 1544.94 Q2081.38 1540.33 2081.38 1531.6 Q2081.38 1522.85 2084.43 1518.27 Q2087.51 1513.66 2093.32 1513.66 Z\" fill=\"#000000\" fill-rule=\"nonzero\" fill-opacity=\"1\" /><polyline clip-path=\"url(#clip610)\" style=\"stroke:#000000; stroke-linecap:round; stroke-linejoin:round; stroke-width:4; stroke-opacity:1; fill:none\" points=\"186.274,1486.45 186.274,47.2441 \"/>\n",
       "<polyline clip-path=\"url(#clip610)\" style=\"stroke:#000000; stroke-linecap:round; stroke-linejoin:round; stroke-width:4; stroke-opacity:1; fill:none\" points=\"186.274,1445.72 205.172,1445.72 \"/>\n",
       "<polyline clip-path=\"url(#clip610)\" style=\"stroke:#000000; stroke-linecap:round; stroke-linejoin:round; stroke-width:4; stroke-opacity:1; fill:none\" points=\"186.274,1133.83 205.172,1133.83 \"/>\n",
       "<polyline clip-path=\"url(#clip610)\" style=\"stroke:#000000; stroke-linecap:round; stroke-linejoin:round; stroke-width:4; stroke-opacity:1; fill:none\" points=\"186.274,821.951 205.172,821.951 \"/>\n",
       "<polyline clip-path=\"url(#clip610)\" style=\"stroke:#000000; stroke-linecap:round; stroke-linejoin:round; stroke-width:4; stroke-opacity:1; fill:none\" points=\"186.274,510.069 205.172,510.069 \"/>\n",
       "<polyline clip-path=\"url(#clip610)\" style=\"stroke:#000000; stroke-linecap:round; stroke-linejoin:round; stroke-width:4; stroke-opacity:1; fill:none\" points=\"186.274,198.186 205.172,198.186 \"/>\n",
       "<path clip-path=\"url(#clip610)\" d=\"M62.9365 1431.51 Q59.3254 1431.51 57.4967 1435.08 Q55.6912 1438.62 55.6912 1445.75 Q55.6912 1452.86 57.4967 1456.42 Q59.3254 1459.96 62.9365 1459.96 Q66.5707 1459.96 68.3763 1456.42 Q70.205 1452.86 70.205 1445.75 Q70.205 1438.62 68.3763 1435.08 Q66.5707 1431.51 62.9365 1431.51 M62.9365 1427.81 Q68.7467 1427.81 71.8022 1432.42 Q74.8809 1437 74.8809 1445.75 Q74.8809 1454.48 71.8022 1459.08 Q68.7467 1463.67 62.9365 1463.67 Q57.1264 1463.67 54.0477 1459.08 Q50.9921 1454.48 50.9921 1445.75 Q50.9921 1437 54.0477 1432.42 Q57.1264 1427.81 62.9365 1427.81 Z\" fill=\"#000000\" fill-rule=\"nonzero\" fill-opacity=\"1\" /><path clip-path=\"url(#clip610)\" d=\"M83.0984 1457.12 L87.9827 1457.12 L87.9827 1463 L83.0984 1463 L83.0984 1457.12 Z\" fill=\"#000000\" fill-rule=\"nonzero\" fill-opacity=\"1\" /><path clip-path=\"url(#clip610)\" d=\"M108.168 1431.51 Q104.557 1431.51 102.728 1435.08 Q100.922 1438.62 100.922 1445.75 Q100.922 1452.86 102.728 1456.42 Q104.557 1459.96 108.168 1459.96 Q111.802 1459.96 113.608 1456.42 Q115.436 1452.86 115.436 1445.75 Q115.436 1438.62 113.608 1435.08 Q111.802 1431.51 108.168 1431.51 M108.168 1427.81 Q113.978 1427.81 117.033 1432.42 Q120.112 1437 120.112 1445.75 Q120.112 1454.48 117.033 1459.08 Q113.978 1463.67 108.168 1463.67 Q102.358 1463.67 99.2789 1459.08 Q96.2234 1454.48 96.2234 1445.75 Q96.2234 1437 99.2789 1432.42 Q102.358 1427.81 108.168 1427.81 Z\" fill=\"#000000\" fill-rule=\"nonzero\" fill-opacity=\"1\" /><path clip-path=\"url(#clip610)\" d=\"M138.33 1431.51 Q134.719 1431.51 132.89 1435.08 Q131.084 1438.62 131.084 1445.75 Q131.084 1452.86 132.89 1456.42 Q134.719 1459.96 138.33 1459.96 Q141.964 1459.96 143.769 1456.42 Q145.598 1452.86 145.598 1445.75 Q145.598 1438.62 143.769 1435.08 Q141.964 1431.51 138.33 1431.51 M138.33 1427.81 Q144.14 1427.81 147.195 1432.42 Q150.274 1437 150.274 1445.75 Q150.274 1454.48 147.195 1459.08 Q144.14 1463.67 138.33 1463.67 Q132.519 1463.67 129.441 1459.08 Q126.385 1454.48 126.385 1445.75 Q126.385 1437 129.441 1432.42 Q132.519 1427.81 138.33 1427.81 Z\" fill=\"#000000\" fill-rule=\"nonzero\" fill-opacity=\"1\" /><path clip-path=\"url(#clip610)\" d=\"M63.9319 1119.63 Q60.3208 1119.63 58.4921 1123.2 Q56.6865 1126.74 56.6865 1133.87 Q56.6865 1140.97 58.4921 1144.54 Q60.3208 1148.08 63.9319 1148.08 Q67.5661 1148.08 69.3717 1144.54 Q71.2004 1140.97 71.2004 1133.87 Q71.2004 1126.74 69.3717 1123.2 Q67.5661 1119.63 63.9319 1119.63 M63.9319 1115.93 Q69.742 1115.93 72.7976 1120.53 Q75.8763 1125.12 75.8763 1133.87 Q75.8763 1142.59 72.7976 1147.2 Q69.742 1151.78 63.9319 1151.78 Q58.1217 1151.78 55.043 1147.2 Q51.9875 1142.59 51.9875 1133.87 Q51.9875 1125.12 55.043 1120.53 Q58.1217 1115.93 63.9319 1115.93 Z\" fill=\"#000000\" fill-rule=\"nonzero\" fill-opacity=\"1\" /><path clip-path=\"url(#clip610)\" d=\"M84.0938 1145.23 L88.978 1145.23 L88.978 1151.11 L84.0938 1151.11 L84.0938 1145.23 Z\" fill=\"#000000\" fill-rule=\"nonzero\" fill-opacity=\"1\" /><path clip-path=\"url(#clip610)\" d=\"M109.163 1119.63 Q105.552 1119.63 103.723 1123.2 Q101.918 1126.74 101.918 1133.87 Q101.918 1140.97 103.723 1144.54 Q105.552 1148.08 109.163 1148.08 Q112.797 1148.08 114.603 1144.54 Q116.432 1140.97 116.432 1133.87 Q116.432 1126.74 114.603 1123.2 Q112.797 1119.63 109.163 1119.63 M109.163 1115.93 Q114.973 1115.93 118.029 1120.53 Q121.107 1125.12 121.107 1133.87 Q121.107 1142.59 118.029 1147.2 Q114.973 1151.78 109.163 1151.78 Q103.353 1151.78 100.274 1147.2 Q97.2187 1142.59 97.2187 1133.87 Q97.2187 1125.12 100.274 1120.53 Q103.353 1115.93 109.163 1115.93 Z\" fill=\"#000000\" fill-rule=\"nonzero\" fill-opacity=\"1\" /><path clip-path=\"url(#clip610)\" d=\"M129.371 1116.55 L147.728 1116.55 L147.728 1120.49 L133.654 1120.49 L133.654 1128.96 Q134.672 1128.61 135.691 1128.45 Q136.709 1128.27 137.728 1128.27 Q143.515 1128.27 146.894 1131.44 Q150.274 1134.61 150.274 1140.03 Q150.274 1145.6 146.802 1148.71 Q143.33 1151.78 137.01 1151.78 Q134.834 1151.78 132.566 1151.41 Q130.32 1151.04 127.913 1150.3 L127.913 1145.6 Q129.996 1146.74 132.219 1147.29 Q134.441 1147.85 136.918 1147.85 Q140.922 1147.85 143.26 1145.74 Q145.598 1143.64 145.598 1140.03 Q145.598 1136.41 143.26 1134.31 Q140.922 1132.2 136.918 1132.2 Q135.043 1132.2 133.168 1132.62 Q131.316 1133.03 129.371 1133.91 L129.371 1116.55 Z\" fill=\"#000000\" fill-rule=\"nonzero\" fill-opacity=\"1\" /><path clip-path=\"url(#clip610)\" d=\"M62.9365 807.75 Q59.3254 807.75 57.4967 811.314 Q55.6912 814.856 55.6912 821.986 Q55.6912 829.092 57.4967 832.657 Q59.3254 836.199 62.9365 836.199 Q66.5707 836.199 68.3763 832.657 Q70.205 829.092 70.205 821.986 Q70.205 814.856 68.3763 811.314 Q66.5707 807.75 62.9365 807.75 M62.9365 804.046 Q68.7467 804.046 71.8022 808.652 Q74.8809 813.236 74.8809 821.986 Q74.8809 830.712 71.8022 835.319 Q68.7467 839.902 62.9365 839.902 Q57.1264 839.902 54.0477 835.319 Q50.9921 830.712 50.9921 821.986 Q50.9921 813.236 54.0477 808.652 Q57.1264 804.046 62.9365 804.046 Z\" fill=\"#000000\" fill-rule=\"nonzero\" fill-opacity=\"1\" /><path clip-path=\"url(#clip610)\" d=\"M83.0984 833.351 L87.9827 833.351 L87.9827 839.231 L83.0984 839.231 L83.0984 833.351 Z\" fill=\"#000000\" fill-rule=\"nonzero\" fill-opacity=\"1\" /><path clip-path=\"url(#clip610)\" d=\"M98.978 835.296 L106.617 835.296 L106.617 808.93 L98.3067 810.597 L98.3067 806.338 L106.571 804.671 L111.246 804.671 L111.246 835.296 L118.885 835.296 L118.885 839.231 L98.978 839.231 L98.978 835.296 Z\" fill=\"#000000\" fill-rule=\"nonzero\" fill-opacity=\"1\" /><path clip-path=\"url(#clip610)\" d=\"M138.33 807.75 Q134.719 807.75 132.89 811.314 Q131.084 814.856 131.084 821.986 Q131.084 829.092 132.89 832.657 Q134.719 836.199 138.33 836.199 Q141.964 836.199 143.769 832.657 Q145.598 829.092 145.598 821.986 Q145.598 814.856 143.769 811.314 Q141.964 807.75 138.33 807.75 M138.33 804.046 Q144.14 804.046 147.195 808.652 Q150.274 813.236 150.274 821.986 Q150.274 830.712 147.195 835.319 Q144.14 839.902 138.33 839.902 Q132.519 839.902 129.441 835.319 Q126.385 830.712 126.385 821.986 Q126.385 813.236 129.441 808.652 Q132.519 804.046 138.33 804.046 Z\" fill=\"#000000\" fill-rule=\"nonzero\" fill-opacity=\"1\" /><path clip-path=\"url(#clip610)\" d=\"M63.9319 495.867 Q60.3208 495.867 58.4921 499.432 Q56.6865 502.974 56.6865 510.103 Q56.6865 517.21 58.4921 520.774 Q60.3208 524.316 63.9319 524.316 Q67.5661 524.316 69.3717 520.774 Q71.2004 517.21 71.2004 510.103 Q71.2004 502.974 69.3717 499.432 Q67.5661 495.867 63.9319 495.867 M63.9319 492.164 Q69.742 492.164 72.7976 496.77 Q75.8763 501.353 75.8763 510.103 Q75.8763 518.83 72.7976 523.436 Q69.742 528.02 63.9319 528.02 Q58.1217 528.02 55.043 523.436 Q51.9875 518.83 51.9875 510.103 Q51.9875 501.353 55.043 496.77 Q58.1217 492.164 63.9319 492.164 Z\" fill=\"#000000\" fill-rule=\"nonzero\" fill-opacity=\"1\" /><path clip-path=\"url(#clip610)\" d=\"M84.0938 521.469 L88.978 521.469 L88.978 527.349 L84.0938 527.349 L84.0938 521.469 Z\" fill=\"#000000\" fill-rule=\"nonzero\" fill-opacity=\"1\" /><path clip-path=\"url(#clip610)\" d=\"M99.9733 523.413 L107.612 523.413 L107.612 497.048 L99.3021 498.714 L99.3021 494.455 L107.566 492.789 L112.242 492.789 L112.242 523.413 L119.881 523.413 L119.881 527.349 L99.9733 527.349 L99.9733 523.413 Z\" fill=\"#000000\" fill-rule=\"nonzero\" fill-opacity=\"1\" /><path clip-path=\"url(#clip610)\" d=\"M129.371 492.789 L147.728 492.789 L147.728 496.724 L133.654 496.724 L133.654 505.196 Q134.672 504.849 135.691 504.687 Q136.709 504.501 137.728 504.501 Q143.515 504.501 146.894 507.673 Q150.274 510.844 150.274 516.261 Q150.274 521.839 146.802 524.941 Q143.33 528.02 137.01 528.02 Q134.834 528.02 132.566 527.649 Q130.32 527.279 127.913 526.538 L127.913 521.839 Q129.996 522.974 132.219 523.529 Q134.441 524.085 136.918 524.085 Q140.922 524.085 143.26 521.978 Q145.598 519.872 145.598 516.261 Q145.598 512.65 143.26 510.543 Q140.922 508.437 136.918 508.437 Q135.043 508.437 133.168 508.853 Q131.316 509.27 129.371 510.15 L129.371 492.789 Z\" fill=\"#000000\" fill-rule=\"nonzero\" fill-opacity=\"1\" /><path clip-path=\"url(#clip610)\" d=\"M62.9365 183.985 Q59.3254 183.985 57.4967 187.55 Q55.6912 191.091 55.6912 198.221 Q55.6912 205.327 57.4967 208.892 Q59.3254 212.434 62.9365 212.434 Q66.5707 212.434 68.3763 208.892 Q70.205 205.327 70.205 198.221 Q70.205 191.091 68.3763 187.55 Q66.5707 183.985 62.9365 183.985 M62.9365 180.281 Q68.7467 180.281 71.8022 184.888 Q74.8809 189.471 74.8809 198.221 Q74.8809 206.948 71.8022 211.554 Q68.7467 216.137 62.9365 216.137 Q57.1264 216.137 54.0477 211.554 Q50.9921 206.948 50.9921 198.221 Q50.9921 189.471 54.0477 184.888 Q57.1264 180.281 62.9365 180.281 Z\" fill=\"#000000\" fill-rule=\"nonzero\" fill-opacity=\"1\" /><path clip-path=\"url(#clip610)\" d=\"M83.0984 209.587 L87.9827 209.587 L87.9827 215.466 L83.0984 215.466 L83.0984 209.587 Z\" fill=\"#000000\" fill-rule=\"nonzero\" fill-opacity=\"1\" /><path clip-path=\"url(#clip610)\" d=\"M102.196 211.531 L118.515 211.531 L118.515 215.466 L96.5706 215.466 L96.5706 211.531 Q99.2326 208.776 103.816 204.147 Q108.422 199.494 109.603 198.151 Q111.848 195.628 112.728 193.892 Q113.631 192.133 113.631 190.443 Q113.631 187.688 111.686 185.952 Q109.765 184.216 106.663 184.216 Q104.464 184.216 102.01 184.98 Q99.5798 185.744 96.8021 187.295 L96.8021 182.573 Q99.6261 181.439 102.08 180.86 Q104.534 180.281 106.571 180.281 Q111.941 180.281 115.135 182.966 Q118.33 185.651 118.33 190.142 Q118.33 192.272 117.52 194.193 Q116.733 196.091 114.626 198.684 Q114.047 199.355 110.946 202.573 Q107.844 205.767 102.196 211.531 Z\" fill=\"#000000\" fill-rule=\"nonzero\" fill-opacity=\"1\" /><path clip-path=\"url(#clip610)\" d=\"M138.33 183.985 Q134.719 183.985 132.89 187.55 Q131.084 191.091 131.084 198.221 Q131.084 205.327 132.89 208.892 Q134.719 212.434 138.33 212.434 Q141.964 212.434 143.769 208.892 Q145.598 205.327 145.598 198.221 Q145.598 191.091 143.769 187.55 Q141.964 183.985 138.33 183.985 M138.33 180.281 Q144.14 180.281 147.195 184.888 Q150.274 189.471 150.274 198.221 Q150.274 206.948 147.195 211.554 Q144.14 216.137 138.33 216.137 Q132.519 216.137 129.441 211.554 Q126.385 206.948 126.385 198.221 Q126.385 189.471 129.441 184.888 Q132.519 180.281 138.33 180.281 Z\" fill=\"#000000\" fill-rule=\"nonzero\" fill-opacity=\"1\" /><polyline clip-path=\"url(#clip612)\" style=\"stroke:#009af9; stroke-linecap:round; stroke-linejoin:round; stroke-width:4; stroke-opacity:1; fill:none\" points=\"247.59,87.9763 256.714,721.378 265.838,1059.29 274.963,1239.56 284.087,1335.74 293.211,1387.04 302.336,1414.41 311.46,1429.02 320.584,1436.81 329.709,1440.96 338.833,1443.18 347.957,1444.36 357.082,1444.99 366.206,1445.33 375.33,1445.51 384.455,721.378 393.579,1059.29 402.703,1239.56 411.828,1335.74 420.952,1387.04 430.076,1414.41 439.201,1429.02 448.325,1436.81 457.449,1440.96 466.574,1443.18 475.698,1444.36 484.822,1444.99 493.947,1445.33 503.071,1445.51 512.195,1445.61 521.32,1059.29 530.444,1239.56 539.568,1335.74 548.693,1387.04 557.817,1414.41 566.941,1429.02 576.066,1436.81 585.19,1440.96 594.314,1443.18 603.439,1444.36 612.563,1444.99 621.687,1445.33 630.812,1445.51 639.936,1445.61 649.06,1445.66 658.185,1239.56 667.309,1335.74 676.433,1387.04 685.558,1414.41 694.682,1429.02 703.806,1436.81 712.931,1440.96 722.055,1443.18 731.179,1444.36 740.304,1444.99 749.428,1445.33 758.552,1445.51 767.677,1445.61 776.801,1445.66 785.925,1445.68 795.05,1335.74 804.174,1387.04 813.298,1414.41 822.423,1429.02 831.547,1436.81 840.671,1440.96 849.796,1443.18 858.92,1444.36 868.044,1444.99 877.169,1445.33 886.293,1445.51 895.417,1445.61 904.542,1445.66 913.666,1445.68 922.79,1445.7 931.915,1387.04 941.039,1414.41 950.163,1429.02 959.288,1436.81 968.412,1440.96 977.536,1443.18 986.661,1444.36 995.785,1444.99 1004.91,1445.33 1014.03,1445.51 1023.16,1445.61 1032.28,1445.66 1041.41,1445.68 1050.53,1445.7 1059.66,1445.71 1068.78,1414.41 1077.9,1429.02 1087.03,1436.81 1096.15,1440.96 1105.28,1443.18 1114.4,1444.36 1123.53,1444.99 1132.65,1445.33 1141.77,1445.51 1150.9,1445.61 1160.02,1445.66 1169.15,1445.68 1178.27,1445.7 1187.4,1445.71 1196.52,1445.71 1205.64,1429.02 1214.77,1436.81 1223.89,1440.96 1233.02,1443.18 1242.14,1444.36 1251.27,1444.99 1260.39,1445.33 1269.51,1445.51 1278.64,1445.61 1287.76,1445.66 1296.89,1445.68 1306.01,1445.7 1315.14,1445.71 1324.26,1445.71 1333.39,1445.71 1342.51,1436.81 1351.63,1440.96 1360.76,1443.18 1369.88,1444.36 1379.01,1444.99 1388.13,1445.33 1397.26,1445.51 1406.38,1445.61 1415.5,1445.66 1424.63,1445.68 1433.75,1445.7 1442.88,1445.71 1452,1445.71 1461.13,1445.71 1470.25,1445.71 1479.37,1440.96 1488.5,1443.18 1497.62,1444.36 1506.75,1444.99 1515.87,1445.33 1525,1445.51 1534.12,1445.61 1543.24,1445.66 1552.37,1445.68 1561.49,1445.7 1570.62,1445.71 1579.74,1445.71 1588.87,1445.71 1597.99,1445.71 1607.12,1445.72 1616.24,1443.18 1625.36,1444.36 1634.49,1444.99 1643.61,1445.33 1652.74,1445.51 1661.86,1445.61 1670.99,1445.66 1680.11,1445.68 1689.23,1445.7 1698.36,1445.71 1707.48,1445.71 1716.61,1445.71 1725.73,1445.71 1734.86,1445.72 1743.98,1445.72 1753.1,1444.36 1762.23,1444.99 1771.35,1445.33 1780.48,1445.51 1789.6,1445.61 1798.73,1445.66 1807.85,1445.68 1816.98,1445.7 1826.1,1445.71 1835.22,1445.71 1844.35,1445.71 1853.47,1445.71 1862.6,1445.72 1871.72,1445.72 1880.85,1445.72 1889.97,1444.99 1899.09,1445.33 1908.22,1445.51 1917.34,1445.61 1926.47,1445.66 1935.59,1445.68 1944.72,1445.7 1953.84,1445.71 1962.96,1445.71 1972.09,1445.71 1981.21,1445.71 1990.34,1445.72 1999.46,1445.72 2008.59,1445.72 2017.71,1445.72 2026.83,1445.33 2035.96,1445.51 2045.08,1445.61 2054.21,1445.66 2063.33,1445.68 2072.46,1445.7 2081.58,1445.71 2090.71,1445.71 2099.83,1445.71 2108.95,1445.71 2118.08,1445.72 2127.2,1445.72 2136.33,1445.72 2145.45,1445.72 2154.58,1445.72 2163.7,1445.51 2172.82,1445.61 2181.95,1445.66 2191.07,1445.68 2200.2,1445.7 2209.32,1445.71 2218.45,1445.71 2227.57,1445.71 2236.69,1445.71 2245.82,1445.72 2254.94,1445.72 2264.07,1445.72 2273.19,1445.72 2282.32,1445.72 2291.44,1445.72 \"/>\n",
       "<path clip-path=\"url(#clip610)\" d=\"M2011.46 198.898 L2280.54 198.898 L2280.54 95.2176 L2011.46 95.2176  Z\" fill=\"#ffffff\" fill-rule=\"evenodd\" fill-opacity=\"1\"/>\n",
       "<polyline clip-path=\"url(#clip610)\" style=\"stroke:#000000; stroke-linecap:round; stroke-linejoin:round; stroke-width:4; stroke-opacity:1; fill:none\" points=\"2011.46,198.898 2280.54,198.898 2280.54,95.2176 2011.46,95.2176 2011.46,198.898 \"/>\n",
       "<polyline clip-path=\"url(#clip610)\" style=\"stroke:#009af9; stroke-linecap:round; stroke-linejoin:round; stroke-width:4; stroke-opacity:1; fill:none\" points=\"2035.53,147.058 2179.97,147.058 \"/>\n",
       "<path clip-path=\"url(#clip610)\" d=\"M2217.88 166.745 Q2216.07 171.375 2214.36 172.787 Q2212.65 174.199 2209.78 174.199 L2206.38 174.199 L2206.38 170.634 L2208.88 170.634 Q2210.63 170.634 2211.61 169.8 Q2212.58 168.967 2213.76 165.865 L2214.52 163.921 L2204.04 138.412 L2208.55 138.412 L2216.65 158.689 L2224.76 138.412 L2229.27 138.412 L2217.88 166.745 Z\" fill=\"#000000\" fill-rule=\"nonzero\" fill-opacity=\"1\" /><path clip-path=\"url(#clip610)\" d=\"M2236.56 160.402 L2244.2 160.402 L2244.2 134.037 L2235.89 135.703 L2235.89 131.444 L2244.15 129.778 L2248.83 129.778 L2248.83 160.402 L2256.47 160.402 L2256.47 164.338 L2236.56 164.338 L2236.56 160.402 Z\" fill=\"#000000\" fill-rule=\"nonzero\" fill-opacity=\"1\" /></svg>\n"
      ],
      "text/html": [
       "<?xml version=\"1.0\" encoding=\"utf-8\"?>\n",
       "<svg xmlns=\"http://www.w3.org/2000/svg\" xmlns:xlink=\"http://www.w3.org/1999/xlink\" width=\"600\" height=\"400\" viewBox=\"0 0 2400 1600\">\n",
       "<defs>\n",
       "  <clipPath id=\"clip660\">\n",
       "    <rect x=\"0\" y=\"0\" width=\"2400\" height=\"1600\"/>\n",
       "  </clipPath>\n",
       "</defs>\n",
       "<path clip-path=\"url(#clip660)\" d=\"M0 1600 L2400 1600 L2400 0 L0 0  Z\" fill=\"#ffffff\" fill-rule=\"evenodd\" fill-opacity=\"1\"/>\n",
       "<defs>\n",
       "  <clipPath id=\"clip661\">\n",
       "    <rect x=\"480\" y=\"0\" width=\"1681\" height=\"1600\"/>\n",
       "  </clipPath>\n",
       "</defs>\n",
       "<path clip-path=\"url(#clip660)\" d=\"M186.274 1486.45 L2352.76 1486.45 L2352.76 47.2441 L186.274 47.2441  Z\" fill=\"#ffffff\" fill-rule=\"evenodd\" fill-opacity=\"1\"/>\n",
       "<defs>\n",
       "  <clipPath id=\"clip662\">\n",
       "    <rect x=\"186\" y=\"47\" width=\"2167\" height=\"1440\"/>\n",
       "  </clipPath>\n",
       "</defs>\n",
       "<polyline clip-path=\"url(#clip662)\" style=\"stroke:#000000; stroke-linecap:round; stroke-linejoin:round; stroke-width:2; stroke-opacity:0.1; fill:none\" points=\"238.465,1486.45 238.465,47.2441 \"/>\n",
       "<polyline clip-path=\"url(#clip662)\" style=\"stroke:#000000; stroke-linecap:round; stroke-linejoin:round; stroke-width:2; stroke-opacity:0.1; fill:none\" points=\"694.682,1486.45 694.682,47.2441 \"/>\n",
       "<polyline clip-path=\"url(#clip662)\" style=\"stroke:#000000; stroke-linecap:round; stroke-linejoin:round; stroke-width:2; stroke-opacity:0.1; fill:none\" points=\"1150.9,1486.45 1150.9,47.2441 \"/>\n",
       "<polyline clip-path=\"url(#clip662)\" style=\"stroke:#000000; stroke-linecap:round; stroke-linejoin:round; stroke-width:2; stroke-opacity:0.1; fill:none\" points=\"1607.12,1486.45 1607.12,47.2441 \"/>\n",
       "<polyline clip-path=\"url(#clip662)\" style=\"stroke:#000000; stroke-linecap:round; stroke-linejoin:round; stroke-width:2; stroke-opacity:0.1; fill:none\" points=\"2063.33,1486.45 2063.33,47.2441 \"/>\n",
       "<polyline clip-path=\"url(#clip662)\" style=\"stroke:#000000; stroke-linecap:round; stroke-linejoin:round; stroke-width:2; stroke-opacity:0.1; fill:none\" points=\"186.274,1445.72 2352.76,1445.72 \"/>\n",
       "<polyline clip-path=\"url(#clip662)\" style=\"stroke:#000000; stroke-linecap:round; stroke-linejoin:round; stroke-width:2; stroke-opacity:0.1; fill:none\" points=\"186.274,1133.83 2352.76,1133.83 \"/>\n",
       "<polyline clip-path=\"url(#clip662)\" style=\"stroke:#000000; stroke-linecap:round; stroke-linejoin:round; stroke-width:2; stroke-opacity:0.1; fill:none\" points=\"186.274,821.951 2352.76,821.951 \"/>\n",
       "<polyline clip-path=\"url(#clip662)\" style=\"stroke:#000000; stroke-linecap:round; stroke-linejoin:round; stroke-width:2; stroke-opacity:0.1; fill:none\" points=\"186.274,510.069 2352.76,510.069 \"/>\n",
       "<polyline clip-path=\"url(#clip662)\" style=\"stroke:#000000; stroke-linecap:round; stroke-linejoin:round; stroke-width:2; stroke-opacity:0.1; fill:none\" points=\"186.274,198.186 2352.76,198.186 \"/>\n",
       "<polyline clip-path=\"url(#clip660)\" style=\"stroke:#000000; stroke-linecap:round; stroke-linejoin:round; stroke-width:4; stroke-opacity:1; fill:none\" points=\"186.274,1486.45 2352.76,1486.45 \"/>\n",
       "<polyline clip-path=\"url(#clip660)\" style=\"stroke:#000000; stroke-linecap:round; stroke-linejoin:round; stroke-width:4; stroke-opacity:1; fill:none\" points=\"238.465,1486.45 238.465,1467.55 \"/>\n",
       "<polyline clip-path=\"url(#clip660)\" style=\"stroke:#000000; stroke-linecap:round; stroke-linejoin:round; stroke-width:4; stroke-opacity:1; fill:none\" points=\"694.682,1486.45 694.682,1467.55 \"/>\n",
       "<polyline clip-path=\"url(#clip660)\" style=\"stroke:#000000; stroke-linecap:round; stroke-linejoin:round; stroke-width:4; stroke-opacity:1; fill:none\" points=\"1150.9,1486.45 1150.9,1467.55 \"/>\n",
       "<polyline clip-path=\"url(#clip660)\" style=\"stroke:#000000; stroke-linecap:round; stroke-linejoin:round; stroke-width:4; stroke-opacity:1; fill:none\" points=\"1607.12,1486.45 1607.12,1467.55 \"/>\n",
       "<polyline clip-path=\"url(#clip660)\" style=\"stroke:#000000; stroke-linecap:round; stroke-linejoin:round; stroke-width:4; stroke-opacity:1; fill:none\" points=\"2063.33,1486.45 2063.33,1467.55 \"/>\n",
       "<path clip-path=\"url(#clip660)\" d=\"M238.465 1517.37 Q234.854 1517.37 233.025 1520.93 Q231.22 1524.47 231.22 1531.6 Q231.22 1538.71 233.025 1542.27 Q234.854 1545.82 238.465 1545.82 Q242.099 1545.82 243.905 1542.27 Q245.734 1538.71 245.734 1531.6 Q245.734 1524.47 243.905 1520.93 Q242.099 1517.37 238.465 1517.37 M238.465 1513.66 Q244.275 1513.66 247.331 1518.27 Q250.41 1522.85 250.41 1531.6 Q250.41 1540.33 247.331 1544.94 Q244.275 1549.52 238.465 1549.52 Q232.655 1549.52 229.576 1544.94 Q226.521 1540.33 226.521 1531.6 Q226.521 1522.85 229.576 1518.27 Q232.655 1513.66 238.465 1513.66 Z\" fill=\"#000000\" fill-rule=\"nonzero\" fill-opacity=\"1\" /><path clip-path=\"url(#clip660)\" d=\"M669.381 1514.29 L687.737 1514.29 L687.737 1518.22 L673.663 1518.22 L673.663 1526.7 Q674.682 1526.35 675.701 1526.19 Q676.719 1526 677.738 1526 Q683.525 1526 686.904 1529.17 Q690.284 1532.34 690.284 1537.76 Q690.284 1543.34 686.812 1546.44 Q683.339 1549.52 677.02 1549.52 Q674.844 1549.52 672.576 1549.15 Q670.33 1548.78 667.923 1548.04 L667.923 1543.34 Q670.006 1544.47 672.228 1545.03 Q674.451 1545.58 676.927 1545.58 Q680.932 1545.58 683.27 1543.48 Q685.608 1541.37 685.608 1537.76 Q685.608 1534.15 683.27 1532.04 Q680.932 1529.94 676.927 1529.94 Q675.052 1529.94 673.177 1530.35 Q671.326 1530.77 669.381 1531.65 L669.381 1514.29 Z\" fill=\"#000000\" fill-rule=\"nonzero\" fill-opacity=\"1\" /><path clip-path=\"url(#clip660)\" d=\"M709.497 1517.37 Q705.886 1517.37 704.057 1520.93 Q702.251 1524.47 702.251 1531.6 Q702.251 1538.71 704.057 1542.27 Q705.886 1545.82 709.497 1545.82 Q713.131 1545.82 714.936 1542.27 Q716.765 1538.71 716.765 1531.6 Q716.765 1524.47 714.936 1520.93 Q713.131 1517.37 709.497 1517.37 M709.497 1513.66 Q715.307 1513.66 718.362 1518.27 Q721.441 1522.85 721.441 1531.6 Q721.441 1540.33 718.362 1544.94 Q715.307 1549.52 709.497 1549.52 Q703.686 1549.52 700.608 1544.94 Q697.552 1540.33 697.552 1531.6 Q697.552 1522.85 700.608 1518.27 Q703.686 1513.66 709.497 1513.66 Z\" fill=\"#000000\" fill-rule=\"nonzero\" fill-opacity=\"1\" /><path clip-path=\"url(#clip660)\" d=\"M1110.51 1544.91 L1118.14 1544.91 L1118.14 1518.55 L1109.83 1520.21 L1109.83 1515.95 L1118.1 1514.29 L1122.77 1514.29 L1122.77 1544.91 L1130.41 1544.91 L1130.41 1548.85 L1110.51 1548.85 L1110.51 1544.91 Z\" fill=\"#000000\" fill-rule=\"nonzero\" fill-opacity=\"1\" /><path clip-path=\"url(#clip660)\" d=\"M1149.86 1517.37 Q1146.25 1517.37 1144.42 1520.93 Q1142.61 1524.47 1142.61 1531.6 Q1142.61 1538.71 1144.42 1542.27 Q1146.25 1545.82 1149.86 1545.82 Q1153.49 1545.82 1155.3 1542.27 Q1157.13 1538.71 1157.13 1531.6 Q1157.13 1524.47 1155.3 1520.93 Q1153.49 1517.37 1149.86 1517.37 M1149.86 1513.66 Q1155.67 1513.66 1158.72 1518.27 Q1161.8 1522.85 1161.8 1531.6 Q1161.8 1540.33 1158.72 1544.94 Q1155.67 1549.52 1149.86 1549.52 Q1144.05 1549.52 1140.97 1544.94 Q1137.91 1540.33 1137.91 1531.6 Q1137.91 1522.85 1140.97 1518.27 Q1144.05 1513.66 1149.86 1513.66 Z\" fill=\"#000000\" fill-rule=\"nonzero\" fill-opacity=\"1\" /><path clip-path=\"url(#clip660)\" d=\"M1180.02 1517.37 Q1176.41 1517.37 1174.58 1520.93 Q1172.77 1524.47 1172.77 1531.6 Q1172.77 1538.71 1174.58 1542.27 Q1176.41 1545.82 1180.02 1545.82 Q1183.65 1545.82 1185.46 1542.27 Q1187.29 1538.71 1187.29 1531.6 Q1187.29 1524.47 1185.46 1520.93 Q1183.65 1517.37 1180.02 1517.37 M1180.02 1513.66 Q1185.83 1513.66 1188.88 1518.27 Q1191.96 1522.85 1191.96 1531.6 Q1191.96 1540.33 1188.88 1544.94 Q1185.83 1549.52 1180.02 1549.52 Q1174.21 1549.52 1171.13 1544.94 Q1168.07 1540.33 1168.07 1531.6 Q1168.07 1522.85 1171.13 1518.27 Q1174.21 1513.66 1180.02 1513.66 Z\" fill=\"#000000\" fill-rule=\"nonzero\" fill-opacity=\"1\" /><path clip-path=\"url(#clip660)\" d=\"M1566.72 1544.91 L1574.36 1544.91 L1574.36 1518.55 L1566.05 1520.21 L1566.05 1515.95 L1574.31 1514.29 L1578.99 1514.29 L1578.99 1544.91 L1586.63 1544.91 L1586.63 1548.85 L1566.72 1548.85 L1566.72 1544.91 Z\" fill=\"#000000\" fill-rule=\"nonzero\" fill-opacity=\"1\" /><path clip-path=\"url(#clip660)\" d=\"M1596.12 1514.29 L1614.48 1514.29 L1614.48 1518.22 L1600.4 1518.22 L1600.4 1526.7 Q1601.42 1526.35 1602.44 1526.19 Q1603.46 1526 1604.48 1526 Q1610.26 1526 1613.64 1529.17 Q1617.02 1532.34 1617.02 1537.76 Q1617.02 1543.34 1613.55 1546.44 Q1610.08 1549.52 1603.76 1549.52 Q1601.58 1549.52 1599.31 1549.15 Q1597.07 1548.78 1594.66 1548.04 L1594.66 1543.34 Q1596.75 1544.47 1598.97 1545.03 Q1601.19 1545.58 1603.67 1545.58 Q1607.67 1545.58 1610.01 1543.48 Q1612.35 1541.37 1612.35 1537.76 Q1612.35 1534.15 1610.01 1532.04 Q1607.67 1529.94 1603.67 1529.94 Q1601.79 1529.94 1599.92 1530.35 Q1598.06 1530.77 1596.12 1531.65 L1596.12 1514.29 Z\" fill=\"#000000\" fill-rule=\"nonzero\" fill-opacity=\"1\" /><path clip-path=\"url(#clip660)\" d=\"M1636.24 1517.37 Q1632.62 1517.37 1630.8 1520.93 Q1628.99 1524.47 1628.99 1531.6 Q1628.99 1538.71 1630.8 1542.27 Q1632.62 1545.82 1636.24 1545.82 Q1639.87 1545.82 1641.68 1542.27 Q1643.5 1538.71 1643.5 1531.6 Q1643.5 1524.47 1641.68 1520.93 Q1639.87 1517.37 1636.24 1517.37 M1636.24 1513.66 Q1642.05 1513.66 1645.1 1518.27 Q1648.18 1522.85 1648.18 1531.6 Q1648.18 1540.33 1645.1 1544.94 Q1642.05 1549.52 1636.24 1549.52 Q1630.43 1549.52 1627.35 1544.94 Q1624.29 1540.33 1624.29 1531.6 Q1624.29 1522.85 1627.35 1518.27 Q1630.43 1513.66 1636.24 1513.66 Z\" fill=\"#000000\" fill-rule=\"nonzero\" fill-opacity=\"1\" /><path clip-path=\"url(#clip660)\" d=\"M2027.02 1544.91 L2043.34 1544.91 L2043.34 1548.85 L2021.4 1548.85 L2021.4 1544.91 Q2024.06 1542.16 2028.64 1537.53 Q2033.25 1532.88 2034.43 1531.53 Q2036.68 1529.01 2037.56 1527.27 Q2038.46 1525.51 2038.46 1523.82 Q2038.46 1521.07 2036.52 1519.33 Q2034.59 1517.6 2031.49 1517.6 Q2029.29 1517.6 2026.84 1518.36 Q2024.41 1519.13 2021.63 1520.68 L2021.63 1515.95 Q2024.45 1514.82 2026.91 1514.24 Q2029.36 1513.66 2031.4 1513.66 Q2036.77 1513.66 2039.96 1516.35 Q2043.16 1519.03 2043.16 1523.52 Q2043.16 1525.65 2042.35 1527.57 Q2041.56 1529.47 2039.45 1532.07 Q2038.88 1532.74 2035.77 1535.95 Q2032.67 1539.15 2027.02 1544.91 Z\" fill=\"#000000\" fill-rule=\"nonzero\" fill-opacity=\"1\" /><path clip-path=\"url(#clip660)\" d=\"M2063.16 1517.37 Q2059.55 1517.37 2057.72 1520.93 Q2055.91 1524.47 2055.91 1531.6 Q2055.91 1538.71 2057.72 1542.27 Q2059.55 1545.82 2063.16 1545.82 Q2066.79 1545.82 2068.6 1542.27 Q2070.43 1538.71 2070.43 1531.6 Q2070.43 1524.47 2068.6 1520.93 Q2066.79 1517.37 2063.16 1517.37 M2063.16 1513.66 Q2068.97 1513.66 2072.02 1518.27 Q2075.1 1522.85 2075.1 1531.6 Q2075.1 1540.33 2072.02 1544.94 Q2068.97 1549.52 2063.16 1549.52 Q2057.35 1549.52 2054.27 1544.94 Q2051.21 1540.33 2051.21 1531.6 Q2051.21 1522.85 2054.27 1518.27 Q2057.35 1513.66 2063.16 1513.66 Z\" fill=\"#000000\" fill-rule=\"nonzero\" fill-opacity=\"1\" /><path clip-path=\"url(#clip660)\" d=\"M2093.32 1517.37 Q2089.71 1517.37 2087.88 1520.93 Q2086.07 1524.47 2086.07 1531.6 Q2086.07 1538.71 2087.88 1542.27 Q2089.71 1545.82 2093.32 1545.82 Q2096.95 1545.82 2098.76 1542.27 Q2100.59 1538.71 2100.59 1531.6 Q2100.59 1524.47 2098.76 1520.93 Q2096.95 1517.37 2093.32 1517.37 M2093.32 1513.66 Q2099.13 1513.66 2102.19 1518.27 Q2105.26 1522.85 2105.26 1531.6 Q2105.26 1540.33 2102.19 1544.94 Q2099.13 1549.52 2093.32 1549.52 Q2087.51 1549.52 2084.43 1544.94 Q2081.38 1540.33 2081.38 1531.6 Q2081.38 1522.85 2084.43 1518.27 Q2087.51 1513.66 2093.32 1513.66 Z\" fill=\"#000000\" fill-rule=\"nonzero\" fill-opacity=\"1\" /><polyline clip-path=\"url(#clip660)\" style=\"stroke:#000000; stroke-linecap:round; stroke-linejoin:round; stroke-width:4; stroke-opacity:1; fill:none\" points=\"186.274,1486.45 186.274,47.2441 \"/>\n",
       "<polyline clip-path=\"url(#clip660)\" style=\"stroke:#000000; stroke-linecap:round; stroke-linejoin:round; stroke-width:4; stroke-opacity:1; fill:none\" points=\"186.274,1445.72 205.172,1445.72 \"/>\n",
       "<polyline clip-path=\"url(#clip660)\" style=\"stroke:#000000; stroke-linecap:round; stroke-linejoin:round; stroke-width:4; stroke-opacity:1; fill:none\" points=\"186.274,1133.83 205.172,1133.83 \"/>\n",
       "<polyline clip-path=\"url(#clip660)\" style=\"stroke:#000000; stroke-linecap:round; stroke-linejoin:round; stroke-width:4; stroke-opacity:1; fill:none\" points=\"186.274,821.951 205.172,821.951 \"/>\n",
       "<polyline clip-path=\"url(#clip660)\" style=\"stroke:#000000; stroke-linecap:round; stroke-linejoin:round; stroke-width:4; stroke-opacity:1; fill:none\" points=\"186.274,510.069 205.172,510.069 \"/>\n",
       "<polyline clip-path=\"url(#clip660)\" style=\"stroke:#000000; stroke-linecap:round; stroke-linejoin:round; stroke-width:4; stroke-opacity:1; fill:none\" points=\"186.274,198.186 205.172,198.186 \"/>\n",
       "<path clip-path=\"url(#clip660)\" d=\"M62.9365 1431.51 Q59.3254 1431.51 57.4967 1435.08 Q55.6912 1438.62 55.6912 1445.75 Q55.6912 1452.86 57.4967 1456.42 Q59.3254 1459.96 62.9365 1459.96 Q66.5707 1459.96 68.3763 1456.42 Q70.205 1452.86 70.205 1445.75 Q70.205 1438.62 68.3763 1435.08 Q66.5707 1431.51 62.9365 1431.51 M62.9365 1427.81 Q68.7467 1427.81 71.8022 1432.42 Q74.8809 1437 74.8809 1445.75 Q74.8809 1454.48 71.8022 1459.08 Q68.7467 1463.67 62.9365 1463.67 Q57.1264 1463.67 54.0477 1459.08 Q50.9921 1454.48 50.9921 1445.75 Q50.9921 1437 54.0477 1432.42 Q57.1264 1427.81 62.9365 1427.81 Z\" fill=\"#000000\" fill-rule=\"nonzero\" fill-opacity=\"1\" /><path clip-path=\"url(#clip660)\" d=\"M83.0984 1457.12 L87.9827 1457.12 L87.9827 1463 L83.0984 1463 L83.0984 1457.12 Z\" fill=\"#000000\" fill-rule=\"nonzero\" fill-opacity=\"1\" /><path clip-path=\"url(#clip660)\" d=\"M108.168 1431.51 Q104.557 1431.51 102.728 1435.08 Q100.922 1438.62 100.922 1445.75 Q100.922 1452.86 102.728 1456.42 Q104.557 1459.96 108.168 1459.96 Q111.802 1459.96 113.608 1456.42 Q115.436 1452.86 115.436 1445.75 Q115.436 1438.62 113.608 1435.08 Q111.802 1431.51 108.168 1431.51 M108.168 1427.81 Q113.978 1427.81 117.033 1432.42 Q120.112 1437 120.112 1445.75 Q120.112 1454.48 117.033 1459.08 Q113.978 1463.67 108.168 1463.67 Q102.358 1463.67 99.2789 1459.08 Q96.2234 1454.48 96.2234 1445.75 Q96.2234 1437 99.2789 1432.42 Q102.358 1427.81 108.168 1427.81 Z\" fill=\"#000000\" fill-rule=\"nonzero\" fill-opacity=\"1\" /><path clip-path=\"url(#clip660)\" d=\"M138.33 1431.51 Q134.719 1431.51 132.89 1435.08 Q131.084 1438.62 131.084 1445.75 Q131.084 1452.86 132.89 1456.42 Q134.719 1459.96 138.33 1459.96 Q141.964 1459.96 143.769 1456.42 Q145.598 1452.86 145.598 1445.75 Q145.598 1438.62 143.769 1435.08 Q141.964 1431.51 138.33 1431.51 M138.33 1427.81 Q144.14 1427.81 147.195 1432.42 Q150.274 1437 150.274 1445.75 Q150.274 1454.48 147.195 1459.08 Q144.14 1463.67 138.33 1463.67 Q132.519 1463.67 129.441 1459.08 Q126.385 1454.48 126.385 1445.75 Q126.385 1437 129.441 1432.42 Q132.519 1427.81 138.33 1427.81 Z\" fill=\"#000000\" fill-rule=\"nonzero\" fill-opacity=\"1\" /><path clip-path=\"url(#clip660)\" d=\"M63.9319 1119.63 Q60.3208 1119.63 58.4921 1123.2 Q56.6865 1126.74 56.6865 1133.87 Q56.6865 1140.97 58.4921 1144.54 Q60.3208 1148.08 63.9319 1148.08 Q67.5661 1148.08 69.3717 1144.54 Q71.2004 1140.97 71.2004 1133.87 Q71.2004 1126.74 69.3717 1123.2 Q67.5661 1119.63 63.9319 1119.63 M63.9319 1115.93 Q69.742 1115.93 72.7976 1120.53 Q75.8763 1125.12 75.8763 1133.87 Q75.8763 1142.59 72.7976 1147.2 Q69.742 1151.78 63.9319 1151.78 Q58.1217 1151.78 55.043 1147.2 Q51.9875 1142.59 51.9875 1133.87 Q51.9875 1125.12 55.043 1120.53 Q58.1217 1115.93 63.9319 1115.93 Z\" fill=\"#000000\" fill-rule=\"nonzero\" fill-opacity=\"1\" /><path clip-path=\"url(#clip660)\" d=\"M84.0938 1145.23 L88.978 1145.23 L88.978 1151.11 L84.0938 1151.11 L84.0938 1145.23 Z\" fill=\"#000000\" fill-rule=\"nonzero\" fill-opacity=\"1\" /><path clip-path=\"url(#clip660)\" d=\"M109.163 1119.63 Q105.552 1119.63 103.723 1123.2 Q101.918 1126.74 101.918 1133.87 Q101.918 1140.97 103.723 1144.54 Q105.552 1148.08 109.163 1148.08 Q112.797 1148.08 114.603 1144.54 Q116.432 1140.97 116.432 1133.87 Q116.432 1126.74 114.603 1123.2 Q112.797 1119.63 109.163 1119.63 M109.163 1115.93 Q114.973 1115.93 118.029 1120.53 Q121.107 1125.12 121.107 1133.87 Q121.107 1142.59 118.029 1147.2 Q114.973 1151.78 109.163 1151.78 Q103.353 1151.78 100.274 1147.2 Q97.2187 1142.59 97.2187 1133.87 Q97.2187 1125.12 100.274 1120.53 Q103.353 1115.93 109.163 1115.93 Z\" fill=\"#000000\" fill-rule=\"nonzero\" fill-opacity=\"1\" /><path clip-path=\"url(#clip660)\" d=\"M129.371 1116.55 L147.728 1116.55 L147.728 1120.49 L133.654 1120.49 L133.654 1128.96 Q134.672 1128.61 135.691 1128.45 Q136.709 1128.27 137.728 1128.27 Q143.515 1128.27 146.894 1131.44 Q150.274 1134.61 150.274 1140.03 Q150.274 1145.6 146.802 1148.71 Q143.33 1151.78 137.01 1151.78 Q134.834 1151.78 132.566 1151.41 Q130.32 1151.04 127.913 1150.3 L127.913 1145.6 Q129.996 1146.74 132.219 1147.29 Q134.441 1147.85 136.918 1147.85 Q140.922 1147.85 143.26 1145.74 Q145.598 1143.64 145.598 1140.03 Q145.598 1136.41 143.26 1134.31 Q140.922 1132.2 136.918 1132.2 Q135.043 1132.2 133.168 1132.62 Q131.316 1133.03 129.371 1133.91 L129.371 1116.55 Z\" fill=\"#000000\" fill-rule=\"nonzero\" fill-opacity=\"1\" /><path clip-path=\"url(#clip660)\" d=\"M62.9365 807.75 Q59.3254 807.75 57.4967 811.314 Q55.6912 814.856 55.6912 821.986 Q55.6912 829.092 57.4967 832.657 Q59.3254 836.199 62.9365 836.199 Q66.5707 836.199 68.3763 832.657 Q70.205 829.092 70.205 821.986 Q70.205 814.856 68.3763 811.314 Q66.5707 807.75 62.9365 807.75 M62.9365 804.046 Q68.7467 804.046 71.8022 808.652 Q74.8809 813.236 74.8809 821.986 Q74.8809 830.712 71.8022 835.319 Q68.7467 839.902 62.9365 839.902 Q57.1264 839.902 54.0477 835.319 Q50.9921 830.712 50.9921 821.986 Q50.9921 813.236 54.0477 808.652 Q57.1264 804.046 62.9365 804.046 Z\" fill=\"#000000\" fill-rule=\"nonzero\" fill-opacity=\"1\" /><path clip-path=\"url(#clip660)\" d=\"M83.0984 833.351 L87.9827 833.351 L87.9827 839.231 L83.0984 839.231 L83.0984 833.351 Z\" fill=\"#000000\" fill-rule=\"nonzero\" fill-opacity=\"1\" /><path clip-path=\"url(#clip660)\" d=\"M98.978 835.296 L106.617 835.296 L106.617 808.93 L98.3067 810.597 L98.3067 806.338 L106.571 804.671 L111.246 804.671 L111.246 835.296 L118.885 835.296 L118.885 839.231 L98.978 839.231 L98.978 835.296 Z\" fill=\"#000000\" fill-rule=\"nonzero\" fill-opacity=\"1\" /><path clip-path=\"url(#clip660)\" d=\"M138.33 807.75 Q134.719 807.75 132.89 811.314 Q131.084 814.856 131.084 821.986 Q131.084 829.092 132.89 832.657 Q134.719 836.199 138.33 836.199 Q141.964 836.199 143.769 832.657 Q145.598 829.092 145.598 821.986 Q145.598 814.856 143.769 811.314 Q141.964 807.75 138.33 807.75 M138.33 804.046 Q144.14 804.046 147.195 808.652 Q150.274 813.236 150.274 821.986 Q150.274 830.712 147.195 835.319 Q144.14 839.902 138.33 839.902 Q132.519 839.902 129.441 835.319 Q126.385 830.712 126.385 821.986 Q126.385 813.236 129.441 808.652 Q132.519 804.046 138.33 804.046 Z\" fill=\"#000000\" fill-rule=\"nonzero\" fill-opacity=\"1\" /><path clip-path=\"url(#clip660)\" d=\"M63.9319 495.867 Q60.3208 495.867 58.4921 499.432 Q56.6865 502.974 56.6865 510.103 Q56.6865 517.21 58.4921 520.774 Q60.3208 524.316 63.9319 524.316 Q67.5661 524.316 69.3717 520.774 Q71.2004 517.21 71.2004 510.103 Q71.2004 502.974 69.3717 499.432 Q67.5661 495.867 63.9319 495.867 M63.9319 492.164 Q69.742 492.164 72.7976 496.77 Q75.8763 501.353 75.8763 510.103 Q75.8763 518.83 72.7976 523.436 Q69.742 528.02 63.9319 528.02 Q58.1217 528.02 55.043 523.436 Q51.9875 518.83 51.9875 510.103 Q51.9875 501.353 55.043 496.77 Q58.1217 492.164 63.9319 492.164 Z\" fill=\"#000000\" fill-rule=\"nonzero\" fill-opacity=\"1\" /><path clip-path=\"url(#clip660)\" d=\"M84.0938 521.469 L88.978 521.469 L88.978 527.349 L84.0938 527.349 L84.0938 521.469 Z\" fill=\"#000000\" fill-rule=\"nonzero\" fill-opacity=\"1\" /><path clip-path=\"url(#clip660)\" d=\"M99.9733 523.413 L107.612 523.413 L107.612 497.048 L99.3021 498.714 L99.3021 494.455 L107.566 492.789 L112.242 492.789 L112.242 523.413 L119.881 523.413 L119.881 527.349 L99.9733 527.349 L99.9733 523.413 Z\" fill=\"#000000\" fill-rule=\"nonzero\" fill-opacity=\"1\" /><path clip-path=\"url(#clip660)\" d=\"M129.371 492.789 L147.728 492.789 L147.728 496.724 L133.654 496.724 L133.654 505.196 Q134.672 504.849 135.691 504.687 Q136.709 504.501 137.728 504.501 Q143.515 504.501 146.894 507.673 Q150.274 510.844 150.274 516.261 Q150.274 521.839 146.802 524.941 Q143.33 528.02 137.01 528.02 Q134.834 528.02 132.566 527.649 Q130.32 527.279 127.913 526.538 L127.913 521.839 Q129.996 522.974 132.219 523.529 Q134.441 524.085 136.918 524.085 Q140.922 524.085 143.26 521.978 Q145.598 519.872 145.598 516.261 Q145.598 512.65 143.26 510.543 Q140.922 508.437 136.918 508.437 Q135.043 508.437 133.168 508.853 Q131.316 509.27 129.371 510.15 L129.371 492.789 Z\" fill=\"#000000\" fill-rule=\"nonzero\" fill-opacity=\"1\" /><path clip-path=\"url(#clip660)\" d=\"M62.9365 183.985 Q59.3254 183.985 57.4967 187.55 Q55.6912 191.091 55.6912 198.221 Q55.6912 205.327 57.4967 208.892 Q59.3254 212.434 62.9365 212.434 Q66.5707 212.434 68.3763 208.892 Q70.205 205.327 70.205 198.221 Q70.205 191.091 68.3763 187.55 Q66.5707 183.985 62.9365 183.985 M62.9365 180.281 Q68.7467 180.281 71.8022 184.888 Q74.8809 189.471 74.8809 198.221 Q74.8809 206.948 71.8022 211.554 Q68.7467 216.137 62.9365 216.137 Q57.1264 216.137 54.0477 211.554 Q50.9921 206.948 50.9921 198.221 Q50.9921 189.471 54.0477 184.888 Q57.1264 180.281 62.9365 180.281 Z\" fill=\"#000000\" fill-rule=\"nonzero\" fill-opacity=\"1\" /><path clip-path=\"url(#clip660)\" d=\"M83.0984 209.587 L87.9827 209.587 L87.9827 215.466 L83.0984 215.466 L83.0984 209.587 Z\" fill=\"#000000\" fill-rule=\"nonzero\" fill-opacity=\"1\" /><path clip-path=\"url(#clip660)\" d=\"M102.196 211.531 L118.515 211.531 L118.515 215.466 L96.5706 215.466 L96.5706 211.531 Q99.2326 208.776 103.816 204.147 Q108.422 199.494 109.603 198.151 Q111.848 195.628 112.728 193.892 Q113.631 192.133 113.631 190.443 Q113.631 187.688 111.686 185.952 Q109.765 184.216 106.663 184.216 Q104.464 184.216 102.01 184.98 Q99.5798 185.744 96.8021 187.295 L96.8021 182.573 Q99.6261 181.439 102.08 180.86 Q104.534 180.281 106.571 180.281 Q111.941 180.281 115.135 182.966 Q118.33 185.651 118.33 190.142 Q118.33 192.272 117.52 194.193 Q116.733 196.091 114.626 198.684 Q114.047 199.355 110.946 202.573 Q107.844 205.767 102.196 211.531 Z\" fill=\"#000000\" fill-rule=\"nonzero\" fill-opacity=\"1\" /><path clip-path=\"url(#clip660)\" d=\"M138.33 183.985 Q134.719 183.985 132.89 187.55 Q131.084 191.091 131.084 198.221 Q131.084 205.327 132.89 208.892 Q134.719 212.434 138.33 212.434 Q141.964 212.434 143.769 208.892 Q145.598 205.327 145.598 198.221 Q145.598 191.091 143.769 187.55 Q141.964 183.985 138.33 183.985 M138.33 180.281 Q144.14 180.281 147.195 184.888 Q150.274 189.471 150.274 198.221 Q150.274 206.948 147.195 211.554 Q144.14 216.137 138.33 216.137 Q132.519 216.137 129.441 211.554 Q126.385 206.948 126.385 198.221 Q126.385 189.471 129.441 184.888 Q132.519 180.281 138.33 180.281 Z\" fill=\"#000000\" fill-rule=\"nonzero\" fill-opacity=\"1\" /><polyline clip-path=\"url(#clip662)\" style=\"stroke:#009af9; stroke-linecap:round; stroke-linejoin:round; stroke-width:4; stroke-opacity:1; fill:none\" points=\"247.59,87.9763 256.714,721.378 265.838,1059.29 274.963,1239.56 284.087,1335.74 293.211,1387.04 302.336,1414.41 311.46,1429.02 320.584,1436.81 329.709,1440.96 338.833,1443.18 347.957,1444.36 357.082,1444.99 366.206,1445.33 375.33,1445.51 384.455,721.378 393.579,1059.29 402.703,1239.56 411.828,1335.74 420.952,1387.04 430.076,1414.41 439.201,1429.02 448.325,1436.81 457.449,1440.96 466.574,1443.18 475.698,1444.36 484.822,1444.99 493.947,1445.33 503.071,1445.51 512.195,1445.61 521.32,1059.29 530.444,1239.56 539.568,1335.74 548.693,1387.04 557.817,1414.41 566.941,1429.02 576.066,1436.81 585.19,1440.96 594.314,1443.18 603.439,1444.36 612.563,1444.99 621.687,1445.33 630.812,1445.51 639.936,1445.61 649.06,1445.66 658.185,1239.56 667.309,1335.74 676.433,1387.04 685.558,1414.41 694.682,1429.02 703.806,1436.81 712.931,1440.96 722.055,1443.18 731.179,1444.36 740.304,1444.99 749.428,1445.33 758.552,1445.51 767.677,1445.61 776.801,1445.66 785.925,1445.68 795.05,1335.74 804.174,1387.04 813.298,1414.41 822.423,1429.02 831.547,1436.81 840.671,1440.96 849.796,1443.18 858.92,1444.36 868.044,1444.99 877.169,1445.33 886.293,1445.51 895.417,1445.61 904.542,1445.66 913.666,1445.68 922.79,1445.7 931.915,1387.04 941.039,1414.41 950.163,1429.02 959.288,1436.81 968.412,1440.96 977.536,1443.18 986.661,1444.36 995.785,1444.99 1004.91,1445.33 1014.03,1445.51 1023.16,1445.61 1032.28,1445.66 1041.41,1445.68 1050.53,1445.7 1059.66,1445.71 1068.78,1414.41 1077.9,1429.02 1087.03,1436.81 1096.15,1440.96 1105.28,1443.18 1114.4,1444.36 1123.53,1444.99 1132.65,1445.33 1141.77,1445.51 1150.9,1445.61 1160.02,1445.66 1169.15,1445.68 1178.27,1445.7 1187.4,1445.71 1196.52,1445.71 1205.64,1429.02 1214.77,1436.81 1223.89,1440.96 1233.02,1443.18 1242.14,1444.36 1251.27,1444.99 1260.39,1445.33 1269.51,1445.51 1278.64,1445.61 1287.76,1445.66 1296.89,1445.68 1306.01,1445.7 1315.14,1445.71 1324.26,1445.71 1333.39,1445.71 1342.51,1436.81 1351.63,1440.96 1360.76,1443.18 1369.88,1444.36 1379.01,1444.99 1388.13,1445.33 1397.26,1445.51 1406.38,1445.61 1415.5,1445.66 1424.63,1445.68 1433.75,1445.7 1442.88,1445.71 1452,1445.71 1461.13,1445.71 1470.25,1445.71 1479.37,1440.96 1488.5,1443.18 1497.62,1444.36 1506.75,1444.99 1515.87,1445.33 1525,1445.51 1534.12,1445.61 1543.24,1445.66 1552.37,1445.68 1561.49,1445.7 1570.62,1445.71 1579.74,1445.71 1588.87,1445.71 1597.99,1445.71 1607.12,1445.72 1616.24,1443.18 1625.36,1444.36 1634.49,1444.99 1643.61,1445.33 1652.74,1445.51 1661.86,1445.61 1670.99,1445.66 1680.11,1445.68 1689.23,1445.7 1698.36,1445.71 1707.48,1445.71 1716.61,1445.71 1725.73,1445.71 1734.86,1445.72 1743.98,1445.72 1753.1,1444.36 1762.23,1444.99 1771.35,1445.33 1780.48,1445.51 1789.6,1445.61 1798.73,1445.66 1807.85,1445.68 1816.98,1445.7 1826.1,1445.71 1835.22,1445.71 1844.35,1445.71 1853.47,1445.71 1862.6,1445.72 1871.72,1445.72 1880.85,1445.72 1889.97,1444.99 1899.09,1445.33 1908.22,1445.51 1917.34,1445.61 1926.47,1445.66 1935.59,1445.68 1944.72,1445.7 1953.84,1445.71 1962.96,1445.71 1972.09,1445.71 1981.21,1445.71 1990.34,1445.72 1999.46,1445.72 2008.59,1445.72 2017.71,1445.72 2026.83,1445.33 2035.96,1445.51 2045.08,1445.61 2054.21,1445.66 2063.33,1445.68 2072.46,1445.7 2081.58,1445.71 2090.71,1445.71 2099.83,1445.71 2108.95,1445.71 2118.08,1445.72 2127.2,1445.72 2136.33,1445.72 2145.45,1445.72 2154.58,1445.72 2163.7,1445.51 2172.82,1445.61 2181.95,1445.66 2191.07,1445.68 2200.2,1445.7 2209.32,1445.71 2218.45,1445.71 2227.57,1445.71 2236.69,1445.71 2245.82,1445.72 2254.94,1445.72 2264.07,1445.72 2273.19,1445.72 2282.32,1445.72 2291.44,1445.72 \"/>\n",
       "<path clip-path=\"url(#clip660)\" d=\"M2011.46 198.898 L2280.54 198.898 L2280.54 95.2176 L2011.46 95.2176  Z\" fill=\"#ffffff\" fill-rule=\"evenodd\" fill-opacity=\"1\"/>\n",
       "<polyline clip-path=\"url(#clip660)\" style=\"stroke:#000000; stroke-linecap:round; stroke-linejoin:round; stroke-width:4; stroke-opacity:1; fill:none\" points=\"2011.46,198.898 2280.54,198.898 2280.54,95.2176 2011.46,95.2176 2011.46,198.898 \"/>\n",
       "<polyline clip-path=\"url(#clip660)\" style=\"stroke:#009af9; stroke-linecap:round; stroke-linejoin:round; stroke-width:4; stroke-opacity:1; fill:none\" points=\"2035.53,147.058 2179.97,147.058 \"/>\n",
       "<path clip-path=\"url(#clip660)\" d=\"M2217.88 166.745 Q2216.07 171.375 2214.36 172.787 Q2212.65 174.199 2209.78 174.199 L2206.38 174.199 L2206.38 170.634 L2208.88 170.634 Q2210.63 170.634 2211.61 169.8 Q2212.58 168.967 2213.76 165.865 L2214.52 163.921 L2204.04 138.412 L2208.55 138.412 L2216.65 158.689 L2224.76 138.412 L2229.27 138.412 L2217.88 166.745 Z\" fill=\"#000000\" fill-rule=\"nonzero\" fill-opacity=\"1\" /><path clip-path=\"url(#clip660)\" d=\"M2236.56 160.402 L2244.2 160.402 L2244.2 134.037 L2235.89 135.703 L2235.89 131.444 L2244.15 129.778 L2248.83 129.778 L2248.83 160.402 L2256.47 160.402 L2256.47 164.338 L2236.56 164.338 L2236.56 160.402 Z\" fill=\"#000000\" fill-rule=\"nonzero\" fill-opacity=\"1\" /></svg>\n"
      ]
     },
     "execution_count": 7,
     "metadata": {},
     "output_type": "execute_result"
    }
   ],
   "source": [
    "# How many dimensions do we need?\n",
    "ndims = NDIMS\n",
    "tstate = thermalstate(ndims, ω, 5)\n",
    "txtstate = kron(tstate, tstate)\n",
    "println(tstate[end])\n",
    "println(txtstate[end])\n",
    "# Jump Operators\n",
    "a = BosonicOperators.destroy(ndims)\n",
    "ad = BosonicOperators.create(ndims)\n",
    "n_photons = tr(tstate * ad * a)\n",
    "println(n_photons)\n",
    "g1 = heatmap(1:ndims^2, 1:ndims^2, txtstate)\n",
    "g2 = plot(1:ndims^2, diag(txtstate))"
   ]
  },
  {
   "cell_type": "markdown",
   "id": "94240165-068c-47ed-95e2-1c0ece052b99",
   "metadata": {},
   "source": [
    "### Check State"
   ]
  },
  {
   "cell_type": "code",
   "execution_count": 8,
   "id": "d535a81a-cd97-40ee-be07-306d0fc6d2a9",
   "metadata": {},
   "outputs": [
    {
     "name": "stdout",
     "output_type": "stream",
     "text": [
      "0.04516570536368411\n",
      "7.577848096386027e-20\n"
     ]
    }
   ],
   "source": [
    "# Check number of photons and cutoff\n",
    "println(tr(ρt*ad*a))\n",
    "println(ρt[end])"
   ]
  },
  {
   "cell_type": "code",
   "execution_count": 9,
   "id": "a9867193-fc11-4950-9791-8c82bb01175f",
   "metadata": {},
   "outputs": [
    {
     "name": "stdout",
     "output_type": "stream",
     "text": [
      "N1 = 0.1404390355221817\n",
      "N2 = 0.04516570536368411\n",
      "P1 = 2.0119985690686195\n",
      "P2 = 1.7126885749596477\n"
     ]
    }
   ],
   "source": [
    "ndims = NDIMS\n",
    "\n",
    "rho1 = thermalstate(ndims, ω, 1.5)\n",
    "println(\"N1 = $(tr(rho1*ad*a))\")\n",
    "rho2 = thermalstate(ndims, ω, 1)\n",
    "println(\"N2 = $(tr(rho2*ad*a))\")\n",
    "\n",
    "identity_matrix = spdiagm(ones(ndims))\n",
    "n = ad * a\n",
    "π_a = a * a\n",
    "π_ad = ad * ad\n",
    "\n",
    "πOp = (2 * n + identity_matrix)  - (π_a * exp(-2*im*ω)) - (π_ad * exp(2*im*ω))\n",
    "p1 = Measurements.pressure(rho1, πOp, identity_matrix, α0, min_l, 1.0)\n",
    "println(\"P1 = $p1\")\n",
    "p2 = Measurements.pressure(rho2, πOp, identity_matrix, α0, min_l, 1.0)\n",
    "println(\"P2 = $p2\")"
   ]
  },
  {
   "cell_type": "markdown",
   "id": "67625627-fa4e-4c68-8b97-c2108ad87530",
   "metadata": {},
   "source": [
    "### Test 1"
   ]
  },
  {
   "cell_type": "code",
   "execution_count": 35,
   "id": "0a7e34df-7069-442d-800d-6948623adebc",
   "metadata": {},
   "outputs": [],
   "source": [
    "ρ_f = convert(SparseMatrixCSC{ComplexF64, Int64}, ρ_tot)\n",
    "stop1 = false\n",
    "stop2 = false\n",
    "t = 0\n",
    "# Operators are defined on one subspace\n",
    "dims = Int(sqrt(size(ρ_f)[1]))\n",
    "identity_matrix = spdiagm(ones(dims))\n",
    "# Reduce precision\n",
    "a = convert(SparseMatrixCSC{Float32, Int64}, a)\n",
    "ad = convert(SparseMatrixCSC{Float32, Int64}, ad)\n",
    "# Pressure Operator\n",
    "# Decomposed in three parts (constant and rotating)\n",
    "n1 = ad * a\n",
    "n2 = copy(π_const1) \n",
    "π_a = a * a\n",
    "π_ad = ad * ad\n",
    "π_parts = (n1, n2, π_a, π_ad) \n",
    "\n",
    "# Preallocate variables with reduce precision\n",
    "π₁, π₂ = spzeros(ComplexF32, size(n)...), spzeros(ComplexF32, size(n)...)\n",
    "h = spzeros(Float32, size(ρ_f)...)\n",
    "U = spzeros(ComplexF32, size(ρ_f)...)\n",
    "# ρ = convert(SparseMatrixCSC{ComplexF32, Int64}, ρ)  # Convert real sparse matrix to complex sparse\n",
    "alloc = (U, identity_matrix);"
   ]
  },
  {
   "cell_type": "code",
   "execution_count": 36,
   "id": "e528776a-22a7-4e96-9aba-dcde0c742c93",
   "metadata": {},
   "outputs": [
    {
     "data": {
      "text/plain": [
       "BenchmarkTools.Trial: 444 samples with 1 evaluation per sample.\n",
       " Range \u001b[90m(\u001b[39m\u001b[36m\u001b[1mmin\u001b[22m\u001b[39m … \u001b[35mmax\u001b[39m\u001b[90m):  \u001b[39m\u001b[36m\u001b[1m 8.499 ms\u001b[22m\u001b[39m … \u001b[35m44.765 ms\u001b[39m  \u001b[90m┊\u001b[39m GC \u001b[90m(\u001b[39mmin … max\u001b[90m): \u001b[39m 0.00% … 0.00%\n",
       " Time  \u001b[90m(\u001b[39m\u001b[34m\u001b[1mmedian\u001b[22m\u001b[39m\u001b[90m):     \u001b[39m\u001b[34m\u001b[1m10.486 ms              \u001b[22m\u001b[39m\u001b[90m┊\u001b[39m GC \u001b[90m(\u001b[39mmedian\u001b[90m):    \u001b[39m14.04%\n",
       " Time  \u001b[90m(\u001b[39m\u001b[32m\u001b[1mmean\u001b[22m\u001b[39m ± \u001b[32mσ\u001b[39m\u001b[90m):   \u001b[39m\u001b[32m\u001b[1m11.262 ms\u001b[22m\u001b[39m ± \u001b[32m 3.634 ms\u001b[39m  \u001b[90m┊\u001b[39m GC \u001b[90m(\u001b[39mmean ± σ\u001b[90m):  \u001b[39m15.18% ± 6.76%\n",
       "\n",
       "  \u001b[39m \u001b[39m \u001b[39m▃\u001b[39m█\u001b[34m▂\u001b[39m\u001b[32m▁\u001b[39m\u001b[39m▅\u001b[39m \u001b[39m \u001b[39m \u001b[39m \u001b[39m \u001b[39m \u001b[39m \u001b[39m \u001b[39m \u001b[39m \u001b[39m \u001b[39m \u001b[39m \u001b[39m \u001b[39m \u001b[39m \u001b[39m \u001b[39m \u001b[39m \u001b[39m \u001b[39m \u001b[39m \u001b[39m \u001b[39m \u001b[39m \u001b[39m \u001b[39m \u001b[39m \u001b[39m \u001b[39m \u001b[39m \u001b[39m \u001b[39m \u001b[39m \u001b[39m \u001b[39m \u001b[39m \u001b[39m \u001b[39m \u001b[39m \u001b[39m \u001b[39m \u001b[39m \u001b[39m \u001b[39m \u001b[39m \u001b[39m \u001b[39m \u001b[39m \u001b[39m \u001b[39m \u001b[39m \u001b[39m \u001b[39m \n",
       "  \u001b[39m▄\u001b[39m▇\u001b[39m█\u001b[39m█\u001b[34m█\u001b[39m\u001b[32m█\u001b[39m\u001b[39m█\u001b[39m▆\u001b[39m▄\u001b[39m▄\u001b[39m▅\u001b[39m▅\u001b[39m▁\u001b[39m▁\u001b[39m▁\u001b[39m▁\u001b[39m▁\u001b[39m▁\u001b[39m▁\u001b[39m▁\u001b[39m▁\u001b[39m▁\u001b[39m▄\u001b[39m▁\u001b[39m▁\u001b[39m▁\u001b[39m▁\u001b[39m▄\u001b[39m▁\u001b[39m▁\u001b[39m▁\u001b[39m▁\u001b[39m▁\u001b[39m▁\u001b[39m▁\u001b[39m▁\u001b[39m▁\u001b[39m▁\u001b[39m▁\u001b[39m▁\u001b[39m▁\u001b[39m▁\u001b[39m▁\u001b[39m▁\u001b[39m▁\u001b[39m▁\u001b[39m▁\u001b[39m▁\u001b[39m▁\u001b[39m▁\u001b[39m▁\u001b[39m▁\u001b[39m▁\u001b[39m▁\u001b[39m▁\u001b[39m▁\u001b[39m▁\u001b[39m▁\u001b[39m▄\u001b[39m \u001b[39m▆\n",
       "  8.5 ms\u001b[90m       \u001b[39m\u001b[90mHistogram: \u001b[39m\u001b[90m\u001b[1mlog(\u001b[22m\u001b[39m\u001b[90mfrequency\u001b[39m\u001b[90m\u001b[1m)\u001b[22m\u001b[39m\u001b[90m by time\u001b[39m      41.3 ms \u001b[0m\u001b[1m<\u001b[22m\n",
       "\n",
       " Memory estimate\u001b[90m: \u001b[39m\u001b[33m24.11 MiB\u001b[39m, allocs estimate\u001b[90m: \u001b[39m\u001b[33m279\u001b[39m."
      ]
     },
     "execution_count": 36,
     "metadata": {},
     "output_type": "execute_result"
    }
   ],
   "source": [
    "@benchmark adiabaticevolve_dot($ρ_f, $(cavity1, cavity2), $Δt, $t, $alloc, $π_parts, $stop1, $stop2)"
   ]
  },
  {
   "cell_type": "markdown",
   "id": "0bc1b980-7c74-4f3e-b9e8-36a91bcf2036",
   "metadata": {},
   "source": [
    "### Test 2"
   ]
  },
  {
   "cell_type": "code",
   "execution_count": 33,
   "id": "32e2187f-aed5-4ec9-a8bb-a6c7de6adbc3",
   "metadata": {},
   "outputs": [],
   "source": [
    "ρ_f = convert(SparseMatrixCSC{ComplexF64, Int64}, ρ_tot)\n",
    "# Operators are defined on one subspace\n",
    "dims = Int(sqrt(size(ρ_f)[1]))\n",
    "identity_matrix = spdiagm(ones(dims))\n",
    "# Reduce precision\n",
    "a = convert(SparseMatrixCSC{Float32, Int64}, a)\n",
    "ad = convert(SparseMatrixCSC{Float32, Int64}, ad)\n",
    "# Pressure Operator\n",
    "# Decomposed in three parts (constant and rotating)\n",
    "n = ad * a\n",
    "π_a = a * a\n",
    "π_ad = ad * ad\n",
    "π_parts = (n, π_a, π_ad) \n",
    "\n",
    "# Preallocate variables with reduce precision\n",
    "π₁, π₂ = spzeros(ComplexF32, size(n)...), spzeros(ComplexF32, size(n)...)\n",
    "h = spzeros(Float32, size(ρ_f)...)\n",
    "U = spzeros(ComplexF32, size(ρ_f)...)\n",
    "# ρ = convert(SparseMatrixCSC{ComplexF32, Int64}, ρ)  # Convert real sparse matrix to complex sparse\n",
    "alloc = (U, identity_matrix);"
   ]
  },
  {
   "cell_type": "code",
   "execution_count": 34,
   "id": "10d07a4a-81f6-4806-bd40-b2911e9b907f",
   "metadata": {},
   "outputs": [
    {
     "data": {
      "text/plain": [
       "BenchmarkTools.Trial: 428 samples with 1 evaluation per sample.\n",
       " Range \u001b[90m(\u001b[39m\u001b[36m\u001b[1mmin\u001b[22m\u001b[39m … \u001b[35mmax\u001b[39m\u001b[90m):  \u001b[39m\u001b[36m\u001b[1m 8.478 ms\u001b[22m\u001b[39m … \u001b[35m41.298 ms\u001b[39m  \u001b[90m┊\u001b[39m GC \u001b[90m(\u001b[39mmin … max\u001b[90m): \u001b[39m 0.00% … 0.00%\n",
       " Time  \u001b[90m(\u001b[39m\u001b[34m\u001b[1mmedian\u001b[22m\u001b[39m\u001b[90m):     \u001b[39m\u001b[34m\u001b[1m11.379 ms              \u001b[22m\u001b[39m\u001b[90m┊\u001b[39m GC \u001b[90m(\u001b[39mmedian\u001b[90m):    \u001b[39m13.06%\n",
       " Time  \u001b[90m(\u001b[39m\u001b[32m\u001b[1mmean\u001b[22m\u001b[39m ± \u001b[32mσ\u001b[39m\u001b[90m):   \u001b[39m\u001b[32m\u001b[1m11.677 ms\u001b[22m\u001b[39m ± \u001b[32m 2.845 ms\u001b[39m  \u001b[90m┊\u001b[39m GC \u001b[90m(\u001b[39mmean ± σ\u001b[90m):  \u001b[39m14.60% ± 6.89%\n",
       "\n",
       "  \u001b[39m \u001b[39m \u001b[39m \u001b[39m \u001b[39m \u001b[39m▄\u001b[39m▂\u001b[39m \u001b[39m \u001b[39m▂\u001b[39m▃\u001b[39m▂\u001b[39m \u001b[39m▄\u001b[39m \u001b[39m \u001b[39m \u001b[39m█\u001b[39m█\u001b[34m█\u001b[39m\u001b[39m▆\u001b[32m▃\u001b[39m\u001b[39m▁\u001b[39m \u001b[39m▁\u001b[39m \u001b[39m \u001b[39m \u001b[39m▅\u001b[39m \u001b[39m \u001b[39m▅\u001b[39m \u001b[39m \u001b[39m \u001b[39m \u001b[39m \u001b[39m \u001b[39m \u001b[39m \u001b[39m \u001b[39m \u001b[39m \u001b[39m \u001b[39m \u001b[39m \u001b[39m \u001b[39m \u001b[39m \u001b[39m \u001b[39m \u001b[39m \u001b[39m \u001b[39m \u001b[39m \u001b[39m \u001b[39m \u001b[39m \u001b[39m \u001b[39m \u001b[39m \n",
       "  \u001b[39m▄\u001b[39m▁\u001b[39m▄\u001b[39m▄\u001b[39m▄\u001b[39m█\u001b[39m█\u001b[39m▄\u001b[39m▇\u001b[39m█\u001b[39m█\u001b[39m█\u001b[39m█\u001b[39m█\u001b[39m█\u001b[39m▄\u001b[39m▄\u001b[39m█\u001b[39m█\u001b[34m█\u001b[39m\u001b[39m█\u001b[32m█\u001b[39m\u001b[39m█\u001b[39m█\u001b[39m█\u001b[39m▇\u001b[39m▇\u001b[39m▇\u001b[39m█\u001b[39m▆\u001b[39m▇\u001b[39m█\u001b[39m▄\u001b[39m▄\u001b[39m▄\u001b[39m▄\u001b[39m▁\u001b[39m▁\u001b[39m▁\u001b[39m▁\u001b[39m▁\u001b[39m▄\u001b[39m▁\u001b[39m▁\u001b[39m▁\u001b[39m▁\u001b[39m▁\u001b[39m▆\u001b[39m▁\u001b[39m▄\u001b[39m▁\u001b[39m▁\u001b[39m▁\u001b[39m▁\u001b[39m▁\u001b[39m▁\u001b[39m▁\u001b[39m▁\u001b[39m▄\u001b[39m \u001b[39m▇\n",
       "  8.48 ms\u001b[90m      \u001b[39m\u001b[90mHistogram: \u001b[39m\u001b[90m\u001b[1mlog(\u001b[22m\u001b[39m\u001b[90mfrequency\u001b[39m\u001b[90m\u001b[1m)\u001b[22m\u001b[39m\u001b[90m by time\u001b[39m      17.5 ms \u001b[0m\u001b[1m<\u001b[22m\n",
       "\n",
       " Memory estimate\u001b[90m: \u001b[39m\u001b[33m23.36 MiB\u001b[39m, allocs estimate\u001b[90m: \u001b[39m\u001b[33m280\u001b[39m."
      ]
     },
     "execution_count": 34,
     "metadata": {},
     "output_type": "execute_result"
    }
   ],
   "source": [
    "@benchmark adiabaticevolve_2($ρ_f, $(cavity1, cavity2), $Δt, $t, $alloc, $π_parts, $stop1, $stop2)"
   ]
  },
  {
   "cell_type": "code",
   "execution_count": null,
   "id": "5ce2cfce-501a-4e2b-8dea-7e9232b4bc26",
   "metadata": {},
   "outputs": [],
   "source": []
  }
 ],
 "metadata": {
  "kernelspec": {
   "display_name": "Julia 1.11.2",
   "language": "julia",
   "name": "julia-1.11"
  },
  "language_info": {
   "file_extension": ".jl",
   "mimetype": "application/julia",
   "name": "julia",
   "version": "1.11.2"
  }
 },
 "nbformat": 4,
 "nbformat_minor": 5
}
