{
 "cells": [
  {
   "cell_type": "markdown",
   "id": "54509b9c",
   "metadata": {},
   "source": [
    "# Goes through all simulations and print statistics"
   ]
  },
  {
   "cell_type": "code",
   "execution_count": 3,
   "id": "4ab35409",
   "metadata": {},
   "outputs": [
    {
     "name": "stdout",
     "output_type": "stream",
     "text": [
      "There are 1243 simulations in the ledger\n"
     ]
    }
   ],
   "source": [
    "import matplotlib.pyplot as plt\n",
    "import matplotlib.colors as mtplc\n",
    "import pandas as pd\n",
    "import numpy as np\n",
    "import tomli\n",
    "import tqdm\n",
    "import pickle, gzip\n",
    "import seaborn as sns\n",
    "\n",
    "from qutip import Qobj\n",
    "import qutip as qt\n",
    "\n",
    "from pathlib import Path\n",
    "\n",
    "ROOT = Path('simulations')\n",
    "\n",
    "\n",
    "OBSERVABLES = [\n",
    "    \"energy\"\n",
    "]\n",
    "VARIABLE_COLUMNS = [\n",
    "    (\"phaseonium\", \"phi_hot\"),\n",
    "    (\"phaseonium\", \"phi_cold\"),\n",
    "    (\"cavity1\", \"expanding_force\"),\n",
    "    (\"cavity1\", \"compressing_force\"),\n",
    "    (\"cavity2\", \"expanding_force\"),\n",
    "    (\"cavity2\", \"compressing_force\"),\n",
    "    (\"stroke_time\", \"isochore\"),\n",
    "]\n",
    "OMEGA = 5.0\n",
    "T_HOT = 2.5\n",
    "T_COLD = 1.0\n",
    "\n",
    "REGENERATE = True\n",
    "\n",
    "# Colors for the strokes\n",
    "CS1 = \"#454545\"\n",
    "CS2 = \"#888888\"\n",
    "\n",
    "ledger = pd.read_csv(ROOT / 'simulations_ledger.csv', header=[0, 1])\n",
    "ledger[\"Error\"] = [0 for _ in range(len(ledger))]\n",
    "ledger.set_index((\"meta\", \"name\"), inplace=True)\n",
    "print(f\"There are {len(ledger)} simulations in the ledger\")"
   ]
  },
  {
   "cell_type": "code",
   "execution_count": 4,
   "id": "c92c62e3",
   "metadata": {},
   "outputs": [],
   "source": [
    "def assign_forces(config, strokes, sampling_times):\n",
    "    f1_exp = config[\"cavity1\"][\"expanding_force\"]\n",
    "    f1_comp = config[\"cavity1\"][\"compressing_force\"]\n",
    "    f2_exp = config[\"cavity2\"][\"expanding_force\"]\n",
    "    f2_comp = config[\"cavity2\"][\"compressing_force\"]\n",
    "    forces1 = []\n",
    "    forces2 = []\n",
    "    for t in sampling_times:\n",
    "        if t < strokes[0][1]:\n",
    "            forces1.append(0)\n",
    "            forces2.append(0)\n",
    "        elif t < strokes[1][1]:\n",
    "            forces1.append(f1_exp)\n",
    "            forces2.append(f2_exp)\n",
    "        elif t < strokes[2][1]:\n",
    "            forces1.append(0)\n",
    "            forces2.append(0)\n",
    "        elif t < strokes[3][1]:\n",
    "            forces1.append(f1_comp)\n",
    "            forces2.append(f2_comp)\n",
    "        else:\n",
    "            forces1.append(0)\n",
    "            forces2.append(0)\n",
    "\n",
    "    return np.array(forces1), np.array(forces2)\n",
    "\n",
    "\n",
    "def read_configuration(filepath, system_evolution_times):\n",
    "\n",
    "    with open(filepath / \"config.toml\", \"rb\") as config_file:\n",
    "            config = tomli.load(config_file)\n",
    "\n",
    "    ndims = int(config[\"meta\"][\"dims\"])\n",
    "    dt = config[\"meta\"][\"dt\"]\n",
    "    alpha = config[\"cavity1\"][\"alpha\"]\n",
    "    surfaces = (config[\"cavity1\"][\"surface\"], config[\"cavity2\"][\"surface\"])\n",
    "\n",
    "    isochore_steps = config[\"stroke_time\"][\"isochore\"]\n",
    "    isochore_samplings = config[\"samplings\"][\"isochore\"]\n",
    "    adiabatic_samplings = config[\"samplings\"][\"adiabatic\"]\n",
    "\n",
    "    cycle_steps = np.cumsum(np.load(filepath / \"cycle_steps.npy\"))  # Duration of each step\n",
    "    strokes = [\n",
    "        (0, cycle_steps[0]),\n",
    "        (cycle_steps[0] + dt, cycle_steps[1]),\n",
    "        (cycle_steps[1] + dt, cycle_steps[2]),\n",
    "        (cycle_steps[2] + dt, cycle_steps[3]),\n",
    "    ]\n",
    "    \n",
    "    samplings = sorted(system_evolution_times, key=lambda x: int(x))\n",
    "\n",
    "    # Take the left-hand side of each interval\n",
    "    sampling_times = np.array([\n",
    "        *np.linspace(*strokes[0], isochore_samplings),\n",
    "        *np.linspace(*strokes[1], adiabatic_samplings),\n",
    "        *np.linspace(*strokes[2], isochore_samplings),\n",
    "        *np.linspace(*strokes[3], adiabatic_samplings)\n",
    "    ]).flatten()\n",
    "\n",
    "    forces = assign_forces(config, strokes, sampling_times)\n",
    "    sampling_times_dict = {v: int(k) for k, v in zip(samplings, sampling_times)}\n",
    "\n",
    "    return ndims, alpha, surfaces, forces, sampling_times, strokes\n",
    "\n",
    "\n",
    "def create_evolution_dict():\n",
    "    dict = {\n",
    "        \"S\":{\n",
    "            \"State\": [],\n",
    "            \"Hamiltonian\": [],\n",
    "            \"Energy\": [],\n",
    "            \"Entropy\": [],\n",
    "            \"Mutual Information\": [],\n",
    "            \"Work\": {\n",
    "                \"Alicki\": [],\n",
    "                \"Classic\": [],\n",
    "            },\n",
    "            \"Heat\": [],\n",
    "        },\n",
    "        \"S1\": {\n",
    "            \"State\": [],\n",
    "            \"Frequency\": [],\n",
    "            \"Hamiltonian\": [],\n",
    "            \"Energy\": [],\n",
    "            \"Entropy\": [],\n",
    "            \"Work\": {\n",
    "                \"Alicki\": [],\n",
    "                \"Pressure\": [],\n",
    "                \"Classic\": [],\n",
    "            },\n",
    "            \"Heat\": [],\n",
    "        },\n",
    "        \"S2\": {\n",
    "            \"State\": [],\n",
    "            \"Frequency\": [],\n",
    "            \"Hamiltonian\": [],\n",
    "            \"Energy\": [],\n",
    "            \"Entropy\": [],\n",
    "            \"Work\": {\n",
    "                \"Alicki\": [],\n",
    "                \"Pressure\": [],\n",
    "                \"Classic\": [],\n",
    "            },\n",
    "            \"Heat\": [],\n",
    "        },\n",
    "    }\n",
    "    return dict\n",
    "\n",
    "\n",
    "def avg_energy(s:Qobj, h:Qobj) -> float:\n",
    "    return (s * h).tr()\n"
   ]
  },
  {
   "cell_type": "markdown",
   "id": "0c46a340",
   "metadata": {},
   "source": [
    "## Work and Heat"
   ]
  },
  {
   "cell_type": "code",
   "execution_count": 5,
   "id": "fc662f51",
   "metadata": {},
   "outputs": [],
   "source": [
    "# Calculate work and heat by Alicki's definition\n",
    "def alicki_definition(rho, rho_previous, h, h_previous):\n",
    "    if rho_previous is None:\n",
    "        return (0, 0)\n",
    "    \n",
    "    # Energy changes between steps\n",
    "    energy = (rho * h).tr()\n",
    "    energy_previous = (rho_previous * h_previous).tr()\n",
    "    delta_energy = energy - energy_previous\n",
    "    \n",
    "    # Calculate adiabatic energy changes (work)\n",
    "    # This requires calculating energy expectation of previous density matrix with current Hamiltonian\n",
    "    adiabatic_energy = (rho_previous * h).tr()\n",
    "    work = np.real(adiabatic_energy - energy_previous)\n",
    "\n",
    "    # Heat is the remaining energy change\n",
    "    heat = np.real(delta_energy - work)\n",
    "    \n",
    "    return work, heat\n",
    "\n",
    "\n",
    "def calc_pressure_op(ndims, alpha, l, s, t):\n",
    "    idd = Qobj(np.diag(np.ones(ndims)))  # Identity matrix\n",
    "    n = Qobj(np.diag(np.arange(1, ndims + 1)))\n",
    "    a = qt.destroy(ndims)\n",
    "    ad = a.dag()\n",
    "\n",
    "    f = alpha / l\n",
    "\n",
    "    pressure_op = (2*n + idd)\n",
    "    pressure_op -= (a * a * np.exp(-1j*2*f*t)) \n",
    "    pressure_op -= (ad * ad * np.exp(1j*2*f*t))\n",
    "\n",
    "    return alpha / (2 * l**2 * s) * pressure_op\n",
    "\n",
    "\n",
    "def pressure_work(rho, rho_previous, l, l_previous, t, ndims, alpha, s):\n",
    "    if rho_previous is None:\n",
    "        return (0, 0)\n",
    "    \n",
    "    delta_l = l - l_previous\n",
    "    \n",
    "    pressure_op = calc_pressure_op(ndims, alpha, l, s, t)\n",
    "\n",
    "    pressure = qt.expect(pressure_op, rho)\n",
    "\n",
    "    work = pressure * s * delta_l\n",
    "\n",
    "    return work\n",
    "\n",
    "\n",
    "# Compute work via the external force applied to the moving mirror\n",
    "def classical_work(force, l, l_previous):\n",
    "    # Calculate the movement of the cavity\n",
    "    delta_l = l - l_previous\n",
    "\n",
    "    work = force * delta_l\n",
    "\n",
    "    return work\n",
    "\n"
   ]
  },
  {
   "cell_type": "markdown",
   "id": "f7693898",
   "metadata": {},
   "source": [
    "## Plot Functions"
   ]
  },
  {
   "cell_type": "code",
   "execution_count": 6,
   "id": "046ebabe",
   "metadata": {},
   "outputs": [],
   "source": [
    "def plot_observable(x, y, stroke_times=None, ymin=None, ymax=None, label=None, ax=None, title=None, grid=False):\n",
    "    if not ax:\n",
    "        fig, ax = plt.subplots(figsize=(8, 4))\n",
    "        fig.suptitle(title)\n",
    "\n",
    "        if grid:\n",
    "            ax.grid(linestyle=\"--\", alpha=0.2)\n",
    "        \n",
    "        if not ymin:\n",
    "            ymin = min(y) - 0.2*min(y) if min(y) > 0 else min(y) + 0.2*min(y)\n",
    "        ymax = max(y) + 0.2*max(y) if not ymax else ymax\n",
    "        plot_stroke_overlays(ax, ymin, ymax, stroke_times)\n",
    "        return_obj = (fig, ax)\n",
    "    else:\n",
    "        ax.set_title(title)\n",
    "        return_obj = None\n",
    "        \n",
    "    ax.plot(x, y, label=label)\n",
    "    if label:\n",
    "        ax.legend()\n",
    "        \n",
    "    return return_obj\n",
    "\n",
    "\n",
    "def plot_stroke_overlays(ax, ymin, ymax, stroke_times):\n",
    "    ax.fill_betweenx([ymin, ymax], *stroke_times[0], alpha=0.1, fc='r')\n",
    "    ax.fill_betweenx([ymin, ymax], *stroke_times[2], alpha=0.1, fc='b')\n",
    "\n",
    "\n",
    "def plot_evolution(name, observables, sampling_times, stroke_times, show=False, filepath=None):\n",
    "    if name == \"Entropy\":\n",
    "        ys = [\n",
    "            observables[\"S\"][\"Entropy\"],\n",
    "            observables[\"S1\"][\"Entropy\"],\n",
    "            observables[\"S2\"][\"Entropy\"],\n",
    "        ]\n",
    "        label = \"S\"\n",
    "    elif name == \"Mutual Information\":\n",
    "        ys = [\n",
    "            observables[\"S\"][\"Mutual Information\"]\n",
    "        ]\n",
    "        label = \"I\"\n",
    "    elif name == \"Alicki's Work\":\n",
    "        ys = [\n",
    "            observables[\"S\"][\"Work\"][\"Alicki\"],\n",
    "            observables[\"S1\"][\"Work\"][\"Alicki\"],\n",
    "            observables[\"S2\"][\"Work\"][\"Alicki\"],\n",
    "        ]\n",
    "        label = \"W\"\n",
    "    elif name == \"Heat\":\n",
    "        ys = [\n",
    "            observables[\"S\"][\"Heat\"],\n",
    "            observables[\"S1\"][\"Heat\"],\n",
    "            observables[\"S2\"][\"Heat\"],\n",
    "        ]\n",
    "        label = \"Q\"\n",
    "    else:\n",
    "        raise ValueError(f\"Observable {name} not known.\")\n",
    "\n",
    "    fig, ax = plot_observable(sampling_times, ys[0], stroke_times=stroke_times, label=f\"{label}AB\")\n",
    "    if len(ys) > 1:\n",
    "        for y, s in zip(ys, ['A', 'B']):\n",
    "            plot_observable(sampling_times, y, label=f\"{label}{s}\", ax=ax)\n",
    "\n",
    "    ax.set_title(name)\n",
    "\n",
    "    if filepath is not None:\n",
    "        filename = name.lower().replace(\"'\", \"\").replace(\" \", \"_\")\n",
    "        fig.savefig(filepath / f\"visualization/{filename}.png\")\n",
    "        fig.savefig(filepath / f\"visualization/{filename}.pdf\")\n",
    "    \n",
    "    if show:\n",
    "        plt.show()\n",
    "    else:\n",
    "        plt.close()\n",
    "\n",
    "    return None\n",
    "\n",
    "\n",
    "def plot_f_E_cycle(ax, frequencies, energies):\n",
    "    f1, f2 = frequencies\n",
    "    energy1, energy2 = energies\n",
    "    ax.plot(f1, energy1, label=\"$S1$\", c=CS1)\n",
    "    ax.plot(f2, energy2, label=\"$S2$\", c=CS2, ls=\"--\")\n",
    "    ax.text(0.495, 0.49, u'\\u27f2', horizontalalignment='center', alpha=0.1, color=CS2,\n",
    "        verticalalignment='center', transform=ax.transAxes, fontsize=60)\n",
    "    ax.text(0.505, 0.51, u'\\u27f2', horizontalalignment='center', alpha=0.1, color=CS1,\n",
    "        verticalalignment='center', transform=ax.transAxes, fontsize=60)\n",
    "    \n",
    "    # Create the strokes overlays\n",
    "    ymax = max(max(energy1), max(energy2)) + 0.1*max(max(energy1), max(energy2))\n",
    "    ymin = min(min(energy1), min(energy2)) - 0.1*min(min(energy1), min(energy2))\n",
    "    # Heating stroke at maximum frequency\n",
    "    x_heating = max(max(f1), max(f2))\n",
    "    dx_h = 0.0001 * x_heating\n",
    "    # Cooling stroke at minimum frequency\n",
    "    x_cooling = min(min(f1), min(f2))\n",
    "    dx_c = 0.0001 * x_cooling\n",
    "    ax.fill_between([x_cooling - dx_c, x_cooling + dx_c], ymin, ymax, alpha=0.2, fc='b', label=\"Cooling\")\n",
    "    ax.fill_between([x_heating - dx_h, x_heating + dx_h], ymin, ymax, alpha=0.2, fc='r', label=\"Heating\")\n",
    "\n",
    "\n",
    "def plot_obs_evolution(ax, observables, name, sampling_times, stroke_times):\n",
    "    y1, y2 = observables\n",
    "    ax.set_title(name)\n",
    "    ax.plot(sampling_times, y1, c=CS1)\n",
    "    ax.plot(sampling_times, y2, c=CS2, ls=\"--\")\n",
    "    ax.fill_between(stroke_times[0], min(y1), max(y1), alpha=0.1, fc='r')\n",
    "    ax.fill_between(stroke_times[2], min(y1), max(y1), alpha=0.1, fc='b')\n",
    "    \n",
    "\n",
    "def plot_cycles(observables, sampling_times, stroke_times, ax=None, show=True, filepath=None):\n",
    "    f1 = observables[\"S1\"][\"Frequency\"]\n",
    "    f2 = observables[\"S2\"][\"Frequency\"]\n",
    "    energy1 = observables[\"S1\"][\"Energy\"]\n",
    "    energy2 = observables[\"S2\"][\"Energy\"]\n",
    "    \n",
    "    if ax is not None:\n",
    "        plot_f_E_cycle(ax, (f1, f2), (energy1, energy2))    \n",
    "        ax.grid(alpha=0.2, linestyle='--')  \n",
    "    else:\n",
    "        fig, (ax1, ax2, ax3) = plt.subplots(3, layout=\"constrained\", figsize=(8, 10))\n",
    "        fig.suptitle(\"Cavities Cycles\")\n",
    "        plot_f_E_cycle(ax1, (f1, f2), (energy1, energy2))\n",
    "        plot_obs_evolution(ax2, (f1, f2), \"Frequencies\", sampling_times, stroke_times)\n",
    "        plot_obs_evolution(ax3, (energy1, energy2), \"Energies\", sampling_times, stroke_times)\n",
    "\n",
    "        # Place the legend on top of the figure\n",
    "        fig.legend(bbox_to_anchor=(0., 1., 1.05, 0.04), loc=2, ncol=4, mode=\"expand\")\n",
    "        # Add the grids\n",
    "        for ax in (ax1, ax2, ax3):\n",
    "            ax.grid(alpha=0.2, linestyle='--')  \n",
    "\n",
    "    if filepath is not None:        \n",
    "        fig.savefig(filepath / \"visualization/cycle_dynamics.png\")\n",
    "        fig.savefig(filepath / \"visualization/cycle_dynamics.pdf\")\n",
    "    \n",
    "    if show:\n",
    "        plt.show()\n",
    "    else:\n",
    "        plt.close()\n",
    "\n",
    "    return None\n",
    "\n"
   ]
  },
  {
   "cell_type": "markdown",
   "id": "31c9c044",
   "metadata": {},
   "source": [
    "## Extract Good Simulations"
   ]
  },
  {
   "cell_type": "code",
   "execution_count": 7,
   "id": "3febe60d",
   "metadata": {},
   "outputs": [],
   "source": [
    "def extract_simulation_data(file, plots=False):\n",
    "        \n",
    "    system_evolution = np.load(file / \"cascade_evolution_1cycle.npz\")\n",
    "    cavities_evolution = np.load(file / \"cavities_evolution_1cycle.npz\")\n",
    "    \n",
    "    evolution_history = create_evolution_dict()\n",
    "    ndims, alpha, surfaces, forces, sampling_times, stroke_times = read_configuration(file, system_evolution.files)    # Evolution of the multipartite system in terms of Qobj\n",
    "    surf1, surf2 = surfaces\n",
    "    forces1, forces2 = forces\n",
    "    print(len(forces1), end=', ')\n",
    "    print(len(forces2), end=' - ')\n",
    "    print(len(sampling_times))\n",
    "    s_evolution = []\n",
    "    rho_previous = rho1_previous = rho2_previous = None\n",
    "    h_previous = h1_previous = h2_previous = None\n",
    "    l1_previous = alpha / cavities_evolution[\"c1\"][0]\n",
    "    l2_previous = alpha / cavities_evolution[\"c2\"][0]\n",
    "    \n",
    "    for i, t in enumerate(tqdm.tqdm(sampling_times, desc=f\"Extracting data from {file.name}\")):\n",
    "        rho = Qobj(system_evolution[str(i + 1)], dims=[[ndims, ndims], [ndims, ndims]])\n",
    "        s1:Qobj = rho.ptrace(1)\n",
    "        s2:Qobj = rho.ptrace(0)\n",
    "        evolution_history[\"S\"][\"State\"].append(rho)\n",
    "        evolution_history[\"S1\"][\"State\"].append(s1)\n",
    "        evolution_history[\"S2\"][\"State\"].append(s2)\n",
    "\n",
    "        f1:float = cavities_evolution[\"c1\"][i]\n",
    "        l1 = alpha / f1\n",
    "        f2:float = cavities_evolution[\"c2\"][i]\n",
    "        l2 = alpha / f2\n",
    "        evolution_history[\"S1\"][\"Frequency\"].append(f1)\n",
    "        evolution_history[\"S2\"][\"Frequency\"].append(f2)\n",
    "\n",
    "        # Hamiltonian\n",
    "        h1 = Qobj(f1 * np.diag(np.arange(1, ndims + 1)))\n",
    "        h2 = Qobj(f2 * np.diag(np.arange(1, ndims + 1)))\n",
    "        h = qt.tensor(h1, h2)\n",
    "        evolution_history[\"S\"][\"Hamiltonian\"].append(h)\n",
    "        evolution_history[\"S1\"][\"Hamiltonian\"].append(h1)\n",
    "        evolution_history[\"S2\"][\"Hamiltonian\"].append(h2)\n",
    "        \n",
    "        # Observables\n",
    "        evolution_history[\"S\"][\"Energy\"].append(avg_energy(rho, h))\n",
    "        evolution_history[\"S1\"][\"Energy\"].append(avg_energy(s1, h1))\n",
    "        evolution_history[\"S2\"][\"Energy\"].append(avg_energy(s2, h2))\n",
    "        evolution_history[\"S\"][\"Entropy\"].append(qt.entropy_vn(rho))\n",
    "        evolution_history[\"S1\"][\"Entropy\"].append(qt.entropy_vn(s1))\n",
    "        evolution_history[\"S2\"][\"Entropy\"].append(qt.entropy_vn(s2))\n",
    "        evolution_history[\"S\"][\"Mutual Information\"].append(qt.entropy_mutual(rho, 0, 1))\n",
    "\n",
    "        # Work and Heat\n",
    "        alicki_work, alicki_heat = alicki_definition(rho, rho_previous, h, h_previous)\n",
    "        alicki_work1, alicki_heat1 = alicki_definition(s1, rho1_previous, h1, h1_previous)\n",
    "        alicki_work2, alicki_heat2 = alicki_definition(s2, rho2_previous, h2, h2_previous)\n",
    "        evolution_history[\"S\"][\"Work\"][\"Alicki\"].append(alicki_work)\n",
    "        evolution_history[\"S\"][\"Heat\"].append(alicki_heat)\n",
    "        evolution_history[\"S1\"][\"Work\"][\"Alicki\"].append(alicki_work1)\n",
    "        evolution_history[\"S1\"][\"Work\"][\"Pressure\"].append(pressure_work(s1, rho1_previous, l1, l1_previous, t, ndims, alpha, surf1))\n",
    "        evolution_history[\"S1\"][\"Work\"][\"Classic\"].append(classical_work(forces1[i], l1, l1_previous))\n",
    "        evolution_history[\"S1\"][\"Heat\"].append(alicki_heat1)\n",
    "        evolution_history[\"S2\"][\"Work\"][\"Alicki\"].append(alicki_work2)\n",
    "        evolution_history[\"S2\"][\"Work\"][\"Pressure\"].append(pressure_work(s2, rho2_previous, l2, l2_previous, t, ndims, alpha, surf2))\n",
    "        evolution_history[\"S2\"][\"Work\"][\"Classic\"].append(classical_work(forces2[i], l2, l2_previous))\n",
    "        evolution_history[\"S2\"][\"Heat\"].append(alicki_heat2)\n",
    "\n",
    "        rho_previous, rho1_previous, rho2_previous = rho, s1, s2\n",
    "        l1_previous, l2_previous = l1, l2\n",
    "        h_previous, h1_previous, h2_previous = h, h1, h2\n",
    "    \n",
    "    with gzip.open(file / \"evolution_history.pkl.gz\", \"wb\") as zipfile:\n",
    "        pickle.dump(evolution_history, zipfile)\n",
    "\n",
    "    if plots:\n",
    "        plot_cycles(evolution_history, sampling_times, stroke_times, show=False, filepath=file)\n",
    "        plot_evolution(\"Entropy\", evolution_history, sampling_times, stroke_times, show=False, filepath=file)\n",
    "        plot_evolution(\"Mutual Information\", evolution_history, sampling_times, stroke_times, show=False, filepath=file)\n",
    "        plot_evolution(\"Alicki's Work\", evolution_history, sampling_times, stroke_times, show=False, filepath=file)\n",
    "        plot_evolution(\"Heat\", evolution_history, sampling_times, stroke_times, show=False, filepath=file)"
   ]
  },
  {
   "cell_type": "code",
   "execution_count": 14,
   "id": "f49ed65e",
   "metadata": {},
   "outputs": [],
   "source": [
    "ledger_filtered = ledger.loc[(ledger[(\"cavity1\", \"compressing_force\")] == 2.0) & (ledger[(\"cavity2\", \"compressing_force\")] == 2.0)]"
   ]
  },
  {
   "cell_type": "code",
   "execution_count": 15,
   "id": "15c181da",
   "metadata": {},
   "outputs": [
    {
     "name": "stdout",
     "output_type": "stream",
     "text": [
      "Extracting from simulation_1eb02d5b-e\n",
      "300, 300 - 300\n"
     ]
    },
    {
     "name": "stderr",
     "output_type": "stream",
     "text": [
      "Extracting data from simulation_1eb02d5b-e: 100%|██████████| 300/300 [00:18<00:00, 16.53it/s]\n"
     ]
    },
    {
     "name": "stdout",
     "output_type": "stream",
     "text": [
      "Extracting from simulation_28e5ad9f-f\n",
      "300, 300 - 300\n"
     ]
    },
    {
     "name": "stderr",
     "output_type": "stream",
     "text": [
      "Extracting data from simulation_28e5ad9f-f: 100%|██████████| 300/300 [00:19<00:00, 15.56it/s]\n"
     ]
    },
    {
     "name": "stdout",
     "output_type": "stream",
     "text": [
      "Extracting from simulation_9a6c83ff-f\n",
      "300, 300 - 300\n"
     ]
    },
    {
     "name": "stderr",
     "output_type": "stream",
     "text": [
      "Extracting data from simulation_9a6c83ff-f: 100%|██████████| 300/300 [00:17<00:00, 16.92it/s]\n"
     ]
    },
    {
     "name": "stdout",
     "output_type": "stream",
     "text": [
      "Extracting from simulation_79c32921-5\n",
      "300, 300 - 300\n"
     ]
    },
    {
     "name": "stderr",
     "output_type": "stream",
     "text": [
      "Extracting data from simulation_79c32921-5: 100%|██████████| 300/300 [00:21<00:00, 13.77it/s]\n"
     ]
    },
    {
     "name": "stdout",
     "output_type": "stream",
     "text": [
      "Extracting from simulation_e08d8fa5-1\n",
      "300, 300 - 300\n"
     ]
    },
    {
     "name": "stderr",
     "output_type": "stream",
     "text": [
      "Extracting data from simulation_e08d8fa5-1: 100%|██████████| 300/300 [00:23<00:00, 12.67it/s]\n"
     ]
    },
    {
     "name": "stdout",
     "output_type": "stream",
     "text": [
      "Extracting from simulation_9f5b36a9-2\n",
      "300, 300 - 300\n"
     ]
    },
    {
     "name": "stderr",
     "output_type": "stream",
     "text": [
      "Extracting data from simulation_9f5b36a9-2: 100%|██████████| 300/300 [00:21<00:00, 13.89it/s]\n"
     ]
    },
    {
     "name": "stdout",
     "output_type": "stream",
     "text": [
      "Extracting from simulation_7acb5aec-7\n",
      "300, 300 - 300\n"
     ]
    },
    {
     "name": "stderr",
     "output_type": "stream",
     "text": [
      "Extracting data from simulation_7acb5aec-7: 100%|██████████| 300/300 [00:20<00:00, 14.57it/s]\n"
     ]
    },
    {
     "name": "stdout",
     "output_type": "stream",
     "text": [
      "Extracting from simulation_954d9cea-a\n",
      "300, 300 - 300\n"
     ]
    },
    {
     "name": "stderr",
     "output_type": "stream",
     "text": [
      "Extracting data from simulation_954d9cea-a: 100%|██████████| 300/300 [00:20<00:00, 14.88it/s]\n"
     ]
    },
    {
     "name": "stdout",
     "output_type": "stream",
     "text": [
      "Extracting from simulation_a69b9a57-1\n",
      "300, 300 - 300\n"
     ]
    },
    {
     "name": "stderr",
     "output_type": "stream",
     "text": [
      "Extracting data from simulation_a69b9a57-1: 100%|██████████| 300/300 [00:21<00:00, 14.05it/s]\n"
     ]
    },
    {
     "name": "stdout",
     "output_type": "stream",
     "text": [
      "Extracting from simulation_c88d9704-1\n",
      "300, 300 - 300\n"
     ]
    },
    {
     "name": "stderr",
     "output_type": "stream",
     "text": [
      "Extracting data from simulation_c88d9704-1: 100%|██████████| 300/300 [00:18<00:00, 16.39it/s]\n"
     ]
    },
    {
     "name": "stdout",
     "output_type": "stream",
     "text": [
      "Extracting from simulation_b57e534b-c\n",
      "300, 300 - 300\n"
     ]
    },
    {
     "name": "stderr",
     "output_type": "stream",
     "text": [
      "Extracting data from simulation_b57e534b-c: 100%|██████████| 300/300 [00:17<00:00, 17.42it/s]\n"
     ]
    },
    {
     "name": "stdout",
     "output_type": "stream",
     "text": [
      "Extracting from simulation_e1f257d2-e\n",
      "300, 300 - 300\n"
     ]
    },
    {
     "name": "stderr",
     "output_type": "stream",
     "text": [
      "Extracting data from simulation_e1f257d2-e: 100%|██████████| 300/300 [00:30<00:00,  9.90it/s]\n"
     ]
    },
    {
     "name": "stdout",
     "output_type": "stream",
     "text": [
      "Extracting from simulation_b2bf5f2c-1\n",
      "300, 300 - 300\n"
     ]
    },
    {
     "name": "stderr",
     "output_type": "stream",
     "text": [
      "Extracting data from simulation_b2bf5f2c-1: 100%|██████████| 300/300 [00:20<00:00, 14.67it/s]\n"
     ]
    },
    {
     "name": "stdout",
     "output_type": "stream",
     "text": [
      "Extracting from simulation_3ddd6c74-f\n",
      "300, 300 - 300\n"
     ]
    },
    {
     "name": "stderr",
     "output_type": "stream",
     "text": [
      "Extracting data from simulation_3ddd6c74-f: 100%|██████████| 300/300 [00:24<00:00, 12.22it/s]\n"
     ]
    },
    {
     "name": "stdout",
     "output_type": "stream",
     "text": [
      "Extracting from simulation_6c4a62c3-d\n",
      "300, 300 - 300\n"
     ]
    },
    {
     "name": "stderr",
     "output_type": "stream",
     "text": [
      "Extracting data from simulation_6c4a62c3-d: 100%|██████████| 300/300 [00:15<00:00, 18.95it/s]\n"
     ]
    },
    {
     "name": "stdout",
     "output_type": "stream",
     "text": [
      "Extracting from simulation_4f1f1dad-7\n",
      "300, 300 - 300\n"
     ]
    },
    {
     "name": "stderr",
     "output_type": "stream",
     "text": [
      "Extracting data from simulation_4f1f1dad-7: 100%|██████████| 300/300 [00:25<00:00, 11.66it/s]\n"
     ]
    },
    {
     "name": "stdout",
     "output_type": "stream",
     "text": [
      "Extracting from simulation_a8381e55-2\n",
      "300, 300 - 300\n"
     ]
    },
    {
     "name": "stderr",
     "output_type": "stream",
     "text": [
      "Extracting data from simulation_a8381e55-2: 100%|██████████| 300/300 [00:16<00:00, 17.67it/s]\n"
     ]
    },
    {
     "name": "stdout",
     "output_type": "stream",
     "text": [
      "Extracting from simulation_a3bd6a8a-d\n",
      "300, 300 - 300\n"
     ]
    },
    {
     "name": "stderr",
     "output_type": "stream",
     "text": [
      "Extracting data from simulation_a3bd6a8a-d: 100%|██████████| 300/300 [00:15<00:00, 19.04it/s]\n"
     ]
    },
    {
     "name": "stdout",
     "output_type": "stream",
     "text": [
      "Extracting from simulation_abcade03-8\n",
      "300, 300 - 300\n"
     ]
    },
    {
     "name": "stderr",
     "output_type": "stream",
     "text": [
      "Extracting data from simulation_abcade03-8: 100%|██████████| 300/300 [00:17<00:00, 17.47it/s]\n"
     ]
    },
    {
     "name": "stdout",
     "output_type": "stream",
     "text": [
      "Extracting from simulation_8317f4f5-7\n",
      "300, 300 - 300\n"
     ]
    },
    {
     "name": "stderr",
     "output_type": "stream",
     "text": [
      "Extracting data from simulation_8317f4f5-7: 100%|██████████| 300/300 [00:16<00:00, 18.33it/s]\n"
     ]
    },
    {
     "name": "stdout",
     "output_type": "stream",
     "text": [
      "Extracting from simulation_d0515f3d-c\n",
      "300, 300 - 300\n"
     ]
    },
    {
     "name": "stderr",
     "output_type": "stream",
     "text": [
      "Extracting data from simulation_d0515f3d-c: 100%|██████████| 300/300 [00:19<00:00, 15.71it/s]\n"
     ]
    },
    {
     "name": "stdout",
     "output_type": "stream",
     "text": [
      "Extracting from simulation_199dd8a5-e\n",
      "300, 300 - 300\n"
     ]
    },
    {
     "name": "stderr",
     "output_type": "stream",
     "text": [
      "Extracting data from simulation_199dd8a5-e: 100%|██████████| 300/300 [00:14<00:00, 21.25it/s]\n"
     ]
    },
    {
     "name": "stdout",
     "output_type": "stream",
     "text": [
      "Extracting from simulation_7f896454-3\n",
      "300, 300 - 300\n"
     ]
    },
    {
     "name": "stderr",
     "output_type": "stream",
     "text": [
      "Extracting data from simulation_7f896454-3: 100%|██████████| 300/300 [00:21<00:00, 14.23it/s]\n"
     ]
    },
    {
     "name": "stdout",
     "output_type": "stream",
     "text": [
      "Extracting from simulation_5d39afaa-5\n",
      "300, 300 - 300\n"
     ]
    },
    {
     "name": "stderr",
     "output_type": "stream",
     "text": [
      "Extracting data from simulation_5d39afaa-5: 100%|██████████| 300/300 [00:17<00:00, 17.12it/s]\n"
     ]
    },
    {
     "name": "stdout",
     "output_type": "stream",
     "text": [
      "Extracting from simulation_1f857557-7\n",
      "300, 300 - 300\n"
     ]
    },
    {
     "name": "stderr",
     "output_type": "stream",
     "text": [
      "Extracting data from simulation_1f857557-7: 100%|██████████| 300/300 [00:16<00:00, 18.30it/s]\n"
     ]
    },
    {
     "name": "stdout",
     "output_type": "stream",
     "text": [
      "Extracting from simulation_7470908f-6\n",
      "300, 300 - 300\n"
     ]
    },
    {
     "name": "stderr",
     "output_type": "stream",
     "text": [
      "Extracting data from simulation_7470908f-6: 100%|██████████| 300/300 [00:21<00:00, 13.79it/s]\n"
     ]
    },
    {
     "name": "stdout",
     "output_type": "stream",
     "text": [
      "Extracting from simulation_39637549-8\n",
      "300, 300 - 300\n"
     ]
    },
    {
     "name": "stderr",
     "output_type": "stream",
     "text": [
      "Extracting data from simulation_39637549-8: 100%|██████████| 300/300 [00:27<00:00, 10.78it/s]\n"
     ]
    },
    {
     "name": "stdout",
     "output_type": "stream",
     "text": [
      "Extracting from simulation_121881ad-c\n",
      "300, 300 - 300\n"
     ]
    },
    {
     "name": "stderr",
     "output_type": "stream",
     "text": [
      "Extracting data from simulation_121881ad-c: 100%|██████████| 300/300 [00:20<00:00, 14.54it/s]\n"
     ]
    },
    {
     "name": "stdout",
     "output_type": "stream",
     "text": [
      "Extracting from simulation_d0abab11-1\n",
      "300, 300 - 300\n"
     ]
    },
    {
     "name": "stderr",
     "output_type": "stream",
     "text": [
      "Extracting data from simulation_d0abab11-1: 100%|██████████| 300/300 [00:26<00:00, 11.35it/s]\n"
     ]
    },
    {
     "name": "stdout",
     "output_type": "stream",
     "text": [
      "Extracting from simulation_f33263a1-4\n",
      "300, 300 - 300\n"
     ]
    },
    {
     "name": "stderr",
     "output_type": "stream",
     "text": [
      "Extracting data from simulation_f33263a1-4: 100%|██████████| 300/300 [00:14<00:00, 21.37it/s]\n"
     ]
    },
    {
     "name": "stdout",
     "output_type": "stream",
     "text": [
      "Extracting from simulation_0b288d98-f\n",
      "300, 300 - 300\n"
     ]
    },
    {
     "name": "stderr",
     "output_type": "stream",
     "text": [
      "Extracting data from simulation_0b288d98-f: 100%|██████████| 300/300 [00:17<00:00, 16.68it/s]\n"
     ]
    },
    {
     "name": "stdout",
     "output_type": "stream",
     "text": [
      "Extracting from simulation_2e7e99dc-4\n",
      "300, 300 - 300\n"
     ]
    },
    {
     "name": "stderr",
     "output_type": "stream",
     "text": [
      "Extracting data from simulation_2e7e99dc-4: 100%|██████████| 300/300 [00:17<00:00, 17.18it/s]\n"
     ]
    },
    {
     "name": "stdout",
     "output_type": "stream",
     "text": [
      "Extracting from simulation_7aae8bbf-3\n",
      "300, 300 - 300\n"
     ]
    },
    {
     "name": "stderr",
     "output_type": "stream",
     "text": [
      "Extracting data from simulation_7aae8bbf-3: 100%|██████████| 300/300 [00:16<00:00, 18.09it/s]\n"
     ]
    },
    {
     "name": "stdout",
     "output_type": "stream",
     "text": [
      "Extracting from simulation_d10c2728-c\n",
      "300, 300 - 300\n"
     ]
    },
    {
     "name": "stderr",
     "output_type": "stream",
     "text": [
      "Extracting data from simulation_d10c2728-c: 100%|██████████| 300/300 [00:18<00:00, 16.42it/s]\n"
     ]
    },
    {
     "name": "stdout",
     "output_type": "stream",
     "text": [
      "Extracting from simulation_c9006398-8\n",
      "300, 300 - 300\n"
     ]
    },
    {
     "name": "stderr",
     "output_type": "stream",
     "text": [
      "Extracting data from simulation_c9006398-8: 100%|██████████| 300/300 [00:18<00:00, 15.80it/s]\n"
     ]
    },
    {
     "name": "stdout",
     "output_type": "stream",
     "text": [
      "Extracting from simulation_b414e0d2-e\n",
      "300, 300 - 300\n"
     ]
    },
    {
     "name": "stderr",
     "output_type": "stream",
     "text": [
      "Extracting data from simulation_b414e0d2-e: 100%|██████████| 300/300 [00:17<00:00, 16.72it/s]\n"
     ]
    },
    {
     "name": "stdout",
     "output_type": "stream",
     "text": [
      "Extracting from simulation_249b69c1-6\n",
      "300, 300 - 300\n"
     ]
    },
    {
     "name": "stderr",
     "output_type": "stream",
     "text": [
      "Extracting data from simulation_249b69c1-6: 100%|██████████| 300/300 [00:22<00:00, 13.19it/s]\n"
     ]
    },
    {
     "name": "stdout",
     "output_type": "stream",
     "text": [
      "Extracting from simulation_da1cc813-8\n",
      "300, 300 - 300\n"
     ]
    },
    {
     "name": "stderr",
     "output_type": "stream",
     "text": [
      "Extracting data from simulation_da1cc813-8: 100%|██████████| 300/300 [00:13<00:00, 22.55it/s]\n"
     ]
    },
    {
     "name": "stdout",
     "output_type": "stream",
     "text": [
      "Extracting from simulation_fd84a1ad-f\n",
      "300, 300 - 300\n"
     ]
    },
    {
     "name": "stderr",
     "output_type": "stream",
     "text": [
      "Extracting data from simulation_fd84a1ad-f: 100%|██████████| 300/300 [00:13<00:00, 23.01it/s]\n"
     ]
    },
    {
     "name": "stdout",
     "output_type": "stream",
     "text": [
      "Extracting from simulation_e65b88b9-5\n",
      "300, 300 - 300\n"
     ]
    },
    {
     "name": "stderr",
     "output_type": "stream",
     "text": [
      "Extracting data from simulation_e65b88b9-5: 100%|██████████| 300/300 [00:15<00:00, 19.81it/s]\n"
     ]
    },
    {
     "name": "stdout",
     "output_type": "stream",
     "text": [
      "Extracting from simulation_dec56aed-5\n",
      "300, 300 - 300\n"
     ]
    },
    {
     "name": "stderr",
     "output_type": "stream",
     "text": [
      "Extracting data from simulation_dec56aed-5: 100%|██████████| 300/300 [00:17<00:00, 17.54it/s]\n"
     ]
    },
    {
     "name": "stdout",
     "output_type": "stream",
     "text": [
      "Extracting from simulation_6131a0b9-0\n",
      "300, 300 - 300\n"
     ]
    },
    {
     "name": "stderr",
     "output_type": "stream",
     "text": [
      "Extracting data from simulation_6131a0b9-0: 100%|██████████| 300/300 [00:15<00:00, 19.41it/s]\n"
     ]
    },
    {
     "name": "stdout",
     "output_type": "stream",
     "text": [
      "Extracting from simulation_23a38cad-f\n",
      "300, 300 - 300\n"
     ]
    },
    {
     "name": "stderr",
     "output_type": "stream",
     "text": [
      "Extracting data from simulation_23a38cad-f: 100%|██████████| 300/300 [00:17<00:00, 17.09it/s]\n"
     ]
    },
    {
     "name": "stdout",
     "output_type": "stream",
     "text": [
      "Extracting from simulation_23e8c1bb-a\n",
      "300, 300 - 300\n"
     ]
    },
    {
     "name": "stderr",
     "output_type": "stream",
     "text": [
      "Extracting data from simulation_23e8c1bb-a: 100%|██████████| 300/300 [00:18<00:00, 16.03it/s]\n"
     ]
    },
    {
     "name": "stdout",
     "output_type": "stream",
     "text": [
      "Extracting from simulation_c7f98d7e-6\n",
      "300, 300 - 300\n"
     ]
    },
    {
     "name": "stderr",
     "output_type": "stream",
     "text": [
      "Extracting data from simulation_c7f98d7e-6: 100%|██████████| 300/300 [00:26<00:00, 11.51it/s]\n"
     ]
    },
    {
     "name": "stdout",
     "output_type": "stream",
     "text": [
      "Extracting from simulation_31d2095c-5\n",
      "300, 300 - 300\n"
     ]
    },
    {
     "name": "stderr",
     "output_type": "stream",
     "text": [
      "Extracting data from simulation_31d2095c-5: 100%|██████████| 300/300 [00:25<00:00, 11.58it/s]\n"
     ]
    },
    {
     "name": "stdout",
     "output_type": "stream",
     "text": [
      "Extracting from simulation_8f2a6e7e-7\n",
      "300, 300 - 300\n"
     ]
    },
    {
     "name": "stderr",
     "output_type": "stream",
     "text": [
      "Extracting data from simulation_8f2a6e7e-7: 100%|██████████| 300/300 [00:26<00:00, 11.17it/s]\n"
     ]
    },
    {
     "name": "stdout",
     "output_type": "stream",
     "text": [
      "Extracting from simulation_b5b25531-c\n",
      "300, 300 - 300\n"
     ]
    },
    {
     "name": "stderr",
     "output_type": "stream",
     "text": [
      "Extracting data from simulation_b5b25531-c: 100%|██████████| 300/300 [00:16<00:00, 18.52it/s]\n"
     ]
    },
    {
     "name": "stdout",
     "output_type": "stream",
     "text": [
      "Extracting from simulation_67e27ffc-5\n",
      "300, 300 - 300\n"
     ]
    },
    {
     "name": "stderr",
     "output_type": "stream",
     "text": [
      "Extracting data from simulation_67e27ffc-5: 100%|██████████| 300/300 [00:35<00:00,  8.37it/s]\n"
     ]
    },
    {
     "name": "stdout",
     "output_type": "stream",
     "text": [
      "Extracting from simulation_4cf92c81-c\n",
      "300, 300 - 300\n"
     ]
    },
    {
     "name": "stderr",
     "output_type": "stream",
     "text": [
      "Extracting data from simulation_4cf92c81-c: 100%|██████████| 300/300 [00:14<00:00, 20.22it/s]\n"
     ]
    },
    {
     "name": "stdout",
     "output_type": "stream",
     "text": [
      "Extracting from simulation_0dede544-5\n",
      "300, 300 - 300\n"
     ]
    },
    {
     "name": "stderr",
     "output_type": "stream",
     "text": [
      "Extracting data from simulation_0dede544-5: 100%|██████████| 300/300 [00:17<00:00, 17.44it/s]\n"
     ]
    },
    {
     "name": "stdout",
     "output_type": "stream",
     "text": [
      "Extracting from simulation_797b4cb5-b\n",
      "300, 300 - 300\n"
     ]
    },
    {
     "name": "stderr",
     "output_type": "stream",
     "text": [
      "Extracting data from simulation_797b4cb5-b: 100%|██████████| 300/300 [00:17<00:00, 16.85it/s]\n"
     ]
    },
    {
     "name": "stdout",
     "output_type": "stream",
     "text": [
      "Extracting from simulation_73610874-f\n",
      "300, 300 - 300\n"
     ]
    },
    {
     "name": "stderr",
     "output_type": "stream",
     "text": [
      "Extracting data from simulation_73610874-f: 100%|██████████| 300/300 [00:16<00:00, 18.35it/s]\n"
     ]
    },
    {
     "name": "stdout",
     "output_type": "stream",
     "text": [
      "Extracting from simulation_7db36c13-d\n",
      "300, 300 - 300\n"
     ]
    },
    {
     "name": "stderr",
     "output_type": "stream",
     "text": [
      "Extracting data from simulation_7db36c13-d: 100%|██████████| 300/300 [00:16<00:00, 18.00it/s]\n"
     ]
    },
    {
     "name": "stdout",
     "output_type": "stream",
     "text": [
      "Extracting from simulation_5d458942-a\n",
      "300, 300 - 300\n"
     ]
    },
    {
     "name": "stderr",
     "output_type": "stream",
     "text": [
      "Extracting data from simulation_5d458942-a: 100%|██████████| 300/300 [00:17<00:00, 17.46it/s]\n"
     ]
    },
    {
     "name": "stdout",
     "output_type": "stream",
     "text": [
      "Extracting from simulation_79fb3d07-3\n",
      "300, 300 - 300\n"
     ]
    },
    {
     "name": "stderr",
     "output_type": "stream",
     "text": [
      "Extracting data from simulation_79fb3d07-3: 100%|██████████| 300/300 [00:16<00:00, 17.75it/s]\n"
     ]
    },
    {
     "name": "stdout",
     "output_type": "stream",
     "text": [
      "Extracting from simulation_b78c409d-3\n",
      "300, 300 - 300\n"
     ]
    },
    {
     "name": "stderr",
     "output_type": "stream",
     "text": [
      "Extracting data from simulation_b78c409d-3: 100%|██████████| 300/300 [00:20<00:00, 14.92it/s]\n"
     ]
    },
    {
     "name": "stdout",
     "output_type": "stream",
     "text": [
      "Extracting from simulation_de79f28a-d\n",
      "300, 300 - 300\n"
     ]
    },
    {
     "name": "stderr",
     "output_type": "stream",
     "text": [
      "Extracting data from simulation_de79f28a-d: 100%|██████████| 300/300 [00:19<00:00, 15.24it/s]\n"
     ]
    },
    {
     "name": "stdout",
     "output_type": "stream",
     "text": [
      "Extracting from simulation_d114071d-6\n",
      "300, 300 - 300\n"
     ]
    },
    {
     "name": "stderr",
     "output_type": "stream",
     "text": [
      "Extracting data from simulation_d114071d-6: 100%|██████████| 300/300 [00:23<00:00, 12.65it/s]\n"
     ]
    },
    {
     "name": "stdout",
     "output_type": "stream",
     "text": [
      "Extracting from simulation_69edef9a-7\n",
      "300, 300 - 300\n"
     ]
    },
    {
     "name": "stderr",
     "output_type": "stream",
     "text": [
      "Extracting data from simulation_69edef9a-7: 100%|██████████| 300/300 [00:20<00:00, 14.96it/s]\n"
     ]
    },
    {
     "name": "stdout",
     "output_type": "stream",
     "text": [
      "Extracting from simulation_e545a744-8\n",
      "300, 300 - 300\n"
     ]
    },
    {
     "name": "stderr",
     "output_type": "stream",
     "text": [
      "Extracting data from simulation_e545a744-8: 100%|██████████| 300/300 [00:18<00:00, 16.62it/s]\n"
     ]
    },
    {
     "name": "stdout",
     "output_type": "stream",
     "text": [
      "Extracting from simulation_e37b7ffc-3\n",
      "300, 300 - 300\n"
     ]
    },
    {
     "name": "stderr",
     "output_type": "stream",
     "text": [
      "Extracting data from simulation_e37b7ffc-3: 100%|██████████| 300/300 [00:35<00:00,  8.41it/s]\n"
     ]
    },
    {
     "name": "stdout",
     "output_type": "stream",
     "text": [
      "Extracting from simulation_9c66828e-f\n",
      "300, 300 - 300\n"
     ]
    },
    {
     "name": "stderr",
     "output_type": "stream",
     "text": [
      "Extracting data from simulation_9c66828e-f: 100%|██████████| 300/300 [00:17<00:00, 17.07it/s]\n"
     ]
    },
    {
     "name": "stdout",
     "output_type": "stream",
     "text": [
      "Extracting from simulation_677fa2b9-4\n",
      "300, 300 - 300\n"
     ]
    },
    {
     "name": "stderr",
     "output_type": "stream",
     "text": [
      "Extracting data from simulation_677fa2b9-4: 100%|██████████| 300/300 [00:19<00:00, 15.59it/s]\n"
     ]
    },
    {
     "name": "stdout",
     "output_type": "stream",
     "text": [
      "Extracting from simulation_c7bc14ba-0\n",
      "300, 300 - 300\n"
     ]
    },
    {
     "name": "stderr",
     "output_type": "stream",
     "text": [
      "Extracting data from simulation_c7bc14ba-0: 100%|██████████| 300/300 [00:22<00:00, 13.25it/s]\n"
     ]
    },
    {
     "name": "stdout",
     "output_type": "stream",
     "text": [
      "Extracting from simulation_3aeb9eaa-3\n",
      "300, 300 - 300\n"
     ]
    },
    {
     "name": "stderr",
     "output_type": "stream",
     "text": [
      "Extracting data from simulation_3aeb9eaa-3: 100%|██████████| 300/300 [00:20<00:00, 14.38it/s]\n"
     ]
    },
    {
     "name": "stdout",
     "output_type": "stream",
     "text": [
      "Extracting from simulation_2aba5c99-e\n",
      "300, 300 - 300\n"
     ]
    },
    {
     "name": "stderr",
     "output_type": "stream",
     "text": [
      "Extracting data from simulation_2aba5c99-e: 100%|██████████| 300/300 [00:17<00:00, 17.10it/s]\n"
     ]
    },
    {
     "name": "stdout",
     "output_type": "stream",
     "text": [
      "Extracting from simulation_1c19b159-c\n",
      "300, 300 - 300\n"
     ]
    },
    {
     "name": "stderr",
     "output_type": "stream",
     "text": [
      "Extracting data from simulation_1c19b159-c: 100%|██████████| 300/300 [00:26<00:00, 11.46it/s]\n"
     ]
    },
    {
     "name": "stdout",
     "output_type": "stream",
     "text": [
      "Extracting from simulation_b19b26b5-a\n",
      "300, 300 - 300\n"
     ]
    },
    {
     "name": "stderr",
     "output_type": "stream",
     "text": [
      "Extracting data from simulation_b19b26b5-a: 100%|██████████| 300/300 [01:32<00:00,  3.24it/s]\n"
     ]
    },
    {
     "name": "stdout",
     "output_type": "stream",
     "text": [
      "Extracting from simulation_b429bc0f-7\n",
      "300, 300 - 300\n"
     ]
    },
    {
     "name": "stderr",
     "output_type": "stream",
     "text": [
      "Extracting data from simulation_b429bc0f-7: 100%|██████████| 300/300 [00:21<00:00, 13.99it/s]\n"
     ]
    },
    {
     "name": "stdout",
     "output_type": "stream",
     "text": [
      "Extracting from simulation_76e06bc3-4\n",
      "300, 300 - 300\n"
     ]
    },
    {
     "name": "stderr",
     "output_type": "stream",
     "text": [
      "Extracting data from simulation_76e06bc3-4: 100%|██████████| 300/300 [00:17<00:00, 17.23it/s]\n"
     ]
    },
    {
     "name": "stdout",
     "output_type": "stream",
     "text": [
      "Extracting from simulation_3705f7f3-0\n",
      "300, 300 - 300\n"
     ]
    },
    {
     "name": "stderr",
     "output_type": "stream",
     "text": [
      "Extracting data from simulation_3705f7f3-0: 100%|██████████| 300/300 [00:18<00:00, 16.11it/s]\n"
     ]
    },
    {
     "name": "stdout",
     "output_type": "stream",
     "text": [
      "Extracting from simulation_31a6bf61-d\n",
      "300, 300 - 300\n"
     ]
    },
    {
     "name": "stderr",
     "output_type": "stream",
     "text": [
      "Extracting data from simulation_31a6bf61-d: 100%|██████████| 300/300 [00:21<00:00, 14.03it/s]\n"
     ]
    },
    {
     "name": "stdout",
     "output_type": "stream",
     "text": [
      "Extracting from simulation_8e8f481d-f\n",
      "300, 300 - 300\n"
     ]
    },
    {
     "name": "stderr",
     "output_type": "stream",
     "text": [
      "Extracting data from simulation_8e8f481d-f: 100%|██████████| 300/300 [00:23<00:00, 12.76it/s]\n"
     ]
    },
    {
     "name": "stdout",
     "output_type": "stream",
     "text": [
      "Extracting from simulation_770ab42d-3\n",
      "300, 300 - 300\n"
     ]
    },
    {
     "name": "stderr",
     "output_type": "stream",
     "text": [
      "Extracting data from simulation_770ab42d-3: 100%|██████████| 300/300 [00:27<00:00, 10.92it/s]\n"
     ]
    },
    {
     "name": "stdout",
     "output_type": "stream",
     "text": [
      "Extracting from simulation_a13f928a-f\n",
      "300, 300 - 300\n"
     ]
    },
    {
     "name": "stderr",
     "output_type": "stream",
     "text": [
      "Extracting data from simulation_a13f928a-f: 100%|██████████| 300/300 [00:17<00:00, 17.21it/s]\n"
     ]
    },
    {
     "name": "stdout",
     "output_type": "stream",
     "text": [
      "Extracting from simulation_aa05eb5d-5\n",
      "300, 300 - 300\n"
     ]
    },
    {
     "name": "stderr",
     "output_type": "stream",
     "text": [
      "Extracting data from simulation_aa05eb5d-5: 100%|██████████| 300/300 [00:22<00:00, 13.16it/s]\n"
     ]
    },
    {
     "name": "stdout",
     "output_type": "stream",
     "text": [
      "Extracting from simulation_7b688c73-2\n",
      "300, 300 - 300\n"
     ]
    },
    {
     "name": "stderr",
     "output_type": "stream",
     "text": [
      "Extracting data from simulation_7b688c73-2: 100%|██████████| 300/300 [00:14<00:00, 20.07it/s]\n"
     ]
    },
    {
     "name": "stdout",
     "output_type": "stream",
     "text": [
      "Extracting from simulation_0855b0d3-9\n",
      "300, 300 - 300\n"
     ]
    },
    {
     "name": "stderr",
     "output_type": "stream",
     "text": [
      "Extracting data from simulation_0855b0d3-9: 100%|██████████| 300/300 [00:23<00:00, 13.00it/s]\n"
     ]
    },
    {
     "name": "stdout",
     "output_type": "stream",
     "text": [
      "Extracting from simulation_3cad5082-6\n",
      "300, 300 - 300\n"
     ]
    },
    {
     "name": "stderr",
     "output_type": "stream",
     "text": [
      "Extracting data from simulation_3cad5082-6: 100%|██████████| 300/300 [00:42<00:00,  7.11it/s]\n"
     ]
    },
    {
     "name": "stdout",
     "output_type": "stream",
     "text": [
      "Extracting from simulation_623be014-6\n",
      "300, 300 - 300\n"
     ]
    },
    {
     "name": "stderr",
     "output_type": "stream",
     "text": [
      "Extracting data from simulation_623be014-6: 100%|██████████| 300/300 [00:34<00:00,  8.59it/s]\n"
     ]
    },
    {
     "name": "stdout",
     "output_type": "stream",
     "text": [
      "Extracting from simulation_226913ec-e\n",
      "300, 300 - 300\n"
     ]
    },
    {
     "name": "stderr",
     "output_type": "stream",
     "text": [
      "Extracting data from simulation_226913ec-e: 100%|██████████| 300/300 [00:19<00:00, 15.54it/s]\n"
     ]
    },
    {
     "name": "stdout",
     "output_type": "stream",
     "text": [
      "Extracting from simulation_12093f49-8\n",
      "300, 300 - 300\n"
     ]
    },
    {
     "name": "stderr",
     "output_type": "stream",
     "text": [
      "Extracting data from simulation_12093f49-8: 100%|██████████| 300/300 [00:20<00:00, 14.42it/s]\n"
     ]
    },
    {
     "name": "stdout",
     "output_type": "stream",
     "text": [
      "Extracting from simulation_8968b9da-4\n",
      "300, 300 - 300\n"
     ]
    },
    {
     "name": "stderr",
     "output_type": "stream",
     "text": [
      "Extracting data from simulation_8968b9da-4: 100%|██████████| 300/300 [00:15<00:00, 19.97it/s]\n"
     ]
    },
    {
     "name": "stdout",
     "output_type": "stream",
     "text": [
      "Extracting from simulation_420f7f85-5\n",
      "300, 300 - 300\n"
     ]
    },
    {
     "name": "stderr",
     "output_type": "stream",
     "text": [
      "Extracting data from simulation_420f7f85-5: 100%|██████████| 300/300 [00:17<00:00, 17.33it/s]\n"
     ]
    },
    {
     "name": "stdout",
     "output_type": "stream",
     "text": [
      "Extracting from simulation_26283a1e-8\n",
      "300, 300 - 300\n"
     ]
    },
    {
     "name": "stderr",
     "output_type": "stream",
     "text": [
      "Extracting data from simulation_26283a1e-8: 100%|██████████| 300/300 [00:23<00:00, 12.81it/s]\n"
     ]
    },
    {
     "name": "stdout",
     "output_type": "stream",
     "text": [
      "Extracting from simulation_4f0d53ca-a\n",
      "300, 300 - 300\n"
     ]
    },
    {
     "name": "stderr",
     "output_type": "stream",
     "text": [
      "Extracting data from simulation_4f0d53ca-a: 100%|██████████| 300/300 [00:27<00:00, 11.04it/s]\n"
     ]
    },
    {
     "name": "stdout",
     "output_type": "stream",
     "text": [
      "Extracting from simulation_dad88422-0\n",
      "300, 300 - 300\n"
     ]
    },
    {
     "name": "stderr",
     "output_type": "stream",
     "text": [
      "Extracting data from simulation_dad88422-0: 100%|██████████| 300/300 [00:21<00:00, 13.88it/s]\n"
     ]
    },
    {
     "name": "stdout",
     "output_type": "stream",
     "text": [
      "Extracting from simulation_9b166bbe-b\n",
      "300, 300 - 300\n"
     ]
    },
    {
     "name": "stderr",
     "output_type": "stream",
     "text": [
      "Extracting data from simulation_9b166bbe-b: 100%|██████████| 300/300 [00:19<00:00, 15.76it/s]\n"
     ]
    },
    {
     "name": "stdout",
     "output_type": "stream",
     "text": [
      "There are a total of 89 finished simulations.\n"
     ]
    }
   ],
   "source": [
    "simulation_folders = [ROOT / f\"simulation_{n}\" for n in ledger_filtered.index]\n",
    "good_simulations = []\n",
    "for f in simulation_folders:\n",
    "    if not f.is_dir() or not (f / \"cascade_evolution_1cycle.npz\").exists():\n",
    "        # Go to the next filename\n",
    "        ledger.loc[f.name.replace(\"simulation_\", \"\"), \"Error\"] = 1\n",
    "        continue\n",
    "    else:\n",
    "        ledger.loc[f.name.replace(\"simulation_\", \"\"), \"Error\"] = 0\n",
    "\n",
    "    if REGENERATE:\n",
    "        print(f\"Extracting from {f.name}\")\n",
    "        try:\n",
    "            extract_simulation_data(f, plots=True)\n",
    "        except FileNotFoundError as e:\n",
    "            print(f\"Simulation {f.name} failed with error: {e}\")\n",
    "            continue\n",
    "    if (f / \"evolution_history.pkl.gz\").exists():\n",
    "        good_simulations.append(f.name)\n",
    "\n",
    "print(f\"There are a total of {len(good_simulations)} finished simulations.\")"
   ]
  },
  {
   "cell_type": "markdown",
   "id": "c37d2cd7",
   "metadata": {},
   "source": [
    "Sometimes, some simulation is skipped but it's still needed.\n",
    "To resume their calculations, we must remove the report.txt file from the respective folder."
   ]
  },
  {
   "cell_type": "code",
   "execution_count": null,
   "id": "1bcb7bfd",
   "metadata": {},
   "outputs": [
    {
     "ename": "FileNotFoundError",
     "evalue": "[Errno 2] No such file or directory: 'simulations/simulation_1eb02d5b-e'",
     "output_type": "error",
     "traceback": [
      "\u001b[0;31m---------------------------------------------------------------------------\u001b[0m",
      "\u001b[0;31mFileNotFoundError\u001b[0m                         Traceback (most recent call last)",
      "File \u001b[0;32m~/miniconda3/lib/python3.12/shutil.py:886\u001b[0m, in \u001b[0;36mmove\u001b[0;34m(src, dst, copy_function)\u001b[0m\n\u001b[1;32m    885\u001b[0m \u001b[38;5;28;01mtry\u001b[39;00m:\n\u001b[0;32m--> 886\u001b[0m     \u001b[43mos\u001b[49m\u001b[38;5;241;43m.\u001b[39;49m\u001b[43mrename\u001b[49m\u001b[43m(\u001b[49m\u001b[43msrc\u001b[49m\u001b[43m,\u001b[49m\u001b[43m \u001b[49m\u001b[43mreal_dst\u001b[49m\u001b[43m)\u001b[49m\n\u001b[1;32m    887\u001b[0m \u001b[38;5;28;01mexcept\u001b[39;00m \u001b[38;5;167;01mOSError\u001b[39;00m:\n",
      "\u001b[0;31mFileNotFoundError\u001b[0m: [Errno 2] No such file or directory: 'simulations/simulation_1eb02d5b-e' -> '../good_simulations/simulation_1eb02d5b-e'",
      "\nDuring handling of the above exception, another exception occurred:\n",
      "\u001b[0;31mFileNotFoundError\u001b[0m                         Traceback (most recent call last)",
      "Cell \u001b[0;32mIn[19], line 7\u001b[0m\n\u001b[1;32m      4\u001b[0m download_folder\u001b[38;5;241m.\u001b[39mmkdir(parents\u001b[38;5;241m=\u001b[39m\u001b[38;5;28;01mTrue\u001b[39;00m, exist_ok\u001b[38;5;241m=\u001b[39m\u001b[38;5;28;01mTrue\u001b[39;00m)\n\u001b[1;32m      6\u001b[0m \u001b[38;5;28;01mfor\u001b[39;00m folder \u001b[38;5;129;01min\u001b[39;00m good_simulations:\n\u001b[0;32m----> 7\u001b[0m     \u001b[43mshutil\u001b[49m\u001b[38;5;241;43m.\u001b[39;49m\u001b[43mmove\u001b[49m\u001b[43m(\u001b[49m\u001b[43mROOT\u001b[49m\u001b[43m \u001b[49m\u001b[38;5;241;43m/\u001b[39;49m\u001b[43m \u001b[49m\u001b[43mfolder\u001b[49m\u001b[43m,\u001b[49m\u001b[43m \u001b[49m\u001b[43mdownload_folder\u001b[49m\u001b[43m)\u001b[49m\n",
      "File \u001b[0;32m~/miniconda3/lib/python3.12/shutil.py:906\u001b[0m, in \u001b[0;36mmove\u001b[0;34m(src, dst, copy_function)\u001b[0m\n\u001b[1;32m    904\u001b[0m         rmtree(src)\n\u001b[1;32m    905\u001b[0m     \u001b[38;5;28;01melse\u001b[39;00m:\n\u001b[0;32m--> 906\u001b[0m         \u001b[43mcopy_function\u001b[49m\u001b[43m(\u001b[49m\u001b[43msrc\u001b[49m\u001b[43m,\u001b[49m\u001b[43m \u001b[49m\u001b[43mreal_dst\u001b[49m\u001b[43m)\u001b[49m\n\u001b[1;32m    907\u001b[0m         os\u001b[38;5;241m.\u001b[39munlink(src)\n\u001b[1;32m    908\u001b[0m \u001b[38;5;28;01mreturn\u001b[39;00m real_dst\n",
      "File \u001b[0;32m~/miniconda3/lib/python3.12/shutil.py:475\u001b[0m, in \u001b[0;36mcopy2\u001b[0;34m(src, dst, follow_symlinks)\u001b[0m\n\u001b[1;32m    472\u001b[0m         \u001b[38;5;28;01melse\u001b[39;00m:\n\u001b[1;32m    473\u001b[0m             \u001b[38;5;28;01mraise\u001b[39;00m\n\u001b[0;32m--> 475\u001b[0m \u001b[43mcopyfile\u001b[49m\u001b[43m(\u001b[49m\u001b[43msrc\u001b[49m\u001b[43m,\u001b[49m\u001b[43m \u001b[49m\u001b[43mdst\u001b[49m\u001b[43m,\u001b[49m\u001b[43m \u001b[49m\u001b[43mfollow_symlinks\u001b[49m\u001b[38;5;241;43m=\u001b[39;49m\u001b[43mfollow_symlinks\u001b[49m\u001b[43m)\u001b[49m\n\u001b[1;32m    476\u001b[0m copystat(src, dst, follow_symlinks\u001b[38;5;241m=\u001b[39mfollow_symlinks)\n\u001b[1;32m    477\u001b[0m \u001b[38;5;28;01mreturn\u001b[39;00m dst\n",
      "File \u001b[0;32m~/miniconda3/lib/python3.12/shutil.py:260\u001b[0m, in \u001b[0;36mcopyfile\u001b[0;34m(src, dst, follow_symlinks)\u001b[0m\n\u001b[1;32m    258\u001b[0m     os\u001b[38;5;241m.\u001b[39msymlink(os\u001b[38;5;241m.\u001b[39mreadlink(src), dst)\n\u001b[1;32m    259\u001b[0m \u001b[38;5;28;01melse\u001b[39;00m:\n\u001b[0;32m--> 260\u001b[0m     \u001b[38;5;28;01mwith\u001b[39;00m \u001b[38;5;28;43mopen\u001b[39;49m\u001b[43m(\u001b[49m\u001b[43msrc\u001b[49m\u001b[43m,\u001b[49m\u001b[43m \u001b[49m\u001b[38;5;124;43m'\u001b[39;49m\u001b[38;5;124;43mrb\u001b[39;49m\u001b[38;5;124;43m'\u001b[39;49m\u001b[43m)\u001b[49m \u001b[38;5;28;01mas\u001b[39;00m fsrc:\n\u001b[1;32m    261\u001b[0m         \u001b[38;5;28;01mtry\u001b[39;00m:\n\u001b[1;32m    262\u001b[0m             \u001b[38;5;28;01mwith\u001b[39;00m \u001b[38;5;28mopen\u001b[39m(dst, \u001b[38;5;124m'\u001b[39m\u001b[38;5;124mwb\u001b[39m\u001b[38;5;124m'\u001b[39m) \u001b[38;5;28;01mas\u001b[39;00m fdst:\n\u001b[1;32m    263\u001b[0m                 \u001b[38;5;66;03m# macOS\u001b[39;00m\n",
      "\u001b[0;31mFileNotFoundError\u001b[0m: [Errno 2] No such file or directory: 'simulations/simulation_1eb02d5b-e'"
     ]
    }
   ],
   "source": [
    "import shutil\n",
    "\n",
    "download_folder = Path(\"../good_simulations\")\n",
    "download_folder.mkdir(parents=True, exist_ok=True)\n",
    "\n",
    "for folder in good_simulations:\n",
    "    shutil.copy(ROOT / folder, download_folder)"
   ]
  },
  {
   "cell_type": "code",
   "execution_count": null,
   "id": "87ccefce",
   "metadata": {},
   "outputs": [],
   "source": [
    "need_simulations = False  # Make this True to regenerate the simulations in Julia\n",
    "if need_simulations:\n",
    "    needed = ledger.loc[ledger[(\"stroke_time\", \"isochore\")] == 1000000].index\n",
    "    needed = [f\"simulation_{n}\" for n in needed if f\"simulation_{n}\" not in good_simulations]\n",
    "\n",
    "    for f in needed:\n",
    "        if not (ROOT / f).is_dir() or not (ROOT / f / \"report.txt\").exists():\n",
    "            # Go to the next filename\n",
    "            continue\n",
    "        else:\n",
    "            (ROOT / f / \"report.txt\").unlink()\n",
    "  "
   ]
  },
  {
   "cell_type": "code",
   "execution_count": null,
   "id": "a50bfa99",
   "metadata": {},
   "outputs": [
    {
     "data": {
      "text/html": [
       "<div>\n",
       "<style scoped>\n",
       "    .dataframe tbody tr th:only-of-type {\n",
       "        vertical-align: middle;\n",
       "    }\n",
       "\n",
       "    .dataframe tbody tr th {\n",
       "        vertical-align: top;\n",
       "    }\n",
       "\n",
       "    .dataframe thead tr th {\n",
       "        text-align: left;\n",
       "    }\n",
       "\n",
       "    .dataframe thead tr:last-of-type th {\n",
       "        text-align: right;\n",
       "    }\n",
       "</style>\n",
       "<table border=\"1\" class=\"dataframe\">\n",
       "  <thead>\n",
       "    <tr>\n",
       "      <th></th>\n",
       "      <th colspan=\"2\" halign=\"left\">cavity1</th>\n",
       "      <th colspan=\"2\" halign=\"left\">cavity2</th>\n",
       "      <th colspan=\"2\" halign=\"left\">phaseonium</th>\n",
       "      <th>stroke_time</th>\n",
       "    </tr>\n",
       "    <tr>\n",
       "      <th></th>\n",
       "      <th>compressing_force</th>\n",
       "      <th>expanding_force</th>\n",
       "      <th>compressing_force</th>\n",
       "      <th>expanding_force</th>\n",
       "      <th>phi_cold</th>\n",
       "      <th>phi_hot</th>\n",
       "      <th>isochore</th>\n",
       "    </tr>\n",
       "    <tr>\n",
       "      <th>(meta, name)</th>\n",
       "      <th></th>\n",
       "      <th></th>\n",
       "      <th></th>\n",
       "      <th></th>\n",
       "      <th></th>\n",
       "      <th></th>\n",
       "      <th></th>\n",
       "    </tr>\n",
       "  </thead>\n",
       "  <tbody>\n",
       "  </tbody>\n",
       "</table>\n",
       "</div>"
      ],
      "text/plain": [
       "Empty DataFrame\n",
       "Columns: [(cavity1, compressing_force), (cavity1, expanding_force), (cavity2, compressing_force), (cavity2, expanding_force), (phaseonium, phi_cold), (phaseonium, phi_hot), (stroke_time, isochore)]\n",
       "Index: []"
      ]
     },
     "execution_count": 4,
     "metadata": {},
     "output_type": "execute_result"
    }
   ],
   "source": [
    "df_simulations = ledger.loc[[s.replace(\"simulation_\", \"\") for s in good_simulations], VARIABLE_COLUMNS]\n",
    "df_simulations = df_simulations.sort_index(axis=0)\n",
    "df_simulations = df_simulations.sort_index(axis=1)\n",
    "df_simulations.head(10)"
   ]
  },
  {
   "cell_type": "code",
   "execution_count": null,
   "id": "8a732e46",
   "metadata": {},
   "outputs": [],
   "source": [
    "def classic_temp(quantum_temp, omega, phi):\n",
    "    den = 1 - quantum_temp / omega * np.log(1 + np.cos(phi))\n",
    "    return quantum_temp / den\n",
    "\n",
    "def gather_simulation_results(df_simulations):\n",
    "    work_outputs = []\n",
    "    heats_absorbed = []\n",
    "    efficiencies = []\n",
    "    carnot_efficiencies = []\n",
    "    cnca_efficiencies = []  # Chambadal–Novikov–Curzon–Ahlborn efficiency\n",
    "    T_hots = []\n",
    "    T_colds = []\n",
    "\n",
    "    if not df_simulations.index.name:\n",
    "        df_simulations.set_index((\"meta\", \"name\"), inplace=True)\n",
    "        \n",
    "    for name, params in tqdm.tqdm(df_simulations.iterrows()):\n",
    "        f = ROOT / f\"simulation_{name}\"\n",
    "        with gzip.open(f / \"evolution_history.pkl.gz\", \"rb\") as zipfile:\n",
    "            evolution_history = pickle.load(zipfile)\n",
    "\n",
    "        work_output = -sum(evolution_history[\"S\"][\"Work\"][\"Alicki\"])\n",
    "        heat_absorbed = sum(q for q in evolution_history[\"S\"][\"Heat\"] if q > 0)\n",
    "        efficiency = work_output / heat_absorbed\n",
    "\n",
    "        work_outputs.append(work_output)\n",
    "        heats_absorbed.append(heat_absorbed)\n",
    "        efficiencies.append(efficiency)\n",
    "        T_hot_cl = classic_temp(T_HOT, OMEGA, np.pi / params[(\"phaseonium\", \"phi_hot\")])\n",
    "        T_cold_cl = classic_temp(T_COLD, OMEGA, np.pi / params[(\"phaseonium\", \"phi_cold\")])\n",
    "        T_hots.append(T_hot_cl)\n",
    "        T_colds.append(T_cold_cl)\n",
    "        carnot_efficiencies.append(1 - T_cold_cl / T_hot_cl)\n",
    "        cnca_efficiencies.append(1 - np.sqrt(T_cold_cl / T_hot_cl))\n",
    "\n",
    "        # Carnot efficiency\n",
    "        phi_hot = params[(\"phaseonium\", \"phi_hot\")]\n",
    "        phi_cold = params[(\"phaseonium\", \"phi_cold\")]\n",
    "        \n",
    "\n",
    "    df_simulations.loc[:, (\"temperature\", \"Classic Hot\")] = T_hots\n",
    "    df_simulations.loc[:, (\"temperature\", \"Quantum Hot\")] = T_HOT\n",
    "    df_simulations.loc[:, (\"temperature\", \"Classic Cold\")] = T_colds\n",
    "    df_simulations.loc[:, (\"temperature\", \"Quantum Cold\")] = T_COLD\n",
    "    df_simulations.loc[:, (\"output\", \"Work\")] = work_outputs\n",
    "    df_simulations.loc[:, (\"output\", \"Heat\")] = heats_absorbed\n",
    "    df_simulations.loc[:, (\"output\", \"Efficiency\")] = efficiencies\n",
    "    df_simulations.loc[:, (\"output\", \"Carnot\")] = carnot_efficiencies\n",
    "    df_simulations.loc[:, (\"output\", \"CNCA\")] = cnca_efficiencies\n",
    "\n",
    "    return df_simulations\n",
    "\n",
    "NEW_RESULTS = False\n",
    "if NEW_RESULTS:\n",
    "    # print(df_simulations.loc['12093f49-8'])\n",
    "    df_simulations = gather_simulation_results(df_simulations)\n",
    "    df_simulations.reset_index(inplace=True)\n",
    "    # print(df_simulations.loc['12093f49-8'])\n",
    "    df_simulations.to_csv(ROOT / \"results.csv\", header=True, index=True)\n",
    "else:\n",
    "    df_simulations = pd.read_csv(ROOT / \"results.csv\", header=[0, 1], index_col=0)\n"
   ]
  },
  {
   "cell_type": "markdown",
   "id": "fb5da057",
   "metadata": {},
   "source": [
    "## Plot Temperatures and Efficiencies"
   ]
  },
  {
   "cell_type": "code",
   "execution_count": null,
   "id": "37922d33",
   "metadata": {},
   "outputs": [
    {
     "data": {
      "text/plain": [
       "array([   5000,    3000,    2000,   20000, 1000000,   10000,   25000,\n",
       "         50000,   12000,  100000,    8000])"
      ]
     },
     "execution_count": 10,
     "metadata": {},
     "output_type": "execute_result"
    }
   ],
   "source": [
    "df_simulations.loc[:, (\"stroke_time\", \"isochore\")].unique()"
   ]
  },
  {
   "cell_type": "code",
   "execution_count": null,
   "id": "1243ee37",
   "metadata": {},
   "outputs": [],
   "source": [
    "# Fix parameters\n",
    "CLASSICAL_ETA_DEF = \"CNCA\"  # Chambadal–Novikov–Curzon–Ahlborn or Carnot efficiency\n",
    "\n",
    "def filter_df(df_simulations, *filter_variables, positive_efficiency=True):\n",
    "    df = df_simulations.copy()\n",
    "    for name, value in filter_variables:\n",
    "        df = df[df.loc[:, name] == value]\n",
    "\n",
    "    df.columns = ['_'.join(col).strip() for col in df.columns.values]\n",
    "    df.loc[:, \"gain\"] = df[\"output_Efficiency\"] / df[f\"output_{CLASSICAL_ETA_DEF}\"]\n",
    "    df.loc[:, \"phaseonium_phi_hot\"] = 1 / df.loc[:, \"phaseonium_phi_hot\"].values\n",
    "    df.loc[:, \"phaseonium_phi_cold\"] = 1 / df.loc[:, \"phaseonium_phi_cold\"].values\n",
    "    if positive_efficiency:\n",
    "        df = df[df[\"output_Carnot\"] > 0]\n",
    "    return df\n",
    "\n",
    "def make_pivot_table(df, x_col, y_col, z_col):\n",
    "    # Create a pivot table with X and Y as indices and Z as values\n",
    "    pivot_table = df.pivot_table(index=x_col, columns=y_col, values=z_col)\n",
    "    names_table = df.pivot_table(index=x_col, columns=y_col, values=\"meta_name\", aggfunc=lambda x: ', '.join(x)).fillna(\"\")\n",
    "    return pivot_table, names_table\n",
    "\n",
    "\n",
    "def plot_efficiency_scores(pivot_table, precision=1, cbar=False, xlabel=None, ylabel=None, title=None):\n",
    "    x = [round(i, 3) for i in pivot_table.columns]\n",
    "    y = [round(i, 3) for i in pivot_table.index]\n",
    "    rows = len(y)\n",
    "    y_labels = []\n",
    "    for i in range(rows):\n",
    "        y_labels.append(f\"$\\\\pi / {1/pivot_table.index[i]}$\")\n",
    "\n",
    "    Y = pivot_table.values\n",
    "    fig, ax = plt.subplots(figsize=(8, 4), layout=\"constrained\")\n",
    "    fig.suptitle(\"Quantum/Classical Efficiency Ratio\")\n",
    "    im = ax.imshow(Y, cmap='Wistia')\n",
    "    if cbar:\n",
    "        # Create colorbar\n",
    "        cbar = ax.figure.colorbar(im, ax=ax)\n",
    "        cbar.ax.set_ylabel(\"Efficiency ratio\", rotation=-90, va=\"bottom\")\n",
    "\n",
    "    # Show all ticks and label them with the respective list entries.\n",
    "    ax.set_xticks(range(Y.shape[1]), labels=x)\n",
    "    ax.set_yticks(range(Y.shape[0]), labels=y)\n",
    "\n",
    "    # Let the horizontal axes labeling appear on top.\n",
    "    ax.tick_params(top=False, bottom=True,\n",
    "                    labeltop=False, labelbottom=True)\n",
    "    if xlabel is not None:\n",
    "        ax.set_xlabel(xlabel)\n",
    "    if ylabel is not None:\n",
    "        ax.set_ylabel(ylabel)\n",
    "    if title is not None:\n",
    "        ax.set_title(title)\n",
    "\n",
    "    texts = []\n",
    "    kw = dict(horizontalalignment=\"center\",\n",
    "            verticalalignment=\"center\", fontsize=10, color=\"white\",\n",
    "            rotation=30,\n",
    "            bbox=dict(facecolor=\"black\", alpha=0.3, edgecolor=\"none\"))\n",
    "    for i in range(Y.shape[0]):\n",
    "        for j in range(Y.shape[1]):\n",
    "            value = round(Y[i][j] * 100, precision) \n",
    "            text = im.axes.text(j, i, f\"{value}%\", **kw)\n",
    "            texts.append(text)\n",
    "\n",
    "    return fig, ax"
   ]
  },
  {
   "cell_type": "markdown",
   "id": "44eef1f5",
   "metadata": {},
   "source": [
    "### Efficiency vs Coherence Phase"
   ]
  },
  {
   "cell_type": "code",
   "execution_count": null,
   "id": "960e4baa",
   "metadata": {},
   "outputs": [
    {
     "data": {
      "text/html": [
       "<div>\n",
       "<style scoped>\n",
       "    .dataframe tbody tr th:only-of-type {\n",
       "        vertical-align: middle;\n",
       "    }\n",
       "\n",
       "    .dataframe tbody tr th {\n",
       "        vertical-align: top;\n",
       "    }\n",
       "\n",
       "    .dataframe thead tr th {\n",
       "        text-align: left;\n",
       "    }\n",
       "</style>\n",
       "<table border=\"1\" class=\"dataframe\">\n",
       "  <thead>\n",
       "    <tr>\n",
       "      <th></th>\n",
       "      <th>meta</th>\n",
       "      <th colspan=\"2\" halign=\"left\">cavity1</th>\n",
       "      <th colspan=\"2\" halign=\"left\">cavity2</th>\n",
       "      <th colspan=\"2\" halign=\"left\">phaseonium</th>\n",
       "      <th>stroke_time</th>\n",
       "      <th colspan=\"4\" halign=\"left\">temperature</th>\n",
       "      <th colspan=\"5\" halign=\"left\">output</th>\n",
       "    </tr>\n",
       "    <tr>\n",
       "      <th></th>\n",
       "      <th>name</th>\n",
       "      <th>compressing_force</th>\n",
       "      <th>expanding_force</th>\n",
       "      <th>compressing_force</th>\n",
       "      <th>expanding_force</th>\n",
       "      <th>phi_cold</th>\n",
       "      <th>phi_hot</th>\n",
       "      <th>isochore</th>\n",
       "      <th>Classic Hot</th>\n",
       "      <th>Quantum Hot</th>\n",
       "      <th>Classic Cold</th>\n",
       "      <th>Quantum Cold</th>\n",
       "      <th>Work</th>\n",
       "      <th>Heat</th>\n",
       "      <th>Efficiency</th>\n",
       "      <th>Carnot</th>\n",
       "      <th>CNCA</th>\n",
       "    </tr>\n",
       "  </thead>\n",
       "  <tbody>\n",
       "    <tr>\n",
       "      <th>0</th>\n",
       "      <td>00c2a3f9-3</td>\n",
       "      <td>2.0</td>\n",
       "      <td>2.0</td>\n",
       "      <td>1.8</td>\n",
       "      <td>1.8</td>\n",
       "      <td>2.2</td>\n",
       "      <td>1.6</td>\n",
       "      <td>5000</td>\n",
       "      <td>2.014201</td>\n",
       "      <td>2.5</td>\n",
       "      <td>1.027339</td>\n",
       "      <td>1.0</td>\n",
       "      <td>0.149847</td>\n",
       "      <td>7.604898</td>\n",
       "      <td>0.019704</td>\n",
       "      <td>0.489952</td>\n",
       "      <td>0.285824</td>\n",
       "    </tr>\n",
       "    <tr>\n",
       "      <th>1</th>\n",
       "      <td>013e97fd-3</td>\n",
       "      <td>2.0</td>\n",
       "      <td>2.0</td>\n",
       "      <td>1.9</td>\n",
       "      <td>1.9</td>\n",
       "      <td>2.7</td>\n",
       "      <td>1.3</td>\n",
       "      <td>3000</td>\n",
       "      <td>1.479135</td>\n",
       "      <td>2.5</td>\n",
       "      <td>1.071505</td>\n",
       "      <td>1.0</td>\n",
       "      <td>0.078343</td>\n",
       "      <td>3.975995</td>\n",
       "      <td>0.019704</td>\n",
       "      <td>0.275586</td>\n",
       "      <td>0.148875</td>\n",
       "    </tr>\n",
       "    <tr>\n",
       "      <th>2</th>\n",
       "      <td>0170debc-4</td>\n",
       "      <td>1.8</td>\n",
       "      <td>1.8</td>\n",
       "      <td>1.8</td>\n",
       "      <td>1.8</td>\n",
       "      <td>2.7</td>\n",
       "      <td>1.8</td>\n",
       "      <td>5000</td>\n",
       "      <td>2.282339</td>\n",
       "      <td>2.5</td>\n",
       "      <td>1.071505</td>\n",
       "      <td>1.0</td>\n",
       "      <td>0.160776</td>\n",
       "      <td>8.159571</td>\n",
       "      <td>0.019704</td>\n",
       "      <td>0.530523</td>\n",
       "      <td>0.314816</td>\n",
       "    </tr>\n",
       "    <tr>\n",
       "      <th>3</th>\n",
       "      <td>01fee3cf-1</td>\n",
       "      <td>1.9</td>\n",
       "      <td>1.9</td>\n",
       "      <td>1.8</td>\n",
       "      <td>1.8</td>\n",
       "      <td>2.7</td>\n",
       "      <td>1.3</td>\n",
       "      <td>5000</td>\n",
       "      <td>1.479135</td>\n",
       "      <td>2.5</td>\n",
       "      <td>1.071505</td>\n",
       "      <td>1.0</td>\n",
       "      <td>0.096737</td>\n",
       "      <td>4.909512</td>\n",
       "      <td>0.019704</td>\n",
       "      <td>0.275586</td>\n",
       "      <td>0.148875</td>\n",
       "    </tr>\n",
       "    <tr>\n",
       "      <th>4</th>\n",
       "      <td>0573f77b-a</td>\n",
       "      <td>1.9</td>\n",
       "      <td>1.9</td>\n",
       "      <td>1.8</td>\n",
       "      <td>1.8</td>\n",
       "      <td>2.2</td>\n",
       "      <td>1.8</td>\n",
       "      <td>3000</td>\n",
       "      <td>2.282339</td>\n",
       "      <td>2.5</td>\n",
       "      <td>1.027339</td>\n",
       "      <td>1.0</td>\n",
       "      <td>0.132945</td>\n",
       "      <td>6.747112</td>\n",
       "      <td>0.019704</td>\n",
       "      <td>0.549875</td>\n",
       "      <td>0.329086</td>\n",
       "    </tr>\n",
       "    <tr>\n",
       "      <th>...</th>\n",
       "      <td>...</td>\n",
       "      <td>...</td>\n",
       "      <td>...</td>\n",
       "      <td>...</td>\n",
       "      <td>...</td>\n",
       "      <td>...</td>\n",
       "      <td>...</td>\n",
       "      <td>...</td>\n",
       "      <td>...</td>\n",
       "      <td>...</td>\n",
       "      <td>...</td>\n",
       "      <td>...</td>\n",
       "      <td>...</td>\n",
       "      <td>...</td>\n",
       "      <td>...</td>\n",
       "      <td>...</td>\n",
       "      <td>...</td>\n",
       "    </tr>\n",
       "    <tr>\n",
       "      <th>366</th>\n",
       "      <td>fc3f2b53-2</td>\n",
       "      <td>2.5</td>\n",
       "      <td>2.5</td>\n",
       "      <td>1.8</td>\n",
       "      <td>1.8</td>\n",
       "      <td>2.2</td>\n",
       "      <td>1.8</td>\n",
       "      <td>3000</td>\n",
       "      <td>2.282339</td>\n",
       "      <td>2.5</td>\n",
       "      <td>1.027339</td>\n",
       "      <td>1.0</td>\n",
       "      <td>0.132961</td>\n",
       "      <td>6.747913</td>\n",
       "      <td>0.019704</td>\n",
       "      <td>0.549875</td>\n",
       "      <td>0.329086</td>\n",
       "    </tr>\n",
       "    <tr>\n",
       "      <th>367</th>\n",
       "      <td>fca6c92c-0</td>\n",
       "      <td>2.5</td>\n",
       "      <td>2.5</td>\n",
       "      <td>2.0</td>\n",
       "      <td>2.0</td>\n",
       "      <td>2.7</td>\n",
       "      <td>1.6</td>\n",
       "      <td>2000</td>\n",
       "      <td>2.014201</td>\n",
       "      <td>2.5</td>\n",
       "      <td>1.071505</td>\n",
       "      <td>1.0</td>\n",
       "      <td>0.090739</td>\n",
       "      <td>4.606849</td>\n",
       "      <td>0.019697</td>\n",
       "      <td>0.468025</td>\n",
       "      <td>0.270634</td>\n",
       "    </tr>\n",
       "    <tr>\n",
       "      <th>368</th>\n",
       "      <td>fd84a1ad-f</td>\n",
       "      <td>2.0</td>\n",
       "      <td>2.0</td>\n",
       "      <td>2.0</td>\n",
       "      <td>2.0</td>\n",
       "      <td>2.0</td>\n",
       "      <td>2.0</td>\n",
       "      <td>3000</td>\n",
       "      <td>2.500000</td>\n",
       "      <td>2.5</td>\n",
       "      <td>1.000000</td>\n",
       "      <td>1.0</td>\n",
       "      <td>0.142149</td>\n",
       "      <td>7.214256</td>\n",
       "      <td>0.019704</td>\n",
       "      <td>0.600000</td>\n",
       "      <td>0.367544</td>\n",
       "    </tr>\n",
       "    <tr>\n",
       "      <th>369</th>\n",
       "      <td>ff9e226d-e</td>\n",
       "      <td>2.0</td>\n",
       "      <td>2.0</td>\n",
       "      <td>2.5</td>\n",
       "      <td>2.5</td>\n",
       "      <td>2.2</td>\n",
       "      <td>1.8</td>\n",
       "      <td>5000</td>\n",
       "      <td>2.282339</td>\n",
       "      <td>2.5</td>\n",
       "      <td>1.027339</td>\n",
       "      <td>1.0</td>\n",
       "      <td>0.160754</td>\n",
       "      <td>8.158466</td>\n",
       "      <td>0.019704</td>\n",
       "      <td>0.549875</td>\n",
       "      <td>0.329086</td>\n",
       "    </tr>\n",
       "    <tr>\n",
       "      <th>370</th>\n",
       "      <td>ffd044ff-f</td>\n",
       "      <td>2.5</td>\n",
       "      <td>2.5</td>\n",
       "      <td>1.9</td>\n",
       "      <td>1.9</td>\n",
       "      <td>2.7</td>\n",
       "      <td>1.8</td>\n",
       "      <td>2000</td>\n",
       "      <td>2.282339</td>\n",
       "      <td>2.5</td>\n",
       "      <td>1.071505</td>\n",
       "      <td>1.0</td>\n",
       "      <td>0.103512</td>\n",
       "      <td>5.253354</td>\n",
       "      <td>0.019704</td>\n",
       "      <td>0.530523</td>\n",
       "      <td>0.314816</td>\n",
       "    </tr>\n",
       "  </tbody>\n",
       "</table>\n",
       "<p>371 rows × 17 columns</p>\n",
       "</div>"
      ],
      "text/plain": [
       "           meta           cavity1                           cavity2  \\\n",
       "           name compressing_force expanding_force compressing_force   \n",
       "0    00c2a3f9-3               2.0             2.0               1.8   \n",
       "1    013e97fd-3               2.0             2.0               1.9   \n",
       "2    0170debc-4               1.8             1.8               1.8   \n",
       "3    01fee3cf-1               1.9             1.9               1.8   \n",
       "4    0573f77b-a               1.9             1.9               1.8   \n",
       "..          ...               ...             ...               ...   \n",
       "366  fc3f2b53-2               2.5             2.5               1.8   \n",
       "367  fca6c92c-0               2.5             2.5               2.0   \n",
       "368  fd84a1ad-f               2.0             2.0               2.0   \n",
       "369  ff9e226d-e               2.0             2.0               2.5   \n",
       "370  ffd044ff-f               2.5             2.5               1.9   \n",
       "\n",
       "                    phaseonium         stroke_time temperature              \\\n",
       "    expanding_force   phi_cold phi_hot    isochore Classic Hot Quantum Hot   \n",
       "0               1.8        2.2     1.6        5000    2.014201         2.5   \n",
       "1               1.9        2.7     1.3        3000    1.479135         2.5   \n",
       "2               1.8        2.7     1.8        5000    2.282339         2.5   \n",
       "3               1.8        2.7     1.3        5000    1.479135         2.5   \n",
       "4               1.8        2.2     1.8        3000    2.282339         2.5   \n",
       "..              ...        ...     ...         ...         ...         ...   \n",
       "366             1.8        2.2     1.8        3000    2.282339         2.5   \n",
       "367             2.0        2.7     1.6        2000    2.014201         2.5   \n",
       "368             2.0        2.0     2.0        3000    2.500000         2.5   \n",
       "369             2.5        2.2     1.8        5000    2.282339         2.5   \n",
       "370             1.9        2.7     1.8        2000    2.282339         2.5   \n",
       "\n",
       "                                 output                                 \\\n",
       "    Classic Cold Quantum Cold      Work      Heat Efficiency    Carnot   \n",
       "0       1.027339          1.0  0.149847  7.604898   0.019704  0.489952   \n",
       "1       1.071505          1.0  0.078343  3.975995   0.019704  0.275586   \n",
       "2       1.071505          1.0  0.160776  8.159571   0.019704  0.530523   \n",
       "3       1.071505          1.0  0.096737  4.909512   0.019704  0.275586   \n",
       "4       1.027339          1.0  0.132945  6.747112   0.019704  0.549875   \n",
       "..           ...          ...       ...       ...        ...       ...   \n",
       "366     1.027339          1.0  0.132961  6.747913   0.019704  0.549875   \n",
       "367     1.071505          1.0  0.090739  4.606849   0.019697  0.468025   \n",
       "368     1.000000          1.0  0.142149  7.214256   0.019704  0.600000   \n",
       "369     1.027339          1.0  0.160754  8.158466   0.019704  0.549875   \n",
       "370     1.071505          1.0  0.103512  5.253354   0.019704  0.530523   \n",
       "\n",
       "               \n",
       "         CNCA  \n",
       "0    0.285824  \n",
       "1    0.148875  \n",
       "2    0.314816  \n",
       "3    0.148875  \n",
       "4    0.329086  \n",
       "..        ...  \n",
       "366  0.329086  \n",
       "367  0.270634  \n",
       "368  0.367544  \n",
       "369  0.329086  \n",
       "370  0.314816  \n",
       "\n",
       "[371 rows x 17 columns]"
      ]
     },
     "execution_count": 12,
     "metadata": {},
     "output_type": "execute_result"
    }
   ],
   "source": [
    "df_simulations"
   ]
  },
  {
   "cell_type": "code",
   "execution_count": null,
   "id": "e9e808f6",
   "metadata": {},
   "outputs": [
    {
     "data": {
      "text/plain": [
       "0.8474576271186441"
      ]
     },
     "execution_count": 13,
     "metadata": {},
     "output_type": "execute_result"
    }
   ],
   "source": [
    "1/1.18"
   ]
  },
  {
   "cell_type": "code",
   "execution_count": null,
   "id": "b26c93a7",
   "metadata": {},
   "outputs": [
    {
     "data": {
      "image/png": "[encoded data removed]",
      "text/plain": [
       "<Figure size 800x400 with 1 Axes>"
      ]
     },
     "metadata": {},
     "output_type": "display_data"
    }
   ],
   "source": [
    "filtered_df = filter_df(df_simulations, \n",
    "                        [(\"cavity1\", \"compressing_force\"), 2.0],\n",
    "                        [(\"cavity2\", \"compressing_force\"), 2.0],\n",
    "                        [(\"stroke_time\", \"isochore\"), 1000000],\n",
    "                        positive_efficiency=True,\n",
    "                        )\n",
    "pivot_table, names_table = make_pivot_table(filtered_df, \"phaseonium_phi_hot\", \"phaseonium_phi_cold\", f\"gain\")\n",
    "fig, _ = plot_efficiency_scores(pivot_table, \n",
    "                       xlabel=\"Cold Phaseonium Phase (units of $\\\\pi$)\",\n",
    "                       ylabel=\"Hot Phaseonium Phase (units of $\\\\pi$)\")\n",
    "\n",
    "fig.savefig(ROOT.parent / \"img/efficiency_scores_coherence.png\")\n",
    "fig.savefig(ROOT.parent / \"img/efficiency_scores_coherence.pdf\")"
   ]
  },
  {
   "cell_type": "markdown",
   "id": "c33e9050",
   "metadata": {},
   "source": [
    "### Efficiency vs Thermalization Time"
   ]
  },
  {
   "cell_type": "code",
   "execution_count": null,
   "id": "88788746",
   "metadata": {},
   "outputs": [
    {
     "data": {
      "image/png": "[encoded data removed]",
      "text/plain": [
       "<Figure size 800x400 with 1 Axes>"
      ]
     },
     "metadata": {},
     "output_type": "display_data"
    }
   ],
   "source": [
    "filtered_df = filter_df(df_simulations, \n",
    "                        [(\"cavity1\", \"compressing_force\"), 2.0],\n",
    "                        [(\"cavity2\", \"compressing_force\"), 2.0],\n",
    "                        [(\"phaseonium\", \"phi_hot\"), 1.18],\n",
    "                        [(\"phaseonium\", \"phi_cold\"), 40.0],\n",
    "                        )\n",
    "pivot_table, names_table = make_pivot_table(filtered_df, \"phaseonium_phi_hot\", \"stroke_time_isochore\", f\"gain\")\n",
    "fig, _ = plot_efficiency_scores(pivot_table, precision=10, xlabel=\"Stroke Time\", ylabel=\"Hot Phaseonium Phase (units of $\\\\pi$)\")\n",
    "\n",
    "fig.savefig(ROOT.parent / \"img/efficiency_scores_thermalization.png\")\n",
    "fig.savefig(ROOT.parent / \"img/efficiency_scores_thermalization.pdf\")"
   ]
  },
  {
   "cell_type": "markdown",
   "id": "0c6bf7da",
   "metadata": {},
   "source": [
    "### Mutual Information"
   ]
  },
  {
   "cell_type": "code",
   "execution_count": null,
   "id": "bbc01be8",
   "metadata": {},
   "outputs": [
    {
     "data": {
      "image/png": "[encoded data removed]",
      "text/plain": [
       "<Figure size 1200x600 with 3 Axes>"
      ]
     },
     "metadata": {},
     "output_type": "display_data"
    }
   ],
   "source": [
    "figures_layout = filtered_df.pivot_table(\n",
    "    index=\"phaseonium_phi_hot\", columns=\"stroke_time_isochore\", values=\"meta_name\", aggfunc=lambda x: ', '.join(x)).fillna(\"\")\n",
    "fig, axs = plt.subplots(*figures_layout.shape, figsize=(12, 6), layout='tight')\n",
    "if isinstance(axs, np.ndarray):\n",
    "    axs = axs.flatten()\n",
    "\n",
    "for i, row in enumerate(figures_layout.index):\n",
    "    for j, col in enumerate(figures_layout.columns):\n",
    "        f = ROOT / f\"simulation_{figures_layout.iloc[i, j]}\"\n",
    "        if not f.exists():\n",
    "            print(f\"Cannot open {f}\")\n",
    "            continue\n",
    "\n",
    "        with gzip.open(f / \"evolution_history.pkl.gz\", \"rb\") as zipfile:\n",
    "            mutinf = pickle.load(zipfile)[\"S\"][\"Mutual Information\"]\n",
    "        timesteps = np.load(f / \"cascade_evolution_1cycle.npz\").files\n",
    "        \n",
    "        ndims, alpha, surfaces, forces, sampling_times, stroke_times = read_configuration(f, timesteps)\n",
    "        current_ax = i * len(figures_layout.columns) + j\n",
    "        plot_observable(sampling_times, mutinf, stroke_times, ax=axs[current_ax], title=figures_layout.iloc[i, j], grid=True)\n"
   ]
  },
  {
   "cell_type": "markdown",
   "id": "a70ee666",
   "metadata": {},
   "source": [
    "### Works"
   ]
  },
  {
   "cell_type": "code",
   "execution_count": null,
   "id": "03a04f76",
   "metadata": {},
   "outputs": [
    {
     "data": {
      "text/plain": [
       "[np.float64(0.0),\n",
       " np.float64(0.0),\n",
       " np.float64(0.0),\n",
       " np.float64(0.0),\n",
       " np.float64(0.0),\n",
       " np.float64(0.0),\n",
       " np.float64(0.0),\n",
       " np.float64(0.0),\n",
       " np.float64(0.0),\n",
       " np.float64(0.0),\n",
       " np.float64(0.0),\n",
       " np.float64(0.0),\n",
       " np.float64(0.0),\n",
       " np.float64(0.0),\n",
       " np.float64(0.0),\n",
       " np.float64(0.0),\n",
       " np.float64(0.0),\n",
       " np.float64(0.0),\n",
       " np.float64(0.0),\n",
       " np.float64(0.0),\n",
       " np.float64(0.0),\n",
       " np.float64(0.0),\n",
       " np.float64(0.0),\n",
       " np.float64(0.0),\n",
       " np.float64(0.0),\n",
       " np.float64(0.0),\n",
       " np.float64(0.0),\n",
       " np.float64(0.0),\n",
       " np.float64(0.0),\n",
       " np.float64(0.0),\n",
       " np.float64(0.0),\n",
       " np.float64(0.0),\n",
       " np.float64(0.0),\n",
       " np.float64(0.0),\n",
       " np.float64(0.0),\n",
       " np.float64(0.0),\n",
       " np.float64(0.0),\n",
       " np.float64(0.0),\n",
       " np.float64(0.0),\n",
       " np.float64(0.0),\n",
       " np.float64(0.0),\n",
       " np.float64(0.0),\n",
       " np.float64(0.0),\n",
       " np.float64(0.0),\n",
       " np.float64(0.0),\n",
       " np.float64(0.0),\n",
       " np.float64(0.0),\n",
       " np.float64(0.0),\n",
       " np.float64(0.0),\n",
       " np.float64(0.0),\n",
       " np.float64(0.0),\n",
       " np.float64(0.0),\n",
       " np.float64(0.0),\n",
       " np.float64(0.0),\n",
       " np.float64(0.0),\n",
       " np.float64(0.0),\n",
       " np.float64(0.0),\n",
       " np.float64(0.0),\n",
       " np.float64(0.0),\n",
       " np.float64(0.0),\n",
       " np.float64(0.0),\n",
       " np.float64(0.0),\n",
       " np.float64(0.0),\n",
       " np.float64(0.0),\n",
       " np.float64(0.0),\n",
       " np.float64(0.0),\n",
       " np.float64(0.0),\n",
       " np.float64(0.0),\n",
       " np.float64(0.0),\n",
       " np.float64(0.0),\n",
       " np.float64(0.0),\n",
       " np.float64(0.0),\n",
       " np.float64(0.0),\n",
       " np.float64(0.0),\n",
       " np.float64(0.0),\n",
       " np.float64(0.0),\n",
       " np.float64(0.0),\n",
       " np.float64(0.0),\n",
       " np.float64(0.0),\n",
       " np.float64(0.0),\n",
       " np.float64(0.0),\n",
       " np.float64(0.0),\n",
       " np.float64(0.0),\n",
       " np.float64(0.0),\n",
       " np.float64(0.0),\n",
       " np.float64(0.0),\n",
       " np.float64(0.0),\n",
       " np.float64(0.0),\n",
       " np.float64(0.0),\n",
       " np.float64(0.0),\n",
       " np.float64(0.0),\n",
       " np.float64(0.0),\n",
       " np.float64(0.0),\n",
       " np.float64(0.0),\n",
       " np.float64(0.0),\n",
       " np.float64(0.0),\n",
       " np.float64(0.0),\n",
       " np.float64(0.0),\n",
       " np.float64(0.0),\n",
       " np.float64(0.0),\n",
       " np.float64(0.0),\n",
       " np.float64(0.0004100891901095416),\n",
       " np.float64(0.0004095114786983878),\n",
       " np.float64(0.00040893493514371215),\n",
       " np.float64(0.0004083595560189224),\n",
       " np.float64(0.0004077853379089724),\n",
       " np.float64(0.0004072122774130271),\n",
       " np.float64(0.00040664037114579443),\n",
       " np.float64(0.0004872151492651966),\n",
       " np.float64(0.00040538622362840115),\n",
       " np.float64(0.0004048179882798486),\n",
       " np.float64(0.00040425089307749573),\n",
       " np.float64(0.00040368493470310796),\n",
       " np.float64(0.0004031201098517734),\n",
       " np.float64(0.0004025564152314587),\n",
       " np.float64(0.00040199384756345324),\n",
       " np.float64(0.0004014324035788164),\n",
       " np.float64(0.0004008720800294796),\n",
       " np.float64(0.0004003128736727035),\n",
       " np.float64(0.00039975478128084774),\n",
       " np.float64(0.0003991977996387064),\n",
       " np.float64(0.0003986419255457285),\n",
       " np.float64(0.00047763811156720237),\n",
       " np.float64(0.0003974228854124462),\n",
       " np.float64(0.00039687053409842576),\n",
       " np.float64(0.00039631927701933023),\n",
       " np.float64(0.0003957691110376693),\n",
       " np.float64(0.0003952200330261668),\n",
       " np.float64(0.00047354078392025656),\n",
       " np.float64(0.00039401587573806296),\n",
       " np.float64(0.0003934702583738847),\n",
       " np.float64(0.0003929257159867028),\n",
       " np.float64(0.0003923822455127457),\n",
       " np.float64(0.0004701428183331302),\n",
       " np.float64(0.00039119036858492606),\n",
       " np.float64(0.000390650307787066),\n",
       " np.float64(0.0003901113061668404),\n",
       " np.float64(0.00038957336072265036),\n",
       " np.float64(0.0004667794275556858),\n",
       " np.float64(0.00038839358376518973),\n",
       " np.float64(0.00038785899804683055),\n",
       " np.float64(0.0003873254560207151),\n",
       " np.float64(0.00046408773692174776),\n",
       " np.float64(0.00038615532288188703),\n",
       " np.float64(0.0003856251009577427),\n",
       " np.float64(0.0004620516802318342),\n",
       " np.float64(0.00038446223921484446),\n",
       " np.float64(0.0003839353076271479),\n",
       " np.float64(0.00046002825849233986),\n",
       " np.float64(0.0),\n",
       " np.float64(0.0),\n",
       " np.float64(0.0),\n",
       " np.float64(0.0),\n",
       " np.float64(0.0),\n",
       " np.float64(0.0),\n",
       " np.float64(0.0),\n",
       " np.float64(0.0),\n",
       " np.float64(0.0),\n",
       " np.float64(0.0),\n",
       " np.float64(0.0),\n",
       " np.float64(0.0),\n",
       " np.float64(0.0),\n",
       " np.float64(0.0),\n",
       " np.float64(0.0),\n",
       " np.float64(0.0),\n",
       " np.float64(0.0),\n",
       " np.float64(0.0),\n",
       " np.float64(0.0),\n",
       " np.float64(0.0),\n",
       " np.float64(0.0),\n",
       " np.float64(0.0),\n",
       " np.float64(0.0),\n",
       " np.float64(0.0),\n",
       " np.float64(0.0),\n",
       " np.float64(0.0),\n",
       " np.float64(0.0),\n",
       " np.float64(0.0),\n",
       " np.float64(0.0),\n",
       " np.float64(0.0),\n",
       " np.float64(0.0),\n",
       " np.float64(0.0),\n",
       " np.float64(0.0),\n",
       " np.float64(0.0),\n",
       " np.float64(0.0),\n",
       " np.float64(0.0),\n",
       " np.float64(0.0),\n",
       " np.float64(0.0),\n",
       " np.float64(0.0),\n",
       " np.float64(0.0),\n",
       " np.float64(0.0),\n",
       " np.float64(0.0),\n",
       " np.float64(0.0),\n",
       " np.float64(0.0),\n",
       " np.float64(0.0),\n",
       " np.float64(0.0),\n",
       " np.float64(0.0),\n",
       " np.float64(0.0),\n",
       " np.float64(0.0),\n",
       " np.float64(0.0),\n",
       " np.float64(0.0),\n",
       " np.float64(0.0),\n",
       " np.float64(0.0),\n",
       " np.float64(0.0),\n",
       " np.float64(0.0),\n",
       " np.float64(0.0),\n",
       " np.float64(0.0),\n",
       " np.float64(0.0),\n",
       " np.float64(0.0),\n",
       " np.float64(0.0),\n",
       " np.float64(0.0),\n",
       " np.float64(0.0),\n",
       " np.float64(0.0),\n",
       " np.float64(0.0),\n",
       " np.float64(0.0),\n",
       " np.float64(0.0),\n",
       " np.float64(0.0),\n",
       " np.float64(0.0),\n",
       " np.float64(0.0),\n",
       " np.float64(0.0),\n",
       " np.float64(0.0),\n",
       " np.float64(0.0),\n",
       " np.float64(0.0),\n",
       " np.float64(0.0),\n",
       " np.float64(0.0),\n",
       " np.float64(0.0),\n",
       " np.float64(0.0),\n",
       " np.float64(0.0),\n",
       " np.float64(0.0),\n",
       " np.float64(0.0),\n",
       " np.float64(0.0),\n",
       " np.float64(0.0),\n",
       " np.float64(0.0),\n",
       " np.float64(0.0),\n",
       " np.float64(0.0),\n",
       " np.float64(0.0),\n",
       " np.float64(0.0),\n",
       " np.float64(0.0),\n",
       " np.float64(0.0),\n",
       " np.float64(0.0),\n",
       " np.float64(0.0),\n",
       " np.float64(0.0),\n",
       " np.float64(0.0),\n",
       " np.float64(0.0),\n",
       " np.float64(0.0),\n",
       " np.float64(0.0),\n",
       " np.float64(0.0),\n",
       " np.float64(0.0),\n",
       " np.float64(0.0),\n",
       " np.float64(0.0),\n",
       " np.float64(0.0),\n",
       " np.float64(0.0),\n",
       " np.float64(-0.00041098482604429165),\n",
       " np.float64(-0.000410094617268264),\n",
       " np.float64(-0.0004092057958779982),\n",
       " np.float64(-0.00040831836195520665),\n",
       " np.float64(-0.00040743231554962733),\n",
       " np.float64(-0.0004065476567252091),\n",
       " np.float64(-0.00040566438551925543),\n",
       " np.float64(-0.0004358831295636634),\n",
       " np.float64(-0.0004038343331038696),\n",
       " np.float64(-0.0004029553316544643),\n",
       " np.float64(-0.0004020777179039037),\n",
       " np.float64(-0.00040120149183753284),\n",
       " np.float64(-0.00043108481528086884),\n",
       " np.float64(-0.0003993860716429154),\n",
       " np.float64(-0.0003985141152349492),\n",
       " np.float64(-0.0003976435463894923),\n",
       " np.float64(-0.0004272595082430719),\n",
       " np.float64(-0.00039583987522817665),\n",
       " np.float64(-0.00042532031565611916),\n",
       " np.float64(-0.00039404218855931816),\n",
       " np.float64(-0.0004233875675101473),\n",
       " np.float64(-0.00039225048560442843),\n",
       " np.float64(-0.00042146126288233887),\n",
       " np.float64(-0.0003904647654073834),\n",
       " np.float64(-0.00041954140061228884),\n",
       " np.float64(-0.0004185484523318017),\n",
       " np.float64(-0.0003877645538259422),\n",
       " np.float64(-0.0004166383702757237),\n",
       " np.float64(-0.00041565049229319584),\n",
       " np.float64(-0.0004146643451723442),\n",
       " np.float64(-0.0003841639718982215),\n",
       " np.float64(-0.00041276737695961074),\n",
       " np.float64(-0.00041178629725546756),\n",
       " np.float64(-0.00041080694732853473),\n",
       " np.float64(-0.00040982932686173257),\n",
       " np.float64(-0.0004088534355366491),\n",
       " np.float64(-0.00040787927301133564),\n",
       " np.float64(-0.0004069068389442876),\n",
       " np.float64(-0.00040593613297223996),\n",
       " np.float64(-0.00040496715471283196),\n",
       " np.float64(-0.00040399990378370276),\n",
       " np.float64(-0.00040303437977939893),\n",
       " np.float64(-0.0004307530752067912),\n",
       " np.float64(-0.0004010398575600149),\n",
       " np.float64(-0.0004000796350625002),\n",
       " np.float64(-0.00039912113773787894),\n",
       " np.float64(-0.00042656811127850247),\n",
       " np.float64(-0.0003971411649561496),\n",
       " np.float64(-0.0)]"
      ]
     },
     "execution_count": 17,
     "metadata": {},
     "output_type": "execute_result"
    }
   ],
   "source": [
    "with gzip.open(f / \"evolution_history.pkl.gz\", \"rb\") as zipfile:\n",
    "    work = pickle.load(zipfile)[\"S1\"][\"Work\"]\n",
    "i = 0\n",
    "work['Classic']"
   ]
  },
  {
   "cell_type": "code",
   "execution_count": null,
   "id": "a43b3b0d",
   "metadata": {},
   "outputs": [
    {
     "data": {
      "text/plain": [
       "np.float64(-0.0)"
      ]
     },
     "execution_count": 18,
     "metadata": {},
     "output_type": "execute_result"
    }
   ],
   "source": [
    "f1, f2 = forces\n",
    "classical_work(f1[10], 0.1, 0.12)"
   ]
  },
  {
   "cell_type": "code",
   "execution_count": null,
   "id": "b74ac9c0",
   "metadata": {},
   "outputs": [
    {
     "ename": "ValueError",
     "evalue": "setting an array element with a sequence. The requested array has an inhomogeneous shape after 1 dimensions. The detected shape was (300,) + inhomogeneous part.",
     "output_type": "error",
     "traceback": [
      "\u001b[0;31m---------------------------------------------------------------------------\u001b[0m",
      "\u001b[0;31mValueError\u001b[0m                                Traceback (most recent call last)",
      "Cell \u001b[0;32mIn[19], line 19\u001b[0m\n\u001b[1;32m     16\u001b[0m timesteps \u001b[38;5;241m=\u001b[39m np\u001b[38;5;241m.\u001b[39mload(f \u001b[38;5;241m/\u001b[39m \u001b[38;5;124m\"\u001b[39m\u001b[38;5;124mcascade_evolution_1cycle.npz\u001b[39m\u001b[38;5;124m\"\u001b[39m)\u001b[38;5;241m.\u001b[39mfiles\n\u001b[1;32m     18\u001b[0m work_al \u001b[38;5;241m=\u001b[39m np\u001b[38;5;241m.\u001b[39marray(work[\u001b[38;5;124m\"\u001b[39m\u001b[38;5;124mAlicki\u001b[39m\u001b[38;5;124m\"\u001b[39m])\n\u001b[0;32m---> 19\u001b[0m work_pr \u001b[38;5;241m=\u001b[39m \u001b[43mnp\u001b[49m\u001b[38;5;241;43m.\u001b[39;49m\u001b[43marray\u001b[49m\u001b[43m(\u001b[49m\u001b[43mwork\u001b[49m\u001b[43m[\u001b[49m\u001b[38;5;124;43m\"\u001b[39;49m\u001b[38;5;124;43mPressure\u001b[39;49m\u001b[38;5;124;43m\"\u001b[39;49m\u001b[43m]\u001b[49m\u001b[43m)\u001b[49m\n\u001b[1;32m     20\u001b[0m work_ext \u001b[38;5;241m=\u001b[39m work[\u001b[38;5;124m\"\u001b[39m\u001b[38;5;124mClassic\u001b[39m\u001b[38;5;124m\"\u001b[39m]\n\u001b[1;32m     22\u001b[0m \u001b[38;5;28mprint\u001b[39m(work_ext)\n",
      "\u001b[0;31mValueError\u001b[0m: setting an array element with a sequence. The requested array has an inhomogeneous shape after 1 dimensions. The detected shape was (300,) + inhomogeneous part."
     ]
    },
    {
     "data": {
      "image/png": "[encoded data removed]",
      "text/plain": [
       "<Figure size 1200x600 with 3 Axes>"
      ]
     },
     "metadata": {},
     "output_type": "display_data"
    }
   ],
   "source": [
    "figures_layout = filtered_df.pivot_table(\n",
    "    index=\"phaseonium_phi_hot\", columns=\"stroke_time_isochore\", values=\"meta_name\", aggfunc=lambda x: ', '.join(x)).fillna(\"\")\n",
    "fig, axs = plt.subplots(*figures_layout.shape, figsize=(12, 6), layout='tight')\n",
    "if isinstance(axs, np.ndarray):\n",
    "    axs = axs.flatten()\n",
    "\n",
    "for i, row in enumerate(figures_layout.index):\n",
    "    for j, col in enumerate(figures_layout.columns):\n",
    "        f = ROOT / f\"simulation_{figures_layout.iloc[i, j]}\"\n",
    "        if not f.exists():\n",
    "            print(f\"Cannot open {f}\")\n",
    "            continue\n",
    "\n",
    "        with gzip.open(f / \"evolution_history.pkl.gz\", \"rb\") as zipfile:\n",
    "            work = pickle.load(zipfile)[\"S1\"][\"Work\"]\n",
    "        timesteps = np.load(f / \"cascade_evolution_1cycle.npz\").files\n",
    "        \n",
    "        work_al = np.array(work[\"Alicki\"])\n",
    "        work_pr = np.array(work[\"Pressure\"])\n",
    "        work_ext = work[\"Classic\"]\n",
    "        \n",
    "        print(work_ext)\n",
    "\n",
    "        ndims, alpha, surfaces, forces, sampling_times, stroke_times = read_configuration(f, timesteps)\n",
    "        # current_ax = i * len(figures_layout.columns) + j\n",
    "        # plot_observable(sampling_times, work_al, stroke_times, ax=axs[current_ax], title=figures_layout.iloc[i, j], grid=True)\n",
    "        # plot_observable(sampling_times, work_pr, stroke_times, ax=axs[current_ax], title=figures_layout.iloc[i, j], grid=True)\n",
    "        # # plot_observable(sampling_times, work_ext, stroke_times, ax=axs[current_ax], title=figures_layout.iloc[i, j], grid=True)\n"
   ]
  },
  {
   "cell_type": "code",
   "execution_count": null,
   "id": "4da42d79",
   "metadata": {},
   "outputs": [],
   "source": [
    "ax.grid(alpha=0.2, linestyle='--')\n",
    "\n",
    "ymax = max([\n",
    "    max(work_al), max(works[0] + works[1]), max(works_ext[0] + works_ext[1])])\n",
    "ymin = min([\n",
    "    min(work_al), min(works[0] + works[1]), min(works_ext[0] + works_ext[1])])\n",
    "\n",
    "plot_stroke_overlays(ax, ymin + 0.2*ymin, ymax + 0.2*ymax)\n",
    "\n",
    "plot_observable(sampling_times[1:], np.real(work_al), ax=ax, label=\"Alicki's Work\")\n",
    "plot_observable(sampling_times[1:], works[0] + works[1], ax=ax, label=\"Classical Work\")\n",
    "# plot_observable(sampling_times[1:], works[0], ax=ax, label=\"Classical Work S1\")\n",
    "# plot_observable(sampling_times[1:], works[1], ax=ax, label=\"Classical Work S2\")\n",
    "plot_observable(sampling_times[1:], works_ext[0] + works_ext[1], ax=ax, label=\"Classical External Work\")\n",
    "# plot_observable(sampling_times[1:], works_ext[0], ax=ax, label=\"Classical External Work S1\")\n",
    "# plot_observable(sampling_times[1:], works_ext[1], ax=ax, label=\"Classical External Work S2\")\n",
    "ax.legend()\n",
    "\n",
    "axbar.bar([\"Alicki\", \"Classical\", \"External\"], \n",
    "          [-total_work_al, -total_work, abs(total_work_ext)],\n",
    "          color=[\"tab:blue\", \"tab:orange\", \"tab:green\"])\n",
    "axbar.set_title(\"Total Extracted Work\")\n",
    "\n",
    "plt.savefig(OUTPUT / \"work.png\")\n",
    "plt.savefig(OUTPUT / \"work.pdf\")\n",
    "\n",
    "plt.show()"
   ]
  },
  {
   "cell_type": "code",
   "execution_count": null,
   "id": "d335e061",
   "metadata": {},
   "outputs": [
    {
     "ename": "IndexError",
     "evalue": "index 0 is out of bounds for axis 0 with size 0",
     "output_type": "error",
     "traceback": [
      "\u001b[0;31m---------------------------------------------------------------------------\u001b[0m",
      "\u001b[0;31mIndexError\u001b[0m                                Traceback (most recent call last)",
      "Cell \u001b[0;32mIn[18], line 4\u001b[0m\n\u001b[1;32m      2\u001b[0m phi_cold \u001b[38;5;241m=\u001b[39m \u001b[38;5;241m1.8\u001b[39m\n\u001b[1;32m      3\u001b[0m df_slice \u001b[38;5;241m=\u001b[39m filtered_df[(filtered_df\u001b[38;5;241m.\u001b[39mloc[:, \u001b[38;5;124m\"\u001b[39m\u001b[38;5;124mphaseonium_phi_cold\u001b[39m\u001b[38;5;124m\"\u001b[39m] \u001b[38;5;241m==\u001b[39m phi_cold) \u001b[38;5;241m&\u001b[39m (filtered_df\u001b[38;5;241m.\u001b[39mloc[:, \u001b[38;5;124m\"\u001b[39m\u001b[38;5;124mphaseonium_phi_hot\u001b[39m\u001b[38;5;124m\"\u001b[39m] \u001b[38;5;241m==\u001b[39m phi_hot)]\n\u001b[0;32m----> 4\u001b[0m \u001b[38;5;28mprint\u001b[39m(\u001b[38;5;124mf\u001b[39m\u001b[38;5;124m\"\u001b[39m\u001b[38;5;124mCarnot Efficiency is \u001b[39m\u001b[38;5;132;01m{\u001b[39;00m\u001b[43mdf_slice\u001b[49m\u001b[38;5;241;43m.\u001b[39;49m\u001b[43mloc\u001b[49m\u001b[43m[\u001b[49m\u001b[43m:\u001b[49m\u001b[43m,\u001b[49m\u001b[38;5;250;43m \u001b[39;49m\u001b[38;5;124;43m'\u001b[39;49m\u001b[38;5;124;43moutput_Carnot\u001b[39;49m\u001b[38;5;124;43m'\u001b[39;49m\u001b[43m]\u001b[49m\u001b[38;5;241;43m.\u001b[39;49m\u001b[43mvalues\u001b[49m\u001b[43m[\u001b[49m\u001b[38;5;241;43m0\u001b[39;49m\u001b[43m]\u001b[49m\u001b[38;5;132;01m}\u001b[39;00m\u001b[38;5;124m\"\u001b[39m)\n\u001b[1;32m      5\u001b[0m T_hot \u001b[38;5;241m=\u001b[39m classic_temp(T_HOT, OMEGA, np\u001b[38;5;241m.\u001b[39mpi \u001b[38;5;241m/\u001b[39m phi_hot)\n\u001b[1;32m      6\u001b[0m T_cold \u001b[38;5;241m=\u001b[39m classic_temp(T_COLD, OMEGA, np\u001b[38;5;241m.\u001b[39mpi \u001b[38;5;241m/\u001b[39m phi_cold)\n",
      "\u001b[0;31mIndexError\u001b[0m: index 0 is out of bounds for axis 0 with size 0"
     ]
    }
   ],
   "source": [
    "phi_hot = 1.6\n",
    "phi_cold = 1.8\n",
    "df_slice = filtered_df[(filtered_df.loc[:, \"phaseonium_phi_cold\"] == phi_cold) & (filtered_df.loc[:, \"phaseonium_phi_hot\"] == phi_hot)]\n",
    "print(f\"Carnot Efficiency is {df_slice.loc[:, 'output_Carnot'].values[0]}\")\n",
    "T_hot = classic_temp(T_HOT, OMEGA, np.pi / phi_hot)\n",
    "T_cold = classic_temp(T_COLD, OMEGA, np.pi / phi_cold)\n",
    "print(f\"That's because hot temperature is {T_hot} and cold temperature is {T_cold}\")\n",
    "print(1 - T_cold / T_hot)"
   ]
  },
  {
   "cell_type": "code",
   "execution_count": null,
   "id": "80ec2c13",
   "metadata": {},
   "outputs": [
    {
     "ename": "KeyError",
     "evalue": "1.8",
     "output_type": "error",
     "traceback": [
      "\u001b[0;31m---------------------------------------------------------------------------\u001b[0m",
      "\u001b[0;31mKeyError\u001b[0m                                  Traceback (most recent call last)",
      "File \u001b[0;32m~/miniconda3/lib/python3.12/site-packages/pandas/core/indexes/base.py:3805\u001b[0m, in \u001b[0;36mIndex.get_loc\u001b[0;34m(self, key)\u001b[0m\n\u001b[1;32m   3804\u001b[0m \u001b[38;5;28;01mtry\u001b[39;00m:\n\u001b[0;32m-> 3805\u001b[0m     \u001b[38;5;28;01mreturn\u001b[39;00m \u001b[38;5;28;43mself\u001b[39;49m\u001b[38;5;241;43m.\u001b[39;49m\u001b[43m_engine\u001b[49m\u001b[38;5;241;43m.\u001b[39;49m\u001b[43mget_loc\u001b[49m\u001b[43m(\u001b[49m\u001b[43mcasted_key\u001b[49m\u001b[43m)\u001b[49m\n\u001b[1;32m   3806\u001b[0m \u001b[38;5;28;01mexcept\u001b[39;00m \u001b[38;5;167;01mKeyError\u001b[39;00m \u001b[38;5;28;01mas\u001b[39;00m err:\n",
      "File \u001b[0;32mindex.pyx:167\u001b[0m, in \u001b[0;36mpandas._libs.index.IndexEngine.get_loc\u001b[0;34m()\u001b[0m\n",
      "File \u001b[0;32mindex.pyx:196\u001b[0m, in \u001b[0;36mpandas._libs.index.IndexEngine.get_loc\u001b[0;34m()\u001b[0m\n",
      "File \u001b[0;32mpandas/_libs/hashtable_class_helper.pxi:1698\u001b[0m, in \u001b[0;36mpandas._libs.hashtable.Float64HashTable.get_item\u001b[0;34m()\u001b[0m\n",
      "File \u001b[0;32mpandas/_libs/hashtable_class_helper.pxi:1722\u001b[0m, in \u001b[0;36mpandas._libs.hashtable.Float64HashTable.get_item\u001b[0;34m()\u001b[0m\n",
      "\u001b[0;31mKeyError\u001b[0m: 1.8",
      "\nThe above exception was the direct cause of the following exception:\n",
      "\u001b[0;31mKeyError\u001b[0m                                  Traceback (most recent call last)",
      "Cell \u001b[0;32mIn[24], line 1\u001b[0m\n\u001b[0;32m----> 1\u001b[0m \u001b[43mpivot_table\u001b[49m\u001b[38;5;241;43m.\u001b[39;49m\u001b[43mloc\u001b[49m\u001b[43m[\u001b[49m\u001b[38;5;241;43m1.6\u001b[39;49m\u001b[43m,\u001b[49m\u001b[43m \u001b[49m\u001b[38;5;241;43m1.8\u001b[39;49m\u001b[43m]\u001b[49m\n\u001b[1;32m      2\u001b[0m \u001b[38;5;28mprint\u001b[39m(pivot_table\u001b[38;5;241m.\u001b[39mcolumns\u001b[38;5;241m.\u001b[39mname)\n\u001b[1;32m      3\u001b[0m \u001b[38;5;28mprint\u001b[39m(pivot_table\u001b[38;5;241m.\u001b[39mindex\u001b[38;5;241m.\u001b[39mname)\n",
      "File \u001b[0;32m~/miniconda3/lib/python3.12/site-packages/pandas/core/indexing.py:1183\u001b[0m, in \u001b[0;36m_LocationIndexer.__getitem__\u001b[0;34m(self, key)\u001b[0m\n\u001b[1;32m   1181\u001b[0m     key \u001b[38;5;241m=\u001b[39m \u001b[38;5;28mtuple\u001b[39m(com\u001b[38;5;241m.\u001b[39mapply_if_callable(x, \u001b[38;5;28mself\u001b[39m\u001b[38;5;241m.\u001b[39mobj) \u001b[38;5;28;01mfor\u001b[39;00m x \u001b[38;5;129;01min\u001b[39;00m key)\n\u001b[1;32m   1182\u001b[0m     \u001b[38;5;28;01mif\u001b[39;00m \u001b[38;5;28mself\u001b[39m\u001b[38;5;241m.\u001b[39m_is_scalar_access(key):\n\u001b[0;32m-> 1183\u001b[0m         \u001b[38;5;28;01mreturn\u001b[39;00m \u001b[38;5;28;43mself\u001b[39;49m\u001b[38;5;241;43m.\u001b[39;49m\u001b[43mobj\u001b[49m\u001b[38;5;241;43m.\u001b[39;49m\u001b[43m_get_value\u001b[49m\u001b[43m(\u001b[49m\u001b[38;5;241;43m*\u001b[39;49m\u001b[43mkey\u001b[49m\u001b[43m,\u001b[49m\u001b[43m \u001b[49m\u001b[43mtakeable\u001b[49m\u001b[38;5;241;43m=\u001b[39;49m\u001b[38;5;28;43mself\u001b[39;49m\u001b[38;5;241;43m.\u001b[39;49m\u001b[43m_takeable\u001b[49m\u001b[43m)\u001b[49m\n\u001b[1;32m   1184\u001b[0m     \u001b[38;5;28;01mreturn\u001b[39;00m \u001b[38;5;28mself\u001b[39m\u001b[38;5;241m.\u001b[39m_getitem_tuple(key)\n\u001b[1;32m   1185\u001b[0m \u001b[38;5;28;01melse\u001b[39;00m:\n\u001b[1;32m   1186\u001b[0m     \u001b[38;5;66;03m# we by definition only have the 0th axis\u001b[39;00m\n",
      "File \u001b[0;32m~/miniconda3/lib/python3.12/site-packages/pandas/core/frame.py:4214\u001b[0m, in \u001b[0;36mDataFrame._get_value\u001b[0;34m(self, index, col, takeable)\u001b[0m\n\u001b[1;32m   4211\u001b[0m     series \u001b[38;5;241m=\u001b[39m \u001b[38;5;28mself\u001b[39m\u001b[38;5;241m.\u001b[39m_ixs(col, axis\u001b[38;5;241m=\u001b[39m\u001b[38;5;241m1\u001b[39m)\n\u001b[1;32m   4212\u001b[0m     \u001b[38;5;28;01mreturn\u001b[39;00m series\u001b[38;5;241m.\u001b[39m_values[index]\n\u001b[0;32m-> 4214\u001b[0m series \u001b[38;5;241m=\u001b[39m \u001b[38;5;28;43mself\u001b[39;49m\u001b[38;5;241;43m.\u001b[39;49m\u001b[43m_get_item_cache\u001b[49m\u001b[43m(\u001b[49m\u001b[43mcol\u001b[49m\u001b[43m)\u001b[49m\n\u001b[1;32m   4215\u001b[0m engine \u001b[38;5;241m=\u001b[39m \u001b[38;5;28mself\u001b[39m\u001b[38;5;241m.\u001b[39mindex\u001b[38;5;241m.\u001b[39m_engine\n\u001b[1;32m   4217\u001b[0m \u001b[38;5;28;01mif\u001b[39;00m \u001b[38;5;129;01mnot\u001b[39;00m \u001b[38;5;28misinstance\u001b[39m(\u001b[38;5;28mself\u001b[39m\u001b[38;5;241m.\u001b[39mindex, MultiIndex):\n\u001b[1;32m   4218\u001b[0m     \u001b[38;5;66;03m# CategoricalIndex: Trying to use the engine fastpath may give incorrect\u001b[39;00m\n\u001b[1;32m   4219\u001b[0m     \u001b[38;5;66;03m#  results if our categories are integers that dont match our codes\u001b[39;00m\n\u001b[1;32m   4220\u001b[0m     \u001b[38;5;66;03m# IntervalIndex: IntervalTree has no get_loc\u001b[39;00m\n",
      "File \u001b[0;32m~/miniconda3/lib/python3.12/site-packages/pandas/core/frame.py:4638\u001b[0m, in \u001b[0;36mDataFrame._get_item_cache\u001b[0;34m(self, item)\u001b[0m\n\u001b[1;32m   4633\u001b[0m res \u001b[38;5;241m=\u001b[39m cache\u001b[38;5;241m.\u001b[39mget(item)\n\u001b[1;32m   4634\u001b[0m \u001b[38;5;28;01mif\u001b[39;00m res \u001b[38;5;129;01mis\u001b[39;00m \u001b[38;5;28;01mNone\u001b[39;00m:\n\u001b[1;32m   4635\u001b[0m     \u001b[38;5;66;03m# All places that call _get_item_cache have unique columns,\u001b[39;00m\n\u001b[1;32m   4636\u001b[0m     \u001b[38;5;66;03m#  pending resolution of GH#33047\u001b[39;00m\n\u001b[0;32m-> 4638\u001b[0m     loc \u001b[38;5;241m=\u001b[39m \u001b[38;5;28;43mself\u001b[39;49m\u001b[38;5;241;43m.\u001b[39;49m\u001b[43mcolumns\u001b[49m\u001b[38;5;241;43m.\u001b[39;49m\u001b[43mget_loc\u001b[49m\u001b[43m(\u001b[49m\u001b[43mitem\u001b[49m\u001b[43m)\u001b[49m\n\u001b[1;32m   4639\u001b[0m     res \u001b[38;5;241m=\u001b[39m \u001b[38;5;28mself\u001b[39m\u001b[38;5;241m.\u001b[39m_ixs(loc, axis\u001b[38;5;241m=\u001b[39m\u001b[38;5;241m1\u001b[39m)\n\u001b[1;32m   4641\u001b[0m     cache[item] \u001b[38;5;241m=\u001b[39m res\n",
      "File \u001b[0;32m~/miniconda3/lib/python3.12/site-packages/pandas/core/indexes/base.py:3812\u001b[0m, in \u001b[0;36mIndex.get_loc\u001b[0;34m(self, key)\u001b[0m\n\u001b[1;32m   3807\u001b[0m     \u001b[38;5;28;01mif\u001b[39;00m \u001b[38;5;28misinstance\u001b[39m(casted_key, \u001b[38;5;28mslice\u001b[39m) \u001b[38;5;129;01mor\u001b[39;00m (\n\u001b[1;32m   3808\u001b[0m         \u001b[38;5;28misinstance\u001b[39m(casted_key, abc\u001b[38;5;241m.\u001b[39mIterable)\n\u001b[1;32m   3809\u001b[0m         \u001b[38;5;129;01mand\u001b[39;00m \u001b[38;5;28many\u001b[39m(\u001b[38;5;28misinstance\u001b[39m(x, \u001b[38;5;28mslice\u001b[39m) \u001b[38;5;28;01mfor\u001b[39;00m x \u001b[38;5;129;01min\u001b[39;00m casted_key)\n\u001b[1;32m   3810\u001b[0m     ):\n\u001b[1;32m   3811\u001b[0m         \u001b[38;5;28;01mraise\u001b[39;00m InvalidIndexError(key)\n\u001b[0;32m-> 3812\u001b[0m     \u001b[38;5;28;01mraise\u001b[39;00m \u001b[38;5;167;01mKeyError\u001b[39;00m(key) \u001b[38;5;28;01mfrom\u001b[39;00m\u001b[38;5;250m \u001b[39m\u001b[38;5;21;01merr\u001b[39;00m\n\u001b[1;32m   3813\u001b[0m \u001b[38;5;28;01mexcept\u001b[39;00m \u001b[38;5;167;01mTypeError\u001b[39;00m:\n\u001b[1;32m   3814\u001b[0m     \u001b[38;5;66;03m# If we have a listlike key, _check_indexing_error will raise\u001b[39;00m\n\u001b[1;32m   3815\u001b[0m     \u001b[38;5;66;03m#  InvalidIndexError. Otherwise we fall through and re-raise\u001b[39;00m\n\u001b[1;32m   3816\u001b[0m     \u001b[38;5;66;03m#  the TypeError.\u001b[39;00m\n\u001b[1;32m   3817\u001b[0m     \u001b[38;5;28mself\u001b[39m\u001b[38;5;241m.\u001b[39m_check_indexing_error(key)\n",
      "\u001b[0;31mKeyError\u001b[0m: 1.8"
     ]
    }
   ],
   "source": [
    "pivot_table.loc[1.6, 1.8]\n",
    "print(pivot_table.columns.name)\n",
    "print(pivot_table.index.name)"
   ]
  },
  {
   "cell_type": "code",
   "execution_count": null,
   "id": "377a2ed5",
   "metadata": {},
   "outputs": [
    {
     "ename": "UndefVarError",
     "evalue": "UndefVarError: `filtered_df` not defined in `Main`\nSuggestion: check for spelling errors or missing imports.",
     "output_type": "error",
     "traceback": [
      "UndefVarError: `filtered_df` not defined in `Main`\n",
      "Suggestion: check for spelling errors or missing imports.\n",
      "\n",
      "Stacktrace:\n",
      " [1] top-level scope\n",
      "   @ ~/phaseonium/thermophaseonium/julia/jl_notebook_cell_df34fa98e69747e1a8f8a730347b8e2f_X33sdnNjb2RlLXJlbW90ZQ==.jl:1"
     ]
    }
   ],
   "source": [
    "filtered_df[filtered_df[(\"phaseonium_phi_hot\")]==1.8]"
   ]
  },
  {
   "cell_type": "code",
   "execution_count": null,
   "id": "2c8b250d",
   "metadata": {},
   "outputs": [
    {
     "ename": "UndefVarError",
     "evalue": "UndefVarError: `filtered_df` not defined in `Main`\nSuggestion: check for spelling errors or missing imports.",
     "output_type": "error",
     "traceback": [
      "UndefVarError: `filtered_df` not defined in `Main`\n",
      "Suggestion: check for spelling errors or missing imports.\n",
      "\n",
      "Stacktrace:\n",
      " [1] top-level scope\n",
      "   @ ~/phaseonium/thermophaseonium/julia/jl_notebook_cell_df34fa98e69747e1a8f8a730347b8e2f_X34sdnNjb2RlLXJlbW90ZQ==.jl:1"
     ]
    }
   ],
   "source": [
    "ldf = filtered_df.loc[\"b5b25531-c\"]\n",
    "phi_hot= ldf[\"phaseonium_phi_hot\"]\n",
    "phi_cold = ldf[\"phaseonium_phi_cold\"]\n",
    "T_hot_cl = classic_temp(T_HOT, OMEGA, np.pi/phi_hot)\n",
    "T_cold_cl = classic_temp(T_COLD, OMEGA, np.pi/phi_cold)\n",
    "print(phi_hot)\n",
    "print(phi_cold)\n",
    "print(T_hot_cl)\n",
    "print(T_cold_cl)\n",
    "1-T_cold_cl/T_hot_cl"
   ]
  },
  {
   "cell_type": "code",
   "execution_count": null,
   "id": "291972e7",
   "metadata": {},
   "outputs": [
    {
     "data": {
      "text/plain": [
       "np.float64(2.282339385386267)"
      ]
     },
     "execution_count": 23,
     "metadata": {},
     "output_type": "execute_result"
    }
   ],
   "source": [
    "classic_temp(2.5, OMEGA, np.pi/1.8)"
   ]
  },
  {
   "cell_type": "markdown",
   "id": "7dda5645",
   "metadata": {},
   "source": [
    "## Efficiency with time\n",
    "Now we reduce the thermalization time to see how the efficiency rateo changes"
   ]
  },
  {
   "cell_type": "code",
   "execution_count": null,
   "id": "bbb448c9",
   "metadata": {},
   "outputs": [],
   "source": [
    "# Fix parameters\n",
    "CLASSICAL_ETA_DEF = \"CNCA\"  # Chambadal–Novikov–Curzon–Ahlborn or Carnot efficiency\n",
    "c1_force = 2.0\n",
    "c2_force = 2.0\n",
    "phi_cold = 12\n",
    "phi_hot = 1.25\n",
    "filtered_df = df_simulations[\n",
    "    (df_simulations.loc[:, (\"cavity1\", \"compressing_force\")] == c1_force) \n",
    "    & (df_simulations.loc[:, (\"cavity2\", \"compressing_force\")] == c2_force) \n",
    "    & (df_simulations.loc[:, (\"phaseonium\", \"phi_cold\")] == phi_cold) \n",
    "    & (df_simulations.loc[:, (\"phaseonium\", \"phi_hot\")] == phi_hot) \n",
    "    & (df_simulations.loc[:, (\"output\", \"Carnot\")] > 0)\n",
    "]\n",
    "filtered_df = filtered_df.reset_index()\n",
    "filtered_df.columns = ['_'.join(col).strip() for col in filtered_df.columns.values]\n",
    "filtered_df.loc[:, \"gain\"] = filtered_df[\"output_Efficiency\"] / filtered_df[f\"output_{CLASSICAL_ETA_DEF}\"]\n",
    "filtered_df.loc[:, \"phaseonium_phi_hot\"] = 1 / filtered_df.loc[:, \"phaseonium_phi_hot\"].values\n",
    "filtered_df.loc[:, \"phaseonium_phi_cold\"] = 1 / filtered_df.loc[:, \"phaseonium_phi_cold\"].values\n",
    "print(filtered_df.columns)\n",
    "# Create a pivot table with X and Y as indices and Z as values\n",
    "X = \"phaseonium_phi_hot\"\n",
    "Y = \"phaseonium_phi_cold\"\n",
    "Z = \"gain\"\n",
    "pivot_table = filtered_df.pivot_table(index=X, columns=Y, values=Z)\n",
    "names_table = filtered_df.pivot_table(index=X, columns=Y, values=\"meta_name\", aggfunc=lambda x: ', '.join(x)).fillna(\"\")\n",
    "\n",
    "# For a heatmap\n",
    "plt.figure(figsize=(10, 8))\n",
    "sns.heatmap(pivot_table, cmap='viridis', annot=True, fmt='.0%')\n",
    "plt.title('Efficiency as a function of $\\\\phi_h$ and $\\\\phi_c$ (in $\\\\pi$ units)')\n",
    "plt.tight_layout()\n",
    "plt.show()"
   ]
  }
 ],
 "metadata": {
  "kernelspec": {
   "display_name": "base",
   "language": "python",
   "name": "python3"
  },
  "language_info": {
   "codemirror_mode": {
    "name": "ipython",
    "version": 3
   },
   "file_extension": ".py",
   "mimetype": "text/x-python",
   "name": "python",
   "nbconvert_exporter": "python",
   "pygments_lexer": "ipython3",
   "version": "3.12.2"
  }
 },
 "nbformat": 4,
 "nbformat_minor": 5
}
