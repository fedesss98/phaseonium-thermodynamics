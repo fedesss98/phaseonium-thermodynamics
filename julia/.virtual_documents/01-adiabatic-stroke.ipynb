include("./src/RoutineFunctions.jl")
include("./modules/Thermodynamics.jl")
include("./modules/OpticalCavity.jl")
include("./modules/Phaseonium.jl")
include("./modules/BosonicOperators.jl")
include("./modules/Measurements.jl")

using LinearAlgebra
using ProgressBars
using Plots
using LaTeXStrings

using .Thermodynamics
using .OpticalCavity
using .Phaseonium
using .BosonicOperators
using .Measurements





function kraus_operators(α, ϕ)
    ga, gb = Phaseonium.dissipationrates(α, ϕ)
    
    C = BosonicOperators.C(Ω*Δt, NDIMS)
    Cp = BosonicOperators.Cp(Ω*Δt, NDIMS)
    S = BosonicOperators.S(Ω*Δt, NDIMS)
    Sd = BosonicOperators.Sd(Ω*Δt, NDIMS)
    
    E0 = sqrt(1 - ga/2 - gb/2) * identity(NDIMS) 
    E1 = sqrt(ga/2) * C
    E2 = sqrt(ga) * S
    E3 = sqrt(gb/2) * Cp
    E4 = sqrt(gb) * Sd
    
    return [E0, E1, E2, E3, E4]
end

function _check(ρ)
    println("System after the stroke:")
    if !checkdensity(ρ)
        throw(DomainError(ρ))
    end
    println("Final Temperature of the System: $(Measurements.temperature(ρ, ω))")
end

function measure_and_plot(system_evolution, cavity_evolution, title)
    temperatures = []
    entropies = []
    for (i, ρ) in enumerate(system_evolution)
        local ω = α0 / cavity_evolution[i] 
        t = round(Measurements.temperature(ρ, ω), digits=5)
        ent = round(Measurements.entropy_vn(ρ), digits=5)
        
        push!(temperatures, t)
        push!(entropies, ent)
    end
    
    g = plot(entropies, temperatures, label="Stroke")
    # Plot starting point
    scatter!(g, [entropies[1]], [temperatures[1]], label="Start", mc="blue", ms=5)
    # Plot ending point
    scatter!(g, [entropies[end]], [temperatures[end]], label="End", mc="red", ms=5)
    title!(title)
    xlabel!("Entropy")
    ylabel!("Temperature")
    display(g)
    
    return g
end
;


NDIMS = 40
Ω = 1.0
Δt = 1e-2

T_initial = 1.0
T_heating = 1.5
T_cooling = 0.25

# Create a Cavity
α0 = π
l0 = 1.0
expanding_force = 0.5
compressing_force = 2.5
cavity = Cavity(1.0, 1.0, l0, α0, expanding_force)
ω = α0 / l0

ρt = thermalstate(NDIMS, ω, T_initial)
println(
    "Initial Temperature of the Cavity:
    $(Measurements.temperature(ρt, ω))")

# Jump Operators
a = BosonicOperators.destroy(NDIMS)
ad = BosonicOperators.create(NDIMS)

# Create Phaseonium atoms
# For thermal (diagonal) phaseoniums, the Master Equation is the same as having ϕ=π/2
# Heating
ϕ_h = π/3
α_h = Phaseonium.alpha_from_temperature(T_heating, ϕ_h) 

ga_h, gb_h = Phaseonium.dissipationrates(α_h, ϕ_h)
println(
    "Apparent Temperature carried by Hot Phaseonium atoms: 
    $(Phaseonium.finaltemperature(ω, ga_h, gb_h))")

kraus_h = kraus_operators(α_h, ϕ_h)

# Cooling
ϕ_c = π/4
α_c = Phaseonium.alpha_from_temperature(T_cooling, ϕ_c) 

ga_c, gb_c = Phaseonium.dissipationrates(α_c, ϕ_c)
println(
    "Apparent Temperature carried by Cold Phaseonium atoms: 
    $(Phaseonium.finaltemperature(ω, ga_c, gb_c))")

kraus_c = kraus_operators(α_c, ϕ_c)

# Time Evolution loop
const TT = 20000  # Thermalization Time

system_evolution = []
;





stroke_evolution = Thermodynamics.phaseonium_stroke(ρt, TT, kraus_h; sampling_steps=1000, verbose=2);
append!(system_evolution, stroke_evolution);
ρ = stroke_evolution[end]
chop!(ρ)
_check(ρ)


# See if it has thermalized
# system_final = Thermodynamics.phaseonium_stroke(stroke_evolution[end], 5, kraus_h; sampling_steps=5, verbose=0)[end];
# _check(system_final)


measure_and_plot(stroke_evolution, [cavity.length for _ in stroke_evolution], "1) Isochoric Heating");





stroke_evolution, cavity_evolution = Thermodynamics.adiabatic_stroke(ρ, 100, Δt, [a, ad], cavity; 
    sampling_steps=10, verbose=2);
append!(system_evolution, stroke_evolution);
ρ = stroke_evolution[end]
chop!(ρ)
_check(ρ)


measure_and_plot(stroke_evolution, cavity_evolution, "2) Adiabatic Expansion");





stroke_evolution = Thermodynamics.phaseonium_stroke(ρ, TT, kraus_c; sampling_steps=1000, verbose=2);
append!(system_evolution, stroke_evolution);
ρ = stroke_evolution[end]
chop!(ρ)
_check(ρ)


measure_and_plot(stroke_evolution, [cavity.length for _ in stroke_evolution], "3) Isochoric Cooling");





cavity.external_force = compressing_force
stroke_evolution, cavity_evolution = Thermodynamics.adiabatic_stroke(ρ, 100, Δt, [a, ad], cavity; 
    sampling_steps=10, verbose=2);
append!(system_evolution, stroke_evolution);
ρ = stroke_evolution[end]
chop!(ρ)
_check(ρ)


measure_and_plot(stroke_evolution, cavity_evolution, "4) Adiabatic Compression");





cycle_evolution = []
cavity_evolution = []
ρ = ρt
isochore_time = 20000
adiabatic_time = 100
for t in 1:10
    println("Cycle $t")
    # Isochoric Heating
    stroke_evolution = Thermodynamics.phaseonium_stroke(ρ, TT, kraus_h; sampling_steps=1000, verbose=1)
    append!(cycle_evolution, stroke_evolution)
    append!(cavity_evolution, [cavity.length for _ in stroke_evolution])
    ρ = stroke_evolution[end]
    chop!(ρ)
    # Adiabatic Expansion
    stroke_evolution, cavity_expansion = Thermodynamics.adiabatic_stroke(ρ, 100, Δt, [a, ad], cavity;
        sampling_steps=10, verbose=1)
    append!(cycle_evolution, stroke_evolution)
    append!(cavity_evolution ,cavity_expansion)
    ρ = stroke_evolution[end]
    chop!(ρ)
    # Isochoric Cooling
    stroke_evolution = Thermodynamics.phaseonium_stroke(ρ, TT, kraus_c; sampling_steps=1000, verbose=1)
    append!(cycle_evolution, stroke_evolution)
    append!(cavity_evolution, [cavity.length for _ in stroke_evolution])
    ρ = stroke_evolution[end]
    chop!(ρ)
    # Adiabatic Compression
    cavity.external_force = compressing_force
    stroke_evolution, cavity_compression = Thermodynamics.adiabatic_stroke(ρ, 100, Δt, [a, ad], cavity; 
        sampling_steps=10, verbose=1)
    append!(cycle_evolution, stroke_evolution)
    append!(cavity_evolution, cavity_compression)
    ρ = stroke_evolution[end]
    chop!(ρ)
end


cycle_time = 2*isochore_time + 2*adiabatic_time
g = measure_and_plot(cycle_evolution[9*cycle_time, end], cavity_evolution[9*cycle_time, end], "Engine Cycle");
savefig("img/phaseonium_engine_cycle");



