


include("./src/RoutineFunctions.jl")
include("./modules/Thermodynamics.jl")
include("./modules/OpticalCavity.jl")
include("./modules/Phaseonium.jl")
include("./modules/BosonicOperators.jl")
include("./modules/Measurements.jl")

using LinearAlgebra
using ProgressBars
using Plots
using LaTeXStrings

using .Thermodynamics
using .OpticalCavity
using .Phaseonium
using .BosonicOperators
using .Measurements


function _check(ρ)
    println("System after the stroke:")
    if !checkdensity(ρ)
        throw(DomainError(ρ))
    end
    println("Final Temperature of the System: $(Measurements.temperature(ρ, ω))")
end

function measure_and_plot(system_evolution, cavity_evolution, title)
    temperatures = []
    entropies = []
    for (i, ρ) in enumerate(system_evolution)
        local ω = α0 / cavity_evolution[i] 
        t = round(Measurements.temperature(ρ, ω), digits=5)
        ent = round(Measurements.entropy_vn(ρ), digits=5)
        
        push!(temperatures, t)
        push!(entropies, ent)
    end
    
    g = plot(entropies, temperatures, label="Stroke")
    # Plot starting point
    scatter!(g, [entropies[1]], [temperatures[1]], label="Start", mc="blue", ms=5)
    # Plot ending point
    scatter!(g, [entropies[end]], [temperatures[end]], label="End", mc="red", ms=5)
    title!(title)
    xlabel!("Entropy")
    ylabel!("Temperature")
    display(g)
    
    return g
end
;


NDIMS = 20
Ω = 1.0
Δt = 1e-2

T_initial = 1.0
T_heating = 1.5
T_cooling = 0.25

# Create a Cavity
α0 = π
l0 = 1.0
expanding_force = 0.5
compressing_force = 2.5
cavity = Cavity(1.0, 1.0, l0, α0, expanding_force)
ω = α0 / l0

ρt = thermalstate(NDIMS, ω, T_initial)
println(
    "Initial Temperature of the Cavity:
    $(Measurements.temperature(ρt, ω))")
# Joint system
ρ_tot = kron(ρt, ρt)

# Jump Operators
a = BosonicOperators.destroy(NDIMS)
ad = BosonicOperators.create(NDIMS)

# Create Phaseonium atoms
# For thermal (diagonal) phaseoniums, the Master Equation is the same as having ϕ=π/2
# Heating
ϕ_h = π/3
α_h = Phaseonium.alpha_from_temperature(T_heating, ϕ_h) 

ga_h, gb_h = Phaseonium.dissipationrates(α_h, ϕ_h)
println(
    "Apparent Temperature carried by Hot Phaseonium atoms: 
    $(Phaseonium.finaltemperature(ω, ga_h, gb_h))")

# Cooling
ϕ_c = π/4
α_c = Phaseonium.alpha_from_temperature(T_cooling, ϕ_c) 

ga_c, gb_c = Phaseonium.dissipationrates(α_c, ϕ_c)
println(
    "Apparent Temperature carried by Cold Phaseonium atoms: 
    $(Phaseonium.finaltemperature(ω, ga_c, gb_c))")

# Time Evolution loop
const TT = 20000  # Thermalization Time

system_evolution = []
;





function kraus_operators(α, ϕ)
    ga, gb = Phaseonium.dissipationrates(α, ϕ)
    
    C = BosonicOperators.C(Ω*Δt, NDIMS)
    Cp = BosonicOperators.Cp(Ω*Δt, NDIMS)
    S = BosonicOperators.S(Ω*Δt, NDIMS)
    Sd = BosonicOperators.Sd(Ω*Δt, NDIMS)
    
    E0 = sqrt(1 - ga/2 - gb/2) * kron(identity(NDIMS), identity(NDIMS))
    E1 = sqrt(ga/2) * (kron(C, C) -2 * kron(S, Sd))
    E2 = sqrt(ga) * (kron(S, Cp) + kron(C, S))
    E3 = sqrt(gb/2) * (kron(Cp, Cp) - 2 * kron(Sd, S))
    E4 = sqrt(gb) * (kron(Sd, C) + kron(Cp, Sd))
    
    return [E0, E1, E2, E3, E4]
end
;

kraus = kraus_operators(α_h, ϕ_h);


for k in kraus
    println(size(k))
end


stroke_evolution = Thermodynamics.phaseonium_stroke(ρ_tot, TT, kraus; sampling_steps=1000, verbose=1);
append!(system_evolution, stroke_evolution);
ρ = stroke_evolution[end]
chop!(ρ)
_check(ρ)


_check(qt_ptrace(ρ, 2))


QuantumOptics.CompositeBasis(ρ)



