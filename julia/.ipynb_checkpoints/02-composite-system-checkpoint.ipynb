{
 "cells": [
  {
   "cell_type": "markdown",
   "id": "b1850baf-b2c4-497d-94e4-d70829ca4652",
   "metadata": {},
   "source": [
    "# Composite System Evolution\n",
    "Here we try to model the evolution one system at a time, saving the intermediate state of ancillas"
   ]
  },
  {
   "cell_type": "code",
   "execution_count": 1,
   "id": "e1cc96eb-9bfd-4bbe-8541-3f54ae9fbee9",
   "metadata": {},
   "outputs": [],
   "source": [
    "include(\"./src/RoutineFunctions.jl\")\n",
    "include(\"./modules/Thermodynamics.jl\")\n",
    "include(\"./modules/OpticalCavity.jl\")\n",
    "include(\"./modules/Phaseonium.jl\")\n",
    "include(\"./modules/BosonicOperators.jl\")\n",
    "include(\"./modules/Measurements.jl\")\n",
    "\n",
    "using LinearAlgebra\n",
    "using ProgressBars\n",
    "using Plots\n",
    "using LaTeXStrings\n",
    "\n",
    "using .Thermodynamics\n",
    "using .OpticalCavity\n",
    "using .Phaseonium\n",
    "using .BosonicOperators\n",
    "using .Measurements"
   ]
  },
  {
   "cell_type": "code",
   "execution_count": 3,
   "id": "2ea244db-77a1-4f01-b686-4b8c56ded57c",
   "metadata": {},
   "outputs": [
    {
     "name": "stdout",
     "output_type": "stream",
     "text": [
      "Initial Temperature of the Cavity:\n",
      "    1.0\n",
      "Apparent Temperature carried by Hot Phaseonium atoms: \n",
      "    4.71238898038469\n",
      "Apparent Temperature carried by Cold Phaseonium atoms: \n",
      "    0.7853981633974483\n"
     ]
    }
   ],
   "source": [
    "NDIMS = 40\n",
    "Ω = 1.0\n",
    "Δt = 1e-2\n",
    "\n",
    "T_initial = 1.0\n",
    "T_heating = 1.5\n",
    "T_cooling = 0.25\n",
    "\n",
    "# Create a Cavity\n",
    "α0 = π\n",
    "l0 = 1.0\n",
    "expanding_force = 0.5\n",
    "compressing_force = 2.5\n",
    "cavity = Cavity(1.0, 1.0, l0, α0, expanding_force)\n",
    "ω = α0 / l0\n",
    "\n",
    "ρt = thermalstate(NDIMS, ω, T_initial)\n",
    "println(\n",
    "    \"Initial Temperature of the Cavity:\n",
    "    $(Measurements.temperature(ρt, ω))\")\n",
    "\n",
    "# Jump Operators\n",
    "a = BosonicOperators.destroy(NDIMS)\n",
    "ad = BosonicOperators.create(NDIMS)\n",
    "\n",
    "# Create Phaseonium atoms\n",
    "# For thermal (diagonal) phaseoniums, the Master Equation is the same as having ϕ=π/2\n",
    "# Heating\n",
    "ϕ_h = π/3\n",
    "α_h = Phaseonium.alpha_from_temperature(T_heating, ϕ_h) \n",
    "\n",
    "ga_h, gb_h = Phaseonium.dissipationrates(α_h, ϕ_h)\n",
    "println(\n",
    "    \"Apparent Temperature carried by Hot Phaseonium atoms: \n",
    "    $(Phaseonium.finaltemperature(ω, ga_h, gb_h))\")\n",
    "\n",
    "# Cooling\n",
    "ϕ_c = π/4\n",
    "α_c = Phaseonium.alpha_from_temperature(T_cooling, ϕ_c) \n",
    "\n",
    "ga_c, gb_c = Phaseonium.dissipationrates(α_c, ϕ_c)\n",
    "println(\n",
    "    \"Apparent Temperature carried by Cold Phaseonium atoms: \n",
    "    $(Phaseonium.finaltemperature(ω, ga_c, gb_c))\")\n",
    "\n",
    "# Time Evolution loop\n",
    "const TT = 20000  # Thermalization Time\n",
    "\n",
    "system_evolution = []\n",
    ";"
   ]
  },
  {
   "cell_type": "markdown",
   "id": "2f3b21b4-6d68-4eaf-8a52-d170a4067664",
   "metadata": {},
   "source": [
    "### One-step evolution\n",
    "We calculare:\n",
    "\\begin{align}\n",
    "&\\rho_1' = Tr_{\\eta}\\left\\{ e^{-i\\Delta t(H_S + H_\\eta + V_n)}\\rho_1\\otimes\\eta\\, e^{i\\Delta t(H_S + H_\\eta + V_n)} \\right\\} \\\\\n",
    "&\\eta ' = Tr_{\\rho_1}\\left\\{ e^{-i\\Delta t(H_S + H_\\eta + V_n)}\\rho_1\\otimes\\eta\\, e^{i\\Delta t(H_S + H_\\eta + V_n)} \\right\\} \\\\\n",
    "&\\rho_2' = Tr_{\\eta'}\\left\\{ e^{-i\\Delta t(H_S + H_\\eta + V_n)}\\rho_2\\otimes\\eta'\\, e^{i\\Delta t(H_S + H_\\eta + V_n)} \\right\\}\n",
    "\\end{align}\n",
    "\n",
    "with:\n",
    "\n",
    "\\begin{align}\n",
    "&H_S = \\hbar\\omega\\left(\\hat{n}+\\frac{1}{2}\\right) \\\\\n",
    "&H_\\eta = \\frac{\\hbar\\omega}{2} \\left(\\sigma^+_1\\sigma^-_1 + \\sigma^+_2\\sigma^-_2\\right) = \\frac{\\hbar\\omega}{2}\\left(\\sigma_{z1}+\\sigma_{z2}\\right) \\\\\n",
    "&V_n = \\hbar\\Omega \\{ \\hat{a}(\\sigma_1^+ + \\sigma_2^+) + \\hat{a}^\\dagger(\\sigma_1^- + \\sigma_2^-) \\} =\n",
    "     \\hbar\\Omega \\{ \\hat{a}\\sigma^+ + \\hat{a}^\\dagger\\sigma^- \\}\n",
    "\\end{align}"
   ]
  },
  {
   "cell_type": "code",
   "execution_count": 5,
   "id": "9e0889b6-c0aa-4211-84cf-20fc75bee574",
   "metadata": {},
   "outputs": [],
   "source": [
    "function H_s(α, l, n)\n",
    "    α / l * ( n + 1/2)\n",
    "end\n",
    "\n",
    "function H_eta(α, l, sz)\n",
    "    α / l * sz * 1/2\n",
    "end\n",
    "\n",
    "function V(Ω, a, ad, sp, sm)\n",
    "    Ω * (a * sp + ad * sm)\n",
    "end\n",
    "\n",
    ";"
   ]
  },
  {
   "cell_type": "code",
   "execution_count": null,
   "id": "ecb318b8-80be-4ed9-a95d-c8533d3a5ae0",
   "metadata": {},
   "outputs": [],
   "source": []
  }
 ],
 "metadata": {
  "kernelspec": {
   "display_name": "Julia 1.9.4",
   "language": "julia",
   "name": "julia-1.9"
  },
  "language_info": {
   "file_extension": ".jl",
   "mimetype": "application/julia",
   "name": "julia",
   "version": "1.9.4"
  }
 },
 "nbformat": 4,
 "nbformat_minor": 5
}
