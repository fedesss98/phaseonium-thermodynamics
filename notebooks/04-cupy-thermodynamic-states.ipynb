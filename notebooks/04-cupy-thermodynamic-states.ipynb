{
 "cells": [
  {
   "cell_type": "markdown",
   "source": [
    "# System State in the Temperature-Entropy Diagram\n",
    "To always have a well-defined temperature for the system we need *diagonal* states throughout the evolution.\n",
    "This is guarantee by the dynamical map if the system starts from a diagonal state."
   ],
   "metadata": {
    "collapsed": false
   }
  },
  {
   "cell_type": "code",
   "execution_count": 1,
   "outputs": [
    {
     "name": "stdout",
     "output_type": "stream",
     "text": [
      "Total of 20000 timesteps from 0 to 1000 with dt = 0.05\n"
     ]
    }
   ],
   "source": [
    "import glob\n",
    "from IPython.display import display, Image\n",
    "import matplotlib.pyplot as plt\n",
    "import numpy as np\n",
    "import cupy as cp\n",
    "import qutip as qt\n",
    "from qutip.visualization import plot_fock_distribution, plot_wigner\n",
    "\n",
    "import tqdm\n",
    "\n",
    "import uuid\n",
    "import json\n",
    "import os\n",
    "\n",
    "from thermophaseonium.utilities.make_gif import create_gif\n",
    "from thermophaseonium.utilities.states import Cavity, Ancilla\n",
    "\n",
    "SEED = 42\n",
    "rng = np.random.default_rng(SEED)\n",
    "\n",
    "OMEGA = 0.5  # Interaction strength\n",
    "N = 100  # Maximum number of dimensions\n",
    "\n",
    "INTERACTION_TIME = 0.05\n",
    "T_MAX = 1000\n",
    "TIMESTEPS = np.linspace(0, T_MAX, int(T_MAX / INTERACTION_TIME))\n",
    "print(f\"Total of {len(TIMESTEPS)} timesteps from 0 to {T_MAX} with dt = {INTERACTION_TIME}\")"
   ],
   "metadata": {
    "collapsed": false,
    "ExecuteTime": {
     "end_time": "2024-04-16T17:26:10.218989Z",
     "start_time": "2024-04-16T17:26:08.899328Z"
    }
   }
  },
  {
   "cell_type": "code",
   "outputs": [],
   "source": [
    "def dagger(matrix):\n",
    "    return cp.conj(matrix.T)\n",
    "\n",
    "def destroy(ndims):\n",
    "    return cp.diag(cp.sqrt(cp.arange(1, ndims)), k=1)\n",
    "\n",
    "def create(ndims):\n",
    "    return cp.diag(cp.sqrt(cp.arange(1, ndims)), k=-1)\n",
    "\n",
    "def anticommutator(op1, op2):\n",
    "    return cp.dot(op1, op2) + cp.dot(op2, op1)\n",
    "\n",
    "def commutator(op1, op2):\n",
    "    return cp.dot(op1, op2) - cp.dot(op2, op1)\n",
    "\n",
    "def cupy_temperature(rho):\n",
    "    z = 1 / rho[0, 0]\n",
    "    return cp.real(- 1 / cp.log(rho[1, 1] * z))"
   ],
   "metadata": {
    "collapsed": false,
    "ExecuteTime": {
     "end_time": "2024-04-16T17:36:06.155116Z",
     "start_time": "2024-04-16T17:36:06.136117Z"
    }
   },
   "execution_count": 35
  },
  {
   "cell_type": "code",
   "outputs": [
    {
     "name": "stdout",
     "output_type": "stream",
     "text": [
      "Stable temperature: 1.0361825667667512\n"
     ]
    },
    {
     "data": {
      "text/plain": "Quantum object: dims = [[3], [3]], shape = (3, 3), type = oper, isherm = True\nQobj data =\n[[ 1.60000000e-01+0.0000000e+00j  1.00000000e+00+0.0000000e+00j\n  -1.00000000e+00+1.2246468e-16j]\n [ 1.00000000e+00+0.0000000e+00j  4.20000000e-01+0.0000000e+00j\n   2.57175828e-17+4.2000000e-01j]\n [-1.00000000e+00-1.2246468e-16j  2.57175828e-17-4.2000000e-01j\n   4.20000000e-01+0.0000000e+00j]]",
      "text/latex": "Quantum object: dims = [[3], [3]], shape = (3, 3), type = oper, isherm = True $ \\\\ \\left(\\begin{matrix}0.160 & 1.0 & -1.0\\\\1.0 & 0.420 & 0.420j\\\\-1.0 & -0.420j & 0.420\\\\\\end{matrix}\\right)$"
     },
     "execution_count": 36,
     "metadata": {},
     "output_type": "execute_result"
    }
   ],
   "source": [
    "def create_isobaric_ancilla():\n",
    "    \"\"\"\n",
    "    This is an ancilla that only exchange heat with the system without doing work\n",
    "    :return: \n",
    "    \"\"\"\n",
    "    alpha = 0.4\n",
    "    heat_amplitude = (1 - alpha**2) / 2\n",
    "    chi01_phase = np.pi * 0\n",
    "    chi02_phase = np.pi * 1\n",
    "    chi12_phase = np.pi / 2\n",
    "    chi01 = np.cos(chi01_phase) + 1j * np.sin(chi01_phase)\n",
    "    chi02 = np.cos(chi02_phase) + 1j * np.sin(chi02_phase)\n",
    "    chi12 = heat_amplitude * (np.cos(chi12_phase) + 1j * np.sin(chi12_phase))\n",
    "    \n",
    "    ancilla = Ancilla([\n",
    "        [alpha**2, chi01, chi02],\n",
    "        [chi01.conjugate(), (1 - alpha**2)/2, chi12],\n",
    "        [chi02.conjugate(), chi12.conjugate(), (1 - alpha**2)/2]\n",
    "    ])\n",
    "    return ancilla\n",
    "\n",
    "\n",
    "def create_adiabatic_ancilla():\n",
    "    \"\"\"\n",
    "    This is an ancilla that only do work on the system without exchanging heat\n",
    "    :return: \n",
    "    \"\"\"\n",
    "    alpha = 0.4\n",
    "    work_amplitude = 1e-2\n",
    "    chi01_phase = np.pi * 0.5\n",
    "    chi02_phase = np.pi * 0.5\n",
    "    # chi12_phase = np.pi * 0.5\n",
    "    chi01 = work_amplitude * (np.cos(chi01_phase) + 1j * np.sin(chi01_phase))\n",
    "    chi02 = work_amplitude * (np.cos(chi02_phase) + 1j * np.sin(chi02_phase))\n",
    "    # chi12 = ( np.cos(chi12_phase) + 1j * np.sin(chi12_phase) )\n",
    "    chi12 = 0 + 1j\n",
    "    ancilla = Ancilla([\n",
    "        [alpha**2, chi01, chi02],\n",
    "        [chi01.conjugate(), (1 - alpha**2)/2, chi12],\n",
    "        [chi02.conjugate(), chi12.conjugate(), (1 - alpha**2)/2]\n",
    "    ])\n",
    "    \n",
    "    return ancilla\n",
    "\n",
    "\n",
    "def ga(alpha_square):\n",
    "    return 2 * alpha_square\n",
    "\n",
    "\n",
    "def gb(beta_square, chi12):\n",
    "    return beta_square + chi12 + chi12.conjugate()\n",
    "\n",
    "ancilla = create_isobaric_ancilla()\n",
    "print(f\"Stable temperature: {ancilla.stable_temperature}\")\n",
    "ancilla"
   ],
   "metadata": {
    "collapsed": false,
    "ExecuteTime": {
     "end_time": "2024-04-16T17:36:09.720250Z",
     "start_time": "2024-04-16T17:36:09.700249Z"
    }
   },
   "execution_count": 36
  },
  {
   "cell_type": "code",
   "execution_count": 37,
   "outputs": [
    {
     "data": {
      "text/plain": "3.476059496782207"
     },
     "execution_count": 37,
     "metadata": {},
     "output_type": "execute_result"
    }
   ],
   "source": [
    "n_photons = 3\n",
    "system = Cavity(qt.thermal_dm(N, n_photons), omega=1)\n",
    "\n",
    "system.temperature"
   ],
   "metadata": {
    "collapsed": false,
    "ExecuteTime": {
     "end_time": "2024-04-16T17:36:09.876393Z",
     "start_time": "2024-04-16T17:36:09.859391Z"
    }
   }
  },
  {
   "cell_type": "markdown",
   "source": [
    "## Evolution"
   ],
   "metadata": {
    "collapsed": false
   }
  },
  {
   "cell_type": "code",
   "execution_count": 38,
   "outputs": [],
   "source": [
    "def H_work(chi01, chi02, a, omega=OMEGA):\n",
    "    upshift = (chi01 + chi02) * dagger(a)\n",
    "    return omega * (upshift + dagger(upshift))"
   ],
   "metadata": {
    "collapsed": false,
    "ExecuteTime": {
     "end_time": "2024-04-16T17:36:10.161968Z",
     "start_time": "2024-04-16T17:36:10.152960Z"
    }
   }
  },
  {
   "cell_type": "code",
   "execution_count": 39,
   "outputs": [],
   "source": [
    "def D(op1, rho, op2=None):\n",
    "    if op2 is None:\n",
    "        op2 = op1\n",
    "    return op1 * rho * dagger(op2) - anticommutator(dagger(op2) * op1, rho) / 2"
   ],
   "metadata": {
    "collapsed": false,
    "ExecuteTime": {
     "end_time": "2024-04-16T17:36:10.334914Z",
     "start_time": "2024-04-16T17:36:10.320906Z"
    }
   }
  },
  {
   "cell_type": "code",
   "execution_count": 46,
   "outputs": [],
   "source": [
    "def onestep_evolution(rho, eta, a, dt=INTERACTION_TIME, o=OMEGA):\n",
    "    alpha, beta, chi01, chi02, chi12 = eta\n",
    "    work = 1j * o * dt * commutator(H_work(chi01, chi02, a), rho)\n",
    "    heat1 = ga(alpha) * ( o * dt ) ** 2 * D(dagger(a), rho)\n",
    "    heat2 = gb(beta, chi12) * ( o * dt ) ** 2 * D(a, rho)\n",
    "    rho_new = rho + work + heat1 + heat2\n",
    "    return rho_new"
   ],
   "metadata": {
    "collapsed": false,
    "ExecuteTime": {
     "end_time": "2024-04-16T17:36:26.703724Z",
     "start_time": "2024-04-16T17:36:26.697552Z"
    }
   }
  },
  {
   "cell_type": "code",
   "execution_count": 47,
   "outputs": [],
   "source": [
    "def hilbert_is_good(rho, threshold=1e-6):\n",
    "    \"\"\"\n",
    "    Check if the last element of the density matrix is almost null\n",
    "    \"\"\"\n",
    "    return 0 <= abs(rho[-1, -1]) < threshold"
   ],
   "metadata": {
    "collapsed": false,
    "ExecuteTime": {
     "end_time": "2024-04-16T17:36:26.905798Z",
     "start_time": "2024-04-16T17:36:26.896290Z"
    }
   }
  },
  {
   "cell_type": "code",
   "execution_count": 48,
   "outputs": [],
   "source": [
    "def new_ancilla(ancilla, method='static', **kwargs):\n",
    "    if method == 'static':\n",
    "        return ancilla\n",
    "    elif method == 'rotating':\n",
    "        phis = np.linspace(0, 2 * np.pi, kwargs.get('timesteps', 10))\n",
    "        ancilla.chi01 = phis[kwargs.get('step', -1)]\n",
    "        ancilla.chi02 = phis[kwargs.get('step', -1)]\n",
    "        return ancilla\n",
    "    else:\n",
    "        raise ValueError(f\"Method {method} not recognized\")\n"
   ],
   "metadata": {
    "collapsed": false,
    "ExecuteTime": {
     "end_time": "2024-04-16T17:36:27.078323Z",
     "start_time": "2024-04-16T17:36:27.064322Z"
    }
   }
  },
  {
   "cell_type": "code",
   "outputs": [],
   "source": [
    "def stroke(kind, system, timesteps):\n",
    "    if kind == 'adiabatic':\n",
    "        ancilla = create_adiabatic_ancilla()\n",
    "    elif kind == 'isobaric':\n",
    "        ancilla = create_isobaric_ancilla()\n",
    "    else:\n",
    "        raise ValueError(f\"Kind {kind} not recognized\")\n",
    "    \n",
    "    a = destroy(N)\n",
    "    eta = [ancilla.full()[0, 0], ancilla.full()[0, 1], ancilla.full()[0, 2], 2*ancilla.full()[1, 1], 2*ancilla.full()[1, 2]]\n",
    "    if isinstance(system, Cavity):\n",
    "        system = system.to_cupy()\n",
    "    \n",
    "    temperature_evolution = np.zeros(len(timesteps))\n",
    "    entropy_evolution = np.zeros(len(timesteps))\n",
    "    time_evolution = np.zeros(len(timesteps))\n",
    "    \n",
    "    print(f\"Starting {kind} stroke from temperature {cupy_temperature(system)} to {ancilla.stable_temperature}\")\n",
    "    \n",
    "    for k, t in enumerate(tqdm.tqdm(timesteps, desc=f\"{kind.capitalize()} stroke\")):\n",
    "        temperature_evolution[k] = cupy_temperature(system)\n",
    "        entropy_evolution[k] = Cavity(cp.asnumpy(system)).entropy\n",
    "        \n",
    "        time_evolution[k] = t\n",
    "        try:\n",
    "            rho_new =  onestep_evolution(system, eta, a)\n",
    "        except ValueError as e:\n",
    "            print(f\"Error in computing the evolution at step {k} with t = {t}: {e}\")\n",
    "            # Return the last good state and the evolution up to this point\n",
    "            return Cavity(cp.asnumpy(system)), temperature_evolution[:k], entropy_evolution[:k], time_evolution[:k]\n",
    "\n",
    "        if not hilbert_is_good(system):\n",
    "            print(f\"Approximation no more valid at step {k} with t = {t}\")\n",
    "            return Cavity(cp.asnumpy(system)), temperature_evolution, entropy_evolution, time_evolution\n",
    "        else:\n",
    "            # Update the state\n",
    "            system = rho_new\n",
    "    \n",
    "    return system, temperature_evolution, entropy_evolution, time_evolution"
   ],
   "metadata": {
    "collapsed": false,
    "ExecuteTime": {
     "end_time": "2024-04-16T17:36:39.462605Z",
     "start_time": "2024-04-16T17:36:39.443606Z"
    }
   },
   "execution_count": 52
  },
  {
   "cell_type": "markdown",
   "source": [
    "# Otto Cycle"
   ],
   "metadata": {
    "collapsed": false
   }
  },
  {
   "cell_type": "code",
   "outputs": [],
   "source": [
    "rho = system\n",
    "\n",
    "temperatures = []\n",
    "entropies = []\n",
    "times = []"
   ],
   "metadata": {
    "collapsed": false,
    "ExecuteTime": {
     "end_time": "2024-04-16T17:36:39.867487Z",
     "start_time": "2024-04-16T17:36:39.860487Z"
    }
   },
   "execution_count": 53
  },
  {
   "cell_type": "markdown",
   "source": [
    "## Isobaric stroke\n",
    "In this stroke the system is coupled to classical phaseoniums and it is allowed to thermalize while its Hamiltonian is held constant"
   ],
   "metadata": {
    "collapsed": false
   }
  },
  {
   "cell_type": "code",
   "execution_count": 54,
   "outputs": [
    {
     "name": "stdout",
     "output_type": "stream",
     "text": [
      "Starting isobaric stroke from temperature 3.476059496782207 to 1.0361825667667512\n"
     ]
    },
    {
     "name": "stderr",
     "output_type": "stream",
     "text": [
      "Isobaric stroke:   9%|▉         | 1857/20000 [00:09<01:36, 188.98it/s]"
     ]
    },
    {
     "name": "stdout",
     "output_type": "stream",
     "text": [
      "Approximation no more valid at step 1857 with t = 92.85464273213661\n"
     ]
    },
    {
     "name": "stderr",
     "output_type": "stream",
     "text": [
      "\n"
     ]
    }
   ],
   "source": [
    "# Isobaric stroke\n",
    "rho, temperature_evolution, entropy_evolution, time_evolution = stroke('isobaric', rho, TIMESTEPS)\n",
    "temperatures.append(temperature_evolution)\n",
    "entropies.append(entropy_evolution)\n",
    "times.append(time_evolution)"
   ],
   "metadata": {
    "collapsed": false,
    "ExecuteTime": {
     "end_time": "2024-04-16T17:36:50.717268Z",
     "start_time": "2024-04-16T17:36:40.881728Z"
    }
   }
  },
  {
   "cell_type": "code",
   "outputs": [
    {
     "data": {
      "text/plain": "[<matplotlib.lines.Line2D at 0x219f249e9b0>]"
     },
     "execution_count": 55,
     "metadata": {},
     "output_type": "execute_result"
    },
    {
     "data": {
      "text/plain": "<Figure size 640x480 with 1 Axes>",
      "image/png": "[encoded data removed]"
     },
     "metadata": {},
     "output_type": "display_data"
    }
   ],
   "source": [
    "plt.plot(time_evolution, temperature_evolution, label='Isobaric Stroke Temperature Evolution')"
   ],
   "metadata": {
    "collapsed": false,
    "ExecuteTime": {
     "end_time": "2024-04-16T17:37:27.191592Z",
     "start_time": "2024-04-16T17:37:27.068555Z"
    }
   },
   "execution_count": 55
  },
  {
   "cell_type": "code",
   "outputs": [
    {
     "data": {
      "text/plain": "<Figure size 640x480 with 1 Axes>",
      "image/png": "[encoded data removed]"
     },
     "metadata": {},
     "output_type": "display_data"
    }
   ],
   "source": [
    "plt.plot(entropies[0], temperatures[0], label='Isobaric stroke')\n",
    "plt.plot([entropy_evolution[0], entropy_evolution[-1]], [temperature_evolution[0], temperature_evolution[-1]], 'r')\n",
    "plt.text(temperature_evolution[0], entropy_evolution[0], 'A', fontsize=8)\n",
    "plt.xlabel('Entropy')\n",
    "plt.ylabel('Temperature')\n",
    "plt.legend()\n",
    "plt.ylim(0, 2)\n",
    "plt.show()"
   ],
   "metadata": {
    "collapsed": false,
    "ExecuteTime": {
     "end_time": "2024-04-16T17:37:32.587284Z",
     "start_time": "2024-04-16T17:37:32.483034Z"
    }
   },
   "execution_count": 56
  },
  {
   "cell_type": "markdown",
   "source": [
    "## Adiabatic stroke"
   ],
   "metadata": {
    "collapsed": false
   }
  },
  {
   "cell_type": "code",
   "outputs": [
    {
     "name": "stdout",
     "output_type": "stream",
     "text": [
      "Starting adiabatic stroke from temperature 1.0361825966020337 to 1.0361825667667512\n"
     ]
    },
    {
     "name": "stderr",
     "output_type": "stream",
     "text": [
      "Adiabatic stroke: 100%|██████████| 100000/100000 [09:40<00:00, 172.15it/s]\n"
     ]
    }
   ],
   "source": [
    "# Adiabatic stroke\n",
    "rho, temperature_evolution, entropy_evolution, time_evolution = stroke('adiabatic', rho, TIMESTEPS)\n",
    "temperatures.append(temperature_evolution)\n",
    "entropies.append(entropy_evolution)\n",
    "times.append(time_evolution)"
   ],
   "metadata": {
    "collapsed": false,
    "ExecuteTime": {
     "end_time": "2024-04-16T12:07:05.320026Z",
     "start_time": "2024-04-16T11:57:24.412715Z"
    }
   },
   "execution_count": 71
  },
  {
   "cell_type": "code",
   "outputs": [
    {
     "data": {
      "text/plain": "<Figure size 640x480 with 1 Axes>",
      "image/png": "[encoded data removed]"
     },
     "metadata": {},
     "output_type": "display_data"
    }
   ],
   "source": [
    "plt.plot(entropies[0], temperatures[0], label='Isobaric stroke')\n",
    "plt.plot(entropies[1], temperatures[1], label='Adiabatic stroke')\n",
    "plt.plot([entropies[0][0], entropies[0][-1]], [temperatures[0][0], temperatures[0][-1]], 'r')\n",
    "plt.xlabel('Entropy')\n",
    "plt.ylabel('Temperature')\n",
    "plt.legend()\n",
    "plt.ylim(0, 15)\n",
    "plt.savefig(\"../visualization/ts_plane/adiabatic_stroke.png\")\n",
    "plt.show()"
   ],
   "metadata": {
    "collapsed": false,
    "ExecuteTime": {
     "end_time": "2024-04-16T12:07:05.549816Z",
     "start_time": "2024-04-16T12:07:05.321026Z"
    }
   },
   "execution_count": 72
  },
  {
   "cell_type": "code",
   "execution_count": 15,
   "outputs": [],
   "source": [
    "def ancilla_text(ancilla_obj):\n",
    "    alpha = np.round(ancilla_obj.alpha**2, 3)\n",
    "    chi01 = np.round(ancilla_obj.chi01, 3)\n",
    "    chi02 = np.round(ancilla_obj.chi02, 3)\n",
    "    chi12 = np.round(ancilla_obj.chi12, 3)\n",
    "    beta = np.round(ancilla_obj.beta**2, 3)\n",
    "    return (\n",
    "        r\"\\begin{eqnarray*}\"\n",
    "        r\"\\textbf{Ancilla} \\\\\"\n",
    "       f\"{alpha} & {chi01} & {chi02}\" r\"\\\\\"\n",
    "       f\"{chi01.conjugate()} & {beta} & {chi12}\" r\"\\\\\"\n",
    "       f\"{chi02.conjugate()} & {chi12.conjugate()} & {beta}\"\n",
    "       r\"\\end{eqnarray*}\")"
   ],
   "metadata": {
    "collapsed": false,
    "ExecuteTime": {
     "end_time": "2024-04-10T12:05:50.246492Z",
     "start_time": "2024-04-10T12:05:50.232488Z"
    }
   }
  },
  {
   "cell_type": "code",
   "execution_count": 16,
   "outputs": [
    {
     "data": {
      "text/plain": "<Figure size 640x480 with 1 Axes>",
      "image/png": "[encoded data removed]"
     },
     "metadata": {},
     "output_type": "display_data"
    }
   ],
   "source": [
    "plt.plot(entropy_evolution, temperature_evolution, label='Adiabatic stroke')\n",
    "plt.plot([entropy_evolution[0], entropy_evolution[-1]], [temperature_evolution[0], temperature_evolution[-1]], 'r')\n",
    "plt.xlabel('Entropy')\n",
    "plt.ylabel('Temperature')\n",
    "plt.xlim(1.37, 1.7)\n",
    "plt.ylim(1.41, 1.9)\n",
    "plt.text(1.39, 1.8, ancilla_text(ancilla), fontsize=8, bbox=dict(boxstyle=\"round\", fc=\"white\", ec=\"black\", pad=0.8))\n",
    "plt.legend()\n",
    "plt.savefig(\"../visualization/ts_plane/adiabatic_stroke.png\")\n",
    "plt.show()"
   ],
   "metadata": {
    "collapsed": false,
    "ExecuteTime": {
     "end_time": "2024-04-10T12:05:50.388996Z",
     "start_time": "2024-04-10T12:05:50.247487Z"
    }
   }
  },
  {
   "cell_type": "code",
   "execution_count": 16,
   "outputs": [],
   "source": [],
   "metadata": {
    "collapsed": false,
    "ExecuteTime": {
     "end_time": "2024-04-10T12:05:50.404505Z",
     "start_time": "2024-04-10T12:05:50.389997Z"
    }
   }
  }
 ],
 "metadata": {
  "kernelspec": {
   "display_name": "Python 3",
   "language": "python",
   "name": "python3"
  },
  "language_info": {
   "codemirror_mode": {
    "name": "ipython",
    "version": 2
   },
   "file_extension": ".py",
   "mimetype": "text/x-python",
   "name": "python",
   "nbconvert_exporter": "python",
   "pygments_lexer": "ipython2",
   "version": "2.7.6"
  }
 },
 "nbformat": 4,
 "nbformat_minor": 0
}
