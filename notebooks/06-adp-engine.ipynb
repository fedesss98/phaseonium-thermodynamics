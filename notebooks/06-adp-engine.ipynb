{
 "cells": [
  {
   "metadata": {},
   "cell_type": "markdown",
   "source": [
    "# Atom-Doped Photon Engine\n",
    "*per Tjero et al., 2024*\n",
    "\n",
    "The dynamics of the quantum system (cavity+atom) can be described by the superator:\n",
    "$$\n",
    "\\mathcal{U}_{\\text{cycle}}=\\prod_{k=1}^{4}P_k\\mathcal{U}_k\\,,\n",
    "$$\n",
    "\n",
    "where $P_k$ is the operator performing an energy projective measurement at the end of the stroke $k$.\n",
    "\n",
    "### Otto Cycle\n",
    "1-3) **Adiabatic Compression/Expansion**: $\\mathcal{U}_k\\rho(t) = U_k\\rho(t)U_k^\\dagger$, with:\n",
    "$$ U_k = \\exp\\left(-i\\int_{t_{k}}^{t_{k+1}} H_k(t')dt'\\right). $$\n",
    "2-4) **Isochoric Heating/Cooling**: $\\mathcal{U}_k = \\exp\\left(\\tau\\mathcal{L}_k\\right)$, with:\n",
    "$$ \\mathcal{L}_k\\rho(t) = -i\\left[ H(t_k), \\rho(t) \\right] + \\mathcal{D}_k\\left[ \\rho(t) \\right] $$"
   ],
   "id": "f714cc6ba5a6c855"
  },
  {
   "metadata": {
    "ExecuteTime": {
     "end_time": "2024-07-11T14:30:42.128036Z",
     "start_time": "2024-07-11T14:30:37.731748Z"
    }
   },
   "cell_type": "code",
   "source": [
    "import numpy as np\n",
    "import matplotlib.pyplot as plt\n",
    "import qutip as qt\n",
    "import tqdm\n",
    "import pickle\n",
    "from pathlib import Path\n",
    "\n",
    "from thermophaseonium.utilities.states import Cavity, Ancilla\n",
    "\n",
    "SAVE_PATH = Path(r\"G:\\UNIPA\\DOTTORATO\\PHASEONIUM\\thermo-phaseonium\\data\")"
   ],
   "id": "426309f1a16570a4",
   "outputs": [],
   "execution_count": 1
  },
  {
   "metadata": {
    "ExecuteTime": {
     "end_time": "2024-07-11T14:30:42.152400Z",
     "start_time": "2024-07-11T14:30:42.129042Z"
    }
   },
   "cell_type": "code",
   "source": [
    "class Engine:\n",
    "    def __init__(self, ndims=40, l0=10.0, alpha0=2*np.pi, omega_a=None, omega_int=1e-3, omega_dissip=1e-2, v=1e-2, n_c=5, n_h=20, timesteps=1, dt=1e-4):\n",
    "        self.ndims = ndims\n",
    "        self.l0 = l0\n",
    "        self.alpha0 = alpha0\n",
    "        self.omega_a = omega_a if omega_a else alpha0 / l0\n",
    "        self.omega_int = omega_int\n",
    "        self.omega_dissip = omega_dissip\n",
    "        self.v = v\n",
    "        self.v_t = v\n",
    "        self.n_c = n_c  # Number of thermal photons in the cold bath\n",
    "        self.n_h = n_h  # Number of thermal photons in the hot bath\n",
    "        \n",
    "        cavity = qt.thermal_dm(ndims, n_c)  # Cavity is initially thermalized with the cold bath  \n",
    "        atom = qt.Qobj([[1, 0], [0, 0]])  # Atom is initially in the ground state\n",
    "        self._system = qt.tensor(cavity, atom)\n",
    "        \n",
    "        self.t = 0  # Actual time of the machine\n",
    "        self.dt = dt  # Minimum time difference\n",
    "        self.timesteps = timesteps  # Temporal length of each stroke\n",
    "        self.l = l0\n",
    "        self.states = [(self.energy(), self.alpha0 / self.l)]\n",
    "        \n",
    "    @property\n",
    "    def system(self):\n",
    "        return self._system\n",
    "\n",
    "    @system.setter\n",
    "    def system(self, system):\n",
    "        if system.dims[0][0] != self.ndims:\n",
    "            raise ValueError('The system state has a different number of dimensions')\n",
    "        \n",
    "        self._system = system\n",
    "        if len(self.states) == 1:\n",
    "            # Remove all preceding states and start from the new one\n",
    "            self.states = [(self.energy(), self.alpha0 / self.l)]\n",
    "        \n",
    "    def integrate(self, integrand, ti, tf):\n",
    "        \"\"\"Perform an approximated integration in the interval [ti, tf] in discrete time\"\"\"\n",
    "        steps = int((tf - ti) / self.dt)\n",
    "        integral = 0\n",
    "        for i in np.linspace(ti, tf, steps):\n",
    "            integral += integrand(i) * self.dt\n",
    "        return integral\n",
    "    \n",
    "    def differentiate(self, f, t):\n",
    "        \"\"\"Approximate the derivative of a function f at time t\"\"\"\n",
    "        return (f(t + self.dt) - f(t)) / self.dt\n",
    "                \n",
    "    def ha(self):\n",
    "        \"\"\"Hamiltonian of the atom\"\"\"\n",
    "        return 0.5 * self.omega_a * qt.sigmaz()\n",
    "    \n",
    "    def hc(self):\n",
    "        \"\"\"Hamiltonian of the cavity\"\"\"\n",
    "        omega_c = self.alpha0 / self.l\n",
    "        return omega_c * ( qt.create(self.ndims) * qt.destroy(self.ndims) + 1/2)\n",
    "    \n",
    "    def h_int(self):\n",
    "        \"\"\"\n",
    "        Interaction Hamiltonian. \n",
    "        The interaction strenght is given by a constant factor times the frequency of the cavity at that time:\n",
    "        Omega(t) = k*omega_c(t)\n",
    "        \"\"\"\n",
    "        omega_int = self.omega_int * (self.alpha0 / self.l)\n",
    "        up_term = qt.tensor(qt.create(self.ndims), qt.sigmam())\n",
    "        down_term = qt.tensor(qt.destroy(self.ndims), qt.sigmap())\n",
    "        return omega_int * ( up_term + down_term )\n",
    "    \n",
    "    def hamiltonian(self, t=0):\n",
    "        \"\"\"In this Hamiltonian the time dependance is implicit in the variable self.l\"\"\"\n",
    "        return qt.tensor(self.hc(), qt.qeye(2)) + qt.tensor(qt.qeye(self.ndims), self.ha()) + self.h_int()\n",
    "    \n",
    "    def projective_measurement(self, system):\n",
    "        def basis_state(n, i):\n",
    "            return qt.tensor(qt.ket2dm(qt.basis(self.ndims, n)), qt.ket2dm(qt.basis(2, i)))\n",
    "        \n",
    "        p = sum(basis_state(n, i) for n in range(self.ndims) for i in range(2))\n",
    "        # system = p * system * p.dag()\n",
    "        \n",
    "        # SIMPLIFICATION: Take just the diagonal real part of the density matrix\n",
    "        system = qt.Qobj(np.diag(system.diag().real), dims=system.dims)\n",
    "        \n",
    "        return system\n",
    "    \n",
    "    def energy(self):\n",
    "        return qt.expect(self.hamiltonian(), self.system)\n",
    "    \n",
    "    @staticmethod\n",
    "    def save(filename='engine.pkl'):\n",
    "        with open(filename, 'wb') as file:\n",
    "            pickle.dump(engine, file)\n",
    "            \n",
    "    def save_system_state(self, filename='system'):\n",
    "        qt.qsave(self.system, filename)\n",
    "        \n",
    "    @staticmethod\n",
    "    def load_system_state(filename='system'):\n",
    "        system = qt.qload(filename)\n",
    "        return system\n",
    "    \n",
    "    @staticmethod\n",
    "    def load(filename='engine.pkl'):\n",
    "        with open(filename, 'rb') as file:\n",
    "            engine = pickle.load(file)\n",
    "        return engine\n",
    "    \n",
    "    def plot_length_vs_energy(self, start_from=0):\n",
    "        fig, ax = plt.subplots(figsize=(5, 5))\n",
    "        y = np.array(self.states)[start_from:, 0] \n",
    "        x = np.array(self.states)[start_from:, 1]\n",
    "        ax.plot(x, y)\n",
    "        ax.set_xlabel('$\\omega$')\n",
    "        ax.set_ylabel('$E\\;\\;$', rotation=0)\n",
    "        plt.show()\n",
    "                \n",
    "                \n",
    "class OttoEngine(Engine):\n",
    "    def __init__(self, **kwargs):\n",
    "        super().__init__(**kwargs)\n",
    "    \n",
    "    def adiabatic_stroke(self, system):\n",
    "        steps = int(1 / self.dt)\n",
    "        \n",
    "        for i in np.linspace(0, self.timesteps, steps):\n",
    "            # Move the piston\n",
    "            self.l = self.l + self.v_t * self.dt\n",
    "            exp = -1j * self.hamiltonian() * self.dt\n",
    "            u = exp.expm()\n",
    "            system = u * system * u.dag()\n",
    "\n",
    "        self.t += 1\n",
    "        return self.projective_measurement(system)\n",
    "    \n",
    "    def isochoric_stroke(self, system, n_th):\n",
    "        def commutator(rho, hamiltonian):\n",
    "            return -1j * (hamiltonian * rho - rho * hamiltonian)\n",
    "        \n",
    "        def dissipator(rho, n):\n",
    "            ap = qt.tensor(qt.create(self.ndims), qt.qeye(2))\n",
    "            am = qt.tensor(qt.destroy(self.ndims), qt.qeye(2))\n",
    "            up_term = ap * rho * am - 1/2 * ( am * ap * rho + rho * am * ap)\n",
    "            down_term = am * rho * ap - 1/2 * ( ap * am * rho + rho * ap * am)\n",
    "            return self.omega_dissip * n * up_term + self.omega_dissip * (n + 1) * down_term\n",
    "        \n",
    "        steps = int(1 / self.dt)\n",
    "        # Here the piston is fixed\n",
    "        for i in np.linspace(0, self.timesteps, steps):\n",
    "            drdt = commutator(system, self.hamiltonian()) + dissipator(system, n_th)\n",
    "            system = system + drdt * self.dt\n",
    "            \n",
    "        self.t += 1\n",
    "        return self.projective_measurement(system)\n",
    "    \n",
    "    def cycle(self):\n",
    "        \"\"\"One pass of the Otto cycle\"\"\"\n",
    "        # 1) Adiabatic Compression\n",
    "        self.v_t = -1 * abs(self.v)\n",
    "        self.system = self.adiabatic_stroke(self.system)\n",
    "        self.states.append((self.energy(), self.alpha0 / self.l))\n",
    "        \n",
    "        # 2) Isochoric Heating\n",
    "        self.v_t = 0\n",
    "        self.system = self.isochoric_stroke(self.system, self.n_h)\n",
    "        self.states.append((self.energy(), self.alpha0 / self.l))\n",
    "        \n",
    "        # 3) Adiabatic Expansion\n",
    "        self.v_t = abs(self.v)\n",
    "        self.system = self.adiabatic_stroke(self.system)\n",
    "        self.states.append((self.energy(), self.alpha0 / self.l))\n",
    "        \n",
    "        # 4) Isochoric Cooling\n",
    "        self.v_t = 0\n",
    "        self.system = self.isochoric_stroke(self.system, self.n_c)\n",
    "        self.states.append((self.energy(), self.alpha0 / self.l))\n",
    "        \n",
    "        return self.system\n",
    "    \n",
    "    \n",
    "class CarnotEngine(Engine):\n",
    "    def __init__(self, **kwargs):\n",
    "        super().__init__(**kwargs)\n",
    "        \n",
    "    def adiabatic_stroke(self, system):\n",
    "        steps = int(1 / self.dt)\n",
    "        \n",
    "        for i in np.linspace(0, self.timesteps, steps):\n",
    "            # Move the piston\n",
    "            self.l = self.l + self.v_t * self.dt\n",
    "            exp = -1j * self.hamiltonian() * self.dt\n",
    "            u = exp.expm()\n",
    "            system = u * system * u.dag()\n",
    "\n",
    "        self.t += 1\n",
    "        return self.projective_measurement(system)\n",
    "    \n",
    "    def isoparametric_stroke(self, system, n_th):\n",
    "        def commutator(rho, hamiltonian):\n",
    "            return -1j * (hamiltonian * rho - rho * hamiltonian)\n",
    "        \n",
    "        def dissipator(rho, n):\n",
    "            ap = qt.tensor(qt.create(self.ndims), qt.qeye(2))\n",
    "            am = qt.tensor(qt.destroy(self.ndims), qt.qeye(2))\n",
    "            up_term = ap * rho * am - 1/2 * ( am * ap * rho + rho * am * ap)\n",
    "            down_term = am * rho * ap - 1/2 * ( ap * am * rho + rho * ap * am)\n",
    "            return self.omega_dissip * n * up_term + self.omega_dissip * (n + 1) * down_term\n",
    "        \n",
    "        steps = int(1 / self.dt)\n",
    "        # Here the piston moves while the system is in contact with the thermal bath\n",
    "        for i in np.linspace(0, self.timesteps, steps):\n",
    "            # Move the piston\n",
    "            self.l = self.l + self.v_t * self.dt\n",
    "            drdt = commutator(system, self.hamiltonian()) + dissipator(system, n_th)\n",
    "            system = system + drdt * self.dt\n",
    "            \n",
    "        self.t += 1\n",
    "        return self.projective_measurement(system)\n",
    "    \n",
    "    def cycle(self):\n",
    "        \"\"\"One pass of the Carnot cycle\"\"\"\n",
    "        # 1) Adiabatic Compression\n",
    "        self.v_t = -1 * abs(self.v)\n",
    "        self.system = self.adiabatic_stroke(self.system)\n",
    "        self.states.append((self.energy(), self.alpha0 / self.l))\n",
    "        \n",
    "        # 2) Isoparametric Expansion\n",
    "        self.v_t = abs(self.v)\n",
    "        self.system = self.isoparametric_stroke(self.system, self.n_h)\n",
    "        self.states.append((self.energy(), self.alpha0 / self.l))\n",
    "        \n",
    "        # 3) Adiabatic Expansion\n",
    "        self.v_t = abs(self.v)\n",
    "        self.system = self.adiabatic_stroke(self.system)\n",
    "        self.states.append((self.energy(), self.alpha0 / self.l))\n",
    "        \n",
    "        # 4) Isoparametric Compression\n",
    "        self.v_t = -1 * abs(self.v)\n",
    "        self.system = self.isoparametric_stroke(self.system, self.n_c)\n",
    "        self.states.append((self.energy(), self.alpha0 / self.l))\n",
    "        \n",
    "        return self.system\n",
    "    \n"
   ],
   "id": "cefd1b4e0c1ea15",
   "outputs": [],
   "execution_count": 2
  },
  {
   "metadata": {
    "ExecuteTime": {
     "end_time": "2024-07-11T15:46:51.292957Z",
     "start_time": "2024-07-11T15:46:51.288866Z"
    }
   },
   "cell_type": "code",
   "source": [
    "engine = CarnotEngine(ndims=35, l0=10.0, v=0.001, n_c=1, n_h=10, dt=1e-4)\n",
    "engine.system = engine.load_system_state(SAVE_PATH / 'carnot_system_nh10')"
   ],
   "id": "ba1a88486a2f75d9",
   "outputs": [],
   "execution_count": 19
  },
  {
   "metadata": {
    "ExecuteTime": {
     "end_time": "2024-07-11T15:48:45.984576Z",
     "start_time": "2024-07-11T15:48:09.842807Z"
    }
   },
   "cell_type": "code",
   "source": [
    "engine.energy()\n",
    "engine.cycle()\n",
    "engine.plot_length_vs_energy(start_from=0)"
   ],
   "id": "8824fc8a63ec2acb",
   "outputs": [
    {
     "data": {
      "text/plain": [
       "<Figure size 500x500 with 1 Axes>"
      ],
      "image/png": "[encoded data removed]"
     },
     "metadata": {},
     "output_type": "display_data"
    }
   ],
   "execution_count": 21
  },
  {
   "metadata": {
    "ExecuteTime": {
     "end_time": "2024-07-11T16:47:41.934646Z",
     "start_time": "2024-07-11T15:48:45.986656Z"
    }
   },
   "cell_type": "code",
   "source": [
    "for c in tqdm.tqdm(range(100)):\n",
    "    engine.cycle()"
   ],
   "id": "8cce087f3a5a5d4a",
   "outputs": [
    {
     "name": "stderr",
     "output_type": "stream",
     "text": [
      "100%|██████████| 100/100 [58:55<00:00, 35.36s/it]\n"
     ]
    }
   ],
   "execution_count": 22
  },
  {
   "metadata": {
    "ExecuteTime": {
     "end_time": "2024-07-11T16:47:41.939608Z",
     "start_time": "2024-07-11T16:47:41.935679Z"
    }
   },
   "cell_type": "code",
   "source": "len(engine.states)",
   "id": "29d784c6508ecbb9",
   "outputs": [
    {
     "data": {
      "text/plain": [
       "409"
      ]
     },
     "execution_count": 23,
     "metadata": {},
     "output_type": "execute_result"
    }
   ],
   "execution_count": 23
  },
  {
   "metadata": {
    "ExecuteTime": {
     "end_time": "2024-07-11T17:10:49.725150Z",
     "start_time": "2024-07-11T17:10:49.648725Z"
    }
   },
   "cell_type": "code",
   "source": "engine.plot_length_vs_energy(start_from=-20)",
   "id": "de02567cf0bb031c",
   "outputs": [
    {
     "data": {
      "text/plain": [
       "<Figure size 500x500 with 1 Axes>"
      ],
      "image/png": "[encoded data removed]"
     },
     "metadata": {},
     "output_type": "display_data"
    }
   ],
   "execution_count": 26
  },
  {
   "metadata": {
    "ExecuteTime": {
     "end_time": "2024-07-11T17:11:30.554214Z",
     "start_time": "2024-07-11T17:10:53.034730Z"
    }
   },
   "cell_type": "code",
   "source": [
    "print(engine.energy())\n",
    "engine.cycle()\n",
    "print(engine.energy())"
   ],
   "id": "8535d6c3c5321aeb",
   "outputs": [
    {
     "name": "stdout",
     "output_type": "stream",
     "text": [
      "4.002557755898512\n",
      "4.0025586150666985\n"
     ]
    }
   ],
   "execution_count": 27
  },
  {
   "metadata": {
    "ExecuteTime": {
     "end_time": "2024-07-11T17:11:39.754282Z",
     "start_time": "2024-07-11T17:11:39.750591Z"
    }
   },
   "cell_type": "code",
   "source": "engine.save(filename=SAVE_PATH / f'carnot_engine_nh{10}_v0001.pkl')",
   "id": "d527ca2cf0b14344",
   "outputs": [],
   "execution_count": 28
  },
  {
   "metadata": {
    "ExecuteTime": {
     "end_time": "2024-07-11T17:11:40.494738Z",
     "start_time": "2024-07-11T17:11:40.490813Z"
    }
   },
   "cell_type": "code",
   "source": "engine.save_system_state(SAVE_PATH / f'carnot_system_nh{10}_v0001')",
   "id": "bed9e87068bdaed9",
   "outputs": [],
   "execution_count": 29
  },
  {
   "metadata": {},
   "cell_type": "code",
   "outputs": [],
   "execution_count": null,
   "source": "",
   "id": "48cb9c47f1bfae4e"
  }
 ],
 "metadata": {
  "kernelspec": {
   "display_name": "Python 3",
   "language": "python",
   "name": "python3"
  },
  "language_info": {
   "codemirror_mode": {
    "name": "ipython",
    "version": 2
   },
   "file_extension": ".py",
   "mimetype": "text/x-python",
   "name": "python",
   "nbconvert_exporter": "python",
   "pygments_lexer": "ipython2",
   "version": "2.7.6"
  }
 },
 "nbformat": 4,
 "nbformat_minor": 5
}
