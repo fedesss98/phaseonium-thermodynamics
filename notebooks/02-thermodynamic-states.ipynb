{
 "cells": [
  {
   "cell_type": "markdown",
   "source": [
    "# System State in the Temperature-Entropy Diagram\n",
    "To always have a well-defined temperature for the system we need *diagonal* states throughout the evolution.\n",
    "This is guarantee by the dynamical map if the system starts from a diagonal state."
   ],
   "metadata": {
    "collapsed": false
   }
  },
  {
   "cell_type": "code",
   "execution_count": 16,
   "outputs": [
    {
     "name": "stdout",
     "output_type": "stream",
     "text": [
      "Total of 50000 timesteps from 0 to 500 with dt = 0.01\n"
     ]
    }
   ],
   "source": [
    "import glob\n",
    "from IPython.display import display, Image\n",
    "import matplotlib.pyplot as plt\n",
    "import numpy as np\n",
    "import qutip as qt\n",
    "from qutip.visualization import plot_fock_distribution, plot_wigner\n",
    "\n",
    "import tqdm\n",
    "\n",
    "import uuid\n",
    "import json\n",
    "import os\n",
    "\n",
    "from thermophaseonium.utilities.make_gif import create_gif\n",
    "from thermophaseonium.utilities.states import Cavity, Ancilla\n",
    "\n",
    "SEED = 42\n",
    "rng = np.random.default_rng(SEED)\n",
    "\n",
    "OMEGA = 0.5  # Interaction strength\n",
    "N = 50  # Maximum number of dimensions\n",
    "\n",
    "INTERACTION_TIME = 0.01\n",
    "T_MAX = 500\n",
    "TIMESTEPS = np.linspace(0, T_MAX, int(T_MAX / INTERACTION_TIME))\n",
    "print(f\"Total of {len(TIMESTEPS)} timesteps from 0 to {T_MAX} with dt = {INTERACTION_TIME}\")"
   ],
   "metadata": {
    "collapsed": false,
    "ExecuteTime": {
     "end_time": "2024-03-21T08:06:08.143304900Z",
     "start_time": "2024-03-21T08:06:08.095858400Z"
    }
   }
  },
  {
   "cell_type": "code",
   "execution_count": 17,
   "outputs": [
    {
     "name": "stdout",
     "output_type": "stream",
     "text": [
      "2.059699076913792\n"
     ]
    },
    {
     "data": {
      "text/plain": "Quantum object: dims = [[3], [3]], shape = (3, 3), type = oper, isherm = True\nQobj data =\n[[ 4.000000e-01+0.0000000e+00j  1.000000e+00+0.0000000e+00j\n  -1.000000e+00+1.2246468e-16j]\n [ 1.000000e+00+0.0000000e+00j  3.000000e-01+0.0000000e+00j\n   6.123234e-17+1.0000000e+00j]\n [-1.000000e+00-1.2246468e-16j  6.123234e-17-1.0000000e+00j\n   3.000000e-01+0.0000000e+00j]]",
      "text/latex": "Quantum object: dims = [[3], [3]], shape = (3, 3), type = oper, isherm = True\\begin{equation*}\\left(\\begin{array}{*{11}c}0.400 & 1.0 & -1.0\\\\1.0 & 0.300 & 1.0j\\\\-1.0 & -1.0j & 0.300\\\\\\end{array}\\right)\\end{equation*}"
     },
     "execution_count": 17,
     "metadata": {},
     "output_type": "execute_result"
    }
   ],
   "source": [
    "n_photons = 1\n",
    "system = Cavity(qt.thermal_dm(N, n_photons), omega=1)\n",
    "\n",
    "alpha = np.sqrt(0.4)\n",
    "chi01_phase = np.pi * 0\n",
    "chi02_phase = np.pi * 1\n",
    "chi12_phase = np.pi / 2\n",
    "chi01 = np.cos(chi01_phase) + 1j * np.sin(chi01_phase)\n",
    "chi02 = np.cos(chi02_phase) + 1j * np.sin(chi02_phase)\n",
    "chi12 = np.cos(chi12_phase) + 1j * np.sin(chi12_phase)\n",
    "\n",
    "ancilla = Ancilla([\n",
    "    [alpha**2, chi01, chi02],\n",
    "    [chi01.conjugate(), (1 - alpha**2)/2, chi12],\n",
    "    [chi02.conjugate(), chi12.conjugate(), (1 - alpha**2)/2]\n",
    "])\n",
    "print(ancilla.stable_temperature)\n",
    "ancilla"
   ],
   "metadata": {
    "collapsed": false,
    "ExecuteTime": {
     "end_time": "2024-03-21T08:06:08.334213800Z",
     "start_time": "2024-03-21T08:06:08.283908800Z"
    }
   }
  },
  {
   "cell_type": "markdown",
   "source": [
    "## Evolution"
   ],
   "metadata": {
    "collapsed": false
   }
  },
  {
   "cell_type": "code",
   "execution_count": 18,
   "outputs": [],
   "source": [
    "def H_work(ancilla, omega=OMEGA):\n",
    "    chi01 = ancilla.chi01\n",
    "    chi02 = ancilla.chi02\n",
    "    a = qt.destroy(N)\n",
    "    upshift = (chi01 + chi02) * a.dag()\n",
    "    return omega * (upshift + upshift.dag())"
   ],
   "metadata": {
    "collapsed": false,
    "ExecuteTime": {
     "end_time": "2024-03-21T08:06:08.599867500Z",
     "start_time": "2024-03-21T08:06:08.583849100Z"
    }
   }
  },
  {
   "cell_type": "code",
   "execution_count": 19,
   "outputs": [],
   "source": [
    "def D(op1, rho, op2=None):\n",
    "    if op2 is None:\n",
    "        op2 = op1\n",
    "    return op1 * rho * op2.dag() - qt.commutator(op2.dag() * op1, rho, kind='anti') / 2"
   ],
   "metadata": {
    "collapsed": false,
    "ExecuteTime": {
     "end_time": "2024-03-21T08:06:08.831371100Z",
     "start_time": "2024-03-21T08:06:08.815373800Z"
    }
   }
  },
  {
   "cell_type": "code",
   "execution_count": 20,
   "outputs": [],
   "source": [
    "def onestep_evolution(rho, eta, dt=INTERACTION_TIME, o=OMEGA):\n",
    "    work = 1j * o * dt * qt.commutator(H_work(eta), rho)\n",
    "    heat1 = eta.ga * ( o * dt ) ** 2 * D(qt.create(N), rho)\n",
    "    heat2 = eta.gb * ( o * dt ) ** 2 * D(qt.destroy(N), rho)\n",
    "    rho_new = rho + work + heat1 + heat2\n",
    "    return rho_new"
   ],
   "metadata": {
    "collapsed": false,
    "ExecuteTime": {
     "end_time": "2024-03-21T08:06:09.284098900Z",
     "start_time": "2024-03-21T08:06:09.257507700Z"
    }
   }
  },
  {
   "cell_type": "code",
   "execution_count": 21,
   "outputs": [],
   "source": [
    "def hilbert_is_good(rho, threshold=1e-6):\n",
    "    \"\"\"\n",
    "    Check if the last element of the density matrix is almost null\n",
    "    :param rho:\n",
    "    :return:\n",
    "    \"\"\"\n",
    "    return 0 <= abs(rho[-1, -1]) < threshold"
   ],
   "metadata": {
    "collapsed": false,
    "ExecuteTime": {
     "end_time": "2024-03-21T08:06:09.755415200Z",
     "start_time": "2024-03-21T08:06:09.723304700Z"
    }
   }
  },
  {
   "cell_type": "code",
   "execution_count": 22,
   "outputs": [],
   "source": [
    "def new_ancilla(ancilla, method='static', **kwargs):\n",
    "    if method == 'static':\n",
    "        return ancilla\n",
    "    elif method == 'rotating':\n",
    "        phis = np.linspace(0, 2 * np.pi, kwargs.get('timesteps', 10))\n",
    "        ancilla.chi01 = phis[kwargs.get('step', -1)]\n",
    "        ancilla.chi02 = phis[kwargs.get('step', -1)]\n",
    "        return ancilla\n",
    "    else:\n",
    "        raise ValueError(f\"Method {method} not recognized\")\n"
   ],
   "metadata": {
    "collapsed": false,
    "ExecuteTime": {
     "end_time": "2024-03-21T08:06:10.044086600Z",
     "start_time": "2024-03-21T08:06:10.012361Z"
    }
   }
  },
  {
   "cell_type": "code",
   "execution_count": 23,
   "outputs": [
    {
     "name": "stderr",
     "output_type": "stream",
     "text": [
      "100%|██████████| 50000/50000 [06:16<00:00, 132.67it/s]\n"
     ]
    }
   ],
   "source": [
    "rho = system\n",
    "temperature_evolution = np.zeros(len(TIMESTEPS))\n",
    "entropy_evolution = np.zeros(len(TIMESTEPS))\n",
    "time_evolution = np.zeros(len(TIMESTEPS))\n",
    "\n",
    "for k, t in enumerate(tqdm.tqdm(TIMESTEPS)):\n",
    "    eta_k = ancilla\n",
    "    rho_new = onestep_evolution(rho, eta_k)\n",
    "    rho = Cavity(rho_new)\n",
    "    time_evolution[k] = t\n",
    "    try:\n",
    "        temperature_evolution[k] = rho.temperature\n",
    "        entropy_evolution[k] = rho.entropy\n",
    "    except TypeError as e:\n",
    "        print(f\"Error in computing observables at step {k} with t = {t}: {e}\")\n",
    "        break\n",
    "    if not hilbert_is_good(rho):\n",
    "        print(f\"Approximation no more valid at step {k} with t = {t}\")\n",
    "        break\n",
    "\n",
    "rho = Cavity(rho)"
   ],
   "metadata": {
    "collapsed": false,
    "ExecuteTime": {
     "end_time": "2024-03-21T08:12:27.196801800Z",
     "start_time": "2024-03-21T08:06:10.295831300Z"
    }
   }
  },
  {
   "cell_type": "code",
   "execution_count": 28,
   "outputs": [
    {
     "data": {
      "text/plain": "<Figure size 640x480 with 1 Axes>",
      "image/png": "[encoded data removed]"
     },
     "metadata": {},
     "output_type": "display_data"
    }
   ],
   "source": [
    "plt.plot(entropy_evolution, temperature_evolution)\n",
    "plt.xlabel('Entropy')\n",
    "plt.ylabel('Temperature')\n",
    "plt.xlim(1.3, 1.8)\n",
    "plt.ylim(1.3, 1.8)\n",
    "plt.show()"
   ],
   "metadata": {
    "collapsed": false,
    "ExecuteTime": {
     "end_time": "2024-03-21T08:13:38.940678Z",
     "start_time": "2024-03-21T08:13:38.730727100Z"
    }
   }
  },
  {
   "cell_type": "code",
   "execution_count": 20,
   "outputs": [],
   "source": [],
   "metadata": {
    "collapsed": false,
    "ExecuteTime": {
     "end_time": "2024-03-21T08:00:47.486847100Z",
     "start_time": "2024-03-21T08:00:47.411531800Z"
    }
   }
  }
 ],
 "metadata": {
  "kernelspec": {
   "display_name": "Python 3",
   "language": "python",
   "name": "python3"
  },
  "language_info": {
   "codemirror_mode": {
    "name": "ipython",
    "version": 2
   },
   "file_extension": ".py",
   "mimetype": "text/x-python",
   "name": "python",
   "nbconvert_exporter": "python",
   "pygments_lexer": "ipython2",
   "version": "2.7.6"
  }
 },
 "nbformat": 4,
 "nbformat_minor": 0
}
