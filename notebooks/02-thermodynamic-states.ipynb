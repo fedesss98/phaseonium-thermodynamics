{
 "cells": [
  {
   "cell_type": "markdown",
   "source": [
    "# System State in the Temperature-Entropy Diagram\n",
    "To always have a well-defined temperature for the system we need *diagonal* states throughout the evolution.\n",
    "This is guarantee by the dynamical map if the system starts from a diagonal state.\n",
    "\n",
    "The Otto cycle works like this:\n",
    "- System starts in A at temperature $T_A$ and entropy $S_A$\n",
    "    - **Isochore Stroke:** Going from A to B in stroke 1 the system absorbs heat from a *ground-coherent* phaseonium at tempreture $T_\\eta$\n",
    "- System is in B at temperature $T_B > T_A$ and entropy $S_B > S_A$, where $T_B \\equiv T_\\phi$ is dependent upon phaseonium coherences\n",
    "    - **Adiabatic Stroke:** Going from B to C in stroke 2 the system do positive work on the environment\n",
    "- System is in C at temperature $T_C < T_B$ with the same entropy as B, $S_C = S_B = S_h$\n",
    "    - **Isochore Stroke:** Going from C to D in stroke 3 the system relase heat to a  *thermal* phaseonium at temperature $T_\\eta$\n",
    "- System is in D at temperature $T_D < T_C < T_A$ and entropy $S_D = S_A = S_l$, where $T_D = T_\\eta$\n",
    "    - **Adiabatic Stroke:** Going from D back to A in stroke 4 work is done on the system by *upper-coherent* phaseonium at temperature $T_\\eta$ "
   ],
   "metadata": {
    "collapsed": false
   }
  },
  {
   "cell_type": "code",
   "source": [
    "import glob\n",
    "from IPython.display import display, Image\n",
    "import matplotlib.pyplot as plt\n",
    "import numpy as np\n",
    "import qutip as qt\n",
    "from qutip.visualization import plot_fock_distribution, plot_wigner\n",
    "\n",
    "import tqdm\n",
    "\n",
    "import uuid\n",
    "import json\n",
    "import os\n",
    "\n",
    "from thermophaseonium.utilities.make_gif import create_gif\n",
    "from thermophaseonium.utilities.states import Cavity, Ancilla\n",
    "\n",
    "SEED = 42\n",
    "rng = np.random.default_rng(SEED)\n",
    "\n",
    "OMEGA = 0.5  # Interaction strength\n",
    "N = 200  # Maximum number of dimensions\n",
    "\n",
    "INTERACTION_TIME = 0.02\n",
    "T_MAX = 1000\n",
    "TIMESTEPS = np.linspace(0, T_MAX, int(T_MAX / INTERACTION_TIME))\n",
    "print(f\"Total of {len(TIMESTEPS)} timesteps from 0 to {T_MAX} with dt = {INTERACTION_TIME}\")"
   ],
   "metadata": {
    "collapsed": false,
    "ExecuteTime": {
     "end_time": "2024-05-22T11:33:56.858629Z",
     "start_time": "2024-05-22T11:33:56.858629Z"
    }
   },
   "outputs": [],
   "execution_count": null
  },
  {
   "cell_type": "code",
   "source": [
    "# This mapping is given by Wolfram Mathematica notebook 'thermal-ancillas-engine.nb'\n",
    "# Going from A to B one uses ground-coherent phaseoniums\n",
    "# Going from C to D one uses thermal phaseoniums\n",
    "# Other strokes are done with other means\n",
    "# Parameters are ( stable_temperature, alpha, phi )\n",
    "PARAMETER_MAP = {\n",
    "    'A': (1.5, 0.2, 2.56383),\n",
    "    'B': (2, 0.2, 2.61119616),\n",
    "    'C': (1, 0.2, 2.4551),\n",
    "    'D': (0.5, 0.25175173948363, np.pi / 2),\n",
    "}"
   ],
   "metadata": {
    "collapsed": false,
    "ExecuteTime": {
     "end_time": "2024-05-22T10:25:52.979063Z",
     "start_time": "2024-05-22T10:25:52.965058Z"
    }
   },
   "outputs": [],
   "execution_count": 2
  },
  {
   "cell_type": "code",
   "source": [
    "def create_isobaric_ancilla(target_state = None):\n",
    "    \"\"\"\n",
    "    This is an ancilla that only exchange heat with the system without doing work\n",
    "    :return: \n",
    "    \"\"\"\n",
    "    alpha = PARAMETER_MAP[target_state][1] if target_state else 0.2\n",
    "    heat_amplitude = (1 - alpha**2) / 2\n",
    "    chi01_phase = np.pi * 0\n",
    "    chi02_phase = np.pi * 1\n",
    "    chi12_phase = PARAMETER_MAP[target_state][2] if target_state else np.pi * 4/5\n",
    "    chi01 = np.cos(chi01_phase) + 1j * np.sin(chi01_phase)\n",
    "    chi02 = np.cos(chi02_phase) + 1j * np.sin(chi02_phase)\n",
    "    chi12 = heat_amplitude * (np.cos(chi12_phase) + 1j * np.sin(chi12_phase))\n",
    "    \n",
    "    ancilla = Ancilla([\n",
    "        [alpha**2, chi01, chi02],\n",
    "        [chi01.conjugate(), (1 - alpha**2)/2, chi12],\n",
    "        [chi02.conjugate(), chi12.conjugate(), (1 - alpha**2)/2]\n",
    "    ])\n",
    "    return ancilla\n",
    "\n",
    "\n",
    "def create_adiabatic_ancilla(work_sign='positive'):\n",
    "    \"\"\"\n",
    "    This is an ancilla that do work on the system via the ground states - excited state coherences.\n",
    "    Apparently, if the temperature of the respective thermal phaseonium is equal to that of the system, no heat is exchanged\n",
    "    :return: \n",
    "    \"\"\"\n",
    "    alpha = 0.482386297\n",
    "    work_amplitude = 1e-2\n",
    "    chi01_phase = np.pi / 4 if work_sign == 'positive' else -np.pi / 6\n",
    "    chi02_phase = np.pi / 4 if work_sign == 'positive' else -np.pi / 6\n",
    "    # chi12_phase = np.pi * 0.5\n",
    "    chi01 = work_amplitude * (np.cos(chi01_phase) + 1j * np.sin(chi01_phase))\n",
    "    chi02 = work_amplitude * (np.cos(chi02_phase) + 1j * np.sin(chi02_phase))\n",
    "    # chi12 = ( np.cos(chi12_phase) + 1j * np.sin(chi12_phase) )\n",
    "    # chi12 = 0 + 1j\n",
    "    chi12 = 0\n",
    "    ancilla = Ancilla([\n",
    "        [alpha**2, chi01, chi02],\n",
    "        [chi01.conjugate(), (1 - alpha**2)/2, chi12],\n",
    "        [chi02.conjugate(), chi12.conjugate(), (1 - alpha**2)/2]\n",
    "    ])\n",
    "    \n",
    "    return ancilla\n",
    "\n",
    "\n",
    "def create_thermal_ancilla(target_state):\n",
    "    \"\"\"This is an ancilla with the same 'temperature' as the others, in a Gibbs state\"\"\"\n",
    "    alpha = PARAMETER_MAP[target_state][1] if target_state else 0.2\n",
    "    beta = np.sqrt(1 - alpha**2)\n",
    "    ancilla = Ancilla([\n",
    "        [alpha**2, 0, 0],\n",
    "        [0, beta**2/2, 0],\n",
    "        [0, 0, beta**2/2]\n",
    "    ])\n",
    "    return ancilla\n",
    "\n",
    "\n",
    "ancilla_coherent = create_isobaric_ancilla(target_state='B')\n",
    "ancilla_thermal = create_thermal_ancilla(target_state='D')\n",
    "ancilla_adiabatic = create_adiabatic_ancilla()\n",
    "print(f\"Target temperature for B: {ancilla_coherent.stable_temperature}\")\n",
    "print(f\"Target temperature for D: {ancilla_thermal.stable_temperature}\")\n",
    "print(f\"Target temperature for C: {ancilla_adiabatic.stable_temperature}\")\n",
    "ancilla_adiabatic"
   ],
   "metadata": {
    "collapsed": false,
    "ExecuteTime": {
     "end_time": "2024-05-22T10:25:53.010723Z",
     "start_time": "2024-05-22T10:25:52.980058Z"
    }
   },
   "outputs": [
    {
     "name": "stdout",
     "output_type": "stream",
     "text": [
      "Target temperature for B: 2.00000003482211\n",
      "Target temperature for D: 0.4999999999999827\n",
      "Target temperature for C: 2.00000004288963\n"
     ]
    },
    {
     "data": {
      "text/plain": [
       "Quantum object: dims = [[3], [3]], shape = (3, 3), type = oper, isherm = True\n",
       "Qobj data =\n",
       "[[0.23269654+0.j         0.00707107+0.00707107j 0.00707107+0.00707107j]\n",
       " [0.00707107-0.00707107j 0.38365173+0.j         0.        +0.j        ]\n",
       " [0.00707107-0.00707107j 0.        +0.j         0.38365173+0.j        ]]"
      ],
      "text/latex": "Quantum object: dims = [[3], [3]], shape = (3, 3), type = oper, isherm = True $ \\\\ \\left(\\begin{matrix}0.233 & (0.007+0.007j) & (0.007+0.007j)\\\\(0.007-0.007j) & 0.384 & 0.0\\\\(0.007-0.007j) & 0.0 & 0.384\\\\\\end{matrix}\\right)$"
     },
     "execution_count": 3,
     "metadata": {},
     "output_type": "execute_result"
    }
   ],
   "execution_count": 3
  },
  {
   "cell_type": "code",
   "source": [
    "TEMPERATURE_TO_PHOTON_MAP = {\n",
    "    0.5: 0.156518,\n",
    "    1.0: 0.5819767068693264,\n",
    "    1.5: 1.0551483399,\n",
    "    2.0: 1.541494082537,\n",
    "}\n",
    "system_temperature = 2.0\n",
    "n_photons = TEMPERATURE_TO_PHOTON_MAP[system_temperature]\n",
    "system = Cavity(qt.thermal_dm(N, n_photons), omega=1)\n",
    "\n",
    "system.temperature"
   ],
   "metadata": {
    "collapsed": false,
    "ExecuteTime": {
     "end_time": "2024-05-22T10:25:53.026231Z",
     "start_time": "2024-05-22T10:25:53.011717Z"
    }
   },
   "outputs": [
    {
     "data": {
      "text/plain": [
       "2.000000000000206"
      ]
     },
     "execution_count": 4,
     "metadata": {},
     "output_type": "execute_result"
    }
   ],
   "execution_count": 4
  },
  {
   "cell_type": "markdown",
   "source": [
    "## Evolution"
   ],
   "metadata": {
    "collapsed": false
   }
  },
  {
   "cell_type": "code",
   "source": [
    "def H_work(ancilla, a, omega=OMEGA):\n",
    "    chi01 = ancilla.chi01\n",
    "    chi02 = ancilla.chi02\n",
    "    upshift = (chi01 + chi02) * a.dag()\n",
    "    return omega * (upshift + upshift.dag())"
   ],
   "metadata": {
    "collapsed": false,
    "ExecuteTime": {
     "end_time": "2024-05-22T10:25:53.041230Z",
     "start_time": "2024-05-22T10:25:53.028222Z"
    }
   },
   "outputs": [],
   "execution_count": 5
  },
  {
   "cell_type": "code",
   "source": [
    "def D(op1, rho, op2=None):\n",
    "    if op2 is None:\n",
    "        op2 = op1\n",
    "    return op1 * rho * op2.dag() - qt.commutator(op2.dag() * op1, rho, kind='anti') / 2"
   ],
   "metadata": {
    "collapsed": false,
    "ExecuteTime": {
     "end_time": "2024-05-22T10:25:53.056222Z",
     "start_time": "2024-05-22T10:25:53.042221Z"
    }
   },
   "outputs": [],
   "execution_count": 6
  },
  {
   "cell_type": "code",
   "source": [
    "def onestep_evolution(rho, eta, a, dt=INTERACTION_TIME, o=OMEGA):\n",
    "    work = 1j * o * dt * qt.commutator(H_work(eta, a), rho)\n",
    "    heat1 = eta.ga * ( o * dt ) ** 2 * D(qt.create(N), rho)\n",
    "    heat2 = eta.gb * ( o * dt ) ** 2 * D(qt.destroy(N), rho)\n",
    "    # rho_new = rho + work + heat1 + heat2\n",
    "    rho_new = rho + work\n",
    "    return rho_new"
   ],
   "metadata": {
    "collapsed": false,
    "ExecuteTime": {
     "end_time": "2024-05-22T10:25:53.072231Z",
     "start_time": "2024-05-22T10:25:53.057221Z"
    }
   },
   "outputs": [],
   "execution_count": 7
  },
  {
   "cell_type": "code",
   "source": [
    "def hilbert_is_good(rho, threshold=1e-6):\n",
    "    \"\"\"\n",
    "    Check if the last element of the density matrix is almost null\n",
    "    \"\"\"\n",
    "    return 0 <= abs(rho[-1, -1]) < threshold"
   ],
   "metadata": {
    "collapsed": false,
    "ExecuteTime": {
     "end_time": "2024-05-22T10:25:53.087222Z",
     "start_time": "2024-05-22T10:25:53.073236Z"
    }
   },
   "outputs": [],
   "execution_count": 8
  },
  {
   "cell_type": "code",
   "source": [
    "def new_ancilla(ancilla, method='static', **kwargs):\n",
    "    if method == 'static':\n",
    "        return ancilla\n",
    "    elif method == 'rotating':\n",
    "        phis = np.linspace(0, 2 * np.pi, kwargs.get('timesteps', 10))\n",
    "        ancilla.chi01 = phis[kwargs.get('step', -1)]\n",
    "        ancilla.chi02 = phis[kwargs.get('step', -1)]\n",
    "        return ancilla\n",
    "    else:\n",
    "        raise ValueError(f\"Method {method} not recognized\")\n"
   ],
   "metadata": {
    "collapsed": false,
    "ExecuteTime": {
     "end_time": "2024-05-22T10:26:01.897850Z",
     "start_time": "2024-05-22T10:26:01.883840Z"
    }
   },
   "outputs": [],
   "execution_count": 9
  },
  {
   "cell_type": "code",
   "source": [
    "def stroke(system, ancilla, timesteps, start=None, end=None, n=None, t_stop=None):\n",
    "    \n",
    "    temperature_evolution = np.zeros(len(timesteps))\n",
    "    entropy_evolution = np.zeros(len(timesteps))\n",
    "    time_evolution = np.zeros(len(timesteps))\n",
    "    \n",
    "    a = qt.destroy(N)\n",
    "    \n",
    "    if start and end:\n",
    "        print(f\"Starting stroke {n} from {start} to {end}\")\n",
    "    print(f\"Starting system temperature: {system.temperature}\")\n",
    "    for k, t in enumerate(tqdm.tqdm(timesteps, desc=f\"Stroke\")):\n",
    "        temperature_evolution[k] = system.temperature\n",
    "        entropy_evolution[k] = system.entropy\n",
    "        \n",
    "        time_evolution[k] = t\n",
    "        try:\n",
    "            rho_new =  Cavity(onestep_evolution(system, ancilla, a))\n",
    "        except ValueError as e:\n",
    "            print(f\"Error in computing the evolution at step {k} with t = {t}: {e}\")\n",
    "            # Return the last good state and the evolution up to this point\n",
    "            return Cavity(system), temperature_evolution[:k], entropy_evolution[:k], time_evolution[:k]\n",
    "\n",
    "        if not hilbert_is_good(system):\n",
    "            print(f\"Approximation no more valid at step {k} with t = {t}\")\n",
    "            return Cavity(system), temperature_evolution[:k], entropy_evolution[:k], time_evolution[:k]\n",
    "        \n",
    "        if t_stop is not None and rho_new.temperature - t_stop < 1e-4:\n",
    "            print(f\"Reached the temperature {rho_new.temperature}\")\n",
    "            return Cavity(system), temperature_evolution[:k], entropy_evolution[:k], time_evolution[:k]\n",
    "        \n",
    "        # Update the state\n",
    "        system = Cavity(rho_new)\n",
    "    \n",
    "    return system, temperature_evolution, entropy_evolution, time_evolution"
   ],
   "metadata": {
    "collapsed": false,
    "ExecuteTime": {
     "end_time": "2024-05-22T10:34:12.262356Z",
     "start_time": "2024-05-22T10:34:12.248309Z"
    }
   },
   "outputs": [],
   "execution_count": 23
  },
  {
   "cell_type": "markdown",
   "source": [
    "## Adiabatic Stroke\n",
    "Can we *lower* the temperature of a system?"
   ],
   "metadata": {
    "collapsed": false
   }
  },
  {
   "cell_type": "code",
   "source": [
    "ancilla_adiabatic = create_adiabatic_ancilla('positive')\n",
    "rho = system\n",
    "rho, temperature_evolution, entropy_evolution, time_evolution = stroke(rho, ancilla_adiabatic, TIMESTEPS[:])"
   ],
   "metadata": {
    "collapsed": false,
    "ExecuteTime": {
     "end_time": "2024-05-22T11:33:56.066028Z",
     "start_time": "2024-05-22T10:34:13.663868Z"
    }
   },
   "outputs": [
    {
     "name": "stdout",
     "output_type": "stream",
     "text": [
      "Starting system temperature: 2.000000000000206\n"
     ]
    },
    {
     "name": "stderr",
     "output_type": "stream",
     "text": [
      "Stroke: 100%|██████████| 250000/250000 [59:42<00:00, 69.79it/s]\n"
     ]
    }
   ],
   "execution_count": 24
  },
  {
   "cell_type": "code",
   "source": [
    "temperature_evolution[0:10]\n",
    "print(entropy_evolution[0:2])\n",
    "print(entropy_evolution[-2:])"
   ],
   "metadata": {
    "collapsed": false,
    "ExecuteTime": {
     "end_time": "2024-05-22T11:33:56.082028Z",
     "start_time": "2024-05-22T11:33:56.070037Z"
    }
   },
   "outputs": [
    {
     "name": "stdout",
     "output_type": "stream",
     "text": [
      "[1.70349917 1.70349917]\n",
      "[1.70349803 1.70349803]\n"
     ]
    }
   ],
   "execution_count": 25
  },
  {
   "cell_type": "code",
   "source": [
    "plt.plot(entropy_evolution, temperature_evolution)\n",
    "plt.text(entropy_evolution[0], temperature_evolution[0], 'B')\n",
    "plt.text(entropy_evolution[-1], temperature_evolution[-1], 'C')\n",
    "plt.xlim((0, 2))\n",
    "plt.show()"
   ],
   "metadata": {
    "collapsed": false,
    "ExecuteTime": {
     "end_time": "2024-05-22T11:33:56.190560Z",
     "start_time": "2024-05-22T11:33:56.084028Z"
    }
   },
   "outputs": [
    {
     "data": {
      "text/plain": [
       "<Figure size 640x480 with 1 Axes>"
      ],
      "image/png": "[encoded data removed]"
     },
     "metadata": {},
     "output_type": "display_data"
    }
   ],
   "execution_count": 26
  },
  {
   "cell_type": "code",
   "source": [
    "fig, (ax1, ax2) = plt.subplots(2, 1, figsize=(12, 6))\n",
    "ax1.plot(temperature_evolution)\n",
    "ax1.set_title('Temperature')\n",
    "ax2.plot(entropy_evolution)\n",
    "ax2.set_title('Entropy')\n",
    "plt.show()"
   ],
   "metadata": {
    "collapsed": false,
    "ExecuteTime": {
     "end_time": "2024-05-22T12:47:35.498815Z",
     "start_time": "2024-05-22T12:47:35.309368Z"
    }
   },
   "outputs": [
    {
     "data": {
      "text/plain": [
       "<Figure size 1200x600 with 2 Axes>"
      ],
      "image/png": "[encoded data removed]"
     },
     "metadata": {},
     "output_type": "display_data"
    }
   ],
   "execution_count": 31
  },
  {
   "cell_type": "code",
   "outputs": [
    {
     "name": "stderr",
     "output_type": "stream",
     "text": [
      "Stroke: 100%|██████████| 2000/2000 [00:11<00:00, 176.90it/s]\n"
     ]
    },
    {
     "data": {
      "text/plain": "<Figure size 640x480 with 1 Axes>",
      "image/png": "[encoded data removed]"
     },
     "metadata": {},
     "output_type": "display_data"
    },
    {
     "data": {
      "text/plain": "<Figure size 600x600 with 1 Axes>",
      "image/png": "[encoded data removed]"
     },
     "metadata": {},
     "output_type": "display_data"
    },
    {
     "data": {
      "text/plain": "(<Figure size 600x600 with 1 Axes>,\n <Axes: xlabel='$\\\\rm{Re}(\\\\alpha)$', ylabel='$\\\\rm{Im}(\\\\alpha)$'>)"
     },
     "execution_count": 148,
     "metadata": {},
     "output_type": "execute_result"
    }
   ],
   "source": [
    "ancilla_adiabatic = create_adiabatic_ancilla('negative')\n",
    "rho = system\n",
    "rho, temperature_evolution, entropy_evolution, time_evolution = stroke(rho, ancilla_adiabatic, TIMESTEPS[:2000])\n",
    "plt.plot(entropy_evolution, temperature_evolution)\n",
    "plt.show()\n",
    "rho.plot_wigner()"
   ],
   "metadata": {
    "collapsed": false,
    "ExecuteTime": {
     "end_time": "2024-04-17T12:20:47.188561Z",
     "start_time": "2024-04-17T12:20:34.728560Z"
    }
   },
   "execution_count": 148
  },
  {
   "cell_type": "markdown",
   "source": [
    "# Otto Cycle"
   ],
   "metadata": {
    "collapsed": false
   }
  },
  {
   "cell_type": "code",
   "outputs": [],
   "source": [
    "rho = system\n",
    "\n",
    "temperatures = []\n",
    "entropies = []\n",
    "times = []"
   ],
   "metadata": {
    "collapsed": false,
    "ExecuteTime": {
     "end_time": "2024-04-17T10:21:40.923107Z",
     "start_time": "2024-04-17T10:21:40.919108Z"
    }
   },
   "execution_count": 122
  },
  {
   "cell_type": "markdown",
   "source": [
    "## Stroke 2\n",
    "In this **adiabatic stroke** the system do positive work to the environment without heat exchange. This stroke is \"syntethic\" and it is not simulated; it depends on the real implementation of the Quantum Engine.\n",
    "We go from B with $T_B,\\, S_B$ to C with $T_C < T_B$ and $S_C = S_B \\equiv S_h$"
   ],
   "metadata": {
    "collapsed": false
   }
  },
  {
   "cell_type": "code",
   "outputs": [],
   "source": [
    "#We start with the last temperature and entropy of stroke 1\n",
    "T_B = temperatures[0][-1]\n",
    "S_h = entropies[0][-1]\n",
    "# While entropy remains constant, temperature goest from T_B to T_C\n",
    "T_C = PARAMETER_MAP['C'][0]\n",
    "\n",
    "temperatures.append([T_B, T_C])\n",
    "entropies.append([S_h, S_h])"
   ],
   "metadata": {
    "collapsed": false,
    "ExecuteTime": {
     "end_time": "2024-04-17T10:33:39.278146Z",
     "start_time": "2024-04-17T10:33:39.273147Z"
    }
   },
   "execution_count": 125
  },
  {
   "cell_type": "code",
   "outputs": [
    {
     "data": {
      "text/plain": "<Figure size 600x600 with 1 Axes>",
      "image/png": "[encoded data removed]"
     },
     "metadata": {},
     "output_type": "display_data"
    },
    {
     "data": {
      "text/plain": "(<Figure size 600x600 with 1 Axes>,\n <Axes: xlabel='$\\\\rm{Re}(\\\\alpha)$', ylabel='$\\\\rm{Im}(\\\\alpha)$'>)"
     },
     "execution_count": 127,
     "metadata": {},
     "output_type": "execute_result"
    }
   ],
   "source": [
    "rho.plot_wigner()"
   ],
   "metadata": {
    "collapsed": false,
    "ExecuteTime": {
     "end_time": "2024-04-17T12:07:09.101118Z",
     "start_time": "2024-04-17T12:07:07.302954Z"
    }
   },
   "execution_count": 127
  },
  {
   "cell_type": "markdown",
   "source": [
    "## Stroke 3\n",
    "In this **isobaric stroke** the system is coupled to thermal phaseoniums and cools down without doing work.\n",
    "We go from C with $T_C,\\, S_h$ to D with $T_C > T_D \\equiv T_\\eta$ and $S_h > S_D \\equiv S_l$"
   ],
   "metadata": {
    "collapsed": false
   }
  },
  {
   "cell_type": "code",
   "outputs": [
    {
     "name": "stdout",
     "output_type": "stream",
     "text": [
      "Starting stroke 3 from C to D\n"
     ]
    },
    {
     "name": "stderr",
     "output_type": "stream",
     "text": [
      "Stroke:  16%|█▌        | 15575/100000 [01:19<07:12, 195.20it/s]"
     ]
    },
    {
     "name": "stdout",
     "output_type": "stream",
     "text": [
      "Error in computing the evolution at step 15575 with t = 778.7577875778758: Input is not a valid density matrix\n"
     ]
    },
    {
     "name": "stderr",
     "output_type": "stream",
     "text": [
      "\n"
     ]
    }
   ],
   "source": [
    "# Isobaric stroke\n",
    "ancilla_thermal = create_thermal_ancilla('D')\n",
    "rho, temperature_evolution, entropy_evolution, time_evolution = stroke(rho, ancilla_thermal, TIMESTEPS, start='C', end='D', n='3')\n",
    "temperatures.append(temperature_evolution)\n",
    "entropies.append(entropy_evolution)\n",
    "times.append(time_evolution)"
   ],
   "metadata": {
    "collapsed": false,
    "ExecuteTime": {
     "end_time": "2024-04-17T10:01:16.093820Z",
     "start_time": "2024-04-17T09:59:56.291540Z"
    }
   },
   "execution_count": 17
  },
  {
   "cell_type": "markdown",
   "source": [
    "## Stroke 4\n",
    "In this **adiabatic stroke** work is done on the system by upper-coherent phaseoniums. No heat is exchanged. When the temperature of the systems comes back to that of A, the evolution stops\n",
    "We go from B with $T_B,\\, S_B$ to C with $T_C < T_B$ and $S_C = S_B \\equiv S_h$"
   ],
   "metadata": {
    "collapsed": false
   }
  },
  {
   "cell_type": "code",
   "outputs": [
    {
     "name": "stdout",
     "output_type": "stream",
     "text": [
      "Starting stroke 3 from C to D\n"
     ]
    },
    {
     "name": "stderr",
     "output_type": "stream",
     "text": [
      "Stroke:   0%|          | 62/100000 [00:00<12:19, 135.08it/s]"
     ]
    },
    {
     "name": "stdout",
     "output_type": "stream",
     "text": [
      "Error in computing the evolution at step 62 with t = 3.100031000310003: Input is not a valid density matrix\n"
     ]
    },
    {
     "name": "stderr",
     "output_type": "stream",
     "text": [
      "\n"
     ]
    }
   ],
   "source": [
    "# Adiabatic stroke\n",
    "ancilla_adiabatic = create_adiabatic_ancilla(work_sign='positive')\n",
    "rho, temperature_evolution, entropy_evolution, time_evolution = stroke(rho, ancilla_adiabatic, TIMESTEPS, start='C', end='D', n='3', t_stop=1.5)\n",
    "temperatures.append(temperature_evolution)\n",
    "entropies.append(entropy_evolution)\n",
    "times.append(time_evolution)"
   ],
   "metadata": {
    "collapsed": false,
    "ExecuteTime": {
     "end_time": "2024-04-17T10:01:16.561815Z",
     "start_time": "2024-04-17T10:01:16.095816Z"
    }
   },
   "execution_count": 18
  },
  {
   "cell_type": "markdown",
   "source": [
    "## Stroke 1\n",
    "In this **isobaric stroke** the system is coupled to ground-coherent phaseoniums and it is allowed to thermalize while its Hamiltonian is held constant.\n",
    "We go from A with $T_A,\\, S_A$ to B with $T_A < T_B \\equiv T_\\phi$ and $S_A < S_B$"
   ],
   "metadata": {
    "collapsed": false
   }
  },
  {
   "cell_type": "code",
   "outputs": [
    {
     "name": "stdout",
     "output_type": "stream",
     "text": [
      "Starting stroke 1 from A to B\n"
     ]
    },
    {
     "name": "stderr",
     "output_type": "stream",
     "text": [
      "Stroke: 100%|██████████| 100000/100000 [09:23<00:00, 177.33it/s]"
     ]
    },
    {
     "name": "stdout",
     "output_type": "stream",
     "text": [
      "System reached the temperature 1.9806719051556032\n"
     ]
    },
    {
     "name": "stderr",
     "output_type": "stream",
     "text": [
      "\n"
     ]
    }
   ],
   "source": [
    "# Isobaric stroke\n",
    "ancilla_isobaric = create_isobaric_ancilla('B')\n",
    "rho, temperature_evolution, entropy_evolution, time_evolution = stroke(rho, ancilla_isobaric, TIMESTEPS, start='A', end='B', n='1')\n",
    "temperatures.append(temperature_evolution)\n",
    "entropies.append(entropy_evolution)\n",
    "times.append(time_evolution)\n",
    "\n",
    "print(f\"System reached the temperature {rho.temperature}\")"
   ],
   "metadata": {
    "collapsed": false
   },
   "execution_count": 123
  },
  {
   "cell_type": "markdown",
   "source": [
    "## Plot the Cycle"
   ],
   "metadata": {
    "collapsed": false
   }
  },
  {
   "cell_type": "code",
   "outputs": [],
   "source": [],
   "metadata": {
    "collapsed": false
   },
   "execution_count": null
  }
 ],
 "metadata": {
  "kernelspec": {
   "display_name": "Python 3",
   "language": "python",
   "name": "python3"
  },
  "language_info": {
   "codemirror_mode": {
    "name": "ipython",
    "version": 2
   },
   "file_extension": ".py",
   "mimetype": "text/x-python",
   "name": "python",
   "nbconvert_exporter": "python",
   "pygments_lexer": "ipython2",
   "version": "2.7.6"
  }
 },
 "nbformat": 4,
 "nbformat_minor": 0
}
