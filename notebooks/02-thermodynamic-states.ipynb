{
 "cells": [
  {
   "cell_type": "markdown",
   "source": [
    "# System State in the Temperature-Entropy Diagram\n",
    "To always have a well-defined temperature for the system we need *diagonal* states throughout the evolution.\n",
    "This is guarantee by the dynamical map if the system starts from a diagonal state."
   ],
   "metadata": {
    "collapsed": false
   }
  },
  {
   "cell_type": "code",
   "execution_count": 1,
   "outputs": [
    {
     "name": "stdout",
     "output_type": "stream",
     "text": [
      "Total of 100000 timesteps from 0 to 1000 with dt = 0.01\n"
     ]
    }
   ],
   "source": [
    "import glob\n",
    "from IPython.display import display, Image\n",
    "import matplotlib.pyplot as plt\n",
    "import numpy as np\n",
    "import qutip as qt\n",
    "from qutip.visualization import plot_fock_distribution, plot_wigner\n",
    "\n",
    "import tqdm\n",
    "\n",
    "import uuid\n",
    "import json\n",
    "import os\n",
    "\n",
    "from thermophaseonium.utilities.make_gif import create_gif\n",
    "from thermophaseonium.utilities.states import Cavity, Ancilla\n",
    "\n",
    "SEED = 42\n",
    "rng = np.random.default_rng(SEED)\n",
    "\n",
    "OMEGA = 0.5  # Interaction strength\n",
    "N = 50  # Maximum number of dimensions\n",
    "\n",
    "INTERACTION_TIME = 0.01\n",
    "T_MAX = 1000\n",
    "TIMESTEPS = np.linspace(0, T_MAX, int(T_MAX / INTERACTION_TIME))\n",
    "print(f\"Total of {len(TIMESTEPS)} timesteps from 0 to {T_MAX} with dt = {INTERACTION_TIME}\")"
   ],
   "metadata": {
    "collapsed": false,
    "ExecuteTime": {
     "end_time": "2024-03-21T11:46:17.451030Z",
     "start_time": "2024-03-21T11:46:16.489868Z"
    }
   }
  },
  {
   "cell_type": "code",
   "execution_count": 2,
   "outputs": [
    {
     "name": "stdout",
     "output_type": "stream",
     "text": [
      "2.059699076913792\n"
     ]
    },
    {
     "data": {
      "text/plain": "Quantum object: dims = [[3], [3]], shape = (3, 3), type = oper, isherm = True\nQobj data =\n[[ 0.4+0.0000000e+00j  1. +0.0000000e+00j -1. +1.2246468e-16j]\n [ 1. +0.0000000e+00j  0.3+0.0000000e+00j  1. +0.0000000e+00j]\n [-1. -1.2246468e-16j  1. +0.0000000e+00j  0.3+0.0000000e+00j]]",
      "text/latex": "Quantum object: dims = [[3], [3]], shape = (3, 3), type = oper, isherm = True $ \\\\ \\left(\\begin{matrix}0.400 & 1.0 & -1.0\\\\1.0 & 0.300 & 1.0\\\\-1.0 & 1.0 & 0.300\\\\\\end{matrix}\\right)$"
     },
     "execution_count": 2,
     "metadata": {},
     "output_type": "execute_result"
    }
   ],
   "source": [
    "n_photons = 1\n",
    "system = Cavity(qt.thermal_dm(N, n_photons), omega=1)\n",
    "\n",
    "alpha = np.sqrt(0.4)\n",
    "chi01_phase = np.pi * 0\n",
    "chi02_phase = np.pi * 1\n",
    "chi12_phase = np.pi * 0\n",
    "chi01 = np.cos(chi01_phase) + 1j * np.sin(chi01_phase)\n",
    "chi02 = np.cos(chi02_phase) + 1j * np.sin(chi02_phase)\n",
    "chi12 = np.cos(chi12_phase) + 1j * np.sin(chi12_phase)\n",
    "\n",
    "ancilla = Ancilla([\n",
    "    [alpha**2, chi01, chi02],\n",
    "    [chi01.conjugate(), (1 - alpha**2)/2, chi12],\n",
    "    [chi02.conjugate(), chi12.conjugate(), (1 - alpha**2)/2]\n",
    "])\n",
    "print(ancilla.stable_temperature)\n",
    "ancilla"
   ],
   "metadata": {
    "collapsed": false,
    "ExecuteTime": {
     "end_time": "2024-03-21T11:46:17.483030Z",
     "start_time": "2024-03-21T11:46:17.453030Z"
    }
   }
  },
  {
   "cell_type": "markdown",
   "source": [
    "## Evolution"
   ],
   "metadata": {
    "collapsed": false
   }
  },
  {
   "cell_type": "code",
   "execution_count": 3,
   "outputs": [],
   "source": [
    "def H_work(ancilla, omega=OMEGA):\n",
    "    chi01 = ancilla.chi01\n",
    "    chi02 = ancilla.chi02\n",
    "    a = qt.destroy(N)\n",
    "    upshift = (chi01 + chi02) * a.dag()\n",
    "    return omega * (upshift + upshift.dag())"
   ],
   "metadata": {
    "collapsed": false,
    "ExecuteTime": {
     "end_time": "2024-03-21T11:46:19.588009Z",
     "start_time": "2024-03-21T11:46:19.572010Z"
    }
   }
  },
  {
   "cell_type": "code",
   "execution_count": 4,
   "outputs": [],
   "source": [
    "def D(op1, rho, op2=None):\n",
    "    if op2 is None:\n",
    "        op2 = op1\n",
    "    return op1 * rho * op2.dag() - qt.commutator(op2.dag() * op1, rho, kind='anti') / 2"
   ],
   "metadata": {
    "collapsed": false,
    "ExecuteTime": {
     "end_time": "2024-03-21T11:46:20.132602Z",
     "start_time": "2024-03-21T11:46:20.120603Z"
    }
   }
  },
  {
   "cell_type": "code",
   "execution_count": 5,
   "outputs": [],
   "source": [
    "def onestep_evolution(rho, eta, dt=INTERACTION_TIME, o=OMEGA):\n",
    "    work = 1j * o * dt * qt.commutator(H_work(eta), rho)\n",
    "    heat1 = eta.ga * ( o * dt ) ** 2 * D(qt.create(N), rho)\n",
    "    heat2 = eta.gb * ( o * dt ) ** 2 * D(qt.destroy(N), rho)\n",
    "    rho_new = rho + work + heat1 + heat2\n",
    "    return rho_new"
   ],
   "metadata": {
    "collapsed": false,
    "ExecuteTime": {
     "end_time": "2024-03-21T11:46:21.443358Z",
     "start_time": "2024-03-21T11:46:21.431358Z"
    }
   }
  },
  {
   "cell_type": "code",
   "execution_count": 6,
   "outputs": [],
   "source": [
    "def hilbert_is_good(rho, threshold=1e-6):\n",
    "    \"\"\"\n",
    "    Check if the last element of the density matrix is almost null\n",
    "    :param rho:\n",
    "    :return:\n",
    "    \"\"\"\n",
    "    return 0 <= abs(rho[-1, -1]) < threshold"
   ],
   "metadata": {
    "collapsed": false,
    "ExecuteTime": {
     "end_time": "2024-03-21T11:46:22.741301Z",
     "start_time": "2024-03-21T11:46:22.736292Z"
    }
   }
  },
  {
   "cell_type": "code",
   "execution_count": 7,
   "outputs": [],
   "source": [
    "def new_ancilla(ancilla, method='static', **kwargs):\n",
    "    if method == 'static':\n",
    "        return ancilla\n",
    "    elif method == 'rotating':\n",
    "        phis = np.linspace(0, 2 * np.pi, kwargs.get('timesteps', 10))\n",
    "        ancilla.chi01 = phis[kwargs.get('step', -1)]\n",
    "        ancilla.chi02 = phis[kwargs.get('step', -1)]\n",
    "        return ancilla\n",
    "    else:\n",
    "        raise ValueError(f\"Method {method} not recognized\")\n"
   ],
   "metadata": {
    "collapsed": false,
    "ExecuteTime": {
     "end_time": "2024-03-21T11:46:27.051335Z",
     "start_time": "2024-03-21T11:46:27.033332Z"
    }
   }
  },
  {
   "cell_type": "code",
   "execution_count": 8,
   "outputs": [
    {
     "name": "stderr",
     "output_type": "stream",
     "text": [
      "100%|██████████| 100000/100000 [04:03<00:00, 410.11it/s]\n"
     ]
    }
   ],
   "source": [
    "rho = system\n",
    "temperature_evolution = np.zeros(len(TIMESTEPS))\n",
    "entropy_evolution = np.zeros(len(TIMESTEPS))\n",
    "time_evolution = np.zeros(len(TIMESTEPS))\n",
    "\n",
    "for k, t in enumerate(tqdm.tqdm(TIMESTEPS)):\n",
    "    eta_k = ancilla\n",
    "    rho_new = onestep_evolution(rho, eta_k)\n",
    "    rho = Cavity(rho_new)\n",
    "    time_evolution[k] = t\n",
    "    try:\n",
    "        temperature_evolution[k] = rho.temperature\n",
    "        entropy_evolution[k] = rho.entropy\n",
    "    except TypeError as e:\n",
    "        print(f\"Error in computing observables at step {k} with t = {t}: {e}\")\n",
    "        break\n",
    "    if not hilbert_is_good(rho):\n",
    "        print(f\"Approximation no more valid at step {k} with t = {t}\")\n",
    "        break\n",
    "\n",
    "rho = Cavity(rho)"
   ],
   "metadata": {
    "collapsed": false,
    "ExecuteTime": {
     "end_time": "2024-03-21T11:50:31.895348Z",
     "start_time": "2024-03-21T11:46:28.042135Z"
    }
   }
  },
  {
   "cell_type": "code",
   "execution_count": 100,
   "outputs": [],
   "source": [
    "def ancilla_text(ancilla_obj):\n",
    "    alpha = np.round(ancilla_obj.alpha**2, 3)\n",
    "    chi01 = np.round(ancilla_obj.chi01, 3)\n",
    "    chi02 = np.round(ancilla_obj.chi02, 3)\n",
    "    chi12 = np.round(ancilla_obj.chi12, 3)\n",
    "    beta = np.round(ancilla_obj.beta**2, 3)\n",
    "    return (\n",
    "        r\"\\begin{eqnarray*}\"\n",
    "        r\"\\textbf{Ancilla} \\\\\"\n",
    "       f\"{alpha} & {chi01} & {chi02}\" r\"\\\\\"\n",
    "       f\"{chi01.conjugate()} & {beta} & {chi12}\" r\"\\\\\"\n",
    "       f\"{chi02.conjugate()} & {chi12.conjugate()} & {beta}\"\n",
    "       r\"\\end{eqnarray*}\")"
   ],
   "metadata": {
    "collapsed": false,
    "ExecuteTime": {
     "end_time": "2024-03-21T12:19:09.930301Z",
     "start_time": "2024-03-21T12:19:09.920294Z"
    }
   }
  },
  {
   "cell_type": "code",
   "execution_count": 105,
   "outputs": [
    {
     "data": {
      "text/plain": "<Figure size 640x480 with 1 Axes>",
      "image/png": "[encoded data removed]"
     },
     "metadata": {},
     "output_type": "display_data"
    }
   ],
   "source": [
    "plt.plot(entropy_evolution, temperature_evolution, label='Adiabatic stroke')\n",
    "plt.plot([entropy_evolution[0], entropy_evolution[-1]], [temperature_evolution[0], temperature_evolution[-1]], 'r')\n",
    "plt.xlabel('Entropy')\n",
    "plt.ylabel('Temperature')\n",
    "plt.xlim(1.37, 1.7)\n",
    "plt.ylim(1.41, 1.9)\n",
    "plt.text(1.39, 1.8, ancilla_text(ancilla), fontsize=8, bbox=dict(boxstyle=\"round\", fc=\"white\", ec=\"black\", pad=0.8))\n",
    "plt.legend()\n",
    "plt.savefig(\"../visualization/ts_plane/adiabatic_stroke.png\")\n",
    "plt.show()"
   ],
   "metadata": {
    "collapsed": false,
    "ExecuteTime": {
     "end_time": "2024-03-21T12:24:52.769978Z",
     "start_time": "2024-03-21T12:24:51.677973Z"
    }
   }
  },
  {
   "cell_type": "code",
   "execution_count": 20,
   "outputs": [],
   "source": [],
   "metadata": {
    "collapsed": false,
    "ExecuteTime": {
     "end_time": "2024-03-21T08:00:47.486847100Z",
     "start_time": "2024-03-21T08:00:47.411531800Z"
    }
   }
  }
 ],
 "metadata": {
  "kernelspec": {
   "display_name": "Python 3",
   "language": "python",
   "name": "python3"
  },
  "language_info": {
   "codemirror_mode": {
    "name": "ipython",
    "version": 2
   },
   "file_extension": ".py",
   "mimetype": "text/x-python",
   "name": "python",
   "nbconvert_exporter": "python",
   "pygments_lexer": "ipython2",
   "version": "2.7.6"
  }
 },
 "nbformat": 4,
 "nbformat_minor": 0
}
