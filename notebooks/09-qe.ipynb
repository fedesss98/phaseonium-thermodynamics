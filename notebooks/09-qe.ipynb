{
 "cells": [
  {
   "cell_type": "code",
   "id": "30d35a66-815c-40bf-af2e-00c153982225",
   "metadata": {
    "jupyter": {
     "is_executing": true
    },
    "ExecuteTime": {
     "start_time": "2024-10-24T14:03:00.428Z"
    }
   },
   "source": [
    "using ProgressBars\n",
    "#using Plots\n",
    "using CairoMakie\n",
    "using Serialization\n",
    "\n",
    "using QuantumOptics\n",
    "using LinearAlgebra\n",
    "using ExponentialUtilities\n",
    "\n",
    "const NDIMS = 100\n",
    "const L0 = 10.0\n",
    "const V = 1e-2\n",
    "const α0 = 2*pi\n",
    "\n",
    "const T_c = 1.0\n",
    "const T_h = 10.0\n",
    "\n",
    "const STEP_SIZE = 1e-2\n",
    "const STROKE_TIME = 1\n",
    "\n",
    "const INTERACTION_STRENGTH = 1.0\n",
    "\n",
    "const MAX_CYCLES = 2;"
   ],
   "outputs": [],
   "execution_count": null
  },
  {
   "cell_type": "markdown",
   "id": "5d55fb33-49fe-44be-b4d1-70e14ceacea1",
   "metadata": {},
   "source": [
    "## Plotting Functions"
   ]
  },
  {
   "cell_type": "code",
   "id": "849d8026-76c3-4770-b52a-9df982f81da9",
   "metadata": {
    "jupyter": {
     "is_executing": true
    }
   },
   "source": [
    "function plot_first_adiabatic(system, time)\n",
    "\tsystem, entropies, temperatures = adiabatic_compression(system, time=time)\n",
    "\tentropies = round.(real.(entropies), digits=4)\n",
    "\ttemperatures = round.(real.(temperatures), digits=4)\n",
    "\tprintln(entropies)\n",
    "\tentropy = round.(real.(QuantumOptics.entropy_vn(system)), digits=4)\n",
    "\tprintln(\"Real Entropy: $entropy\")\n",
    "\tprintln(temperatures)\n",
    "\ttemperature = round.(real.(temperature_of_system(system, H(STROKE_TIME))), digits=4)\n",
    "\tprintln(\"Real Temperature: $temperature\")\n",
    "\tlines(entropies, temperatures)\n",
    "end\n",
    "\n",
    "function plot_e_vs_t(entropies, temperatures)\n",
    "\t# Plot entropy vs. temperature\n",
    "\tentropies = round.(real.(entropies), digits=4)\n",
    "\ttemperatures = round.(real.(temperatures), digits=4)\n",
    "\tlines(entropies, temperatures, ylabel=\"Temperature (K)\", xlabel=\"Entropy\", title=\"Entropy vs. Temperature\")\n",
    "end\n",
    ";"
   ],
   "outputs": [],
   "execution_count": null
  },
  {
   "cell_type": "code",
   "id": "7f3e1f22-0a58-48c5-8248-907119a95655",
   "metadata": {
    "jupyter": {
     "is_executing": true
    }
   },
   "source": [
    "max_len = L0 + V * STROKE_TIME\n",
    "min_len = L0 - V * STROKE_TIME\n",
    "\n",
    "\"\"\"\n",
    "This simulate the movement of the cavity:\n",
    "- Cooling,\n",
    "- Compression,\n",
    "- Heating,\n",
    "- Expansion\n",
    "\"\"\"\n",
    "function cavity_len(t, l0=L0, v=V)\n",
    "\tst = STROKE_TIME\n",
    "\tperiod = 4 * st\n",
    "\tt_mod = mod(t, period)\n",
    "\tif t_mod <= st\n",
    "\t\tt = t_mod\n",
    "        return l0 + v * t\n",
    "    elseif t_mod <= 2 * st\n",
    "\t\tt = t_mod - st\n",
    "        return l0 + v * st\n",
    "    elseif t_mod <= 3 * st\n",
    "\t\tt = t_mod - 2 * st\n",
    "        return l0 + v * (st - t)\n",
    "    else\n",
    "        return l0\n",
    "    end\n",
    "end\n",
    "\n",
    "t_values = [0:10*STROKE_TIME;]\n",
    "y_values = [cavity_len(t) for t in t_values]\n",
    "println(\"Cavity length goes from $min_len to $max_len, strating from $L0\")\n",
    "\n",
    "# Frequencies of the cavity\n",
    "ω = α0 / L0\n",
    "ω_cold = α0 / max_len\n",
    "ω_hot = α0 / min_len\n",
    "println(\"Cavity frequency goes from $ω_cold to $ω_hot, strating from $ω\")\n",
    "\t\n",
    "# Plot the function\n",
    "f = Figure()\n",
    "ax = Axis(f[1, 1], xlabel=\"Time\", ylabel=\"Cavity Length\", title=\"Cavity Length vs. Time\")\n",
    "lines!(t_values, y_values)\n",
    "f"
   ],
   "outputs": [],
   "execution_count": null
  },
  {
   "cell_type": "markdown",
   "id": "bd46fa24-71fa-40f4-85e1-9370e2234732",
   "metadata": {},
   "source": [
    "## Maser Bath Initialization"
   ]
  },
  {
   "cell_type": "code",
   "id": "fe8b59a5-6017-45cc-b018-89fd839b68f1",
   "metadata": {
    "jupyter": {
     "is_executing": true
    }
   },
   "source": [
    "boltzmann_population(omega, temp) = 1 / (ℯ^(omega / temp) + 1)\n",
    "\n",
    "# Populations of the cavity in the cold and hot baths\n",
    "p_cold = boltzmann_population(ω_cold, T_c)\n",
    "p_hot = boltzmann_population(ω_hot, T_h)\n",
    "\n",
    "println(\"Maser Exited Population: $p_hot\")\n",
    "println(\"Maser Ground Population: $p_cold\")"
   ],
   "outputs": [],
   "execution_count": null
  },
  {
   "cell_type": "code",
   "id": "749d66b0-2ded-4f5b-ad82-e2decd80a1e5",
   "metadata": {
    "jupyter": {
     "is_executing": true
    }
   },
   "source": [
    "# Operators and Hamiltonian\n",
    "basis = QuantumOptics.FockBasis(NDIMS)\n",
    "\n",
    "a = QuantumOptics.destroy(basis)\n",
    "ad = QuantumOptics.create(basis)\n",
    "n = QuantumOptics.number(basis)\n",
    "\n",
    "# Bosonic Operators\n",
    "θ = INTERACTION_STRENGTH * STEP_SIZE\n",
    "c = cos(θ * sqrt(Matrix((ad * a).data)))\n",
    "cp = cos(θ * sqrt(Matrix((a * ad).data)))\n",
    "s = a.data * sin(θ * sqrt(Matrix((ad * a).data)))\n",
    "#sd = inv(Matrix(a.data))\n",
    "#sd = dagger(s)\n",
    "\n",
    "Hbase = α0 * ( n + QuantumOptics.identityoperator(basis)*1/2 )\n",
    "\n",
    "# Time-dependent Hamiltonian\n",
    "function H(t)\n",
    "\tHbase / cavity_len(t)\n",
    "end\n",
    "\n",
    "display(H(0))"
   ],
   "outputs": [],
   "execution_count": null
  },
  {
   "cell_type": "markdown",
   "id": "80f2fc1d-e74b-47fa-8e3d-cc4a0168c0ab",
   "metadata": {},
   "source": [
    "## System State Initialization"
   ]
  },
  {
   "cell_type": "code",
   "id": "63ecf70a-76ec-4945-8966-6075f788d531",
   "metadata": {
    "jupyter": {
     "is_executing": true
    },
    "ExecuteTime": {
     "start_time": "2024-10-24T14:02:59.372Z"
    }
   },
   "source": [
    "\"\"\"\n",
    "Validates that the Density Operator truncation is justified by small values in the lower right corner\n",
    "\"\"\"\n",
    "function truncation_valid(system)\n",
    "\treturn real(system.data[end, end]) < 1e-4\n",
    "end\n",
    "\"\"\"\n",
    "To determine the temperature of a system from its density matrix, you typically need to compare the density matrix to the thermal (Gibbs) state of the system.\n",
    "Here are the steps to find the temperature:\n",
    "\n",
    "- Obtain the Hamiltonian (H) of the system.\n",
    "- Diagonalize the density matrix (\\rho) to find its eigenvalues.\n",
    "- Fit the eigenvalues to the Boltzmann distribution (e^{-\\beta E_i}), where (E_i) are the eigenvalues of the Hamiltonian.\n",
    "\"\"\"\n",
    "function temperature_of_system(state, ω, hamiltonian=nothing)\n",
    "    if hamiltonian\n",
    "\t\t# Diagonalize the density matrix\n",
    "\t\t# This will return eigenvalues in ascending order\n",
    "\t\teigenvalues = LinearAlgebra.eigvals(state.data) \n",
    "\t\t\n",
    "\t\t# Calculate the inverse temperature beta\n",
    "\t\teig1 = real(eigenvalues[end-1])\n",
    "\t\teig2 = real(eigenvalues[end])\n",
    "\t\tbeta = -log(eig1 / eig2) / (hamiltonian.data[2, 2] - hamiltonian.data[1, 1])\n",
    "\t\t\n",
    "\t\t# Calculate the temperature\n",
    "\t\t# k_B = 1.380649e-23  # Boltzmann constant in J/K\n",
    "\t\tT = 1 / Real(beta)\n",
    "\telse\n",
    "\t\t# Valid only for thermal states\n",
    "\t\tratio = state.data[1, 1] / state.data[2, 2]\n",
    "\t\tT = ω / log(ratio)\n",
    "end\n",
    "\n",
    "\"\"\"\n",
    "Measures Temperature and Entropy of the System and update the list of measures\n",
    "\"\"\"\n",
    "function add_system_measure(system, time, temp_array, entropy_array)\n",
    "\ttemp = round.(real.(temperature_of_system(system, H(time))), digits=6)\n",
    "\t# println(temp)\n",
    "\tentropy = round.(real.(QuantumOptics.entropy_vn(system)), digits=6)\n",
    "\tpush!(temp_array, temp)\n",
    "\tpush!(entropy_array, entropy)\n",
    "end\n",
    ";"
   ],
   "outputs": [],
   "execution_count": null
  },
  {
   "cell_type": "code",
   "id": "e618b0a9-45b2-4099-b492-dd2526aeeea7",
   "metadata": {
    "jupyter": {
     "is_executing": true
    }
   },
   "source": [
    "systems = []\n",
    "\n",
    "# Try to load an initial state or create one new thermal state\n",
    "try\n",
    "\topen(\"starting_state_maser.dat\", \"r\") do f\n",
    "\t\tglobal system = deserialize(f)\n",
    "\t\tglobal stabilized = true\n",
    "\tend\n",
    "catch y\n",
    "\t@warn \"No starting state: $y.\\nStarting from a Thermal State\"\n",
    "\tglobal system = QuantumOptics.thermalstate(H(0), T_c)\n",
    "\tglobal stabilized = false\n",
    "end\n",
    "\n",
    "\n",
    "push!(systems, system)\n",
    "# Check the initial system\n",
    "valid_truncation = truncation_valid(system)\n",
    "t_initial = round(temperature_of_system(system, H(0)), digits=6)\n",
    "println(\"Truncation is valid: $valid_truncation\")\n",
    "println(\"System starting at temperature: $t_initial\")"
   ],
   "outputs": [],
   "execution_count": null
  },
  {
   "cell_type": "markdown",
   "id": "d5fba90b-f581-4ae1-856f-eb21de2a510a",
   "metadata": {},
   "source": [
    "## Dynamics"
   ]
  },
  {
   "cell_type": "code",
   "id": "26aa0deb-aa45-4ea8-a54a-9340a42a5b54",
   "metadata": {
    "jupyter": {
     "is_executing": true
    }
   },
   "source": [
    "\"\"\"\n",
    "This process keeps the Entropy stable while changing the Temperature.\n",
    "This is done moving artificially the piston, changing the length of the Cavity.\n",
    "In this stroke only work is done without heat exchange\n",
    "\"\"\"\n",
    "function adiabatic_compression(system0; time::Int64=0, dt=STEP_SIZE, stroke_time=STROKE_TIME)\n",
    "\tsystem = system0\n",
    "\tentropies = zeros(eltype(system), Int64(stroke_time/dt))\n",
    "\ttemperatures = zeros(eltype(system), Int64(stroke_time/dt))\n",
    "\tfor (step, t) in enumerate(1:dt:stroke_time)\n",
    "\t\th = H(t + time)\n",
    "\t\ttry\n",
    "\t\t\tentropies[step] = QuantumOptics.entropy_vn(system, tol=1e-18)\n",
    "\t\t\ttemperatures[step] = temperature_of_system(system, h)\n",
    "\t\tcatch e\n",
    "\t\t\tprintln(\"Error in measuring the system: \", e)\n",
    "\t\tend\n",
    "\n",
    "\t\tif !(truncation_valid(system))\n",
    "\t\t\terror = real(system.data[end, end])\n",
    "\t\t\tthrow(ErrorException(\"Hilbert truncation no more valid at step $t with lower end $error\"))\n",
    "\t\tend\n",
    "\n",
    "\t\t# Evolve the system\n",
    "\t\tU = QuantumOptics.exp(-im * h)\n",
    "\t\tUd = QuantumOptics.dagger(U)\n",
    "\t\tsystem = U * system * Ud\n",
    "\t\t# println(display(system.data[1:2, 1:2]))\n",
    "\tend\n",
    "\treturn system, entropies, temperatures\n",
    "end\n",
    "\n",
    "\"\"\"\n",
    "This process heats up or cools down the cavity field, with a Dissipative Master Equation\n",
    "\"\"\"\n",
    "function heating(system, rate, ad, a; time::Int64=0, dt=STEP_SIZE, stroke_time=STROKE_TIME)\n",
    "\tt = [1:stroke_time/dt;]\n",
    "\th = H(time)\n",
    "\ttout, systems = QuantumOptics.timeevolution.master(t, system, h, [ad, a], rates=[rate, 1-rate])\n",
    "\treturn systems[end]\n",
    "end\n",
    "\n",
    "# FULL CYCLE\n",
    "\"\"\"\n",
    "Implements the full thermodynamic cycle:\n",
    "- Adiabatic compression\n",
    "- Isochoric Heating\n",
    "- Adiabatic Expansion\n",
    "- Isochoric Cooling\n",
    "\"\"\"\n",
    "function cycle(tspan, system0)\n",
    "\tsystem = system0\n",
    "\ttemperatures = [round.(real.(temperature_of_system(system, H(0))), digits=6);]\n",
    "\tentropies = [round.(real.(QuantumOptics.entropy_vn(system)), digits=6);]\n",
    "\tcurrent_time = 0\n",
    "\tfor t in ProgressBar(1:tspan)\t\t\n",
    "\t\t# Adiabatic Compression\n",
    "\t\tsystem, _, _ = adiabatic_compression(system; time=current_time)\n",
    "\t\tcurrent_time += STROKE_TIME\n",
    "\t\tadd_system_measure(system, current_time, temperatures, entropies)\n",
    "\t\t# println(temperature_of_system(system, H(current_time)))\n",
    "\t\t\n",
    "\t\t# Isochoric Heating\n",
    "\t\tsystem = heating(system, p_hot, ad, a; time=current_time)\n",
    "\t\tcurrent_time += STROKE_TIME\n",
    "\t\tadd_system_measure(system, current_time, temperatures, entropies)\n",
    "\n",
    "\t\t# Adiabatic Expansion\n",
    "\t\tsystem, _ = adiabatic_compression(system; time=current_time)\n",
    "\t\tcurrent_time += STROKE_TIME\n",
    "\t\tadd_system_measure(system, current_time, temperatures, entropies)\n",
    "\n",
    "\t\t# Isochoric Cooling\n",
    "\t\tsystem = heating(system, p_cold, ad, a, time=current_time)\n",
    "\t\tcurrent_time += STROKE_TIME\n",
    "\t\tadd_system_measure(system, current_time, temperatures, entropies)\n",
    "\tend\n",
    "\tprintln(\"Final time $current_time\")\n",
    "\treturn system, temperatures, entropies\n",
    "end\n",
    ";"
   ],
   "outputs": [],
   "execution_count": null
  },
  {
   "cell_type": "markdown",
   "id": "1b09d31b-fc27-4a7f-b6ad-6916955f6aac",
   "metadata": {},
   "source": [
    "Stabilize the system if it was created anew"
   ]
  },
  {
   "cell_type": "code",
   "id": "c8dfc17e-4844-4f5d-8b8d-1c2f1a9fba02",
   "metadata": {
    "jupyter": {
     "is_executing": true
    }
   },
   "source": [
    "if stabilized\n",
    "\tsystem_stable, temp_cycles, entrop_cycles = cycle(1, system)\n",
    "else\n",
    "\tsystem_stable, temp_cycles, entrop_cycles = cycle(3, system)\n",
    "    stabilized = true\n",
    "end\n",
    "\n",
    "plot(entrop_cycles, temp_cycles)\n",
    "\n",
    "t_sys = round(temperature_of_system(system, H(0)), digits=6)\n",
    "println(\"Final Temperature: $t_sys\")"
   ],
   "outputs": [],
   "execution_count": null
  },
  {
   "cell_type": "code",
   "id": "86fb3391-1b8e-4b5f-a17b-6a2bf813d723",
   "metadata": {
    "jupyter": {
     "is_executing": true
    }
   },
   "source": [
    "# Save the state\n",
    "open(\"starting_state_maser.dat\", \"w\") do f\n",
    "\tserialize(f, system_stable)\n",
    "end"
   ],
   "outputs": [],
   "execution_count": null
  },
  {
   "cell_type": "markdown",
   "id": "56f2f225-01a0-40f6-a12f-00b66bd3fdf3",
   "metadata": {},
   "source": [
    "# Phaseonium"
   ]
  },
  {
   "cell_type": "code",
   "id": "f40cfbea-d2bf-4488-89fb-ea78f941f17b",
   "metadata": {
    "jupyter": {
     "is_executing": true
    }
   },
   "source": [
    "RELOAD_STABLE_STATE = false\n",
    "\n",
    "if RELOAD_STABLE_STATE\n",
    "    open(\"starting_state_maser.dat\", \"r\") do f\n",
    "    \tsystem_stable = deserialize(f)\n",
    "    end\n",
    "end"
   ],
   "outputs": [],
   "execution_count": null
  },
  {
   "metadata": {
    "jupyter": {
     "is_executing": true
    }
   },
   "cell_type": "code",
   "source": [
    "# Setup Parameters\n",
    "function set_parameters(;α²=1/4, ϕ=π/2, χ₁=π/4, χ₂=π/4)\n",
    "\tβ²= 1-α²\n",
    "\treturn α², β², ϕ, χ₁, χ₂\n",
    "end"
   ],
   "id": "c88458673ee2e77a",
   "outputs": [],
   "execution_count": null
  },
  {
   "cell_type": "code",
   "id": "3b0b2171-42ce-48dd-ad46-634bf7c3cfdc",
   "metadata": {
    "jupyter": {
     "is_executing": true
    }
   },
   "source": [
    "\"\"\"\n",
    "Calculates the apparent temperature of phaseonium atoms\n",
    "\"\"\"\n",
    "function phaseonium_temperature(ω::Float64, parameters)\n",
    "    α², β², ϕ, χ₁, χ₂ = parameters\n",
    "    γₐ = 2α²\n",
    "    γᵦ = β²*(1 + cos(ϕ))\n",
    "    return - ω/ω / log(γₐ/γᵦ)\n",
    "end\n",
    "alphas = range(0, 1, length=100)\n",
    "phis = range(0, π, length=100)\n",
    "temp = [phaseonium_temperature(ω, set_parameters(α²=a, ϕ=p)) for p in phis, a in alphas]\n",
    "temp = [t>0 ? t : Inf for t in temp]\n",
    "\n",
    "f = Figure(px_per_unit=2, size=(800, 400))\n",
    "Axis(f[1, 1], title = \"Apparent Temperature of Phaseonium\", xlabel = \"ϕ\", ylabel=\"α²\")\n",
    "co = contourf!(phis, alphas, temp,\n",
    "\tlevels=range(0, 20, length=100), extendhigh=:magenta)\n",
    "#contour!(phis, alphas, temp, levels=range(0, 50, length=50))\n",
    "Colorbar(f[1, 2], co)\n",
    "f"
   ],
   "outputs": [],
   "execution_count": null
  },
  {
   "cell_type": "code",
   "id": "2f4989ee-cbb9-42dc-815a-70703434fac5",
   "metadata": {
    "jupyter": {
     "is_executing": true
    }
   },
   "source": [
    "function dissipator(o, k1, k2)\n",
    "    return k1*o*k2 - 1/2 * (k2*k1*o + o*k2*k1)\n",
    "end\n",
    "\n",
    "\n",
    "function phaseonium_master_equation(system, rates, operators, dt, Ω)\n",
    "\tγₐ, γᵦ = rates\n",
    "\ta, ad = operators\n",
    "\t# c, cp, s, sd = operators\n",
    "\tθ² = (Ω*dt)^2\n",
    "\tds = θ²*γₐ*dissipator(system, ad, a) + θ²*γᵦ*dissipator(system, a, ad)\n",
    "    return ds\n",
    "end\n",
    "\n",
    "\n",
    "\"\"\"\n",
    "Implement the fully-coherent phaseonium Master Equation for one cavity.\n",
    "\"\"\"\n",
    "function phaseonium_stroke(system, parameters, a, ad; \n",
    "                time::Int64=0, dt=STEP_SIZE, stroke_time=STROKE_TIME, Ω=INTERACTION_STRENGTH)\n",
    "    \n",
    "\tentropies = zeros(Float64, Int64(stroke_time/dt + 1))\n",
    "\ttemperatures = zeros(Float64, Int64(stroke_time/dt + 1))\n",
    "\tsystems = []\n",
    "\tα², β², ϕ, χ₁, χ₂ = parameters\n",
    "\th_work = (χ₁ + χ₂)ad\n",
    "\th = H(time) - (h_work + QuantumOptics.dagger(h_work))\n",
    "\t#tout, systems = QuantumOptics.timeevolution.master(t, system, h, [ad, a], rates=[2α², β²*(1+cos(ϕ))])\n",
    "\tstep = 1\n",
    "\ttotal_time = 0:dt:stroke_time\n",
    "\tfor t in total_time\n",
    "\t\t#push!(systems, system)\n",
    "\t\t\n",
    "\t\ttry\n",
    "\t\t\tentropies[step] = QuantumOptics.entropy_vn(system, tol=1e-18)\n",
    "\t\t\ttemperatures[step] = temperature_of_system(system, h)\n",
    "\t\tcatch e\n",
    "\t\t\tprintln(\"Error in measuring the system: \", e)\n",
    "\t\tend\n",
    "\n",
    "\t\tif !(truncation_valid(system))\n",
    "\t\t\terror = real(system.data[end, end])\n",
    "\t\t\tthrow(ErrorException(\"Hilbert truncation no more valid at step $t with lower end $error\"))\n",
    "\t\tend\n",
    "\t\t\n",
    "\t\t# Evolve the system\n",
    "\t\tsystem += phaseonium_master_equation(system, [2*α², β²*(1+cos(ϕ))], [a, ad], dt, Ω)\n",
    "\t\t\n",
    "\t\tstep += 1\n",
    "\tend\n",
    "\treturn system, entropies, temperatures\n",
    "end"
   ],
   "outputs": [],
   "execution_count": null
  },
  {
   "metadata": {
    "jupyter": {
     "is_executing": true
    }
   },
   "cell_type": "code",
   "source": [
    "# TRY\n",
    "if true\n",
    "    system_try = QuantumOptics.thermalstate(H(0), T_c)\n",
    "    parameters = set_parameters(α²=0.3, ϕ=π/4, χ₁=0.0, χ₂=0.0)\n",
    "\n",
    "    println(\"Phaseonium Parameters: $parameters\")\n",
    "    println(\"Initial Temperature: $(temperature_of_system(system, H(0)))\")\n",
    "    println(\"Stable Temperature of the Phaseonium $(phaseonium_temperature(ω, parameters))\")\n",
    "\n",
    "\tinitial_time = STROKE_TIME\n",
    "    time = STROKE_TIME\n",
    "    dt = STEP_SIZE / 10\n",
    "    \n",
    "    system, s_evolution, t_evolution = phaseonium_stroke(system_try, parameters, a, ad; time=initial_time, dt=dt, stroke_time=time)\n",
    "    println(\"Final Temperature: $(temperature_of_system(system, H(time)))\")\n",
    "    #catch exception\n",
    "    #    s_evolution = [0]\n",
    "    #    t_evolution = [0]\n",
    "    #    println(\"Invalid parameter configuration.\\n$exception\")\n",
    "    #end\n",
    "    plot([0:dt:time;], t_evolution)\n",
    "end"
   ],
   "id": "e91adf4d7c8af512",
   "outputs": [],
   "execution_count": null
  },
  {
   "metadata": {
    "ExecuteTime": {
     "end_time": "2024-10-24T13:57:54.517Z",
     "start_time": "2024-10-24T13:57:54.515Z"
    }
   },
   "cell_type": "code",
   "source": "cavity_len(initial_time+time)",
   "id": "e5a65748bb7853fc",
   "outputs": [
    {
     "data": {
      "text/plain": [
       "10.01"
      ]
     },
     "execution_count": 45,
     "metadata": {},
     "output_type": "execute_result"
    }
   ],
   "execution_count": 45
  },
  {
   "cell_type": "code",
   "id": "d0942a7a-6cf4-43c1-97c0-9b1097e4fbac",
   "metadata": {
    "ExecuteTime": {
     "end_time": "2024-10-24T13:29:35.236Z",
     "start_time": "2024-10-24T13:29:35.141Z"
    }
   },
   "source": [
    "# FULL PHASEONIUM CYCLE\n",
    "function phaseonium_cycle(tspan, system0; heating_params, cooling_params)\n",
    "\tsystem = system0\n",
    "\ttemperatures = [round.(real.(temperature_of_system(system, H(0))), digits=6);]\n",
    "\tentropies = [round.(real.(QuantumOptics.entropy_vn(system)), digits=6);]\n",
    "\tcurrent_time = 0\n",
    "\tfor t in ProgressBar(1:tspan)\n",
    "        println(\"Cycle t$t\")\n",
    "\t\t# Adiabatic Compression\n",
    "\t\tsystem, _ = adiabatic_compression(system; time=current_time)\n",
    "\t\tcurrent_time += STROKE_TIME\n",
    "\t\tadd_system_measure(system, current_time, temperatures, entropies)\n",
    "\t\tprintln(temperature_of_system(system, H(current_time)))\n",
    "\t\t\n",
    "\t\t# Isochoric Heating\n",
    "\t\tsystem = phaseonium_stroke(system, heating_params, ad, a)\n",
    "\t\tcurrent_time += STROKE_TIME\n",
    "\t\tadd_system_measure(system, current_time, temperatures, entropies)\n",
    "\n",
    "\t\t# Adiabatic Expansion\n",
    "\t\tsystem, _ = adiabatic_compression(system; time=current_time)\n",
    "\t\tcurrent_time += STROKE_TIME\n",
    "\t\tadd_system_measure(system, current_time, temperatures, entropies)\n",
    "\n",
    "\t\t# Isochoric Cooling\n",
    "\t\tsystem = phaseonium_stroke(system, cooling_params, ad, a)\n",
    "\t\tcurrent_time += STROKE_TIME\n",
    "\t\tadd_system_measure(system, current_time, temperatures, entropies)\n",
    "\tend\n",
    "\tprintln(\"Final time $current_time\")\n",
    "\treturn system, temperatures, entropies\n",
    "end\n",
    "\n"
   ],
   "outputs": [
    {
     "data": {
      "text/plain": [
       "phaseonium_cycle (generic function with 1 method)"
      ]
     },
     "execution_count": 17,
     "metadata": {},
     "output_type": "execute_result"
    }
   ],
   "execution_count": 17
  },
  {
   "cell_type": "code",
   "id": "8ae3918c-2d32-4eb9-bb70-dc81435af60b",
   "metadata": {
    "ExecuteTime": {
     "end_time": "2024-10-24T13:29:35.294Z",
     "start_time": "2024-10-24T13:29:35.236Z"
    }
   },
   "source": [
    "println(\"Apparent Tempreatures for the Phaseonium Cycle:\")\n",
    "\n",
    "phaseonium_parameters = set_parameters(α²=0.3, ϕ=π/4, χ₁=0, χ₂=0)\n",
    "temp = phaseonium_temperature(ω, phaseonium_parameters)\n",
    "println(\"Coherent Phaseonium: $temp\")\n",
    "\n",
    "thermal_parameters = set_parameters(α²=0.25, ϕ=0, χ₁=0, χ₂=0)\n",
    "temp = phaseonium_temperature(ω, thermal_parameters)\n",
    "println(\"Thermal Phaseonium: $temp\")"
   ],
   "outputs": [
    {
     "name": "stdout",
     "output_type": "stream",
     "text": [
      "Apparent Tempreatures for the Phaseonium Cycle:\n",
      "Coherent Phaseonium: 1.4514827171419424\n",
      "Thermal Phaseonium: 0.9102392266268373\n"
     ]
    }
   ],
   "execution_count": 18
  },
  {
   "cell_type": "code",
   "id": "21887a5c-772b-4e58-8f1e-4a92d172f14f",
   "metadata": {},
   "source": [
    "#phaseonium_cycle(1, system_stable, heating_params=phaseonium_parameters, cooling_params=thermal_parameters) "
   ],
   "outputs": [],
   "execution_count": 19
  },
  {
   "cell_type": "code",
   "id": "72a6cf4a-4283-4d18-b858-4b8ea2853eb2",
   "metadata": {
    "ExecuteTime": {
     "end_time": "2024-10-24T13:29:35.298Z",
     "start_time": "2024-10-24T13:29:35.295Z"
    }
   },
   "source": [
    "temperature_of_system(system_stable, H(0))"
   ],
   "outputs": [
    {
     "ename": "LoadError",
     "evalue": "UndefVarError: `system_stable` not defined",
     "output_type": "error",
     "traceback": [
      "UndefVarError: `system_stable` not defined",
      "",
      "Stacktrace:",
      " [1] top-level scope",
      "   @ In[20]:1"
     ]
    }
   ],
   "execution_count": 20
  },
  {
   "metadata": {},
   "cell_type": "markdown",
   "source": "",
   "id": "cb6001caad8185d6"
  },
  {
   "cell_type": "code",
   "id": "ae5b8679-5c6a-47e7-add9-111ea824b4ef",
   "metadata": {
    "ExecuteTime": {
     "end_time": "2024-10-24T13:29:35.305Z",
     "start_time": "2024-10-24T13:29:35.298Z"
    }
   },
   "source": [
    "begin\n",
    "    current_time = 2*STROKE_TIME  # We skip cooling and compression\n",
    "    println(\"Starting len:\\t$(cavity_len(current_time))\")\n",
    "    # Adiabatic Compression\n",
    "    system, _ = adiabatic_compression(system_stable; time=current_time)\n",
    "    current_time += STROKE_TIME\n",
    "    println(\"T = $(temperature_of_system(system, H(current_time)))\")\n",
    "    println(\"After Compression:\\t$(cavity_len(current_time))\")\n",
    "    \n",
    "    # Isochoric Heating\n",
    "    system = phaseonium_stroke(system, phaseonium_parameters, ad, a; stroke_time=20)\n",
    "    #system = heating(system, p_hot, ad, a)\n",
    "    current_time += STROKE_TIME\n",
    "    println(\"Last element:\\t$(system.data[end, end])\")\n",
    "    println(\"T = $(temperature_of_system(system, H(current_time)))\")\n",
    "    println(\"After Heating:\\t$(cavity_len(current_time))\")\n",
    "\n",
    "    # Adiabatic Expansion\n",
    "    system, _ = adiabatic_compression(system; time=current_time)\n",
    "    current_time += STROKE_TIME\n",
    "    println(\"T = $(temperature_of_system(system, H(current_time)))\")\n",
    "    println(\"After Expansion:\\t$(cavity_len(current_time))\")\n",
    "    \n",
    "    # Isochoric Cooling\n",
    "    system = phaseonium_stroke(system, thermal_parameters, ad, a; stroke_time=20)\n",
    "    current_time += STROKE_TIME\n",
    "    println(\"T = $(temperature_of_system(system, H(current_time)))\")\n",
    "    println(\"After Cooling:\\t$(cavity_len(current_time))\")\n",
    "    \n",
    "end"
   ],
   "outputs": [
    {
     "name": "stdout",
     "output_type": "stream",
     "text": [
      "Starting len:\t10.01\n"
     ]
    },
    {
     "ename": "LoadError",
     "evalue": "UndefVarError: `system_stable` not defined",
     "output_type": "error",
     "traceback": [
      "UndefVarError: `system_stable` not defined",
      "",
      "Stacktrace:",
      " [1] top-level scope",
      "   @ In[21]:5"
     ]
    }
   ],
   "execution_count": 21
  },
  {
   "cell_type": "code",
   "id": "9a285040-00fc-4ece-a354-d88745c7acb8",
   "metadata": {
    "ExecuteTime": {
     "end_time": "2024-10-24T13:29:35.439Z",
     "start_time": "2024-10-24T13:29:35.305Z"
    }
   },
   "source": [
    "system = QuantumOptics.thermalstate(H(0), T_c)\n",
    "println(temperature_of_system(system, H(0)))\n",
    "heatmap(real(system.data[1:10,1:10]))"
   ],
   "outputs": [
    {
     "name": "stdout",
     "output_type": "stream",
     "text": [
      "1.0\n"
     ]
    },
    {
     "data": {
      "image/png": "[encoded data removed]",
      "text/html": [
       "<img width=600 height=450 style='object-fit: contain; height: auto;' src=\"data:image/png;base64, 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\"/>"
      ]
     },
     "execution_count": 22,
     "metadata": {},
     "output_type": "execute_result"
    }
   ],
   "execution_count": 22
  },
  {
   "cell_type": "code",
   "id": "1fba357e-6300-49dd-a690-7331d10a8305",
   "metadata": {},
   "source": [],
   "outputs": [],
   "execution_count": 23
  }
 ],
 "metadata": {
  "kernelspec": {
   "display_name": "Julia 1.9.4",
   "language": "julia",
   "name": "julia-1.9"
  },
  "language_info": {
   "file_extension": ".jl",
   "mimetype": "application/julia",
   "name": "julia",
   "version": "1.9.4"
  }
 },
 "nbformat": 4,
 "nbformat_minor": 5
}
