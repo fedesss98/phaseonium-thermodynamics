{
 "cells": [
  {
   "metadata": {
    "ExecuteTime": {
     "end_time": "2024-09-04T17:12:00.398Z",
     "start_time": "2024-09-04T17:11:59.112Z"
    }
   },
   "cell_type": "code",
   "source": [
    "const NDIMS = 30\n",
    "const L0 = 10.0\n",
    "const V = 1e-2\n",
    "const A0 = 2*pi\n",
    "const T_c = 2.0\n",
    "const T_h = 5.0\n",
    "const STROKE_TIME = 1\n"
   ],
   "id": "1b3cf155e8f32a94",
   "outputs": [
    {
     "data": {
      "text/plain": [
       "1"
      ]
     },
     "execution_count": 1,
     "metadata": {},
     "output_type": "execute_result"
    }
   ],
   "execution_count": 1
  },
  {
   "cell_type": "code",
   "execution_count": null,
   "id": "b53d6bde-053d-4f78-b8be-5455bde809dd",
   "metadata": {},
   "outputs": [],
   "source": [
    "boltzmann_population(omega, temp) = 1 / (e^(omega / temp) + 1)\n",
    "\n"
   ]
  }
 ],
 "metadata": {
  "kernelspec": {
   "display_name": "Julia 1.9.4",
   "language": "julia",
   "name": "julia-1.9"
  },
  "language_info": {
   "file_extension": ".jl",
   "mimetype": "application/julia",
   "name": "julia",
   "version": "1.9.4"
  }
 },
 "nbformat": 4,
 "nbformat_minor": 5
}
