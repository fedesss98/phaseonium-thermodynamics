{
 "cells": [
  {
   "cell_type": "code",
   "execution_count": 1,
   "id": "c0467ebb-a82c-48dd-92cc-daebb10a3157",
   "metadata": {},
   "outputs": [
    {
     "data": {
      "text/plain": [
       "1"
      ]
     },
     "execution_count": 1,
     "metadata": {},
     "output_type": "execute_result"
    }
   ],
   "source": [
    "const NDIMS::Int = 30\n",
    "const L0::Float32 = 10.0\n",
    "const V::Float32 = 1e-2\n",
    "const A0::Float32 = 2*pi\n",
    "const T_c::Float32 = 2.0\n",
    "const T_h::Float32 = 5.0\n",
    "const STROKE_TIME::Int = 1"
   ]
  },
  {
   "cell_type": "markdown",
   "id": "81c973d3-17d1-4748-99f5-7b427d542806",
   "metadata": {},
   "source": [
    "## Setup the Bath"
   ]
  },
  {
   "cell_type": "code",
   "execution_count": 2,
   "id": "58e53519-9717-443c-8bd9-599e0137cddb",
   "metadata": {},
   "outputs": [
    {
     "data": {
      "text/plain": [
       "boltzmann_population (generic function with 1 method)"
      ]
     },
     "execution_count": 2,
     "metadata": {},
     "output_type": "execute_result"
    }
   ],
   "source": [
    "function boltzmann_population(omega, temp)\n",
    "    1 / (e^(omega/temp) + 1)\n",
    "end"
   ]
  },
  {
   "cell_type": "code",
   "execution_count": null,
   "id": "b53d6bde-053d-4f78-b8be-5455bde809dd",
   "metadata": {},
   "outputs": [],
   "source": []
  }
 ],
 "metadata": {
  "kernelspec": {
   "display_name": "Julia 1.9.4",
   "language": "julia",
   "name": "julia-1.9"
  },
  "language_info": {
   "file_extension": ".jl",
   "mimetype": "application/julia",
   "name": "julia",
   "version": "1.9.4"
  }
 },
 "nbformat": 4,
 "nbformat_minor": 5
}
